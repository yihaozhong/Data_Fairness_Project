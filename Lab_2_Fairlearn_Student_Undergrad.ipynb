{
 "nbformat": 4,
 "nbformat_minor": 0,
 "metadata": {
  "colab": {
   "provenance": [
    {
     "file_id": "1NIVPhmV0De3HN6a7ND1vp5Bx-AzpglaO",
     "timestamp": 1675300015364
    }
   ],
   "collapsed_sections": [
    "RuBQtfv5iZac",
    "Ip6sQt0eQLAU"
   ]
  },
  "kernelspec": {
   "name": "python3",
   "display_name": "Python 3"
  },
  "language_info": {
   "name": "python"
  }
 },
 "cells": [
  {
   "cell_type": "markdown",
   "source": [
    "# **Lab 2 - Detecting and Mitigating Biases using Fairlearn**"
   ],
   "metadata": {
    "id": "253jTpcO60Mf"
   }
  },
  {
   "cell_type": "code",
   "source": [],
   "metadata": {
    "id": "G8WWJHeLzxMp"
   },
   "execution_count": 45,
   "outputs": []
  },
  {
   "cell_type": "markdown",
   "source": [
    "**Following Labs:**\n",
    "\n",
    "*   Lab2: Detecting bias and mitigating bias via pre-processing interventions\n",
    "*   Lab3: Mitigating bias via in-processing and postprocessing interventions"
   ],
   "metadata": {
    "id": "6u42_ViARKxy"
   }
  },
  {
   "cell_type": "markdown",
   "source": [
    "#Detecting Bias Using Fairlearn"
   ],
   "metadata": {
    "id": "3LrSVlCSDA9Z"
   }
  },
  {
   "cell_type": "markdown",
   "source": [
    "## Bias in ML\n",
    "\n",
    "A machine learning algorithm will attempt to find patterns, or generalizations, in the training dataset to use when a prediction for a new instance is needed. For example, the model may discover a pattern whereby a person with a salary over \\$40,000 and an outstanding debt of less than $5 is very likely to repay a loan.\n",
    "\n",
    "However, sometimes the patterns that are found and replicated by a model may not be desirable or, even worse, might be illegal. For example, a loan repayment model may determine that age plays a significant role in the prediction of repayment because the training dataset happened to have better repayment for one age group compared to another. This raises two problems: 1) the training dataset may not be representative of the true population of loan applications for all age groups, and 2) even if it is representative, it is illegal (with limited exceptions) to base loan decisions on an applicant's age, regardless of whether this is an accurate basis for prediction based on historical data.\n",
    "\n",
    "The loan scenario describes an intuitive example of illegal bias. However, not all undesirable biases in machine learning are illegal; it may also exist in more subtle ways. For example, a loan company may want a diverse portfolio of customers across all income levels, and thus, will deem it undesirable if they are making more loans to high income levels over low income levels. Although this is not illegal or unethical, it is undesirable for the company's strategy.\n",
    "\n",
    "## The `Fairlearn` toolkit\n",
    "\n",
    "Fairlearn is a toolkit designed to help address this problem with fairness metrics and bias mitigators. Fairness metrics can be used to check for bias in machine learning workflows. Bias mitigators can be used to overcome bias in the workflow to produce a more fair outcome.\n",
    "\n",
    "As these two examples illustrate, a bias detection and/or mitigation toolkit needs to be tailored to the particular bias of interest. More specifically, we need to define the attribute(s), called protected (or sensitive) attributes of interest: the attribute whose skewness/bias we are trying to detect and mitigate. The term suggests that the system designer should be sensitive to these features when assessing and mitigating group fairness.\n",
    "\n",
    "Several stages of the machine learning pipeline are susceptible to bias. One useful way to categorize these stages are, intuitively, 'before,' 'during,' and 'after' training a model. These stages are commonly referred to as *pre-processing*, *in-processing*, and *post-processing* (in Fairlearn, in-processing techniques are available in the *reductions* package)."
   ],
   "metadata": {
    "id": "RuBQtfv5iZac"
   }
  },
  {
   "cell_type": "markdown",
   "source": [
    "## Fairlearn\n",
    "\n",
    "In Labs 2 and 3 we will use Fairlearn to detect and mitigate bias in a classifier. We will use the [ACS PUMS files](https://www.census.gov/programs-surveys/acs/microdata.html), particularly a fraction of the ACS Income dataset, and train a classifier to predict whether an individual has a salary greater than $50K. The protected attribute will be the sex of the individual.\n",
    "\n",
    "In this Lab 2 notebook, we will:\n",
    "\n",
    "1. Load the dataset and conduct basic data exploration and preprocessing\n",
    "2. Explore possible fairness metrics\n",
    "3. Train a logistic regression classifier and evaluate the fairness of this classifier\n",
    "4. Train other logistic regression classifiers with pre-processing interventions and re-evaluate fairness\n",
    "5. Compare the results obtained in 3 and 4"
   ],
   "metadata": {
    "id": "Ip6sQt0eQLAU"
   }
  },
  {
   "cell_type": "markdown",
   "source": [
    "#1. Import Statements\n",
    "First, we install Fairlearn and import the necessary packages\n",
    "\n",
    "**BEWARE**: On Colab, you will probably have to restart the runtime (in the `Runtime` dropdown menu at the top of the screen) to import these successfully."
   ],
   "metadata": {
    "id": "uFlpmI9rSD3H"
   }
  },
  {
   "cell_type": "code",
   "execution_count": 46,
   "metadata": {
    "id": "9LqUU91SjcFB",
    "cellView": "form"
   },
   "outputs": [],
   "source": [
    "%%capture\n",
    "#@markdown\n",
    "\n",
    "!pip install fairlearn\n",
    "!pip install folktables\n",
    "!pip install matplotlib==3.4.1 --force-reinstall\n",
    "!git clone https://github.com/lurosenb/superquail"
   ]
  },
  {
   "cell_type": "code",
   "source": [
    "#@markdown\n",
    "import matplotlib.pyplot as plt\n",
    "import matplotlib.ticker as mtick\n",
    "import seaborn as sn\n",
    "import pandas as pd\n",
    "import numpy as np\n",
    "from sklearn.model_selection import train_test_split\n",
    "from sklearn.preprocessing import StandardScaler\n",
    "from sklearn.linear_model import LogisticRegression\n",
    "import sklearn.metrics as skm\n",
    "from sklearn.model_selection import cross_val_score\n",
    "import matplotlib.ticker as ticker\n",
    "\n",
    "from folktables import ACSDataSource, ACSEmployment, ACSIncome, ACSPublicCoverage, ACSTravelTime\n",
    "from superquail.data.acs_helper import ACSData\n",
    "\n",
    "from fairlearn.metrics import MetricFrame\n",
    "from fairlearn.metrics import demographic_parity_difference, demographic_parity_ratio, selection_rate\n",
    "from fairlearn.metrics import false_negative_rate, false_positive_rate\n",
    "\n",
    "from IPython.display import clear_output "
   ],
   "metadata": {
    "id": "XJ5pQ55zkzHp",
    "executionInfo": {
     "status": "ok",
     "timestamp": 1675380440584,
     "user_tz": -60,
     "elapsed": 1422,
     "user": {
      "displayName": "Raphael Meyer",
      "userId": "07907174275579142022"
     }
    },
    "outputId": "7ba8f23a-d341-4a9c-ad0f-3617d5edb990",
    "colab": {
     "base_uri": "https://localhost:8080/"
    },
    "cellView": "form"
   },
   "execution_count": 47,
   "outputs": []
  },
  {
   "cell_type": "markdown",
   "source": [
    "#2. Load Data, Conduct Exploratory Analysis, and Preprocess Data\n",
    "Next, we will load the Folktables dataset.  The Folktables dataset is taken from US Census Data and is built to solve a few simple prediction tasks. The sample we pull is data from 2018 in California. The column names are described in the table below. Note that certain categorical variables have been mapped to integer values, which we will keep as-is for the following analyses.\n",
    "\n",
    "For more information on the this dataset, please see the following paper (namely page 18): https://eaamo2021.eaamo.org/accepted/acceptednonarchival/EAMO21_paper_16.pdf"
   ],
   "metadata": {
    "id": "XttcS7t0SNbL"
   }
  },
  {
   "cell_type": "markdown",
   "source": [
    "| Column Name | Feature | Description/Notes |\n",
    "| --- | ----------- | --- |\n",
    "| PINCP | Total person’s income | (Target) 1 if >= $50k, 0 if less |\n",
    "| SEX | Sex | (Sensitive Attribute) Male=1, Female=2 |\n",
    "| RAC1P | Race | (Sensitive Attribute) White=1, Black=2, Other races are between 3 and 9 |\n",
    "| AGEP | Age | Ranges from 0-99 |\n",
    "| COW | Class of Worker | Ranges 1-9, see paper for description |\n",
    "| SCHL | Education Level | Ranges 1-24, see paper for description |\n",
    "| MAR | Marital Status | Ranges 1-5, see paper for description |\n",
    "| OCCP | Occupation | Codes taken from Public Use Microdata Sample (PUMS) from the US Census, see paper |\n",
    "| POBP | Place of Birth | Codes taken from Public Use Microdata Sample (PUMS) from the US Census, see paper |\n",
    "| RELP | Relationship | Relationship of individual to person who responded to the Census taker. Ranges 0-17, see paper for description |\n",
    "| WKHP | Hours worked per week | Ranges from 0-99, averaged over previous year |"
   ],
   "metadata": {
    "id": "ErJSui-veHGd"
   }
  },
  {
   "cell_type": "code",
   "source": [
    "#@markdown Read in the folktables dataset \n",
    "full_df, features_df, target_df, groups_df = ACSData().return_acs_data_scenario(scenario=\"ACSIncome\", subsample=70000)\n",
    "\n",
    "print(full_df.shape)\n",
    "full_df.head()"
   ],
   "metadata": {
    "colab": {
     "base_uri": "https://localhost:8080/",
     "height": 223
    },
    "id": "MgVUEi3nET1p",
    "executionInfo": {
     "status": "ok",
     "timestamp": 1675380469992,
     "user_tz": -60,
     "elapsed": 29413,
     "user": {
      "displayName": "Raphael Meyer",
      "userId": "07907174275579142022"
     }
    },
    "outputId": "fd2ecb75-a0d1-42be-d801-977e33b2f2ac",
    "cellView": "form"
   },
   "execution_count": 48,
   "outputs": [
    {
     "name": "stdout",
     "output_type": "stream",
     "text": [
      "(70000, 11)\n"
     ]
    },
    {
     "data": {
      "text/plain": "   AGEP  COW  SCHL  MAR    OCCP   POBP  RELP  WKHP  SEX  RAC1P  PINCP\n0  59.0  1.0  16.0  5.0  4540.0  247.0  12.0  40.0  1.0    6.0    1.0\n1  32.0  1.0  19.0  1.0  1108.0    6.0   1.0  30.0  2.0    1.0    0.0\n2  22.0  1.0  13.0  5.0  4350.0    6.0   7.0  40.0  1.0    9.0    0.0\n3  31.0  1.0  21.0  1.0  4621.0    8.0   1.0  32.0  2.0    9.0    0.0\n4  49.0  1.0  21.0  1.0  3255.0  233.0   0.0  36.0  2.0    6.0    1.0",
      "text/html": "<div>\n<style scoped>\n    .dataframe tbody tr th:only-of-type {\n        vertical-align: middle;\n    }\n\n    .dataframe tbody tr th {\n        vertical-align: top;\n    }\n\n    .dataframe thead th {\n        text-align: right;\n    }\n</style>\n<table border=\"1\" class=\"dataframe\">\n  <thead>\n    <tr style=\"text-align: right;\">\n      <th></th>\n      <th>AGEP</th>\n      <th>COW</th>\n      <th>SCHL</th>\n      <th>MAR</th>\n      <th>OCCP</th>\n      <th>POBP</th>\n      <th>RELP</th>\n      <th>WKHP</th>\n      <th>SEX</th>\n      <th>RAC1P</th>\n      <th>PINCP</th>\n    </tr>\n  </thead>\n  <tbody>\n    <tr>\n      <th>0</th>\n      <td>59.0</td>\n      <td>1.0</td>\n      <td>16.0</td>\n      <td>5.0</td>\n      <td>4540.0</td>\n      <td>247.0</td>\n      <td>12.0</td>\n      <td>40.0</td>\n      <td>1.0</td>\n      <td>6.0</td>\n      <td>1.0</td>\n    </tr>\n    <tr>\n      <th>1</th>\n      <td>32.0</td>\n      <td>1.0</td>\n      <td>19.0</td>\n      <td>1.0</td>\n      <td>1108.0</td>\n      <td>6.0</td>\n      <td>1.0</td>\n      <td>30.0</td>\n      <td>2.0</td>\n      <td>1.0</td>\n      <td>0.0</td>\n    </tr>\n    <tr>\n      <th>2</th>\n      <td>22.0</td>\n      <td>1.0</td>\n      <td>13.0</td>\n      <td>5.0</td>\n      <td>4350.0</td>\n      <td>6.0</td>\n      <td>7.0</td>\n      <td>40.0</td>\n      <td>1.0</td>\n      <td>9.0</td>\n      <td>0.0</td>\n    </tr>\n    <tr>\n      <th>3</th>\n      <td>31.0</td>\n      <td>1.0</td>\n      <td>21.0</td>\n      <td>1.0</td>\n      <td>4621.0</td>\n      <td>8.0</td>\n      <td>1.0</td>\n      <td>32.0</td>\n      <td>2.0</td>\n      <td>9.0</td>\n      <td>0.0</td>\n    </tr>\n    <tr>\n      <th>4</th>\n      <td>49.0</td>\n      <td>1.0</td>\n      <td>21.0</td>\n      <td>1.0</td>\n      <td>3255.0</td>\n      <td>233.0</td>\n      <td>0.0</td>\n      <td>36.0</td>\n      <td>2.0</td>\n      <td>6.0</td>\n      <td>1.0</td>\n    </tr>\n  </tbody>\n</table>\n</div>"
     },
     "execution_count": 48,
     "metadata": {},
     "output_type": "execute_result"
    }
   ]
  },
  {
   "cell_type": "code",
   "source": [
    "#@markdown Check missing values and data types\n",
    "full_df.info()"
   ],
   "metadata": {
    "colab": {
     "base_uri": "https://localhost:8080/"
    },
    "id": "9D-hmorRFKia",
    "executionInfo": {
     "status": "ok",
     "timestamp": 1675380469993,
     "user_tz": -60,
     "elapsed": 28,
     "user": {
      "displayName": "Raphael Meyer",
      "userId": "07907174275579142022"
     }
    },
    "outputId": "05fc50c9-f34c-4b20-a85a-124e77e1f3ce",
    "cellView": "form"
   },
   "execution_count": 49,
   "outputs": [
    {
     "name": "stdout",
     "output_type": "stream",
     "text": [
      "<class 'pandas.core.frame.DataFrame'>\n",
      "RangeIndex: 70000 entries, 0 to 69999\n",
      "Data columns (total 11 columns):\n",
      " #   Column  Non-Null Count  Dtype  \n",
      "---  ------  --------------  -----  \n",
      " 0   AGEP    70000 non-null  float64\n",
      " 1   COW     70000 non-null  float64\n",
      " 2   SCHL    70000 non-null  float64\n",
      " 3   MAR     70000 non-null  float64\n",
      " 4   OCCP    70000 non-null  float64\n",
      " 5   POBP    70000 non-null  float64\n",
      " 6   RELP    70000 non-null  float64\n",
      " 7   WKHP    70000 non-null  float64\n",
      " 8   SEX     70000 non-null  float64\n",
      " 9   RAC1P   70000 non-null  float64\n",
      " 10  PINCP   70000 non-null  float64\n",
      "dtypes: float64(11)\n",
      "memory usage: 5.9 MB\n"
     ]
    }
   ]
  },
  {
   "cell_type": "code",
   "source": [
    "#@markdown Change data types of categorical features\n",
    "numerical_cols = ['AGEP','WKHP']\n",
    "categorical_cols = ['COW','SCHL','MAR','OCCP','POBP','RELP','RAC1P','SEX']\n",
    "\n",
    "for col in categorical_cols:\n",
    "  full_df[col] = full_df[col].astype('int')\n",
    "  full_df[col] = full_df[col].astype('str')\n",
    "\n",
    "full_df.info()\n",
    "full_df.head()"
   ],
   "metadata": {
    "colab": {
     "base_uri": "https://localhost:8080/",
     "height": 518
    },
    "id": "j1x2mdUaID9G",
    "executionInfo": {
     "status": "ok",
     "timestamp": 1675380471250,
     "user_tz": -60,
     "elapsed": 1279,
     "user": {
      "displayName": "Raphael Meyer",
      "userId": "07907174275579142022"
     }
    },
    "outputId": "75b27e98-ac14-443a-c9e4-f07a5bf6ef5f",
    "cellView": "form"
   },
   "execution_count": 50,
   "outputs": [
    {
     "name": "stdout",
     "output_type": "stream",
     "text": [
      "<class 'pandas.core.frame.DataFrame'>\n",
      "RangeIndex: 70000 entries, 0 to 69999\n",
      "Data columns (total 11 columns):\n",
      " #   Column  Non-Null Count  Dtype  \n",
      "---  ------  --------------  -----  \n",
      " 0   AGEP    70000 non-null  float64\n",
      " 1   COW     70000 non-null  object \n",
      " 2   SCHL    70000 non-null  object \n",
      " 3   MAR     70000 non-null  object \n",
      " 4   OCCP    70000 non-null  object \n",
      " 5   POBP    70000 non-null  object \n",
      " 6   RELP    70000 non-null  object \n",
      " 7   WKHP    70000 non-null  float64\n",
      " 8   SEX     70000 non-null  object \n",
      " 9   RAC1P   70000 non-null  object \n",
      " 10  PINCP   70000 non-null  float64\n",
      "dtypes: float64(3), object(8)\n",
      "memory usage: 5.9+ MB\n"
     ]
    },
    {
     "data": {
      "text/plain": "   AGEP COW SCHL MAR  OCCP POBP RELP  WKHP SEX RAC1P  PINCP\n0  59.0   1   16   5  4540  247   12  40.0   1     6    1.0\n1  32.0   1   19   1  1108    6    1  30.0   2     1    0.0\n2  22.0   1   13   5  4350    6    7  40.0   1     9    0.0\n3  31.0   1   21   1  4621    8    1  32.0   2     9    0.0\n4  49.0   1   21   1  3255  233    0  36.0   2     6    1.0",
      "text/html": "<div>\n<style scoped>\n    .dataframe tbody tr th:only-of-type {\n        vertical-align: middle;\n    }\n\n    .dataframe tbody tr th {\n        vertical-align: top;\n    }\n\n    .dataframe thead th {\n        text-align: right;\n    }\n</style>\n<table border=\"1\" class=\"dataframe\">\n  <thead>\n    <tr style=\"text-align: right;\">\n      <th></th>\n      <th>AGEP</th>\n      <th>COW</th>\n      <th>SCHL</th>\n      <th>MAR</th>\n      <th>OCCP</th>\n      <th>POBP</th>\n      <th>RELP</th>\n      <th>WKHP</th>\n      <th>SEX</th>\n      <th>RAC1P</th>\n      <th>PINCP</th>\n    </tr>\n  </thead>\n  <tbody>\n    <tr>\n      <th>0</th>\n      <td>59.0</td>\n      <td>1</td>\n      <td>16</td>\n      <td>5</td>\n      <td>4540</td>\n      <td>247</td>\n      <td>12</td>\n      <td>40.0</td>\n      <td>1</td>\n      <td>6</td>\n      <td>1.0</td>\n    </tr>\n    <tr>\n      <th>1</th>\n      <td>32.0</td>\n      <td>1</td>\n      <td>19</td>\n      <td>1</td>\n      <td>1108</td>\n      <td>6</td>\n      <td>1</td>\n      <td>30.0</td>\n      <td>2</td>\n      <td>1</td>\n      <td>0.0</td>\n    </tr>\n    <tr>\n      <th>2</th>\n      <td>22.0</td>\n      <td>1</td>\n      <td>13</td>\n      <td>5</td>\n      <td>4350</td>\n      <td>6</td>\n      <td>7</td>\n      <td>40.0</td>\n      <td>1</td>\n      <td>9</td>\n      <td>0.0</td>\n    </tr>\n    <tr>\n      <th>3</th>\n      <td>31.0</td>\n      <td>1</td>\n      <td>21</td>\n      <td>1</td>\n      <td>4621</td>\n      <td>8</td>\n      <td>1</td>\n      <td>32.0</td>\n      <td>2</td>\n      <td>9</td>\n      <td>0.0</td>\n    </tr>\n    <tr>\n      <th>4</th>\n      <td>49.0</td>\n      <td>1</td>\n      <td>21</td>\n      <td>1</td>\n      <td>3255</td>\n      <td>233</td>\n      <td>0</td>\n      <td>36.0</td>\n      <td>2</td>\n      <td>6</td>\n      <td>1.0</td>\n    </tr>\n  </tbody>\n</table>\n</div>"
     },
     "execution_count": 50,
     "metadata": {},
     "output_type": "execute_result"
    }
   ]
  },
  {
   "cell_type": "markdown",
   "source": [
    "Next, we will conduct some basic exploratory analysis of the data beginning with plotting the distributions of our features."
   ],
   "metadata": {
    "id": "pHRpGsboZ_wa"
   }
  },
  {
   "cell_type": "code",
   "source": [
    "#@markdown Plot distribution of categorical columns\n",
    "fig, ax = plt.subplots(2,4,figsize=(12,8))\n",
    "ax[0,0].barh(full_df['COW'].value_counts().index[::-1], full_df['COW'].value_counts()[::-1])\n",
    "ax[0,0].set_title('COW')\n",
    "\n",
    "ax[0,1].barh(full_df['SCHL'].value_counts().index[:10][::-1], full_df['SCHL'].value_counts()[:10][::-1])\n",
    "ax[0,1].set_title('SCHL (top-10)')\n",
    "\n",
    "ax[0,2].barh(full_df['MAR'].value_counts().index[::-1], full_df['MAR'].value_counts()[::-1])\n",
    "ax[0,2].set_title('MAR')\n",
    "\n",
    "ax[0,3].barh(full_df['OCCP'].value_counts().index[:10][::-1], full_df['OCCP'].value_counts()[:10][::-1])\n",
    "ax[0,3].set_title('OCCP (top-10)')\n",
    "\n",
    "ax[1,0].barh(full_df['POBP'].value_counts().index[:10][::-1], full_df['POBP'].value_counts()[:10][::-1])\n",
    "ax[1,0].set_title('POBP (top-10)')\n",
    "\n",
    "ax[1,1].barh(full_df['RELP'].value_counts().index[:10][::-1], full_df['RELP'].value_counts()[:10][::-1])\n",
    "ax[1,1].set_title('RELP (top-10)')\n",
    "\n",
    "ax[1,2].barh(full_df['SEX'].value_counts().index[::-1], full_df['SEX'].value_counts()[::-1])\n",
    "ax[1,2].set_title('SEX')\n",
    "labels = ('Female = 2', 'Male = 1')\n",
    "ax[1,2].set_yticklabels(labels)\n",
    "\n",
    "ax[1,3].barh(full_df['RAC1P'].value_counts().index[::-1], full_df['RAC1P'].value_counts()[::-1])\n",
    "ax[1,3].set_title('RAC1P')\n",
    "\n",
    "fig.tight_layout()"
   ],
   "metadata": {
    "colab": {
     "base_uri": "https://localhost:8080/",
     "height": 620
    },
    "id": "umsO2aZ3J3WT",
    "executionInfo": {
     "status": "ok",
     "timestamp": 1675380473962,
     "user_tz": -60,
     "elapsed": 2718,
     "user": {
      "displayName": "Raphael Meyer",
      "userId": "07907174275579142022"
     }
    },
    "outputId": "17d83932-0a40-4c0d-fe8d-2626516878b0",
    "cellView": "form"
   },
   "execution_count": 51,
   "outputs": [
    {
     "name": "stderr",
     "output_type": "stream",
     "text": [
      "/var/folders/v1/6k_h9wg90q56lxft6dxycw200000gn/T/ipykernel_55002/3702193100.py:24: UserWarning: FixedFormatter should only be used together with FixedLocator\n",
      "  ax[1,2].set_yticklabels(labels)\n"
     ]
    },
    {
     "data": {
      "text/plain": "<Figure size 864x576 with 8 Axes>",
      "image/png": "[encoded data removed]"
     },
     "metadata": {},
     "output_type": "display_data"
    }
   ]
  },
  {
   "cell_type": "code",
   "source": [
    "#@markdown Plot distribution of numeric features\n",
    "fig, ax = plt.subplots(1,2,figsize=(12,8))\n",
    "\n",
    "#histogram for AGEP (age)\n",
    "num_of_bins_agep = 10\n",
    "y_vals_agep, x_vals_agep, e_agep = ax[0].hist(full_df['AGEP'], bins=num_of_bins_agep, edgecolor='black')\n",
    "ax[0].set_title(\"Histogram of AGEP\")\n",
    "ax[0].set_xlabel(\"age\")\n",
    "ax[0].set_ylabel(\"Percentage\")\n",
    "y_max_agep = round((max(y_vals_agep) / len(full_df)) + 0.02, 2)\n",
    "ax[0].set_yticks(ticks=np.arange(0.0, y_max_agep * len(full_df), 0.01 * len(full_df)))\n",
    "ax[0].set_ylim(ax[0].get_yticks()[0], ax[0].get_yticks()[-1])\n",
    "ax[0].yaxis.set_major_formatter(ticker.PercentFormatter(xmax=len(full_df)))\n",
    "\n",
    "#histogram for WKHP (Hours worked per week)\n",
    "num_of_bins_wkhp = 10\n",
    "y_vals_wkhp, x_vals_wkhp, e_wkhp = ax[1].hist(full_df['WKHP'], bins=num_of_bins_wkhp, edgecolor='black')\n",
    "ax[1].set_title(\"Histogram of WKHP\")\n",
    "ax[1].set_xlabel(\"hours worked per week\")\n",
    "ax[1].set_ylabel(\"Percentage\")\n",
    "y_max_wkhp = round((max(y_vals_wkhp) / len(full_df)) + 0.05, 2)\n",
    "ax[1].set_yticks(ticks=np.arange(0.0, y_max_wkhp * len(full_df), 0.05 * len(full_df)))\n",
    "ax[1].set_ylim(ax[1].get_yticks()[0], ax[1].get_yticks()[-1])\n",
    "ax[1].yaxis.set_major_formatter(ticker.PercentFormatter(xmax=len(full_df)))"
   ],
   "metadata": {
    "colab": {
     "base_uri": "https://localhost:8080/",
     "height": 513
    },
    "id": "fIN5VbbVQT4_",
    "executionInfo": {
     "status": "ok",
     "timestamp": 1675380474326,
     "user_tz": -60,
     "elapsed": 370,
     "user": {
      "displayName": "Raphael Meyer",
      "userId": "07907174275579142022"
     }
    },
    "outputId": "54c600aa-6cf9-4038-9945-579dde98880f",
    "cellView": "form"
   },
   "execution_count": 52,
   "outputs": [
    {
     "data": {
      "text/plain": "<Figure size 864x576 with 2 Axes>",
      "image/png": "[encoded data removed]"
     },
     "metadata": {},
     "output_type": "display_data"
    }
   ]
  },
  {
   "cell_type": "markdown",
   "source": [
    "As we can see, there is nothing very unusual about the distritubtion of the features in this dataset. Also, we note that the proportion of men and women is rather balanced.\n",
    "\n",
    "We can also examine the pairwise correlations between the numeric features and our target variable."
   ],
   "metadata": {
    "id": "uhrMJoM1sOrj"
   }
  },
  {
   "cell_type": "code",
   "source": [
    "#@markdown Plot pairwise correlations between numeric features\n",
    "\n",
    "sn.heatmap(full_df.corr(), mask=np.identity(len(full_df.corr())), annot=True, cmap='Blues')\n",
    "plt.show()"
   ],
   "metadata": {
    "colab": {
     "base_uri": "https://localhost:8080/",
     "height": 265
    },
    "id": "KXO7X2tMyTI6",
    "executionInfo": {
     "status": "ok",
     "timestamp": 1675380474590,
     "user_tz": -60,
     "elapsed": 270,
     "user": {
      "displayName": "Raphael Meyer",
      "userId": "07907174275579142022"
     }
    },
    "outputId": "16e1e106-2acf-4bd3-a432-114cdba62783",
    "cellView": "form"
   },
   "execution_count": 53,
   "outputs": [
    {
     "data": {
      "text/plain": "<Figure size 432x288 with 2 Axes>",
      "image/png": "[encoded data removed]"
     },
     "metadata": {},
     "output_type": "display_data"
    }
   ]
  },
  {
   "cell_type": "markdown",
   "source": [
    "Here, we can see that there are only relatively low correlations between our target variable (PINCP) and our numeric features of age and hours worked per week."
   ],
   "metadata": {
    "id": "5kyJCKQ3yxhQ"
   }
  },
  {
   "cell_type": "markdown",
   "source": [
    "Next, we can look at the distribution of our target variable as well as the joint distribution of our protected and target attributes."
   ],
   "metadata": {
    "id": "iL6p5-Axxbvh"
   }
  },
  {
   "cell_type": "code",
   "source": [
    "#@markdown Examine distribution of target variable\n",
    "fig = plt.figure()\n",
    "ax = fig.add_subplot(1,1,1)\n",
    "full_df['PINCP'].value_counts().divide(full_df.shape[0]).plot(kind='bar')\n",
    "ax.set_xlabel('Income')\n",
    "ax.set_ylabel('Frequency')\n",
    "plt.setp(ax.get_xticklabels(), rotation=0, ha='center')\n",
    "ax.yaxis.set_major_formatter(mtick.PercentFormatter(1))\n",
    "labels_target = ('0 (<$50k)', '1 (>=$50k)')\n",
    "ax.set_xticklabels(labels_target)\n",
    "plt.show()"
   ],
   "metadata": {
    "colab": {
     "base_uri": "https://localhost:8080/",
     "height": 279
    },
    "id": "7JCRb5o76oiH",
    "executionInfo": {
     "status": "ok",
     "timestamp": 1675380474592,
     "user_tz": -60,
     "elapsed": 11,
     "user": {
      "displayName": "Raphael Meyer",
      "userId": "07907174275579142022"
     }
    },
    "outputId": "8f9c8853-546f-421c-bb1f-32df82e573a5",
    "cellView": "form"
   },
   "execution_count": 54,
   "outputs": [
    {
     "data": {
      "text/plain": "<Figure size 432x288 with 1 Axes>",
      "image/png": "[encoded data removed]"
     },
     "metadata": {},
     "output_type": "display_data"
    }
   ]
  },
  {
   "cell_type": "markdown",
   "source": [
    "From the graph above we note that there is a considerable imbalance of the target variable. Let's see how is this distribution looks by gender."
   ],
   "metadata": {
    "id": "Kq9_1ZSXduNs"
   }
  },
  {
   "cell_type": "code",
   "source": [
    "#@markdown Plot distribution of target variable among males and plot distribution of target variable among females\n",
    "hist_df = full_df.groupby(['SEX','PINCP']).size().to_frame('count').reset_index()\n",
    "new_col = full_df.groupby(['SEX']).PINCP.value_counts(normalize=True).values\n",
    "hist_df['frac'] = new_col\n",
    "hist_df.replace({'SEX': {'1': 'Male', '2': 'Female'}}, inplace=True)\n",
    "hist_df.replace({'PINCP': {0.0: '<$50k', 1.0: '>=$50k'}}, inplace=True)\n",
    "sn.barplot(x='PINCP', y='frac', hue='SEX', data=hist_df)\n",
    "plt.ylabel('Percent of Group')\n",
    "plt.xlabel('Income')\n",
    "plt.show()"
   ],
   "metadata": {
    "colab": {
     "base_uri": "https://localhost:8080/",
     "height": 279
    },
    "id": "rWqWUOfamsAm",
    "executionInfo": {
     "status": "ok",
     "timestamp": 1675380474846,
     "user_tz": -60,
     "elapsed": 264,
     "user": {
      "displayName": "Raphael Meyer",
      "userId": "07907174275579142022"
     }
    },
    "outputId": "20ff2118-aeff-4409-a608-cada5a2881d5",
    "cellView": "form"
   },
   "execution_count": 55,
   "outputs": [
    {
     "data": {
      "text/plain": "<Figure size 432x288 with 1 Axes>",
      "image/png": "[encoded data removed]"
     },
     "metadata": {},
     "output_type": "display_data"
    }
   ]
  },
  {
   "cell_type": "code",
   "source": [
    "#@markdown Showing the number of Males and Females per Income group\n",
    "full_df.groupby(['SEX', 'PINCP'])['PINCP'].count()"
   ],
   "metadata": {
    "colab": {
     "base_uri": "https://localhost:8080/"
    },
    "id": "mb4qHH0dQYAB",
    "executionInfo": {
     "status": "ok",
     "timestamp": 1675380474847,
     "user_tz": -60,
     "elapsed": 12,
     "user": {
      "displayName": "Raphael Meyer",
      "userId": "07907174275579142022"
     }
    },
    "outputId": "37f3f577-5bf4-4042-9482-5e1c5e14924d",
    "cellView": "form"
   },
   "execution_count": 56,
   "outputs": [
    {
     "data": {
      "text/plain": "SEX  PINCP\n1    0.0      19801\n     1.0      17276\n2    0.0      21567\n     1.0      11356\nName: PINCP, dtype: int64"
     },
     "execution_count": 56,
     "metadata": {},
     "output_type": "execute_result"
    }
   ]
  },
  {
   "cell_type": "markdown",
   "source": [
    "Here, we can see that the proportion of males who make at least \\$50k is higher than the proportion of females who make at least $50k in this dataset. Thus, the initial finding about imbalance of the target variable is more accentuated for females."
   ],
   "metadata": {
    "id": "3lB_TQJGE1tV"
   }
  },
  {
   "cell_type": "markdown",
   "source": [
    "# **TODO**: Given the graphs above, what results might we expect from our classifier when it comes to labelling males and females as high or low income?"
   ],
   "metadata": {
    "id": "c1ffXieBGVGx"
   }
  },
  {
   "cell_type": "markdown",
   "source": [
    "**Answer**: That females are more likely to be marked as low income group and males are more likely to be marked as high income group, given the info from the histograms."
   ],
   "metadata": {
    "id": "vpjRuRyZgbHi"
   }
  },
  {
   "cell_type": "markdown",
   "source": [
    "# **TODO**: Why might this data be biased? What type of bias is this?\n"
   ],
   "metadata": {
    "id": "Vccos4UWJieU"
   }
  },
  {
   "cell_type": "markdown",
   "source": [
    "**Answer**: The input data is already bias between genders. It is more ore less like a systematic bias that men is more often gain more advantage than women in workplace."
   ],
   "metadata": {
    "id": "7oVti2pfgfqD"
   }
  },
  {
   "cell_type": "code",
   "source": [
    "# @markdown #**TODO**: write some code in this cell that replicates the above histogram plot for black and white individuals in the data.\n",
    "# TODO: write code here\n",
    "\n",
    "hist_df = full_df.groupby(['RAC1P','PINCP']).size().to_frame('count').reset_index()\n",
    "new_col = full_df.groupby(['RAC1P']).PINCP.value_counts(normalize=True).values\n",
    "hist_df['frac'] = new_col\n",
    "hist_df = hist_df[(hist_df['RAC1P'] == '1') | (hist_df['RAC1P'] == '2')]\n",
    "#display(hist_df)\n",
    "hist_df.replace({'RAC1P': {'1': 'White', '2': 'Black'}}, inplace=True)\n",
    "hist_df.replace({'PINCP': {0.0: '<$50k', 1.0: '>=$50k'}}, inplace=True)\n",
    "sn.barplot(x='PINCP', y='frac', hue='RAC1P', data=hist_df)\n",
    "plt.ylabel('Percent of Group')\n",
    "plt.xlabel('Income')\n",
    "plt.show()"
   ],
   "metadata": {
    "id": "nQP7PQb0BGWv",
    "cellView": "form"
   },
   "execution_count": 57,
   "outputs": [
    {
     "data": {
      "text/plain": "<Figure size 432x288 with 1 Axes>",
      "image/png": "[encoded data removed]"
     },
     "metadata": {},
     "output_type": "display_data"
    }
   ]
  },
  {
   "cell_type": "markdown",
   "source": [
    "## Preprocessing\n",
    "Next, we will do some preprocessing on our data to prepare it for use in our model."
   ],
   "metadata": {
    "id": "v7mYHwvvrlZn"
   }
  },
  {
   "cell_type": "code",
   "source": [
    "#@markdown Standardize numerical features\n",
    "scaler = StandardScaler()\n",
    "full_df[numerical_cols] = scaler.fit_transform(full_df[numerical_cols])\n",
    "display(full_df)"
   ],
   "metadata": {
    "colab": {
     "base_uri": "https://localhost:8080/",
     "height": 423
    },
    "id": "UJmRpooUU6cC",
    "executionInfo": {
     "status": "ok",
     "timestamp": 1675380475199,
     "user_tz": -60,
     "elapsed": 19,
     "user": {
      "displayName": "Raphael Meyer",
      "userId": "07907174275579142022"
     }
    },
    "outputId": "4fa87b53-ea37-4e34-ecae-aaecee76f962",
    "cellView": "form"
   },
   "execution_count": 58,
   "outputs": [
    {
     "data": {
      "text/plain": "           AGEP COW SCHL MAR  OCCP POBP RELP      WKHP SEX RAC1P  PINCP\n0      1.098333   1   16   5  4540  247   12  0.166982   1     6    1.0\n1     -0.719153   1   19   1  1108    6    1 -0.601773   2     1    0.0\n2     -1.392296   1   13   5  4350    6    7  0.166982   1     9    0.0\n3     -0.786468   1   21   1  4621    8    1 -0.448022   2     9    0.0\n4      0.425190   1   21   1  3255  233    0 -0.140520   2     6    1.0\n...         ...  ..  ...  ..   ...  ...  ...       ...  ..   ...    ...\n69995  1.232961   1    9   1  8225  303    0  0.166982   1     8    1.0\n69996  0.896390   6   21   5   410    6    0  0.935738   2     2    1.0\n69997 -0.315267   1   18   5  4700    6   13 -0.448022   1     1    0.0\n69998 -0.584525   1   19   1  5000    6    0  0.935738   1     1    1.0\n69999 -0.382582   1   21   1  5000   51    0  0.166982   2     1    1.0\n\n[70000 rows x 11 columns]",
      "text/html": "<div>\n<style scoped>\n    .dataframe tbody tr th:only-of-type {\n        vertical-align: middle;\n    }\n\n    .dataframe tbody tr th {\n        vertical-align: top;\n    }\n\n    .dataframe thead th {\n        text-align: right;\n    }\n</style>\n<table border=\"1\" class=\"dataframe\">\n  <thead>\n    <tr style=\"text-align: right;\">\n      <th></th>\n      <th>AGEP</th>\n      <th>COW</th>\n      <th>SCHL</th>\n      <th>MAR</th>\n      <th>OCCP</th>\n      <th>POBP</th>\n      <th>RELP</th>\n      <th>WKHP</th>\n      <th>SEX</th>\n      <th>RAC1P</th>\n      <th>PINCP</th>\n    </tr>\n  </thead>\n  <tbody>\n    <tr>\n      <th>0</th>\n      <td>1.098333</td>\n      <td>1</td>\n      <td>16</td>\n      <td>5</td>\n      <td>4540</td>\n      <td>247</td>\n      <td>12</td>\n      <td>0.166982</td>\n      <td>1</td>\n      <td>6</td>\n      <td>1.0</td>\n    </tr>\n    <tr>\n      <th>1</th>\n      <td>-0.719153</td>\n      <td>1</td>\n      <td>19</td>\n      <td>1</td>\n      <td>1108</td>\n      <td>6</td>\n      <td>1</td>\n      <td>-0.601773</td>\n      <td>2</td>\n      <td>1</td>\n      <td>0.0</td>\n    </tr>\n    <tr>\n      <th>2</th>\n      <td>-1.392296</td>\n      <td>1</td>\n      <td>13</td>\n      <td>5</td>\n      <td>4350</td>\n      <td>6</td>\n      <td>7</td>\n      <td>0.166982</td>\n      <td>1</td>\n      <td>9</td>\n      <td>0.0</td>\n    </tr>\n    <tr>\n      <th>3</th>\n      <td>-0.786468</td>\n      <td>1</td>\n      <td>21</td>\n      <td>1</td>\n      <td>4621</td>\n      <td>8</td>\n      <td>1</td>\n      <td>-0.448022</td>\n      <td>2</td>\n      <td>9</td>\n      <td>0.0</td>\n    </tr>\n    <tr>\n      <th>4</th>\n      <td>0.425190</td>\n      <td>1</td>\n      <td>21</td>\n      <td>1</td>\n      <td>3255</td>\n      <td>233</td>\n      <td>0</td>\n      <td>-0.140520</td>\n      <td>2</td>\n      <td>6</td>\n      <td>1.0</td>\n    </tr>\n    <tr>\n      <th>...</th>\n      <td>...</td>\n      <td>...</td>\n      <td>...</td>\n      <td>...</td>\n      <td>...</td>\n      <td>...</td>\n      <td>...</td>\n      <td>...</td>\n      <td>...</td>\n      <td>...</td>\n      <td>...</td>\n    </tr>\n    <tr>\n      <th>69995</th>\n      <td>1.232961</td>\n      <td>1</td>\n      <td>9</td>\n      <td>1</td>\n      <td>8225</td>\n      <td>303</td>\n      <td>0</td>\n      <td>0.166982</td>\n      <td>1</td>\n      <td>8</td>\n      <td>1.0</td>\n    </tr>\n    <tr>\n      <th>69996</th>\n      <td>0.896390</td>\n      <td>6</td>\n      <td>21</td>\n      <td>5</td>\n      <td>410</td>\n      <td>6</td>\n      <td>0</td>\n      <td>0.935738</td>\n      <td>2</td>\n      <td>2</td>\n      <td>1.0</td>\n    </tr>\n    <tr>\n      <th>69997</th>\n      <td>-0.315267</td>\n      <td>1</td>\n      <td>18</td>\n      <td>5</td>\n      <td>4700</td>\n      <td>6</td>\n      <td>13</td>\n      <td>-0.448022</td>\n      <td>1</td>\n      <td>1</td>\n      <td>0.0</td>\n    </tr>\n    <tr>\n      <th>69998</th>\n      <td>-0.584525</td>\n      <td>1</td>\n      <td>19</td>\n      <td>1</td>\n      <td>5000</td>\n      <td>6</td>\n      <td>0</td>\n      <td>0.935738</td>\n      <td>1</td>\n      <td>1</td>\n      <td>1.0</td>\n    </tr>\n    <tr>\n      <th>69999</th>\n      <td>-0.382582</td>\n      <td>1</td>\n      <td>21</td>\n      <td>1</td>\n      <td>5000</td>\n      <td>51</td>\n      <td>0</td>\n      <td>0.166982</td>\n      <td>2</td>\n      <td>1</td>\n      <td>1.0</td>\n    </tr>\n  </tbody>\n</table>\n<p>70000 rows × 11 columns</p>\n</div>"
     },
     "metadata": {},
     "output_type": "display_data"
    }
   ]
  },
  {
   "cell_type": "code",
   "source": [
    "#@markdown One-hot encode categorical features\n",
    "full_df = pd.get_dummies(full_df, columns=categorical_cols)\n",
    "display(full_df)"
   ],
   "metadata": {
    "colab": {
     "base_uri": "https://localhost:8080/",
     "height": 467
    },
    "id": "ttOb_ULRsGUB",
    "executionInfo": {
     "status": "ok",
     "timestamp": 1675380475704,
     "user_tz": -60,
     "elapsed": 519,
     "user": {
      "displayName": "Raphael Meyer",
      "userId": "07907174275579142022"
     }
    },
    "outputId": "9eaee168-f2ea-4cf4-f47a-1dbea618bd36",
    "cellView": "form"
   },
   "execution_count": 59,
   "outputs": [
    {
     "data": {
      "text/plain": "           AGEP      WKHP  PINCP  COW_1  COW_2  COW_3  COW_4  COW_5  COW_6  \\\n0      1.098333  0.166982    1.0      1      0      0      0      0      0   \n1     -0.719153 -0.601773    0.0      1      0      0      0      0      0   \n2     -1.392296  0.166982    0.0      1      0      0      0      0      0   \n3     -0.786468 -0.448022    0.0      1      0      0      0      0      0   \n4      0.425190 -0.140520    1.0      1      0      0      0      0      0   \n...         ...       ...    ...    ...    ...    ...    ...    ...    ...   \n69995  1.232961  0.166982    1.0      1      0      0      0      0      0   \n69996  0.896390  0.935738    1.0      0      0      0      0      0      1   \n69997 -0.315267 -0.448022    0.0      1      0      0      0      0      0   \n69998 -0.584525  0.935738    1.0      1      0      0      0      0      0   \n69999 -0.382582  0.166982    1.0      1      0      0      0      0      0   \n\n       COW_7  ...  RAC1P_2  RAC1P_3  RAC1P_4  RAC1P_5  RAC1P_6  RAC1P_7  \\\n0          0  ...        0        0        0        0        1        0   \n1          0  ...        0        0        0        0        0        0   \n2          0  ...        0        0        0        0        0        0   \n3          0  ...        0        0        0        0        0        0   \n4          0  ...        0        0        0        0        1        0   \n...      ...  ...      ...      ...      ...      ...      ...      ...   \n69995      0  ...        0        0        0        0        0        0   \n69996      0  ...        1        0        0        0        0        0   \n69997      0  ...        0        0        0        0        0        0   \n69998      0  ...        0        0        0        0        0        0   \n69999      0  ...        0        0        0        0        0        0   \n\n       RAC1P_8  RAC1P_9  SEX_1  SEX_2  \n0            0        0      1      0  \n1            0        0      0      1  \n2            0        1      1      0  \n3            0        1      0      1  \n4            0        0      0      1  \n...        ...      ...    ...    ...  \n69995        1        0      1      0  \n69996        0        0      0      1  \n69997        0        0      1      0  \n69998        0        0      1      0  \n69999        0        0      0      1  \n\n[70000 rows x 812 columns]",
      "text/html": "<div>\n<style scoped>\n    .dataframe tbody tr th:only-of-type {\n        vertical-align: middle;\n    }\n\n    .dataframe tbody tr th {\n        vertical-align: top;\n    }\n\n    .dataframe thead th {\n        text-align: right;\n    }\n</style>\n<table border=\"1\" class=\"dataframe\">\n  <thead>\n    <tr style=\"text-align: right;\">\n      <th></th>\n      <th>AGEP</th>\n      <th>WKHP</th>\n      <th>PINCP</th>\n      <th>COW_1</th>\n      <th>COW_2</th>\n      <th>COW_3</th>\n      <th>COW_4</th>\n      <th>COW_5</th>\n      <th>COW_6</th>\n      <th>COW_7</th>\n      <th>...</th>\n      <th>RAC1P_2</th>\n      <th>RAC1P_3</th>\n      <th>RAC1P_4</th>\n      <th>RAC1P_5</th>\n      <th>RAC1P_6</th>\n      <th>RAC1P_7</th>\n      <th>RAC1P_8</th>\n      <th>RAC1P_9</th>\n      <th>SEX_1</th>\n      <th>SEX_2</th>\n    </tr>\n  </thead>\n  <tbody>\n    <tr>\n      <th>0</th>\n      <td>1.098333</td>\n      <td>0.166982</td>\n      <td>1.0</td>\n      <td>1</td>\n      <td>0</td>\n      <td>0</td>\n      <td>0</td>\n      <td>0</td>\n      <td>0</td>\n      <td>0</td>\n      <td>...</td>\n      <td>0</td>\n      <td>0</td>\n      <td>0</td>\n      <td>0</td>\n      <td>1</td>\n      <td>0</td>\n      <td>0</td>\n      <td>0</td>\n      <td>1</td>\n      <td>0</td>\n    </tr>\n    <tr>\n      <th>1</th>\n      <td>-0.719153</td>\n      <td>-0.601773</td>\n      <td>0.0</td>\n      <td>1</td>\n      <td>0</td>\n      <td>0</td>\n      <td>0</td>\n      <td>0</td>\n      <td>0</td>\n      <td>0</td>\n      <td>...</td>\n      <td>0</td>\n      <td>0</td>\n      <td>0</td>\n      <td>0</td>\n      <td>0</td>\n      <td>0</td>\n      <td>0</td>\n      <td>0</td>\n      <td>0</td>\n      <td>1</td>\n    </tr>\n    <tr>\n      <th>2</th>\n      <td>-1.392296</td>\n      <td>0.166982</td>\n      <td>0.0</td>\n      <td>1</td>\n      <td>0</td>\n      <td>0</td>\n      <td>0</td>\n      <td>0</td>\n      <td>0</td>\n      <td>0</td>\n      <td>...</td>\n      <td>0</td>\n      <td>0</td>\n      <td>0</td>\n      <td>0</td>\n      <td>0</td>\n      <td>0</td>\n      <td>0</td>\n      <td>1</td>\n      <td>1</td>\n      <td>0</td>\n    </tr>\n    <tr>\n      <th>3</th>\n      <td>-0.786468</td>\n      <td>-0.448022</td>\n      <td>0.0</td>\n      <td>1</td>\n      <td>0</td>\n      <td>0</td>\n      <td>0</td>\n      <td>0</td>\n      <td>0</td>\n      <td>0</td>\n      <td>...</td>\n      <td>0</td>\n      <td>0</td>\n      <td>0</td>\n      <td>0</td>\n      <td>0</td>\n      <td>0</td>\n      <td>0</td>\n      <td>1</td>\n      <td>0</td>\n      <td>1</td>\n    </tr>\n    <tr>\n      <th>4</th>\n      <td>0.425190</td>\n      <td>-0.140520</td>\n      <td>1.0</td>\n      <td>1</td>\n      <td>0</td>\n      <td>0</td>\n      <td>0</td>\n      <td>0</td>\n      <td>0</td>\n      <td>0</td>\n      <td>...</td>\n      <td>0</td>\n      <td>0</td>\n      <td>0</td>\n      <td>0</td>\n      <td>1</td>\n      <td>0</td>\n      <td>0</td>\n      <td>0</td>\n      <td>0</td>\n      <td>1</td>\n    </tr>\n    <tr>\n      <th>...</th>\n      <td>...</td>\n      <td>...</td>\n      <td>...</td>\n      <td>...</td>\n      <td>...</td>\n      <td>...</td>\n      <td>...</td>\n      <td>...</td>\n      <td>...</td>\n      <td>...</td>\n      <td>...</td>\n      <td>...</td>\n      <td>...</td>\n      <td>...</td>\n      <td>...</td>\n      <td>...</td>\n      <td>...</td>\n      <td>...</td>\n      <td>...</td>\n      <td>...</td>\n      <td>...</td>\n    </tr>\n    <tr>\n      <th>69995</th>\n      <td>1.232961</td>\n      <td>0.166982</td>\n      <td>1.0</td>\n      <td>1</td>\n      <td>0</td>\n      <td>0</td>\n      <td>0</td>\n      <td>0</td>\n      <td>0</td>\n      <td>0</td>\n      <td>...</td>\n      <td>0</td>\n      <td>0</td>\n      <td>0</td>\n      <td>0</td>\n      <td>0</td>\n      <td>0</td>\n      <td>1</td>\n      <td>0</td>\n      <td>1</td>\n      <td>0</td>\n    </tr>\n    <tr>\n      <th>69996</th>\n      <td>0.896390</td>\n      <td>0.935738</td>\n      <td>1.0</td>\n      <td>0</td>\n      <td>0</td>\n      <td>0</td>\n      <td>0</td>\n      <td>0</td>\n      <td>1</td>\n      <td>0</td>\n      <td>...</td>\n      <td>1</td>\n      <td>0</td>\n      <td>0</td>\n      <td>0</td>\n      <td>0</td>\n      <td>0</td>\n      <td>0</td>\n      <td>0</td>\n      <td>0</td>\n      <td>1</td>\n    </tr>\n    <tr>\n      <th>69997</th>\n      <td>-0.315267</td>\n      <td>-0.448022</td>\n      <td>0.0</td>\n      <td>1</td>\n      <td>0</td>\n      <td>0</td>\n      <td>0</td>\n      <td>0</td>\n      <td>0</td>\n      <td>0</td>\n      <td>...</td>\n      <td>0</td>\n      <td>0</td>\n      <td>0</td>\n      <td>0</td>\n      <td>0</td>\n      <td>0</td>\n      <td>0</td>\n      <td>0</td>\n      <td>1</td>\n      <td>0</td>\n    </tr>\n    <tr>\n      <th>69998</th>\n      <td>-0.584525</td>\n      <td>0.935738</td>\n      <td>1.0</td>\n      <td>1</td>\n      <td>0</td>\n      <td>0</td>\n      <td>0</td>\n      <td>0</td>\n      <td>0</td>\n      <td>0</td>\n      <td>...</td>\n      <td>0</td>\n      <td>0</td>\n      <td>0</td>\n      <td>0</td>\n      <td>0</td>\n      <td>0</td>\n      <td>0</td>\n      <td>0</td>\n      <td>1</td>\n      <td>0</td>\n    </tr>\n    <tr>\n      <th>69999</th>\n      <td>-0.382582</td>\n      <td>0.166982</td>\n      <td>1.0</td>\n      <td>1</td>\n      <td>0</td>\n      <td>0</td>\n      <td>0</td>\n      <td>0</td>\n      <td>0</td>\n      <td>0</td>\n      <td>...</td>\n      <td>0</td>\n      <td>0</td>\n      <td>0</td>\n      <td>0</td>\n      <td>0</td>\n      <td>0</td>\n      <td>0</td>\n      <td>0</td>\n      <td>0</td>\n      <td>1</td>\n    </tr>\n  </tbody>\n</table>\n<p>70000 rows × 812 columns</p>\n</div>"
     },
     "metadata": {},
     "output_type": "display_data"
    }
   ]
  },
  {
   "cell_type": "code",
   "source": [
    "#@markdown Since the sex attribute is already binary we can drop one of the redundant dummy columns\n",
    "#note: males are now labeled as 1 and females are labeled as 0\n",
    "full_df.drop(columns=['SEX_2'], inplace=True)\n",
    "full_df.rename(columns={'SEX_1':'SEX'}, inplace=True)\n",
    "\n",
    "full_df.head()"
   ],
   "metadata": {
    "colab": {
     "base_uri": "https://localhost:8080/",
     "height": 279
    },
    "id": "1rLw5F6_sHew",
    "executionInfo": {
     "status": "ok",
     "timestamp": 1675380475705,
     "user_tz": -60,
     "elapsed": 13,
     "user": {
      "displayName": "Raphael Meyer",
      "userId": "07907174275579142022"
     }
    },
    "outputId": "3f9ce943-4690-407d-e079-3c34dacfb030",
    "cellView": "form"
   },
   "execution_count": 60,
   "outputs": [
    {
     "data": {
      "text/plain": "       AGEP      WKHP  PINCP  COW_1  COW_2  COW_3  COW_4  COW_5  COW_6  COW_7  \\\n0  1.098333  0.166982    1.0      1      0      0      0      0      0      0   \n1 -0.719153 -0.601773    0.0      1      0      0      0      0      0      0   \n2 -1.392296  0.166982    0.0      1      0      0      0      0      0      0   \n3 -0.786468 -0.448022    0.0      1      0      0      0      0      0      0   \n4  0.425190 -0.140520    1.0      1      0      0      0      0      0      0   \n\n   ...  RAC1P_1  RAC1P_2  RAC1P_3  RAC1P_4  RAC1P_5  RAC1P_6  RAC1P_7  \\\n0  ...        0        0        0        0        0        1        0   \n1  ...        1        0        0        0        0        0        0   \n2  ...        0        0        0        0        0        0        0   \n3  ...        0        0        0        0        0        0        0   \n4  ...        0        0        0        0        0        1        0   \n\n   RAC1P_8  RAC1P_9  SEX  \n0        0        0    1  \n1        0        0    0  \n2        0        1    1  \n3        0        1    0  \n4        0        0    0  \n\n[5 rows x 811 columns]",
      "text/html": "<div>\n<style scoped>\n    .dataframe tbody tr th:only-of-type {\n        vertical-align: middle;\n    }\n\n    .dataframe tbody tr th {\n        vertical-align: top;\n    }\n\n    .dataframe thead th {\n        text-align: right;\n    }\n</style>\n<table border=\"1\" class=\"dataframe\">\n  <thead>\n    <tr style=\"text-align: right;\">\n      <th></th>\n      <th>AGEP</th>\n      <th>WKHP</th>\n      <th>PINCP</th>\n      <th>COW_1</th>\n      <th>COW_2</th>\n      <th>COW_3</th>\n      <th>COW_4</th>\n      <th>COW_5</th>\n      <th>COW_6</th>\n      <th>COW_7</th>\n      <th>...</th>\n      <th>RAC1P_1</th>\n      <th>RAC1P_2</th>\n      <th>RAC1P_3</th>\n      <th>RAC1P_4</th>\n      <th>RAC1P_5</th>\n      <th>RAC1P_6</th>\n      <th>RAC1P_7</th>\n      <th>RAC1P_8</th>\n      <th>RAC1P_9</th>\n      <th>SEX</th>\n    </tr>\n  </thead>\n  <tbody>\n    <tr>\n      <th>0</th>\n      <td>1.098333</td>\n      <td>0.166982</td>\n      <td>1.0</td>\n      <td>1</td>\n      <td>0</td>\n      <td>0</td>\n      <td>0</td>\n      <td>0</td>\n      <td>0</td>\n      <td>0</td>\n      <td>...</td>\n      <td>0</td>\n      <td>0</td>\n      <td>0</td>\n      <td>0</td>\n      <td>0</td>\n      <td>1</td>\n      <td>0</td>\n      <td>0</td>\n      <td>0</td>\n      <td>1</td>\n    </tr>\n    <tr>\n      <th>1</th>\n      <td>-0.719153</td>\n      <td>-0.601773</td>\n      <td>0.0</td>\n      <td>1</td>\n      <td>0</td>\n      <td>0</td>\n      <td>0</td>\n      <td>0</td>\n      <td>0</td>\n      <td>0</td>\n      <td>...</td>\n      <td>1</td>\n      <td>0</td>\n      <td>0</td>\n      <td>0</td>\n      <td>0</td>\n      <td>0</td>\n      <td>0</td>\n      <td>0</td>\n      <td>0</td>\n      <td>0</td>\n    </tr>\n    <tr>\n      <th>2</th>\n      <td>-1.392296</td>\n      <td>0.166982</td>\n      <td>0.0</td>\n      <td>1</td>\n      <td>0</td>\n      <td>0</td>\n      <td>0</td>\n      <td>0</td>\n      <td>0</td>\n      <td>0</td>\n      <td>...</td>\n      <td>0</td>\n      <td>0</td>\n      <td>0</td>\n      <td>0</td>\n      <td>0</td>\n      <td>0</td>\n      <td>0</td>\n      <td>0</td>\n      <td>1</td>\n      <td>1</td>\n    </tr>\n    <tr>\n      <th>3</th>\n      <td>-0.786468</td>\n      <td>-0.448022</td>\n      <td>0.0</td>\n      <td>1</td>\n      <td>0</td>\n      <td>0</td>\n      <td>0</td>\n      <td>0</td>\n      <td>0</td>\n      <td>0</td>\n      <td>...</td>\n      <td>0</td>\n      <td>0</td>\n      <td>0</td>\n      <td>0</td>\n      <td>0</td>\n      <td>0</td>\n      <td>0</td>\n      <td>0</td>\n      <td>1</td>\n      <td>0</td>\n    </tr>\n    <tr>\n      <th>4</th>\n      <td>0.425190</td>\n      <td>-0.140520</td>\n      <td>1.0</td>\n      <td>1</td>\n      <td>0</td>\n      <td>0</td>\n      <td>0</td>\n      <td>0</td>\n      <td>0</td>\n      <td>0</td>\n      <td>...</td>\n      <td>0</td>\n      <td>0</td>\n      <td>0</td>\n      <td>0</td>\n      <td>0</td>\n      <td>1</td>\n      <td>0</td>\n      <td>0</td>\n      <td>0</td>\n      <td>0</td>\n    </tr>\n  </tbody>\n</table>\n<p>5 rows × 811 columns</p>\n</div>"
     },
     "execution_count": 60,
     "metadata": {},
     "output_type": "execute_result"
    }
   ]
  },
  {
   "cell_type": "markdown",
   "source": [
    "#3. Train Logistic Regression Classifier\n",
    "Next, we will split our data into training and test sets randomly.  Then, we will train a logistic regression classifier and evaluate possible biases within that classifier.\n",
    "\n",
    "### Aside: Accuracy as a Metric\n",
    "\n",
    "Traditional machine learning (i.e. without a focus on fairness) often measures the quality of a classifier by it's **accuracy**, or what fraction of samples were labeled correctly:\n",
    "$$\n",
    "\\text{Accuracy} = \\frac{\\text{Number of Correctly Labeled People}}{\\text{Total Number of People}}\n",
    "$$\n",
    "This can also be expressed using the terms of the [\"Confusion Matrix\"](https://en.wikipedia.org/wiki/Confusion_matrix), where we let\n",
    "- $\\text{TP} = $ \"True Positives\" $ = \\text{Num. people Correctly labeled as Positive}$\n",
    "- $\\text{FP} = $ \"False Positives\" $ = \\text{Num. people Wrongly labeled as Positive}$\n",
    "- $\\text{TN} = $ \"True Negatives\" $ = \\text{Num. people Correctly labeled as Negative}$\n",
    "- $\\text{FN} = $ \"False Negatives\" $ = \\text{Num. people Wrongly labeled as Negative}$\n",
    "\n",
    "Which lets us express the Accuacy as\n",
    "$$\n",
    "\\text{Accuracy} = \\frac{TP + TN}{TP + FP + TN + FN}\n",
    "$$"
   ],
   "metadata": {
    "id": "lldcQFkCx1Y5"
   }
  },
  {
   "cell_type": "code",
   "source": [
    "#@markdown Split data into training and test sets\n",
    "target = full_df['PINCP']\n",
    "full_df.drop(columns='PINCP', inplace=True)\n",
    "\n",
    "#note: here we are setting a value for the random_state (seed) parameter so that the results of this lab will remain consistent\n",
    "X_train, X_test, y_train, y_test = train_test_split(full_df, target, test_size=0.2, random_state=4)\n",
    "\n",
    "print(f'X_train shape: {X_train.shape}')\n",
    "print(f'X_test shape: {X_test.shape}')\n",
    "print(f'y_train shape: {y_train.shape}')\n",
    "print(f'y_test shape: {y_test.shape}')\n",
    "\n"
   ],
   "metadata": {
    "id": "ugcIGIK_XDxC",
    "colab": {
     "base_uri": "https://localhost:8080/"
    },
    "executionInfo": {
     "status": "ok",
     "timestamp": 1675380476068,
     "user_tz": -60,
     "elapsed": 372,
     "user": {
      "displayName": "Raphael Meyer",
      "userId": "07907174275579142022"
     }
    },
    "outputId": "d65a6031-e18e-460a-e76e-7d42e623e237",
    "cellView": "form"
   },
   "execution_count": 70,
   "outputs": [
    {
     "name": "stdout",
     "output_type": "stream",
     "text": [
      "X_train shape: (56000, 810)\n",
      "X_test shape: (14000, 810)\n",
      "y_train shape: (56000,)\n",
      "y_test shape: (14000,)\n"
     ]
    }
   ]
  },
  {
   "cell_type": "code",
   "source": [
    "#@markdown #**TODO**: What would be the accuracy ($\\frac{(TP + TN)}{(TP + FP + TN + FN)}$) of a classifier that always predicts the majority label (baseline classifier)?\n",
    "#@markdown Since the majority label is 0, the accuracy of this majority label classifier would be the number of 0's over the total number of records.\n",
    "\n",
    "# TODO: write code here\n",
    "\n",
    "baseline_accuracy = 8239 / (8239 + 5761)\n",
    "print(f'General baseline accuracy: {baseline_accuracy:.4f}')\n",
    "\n",
    "y_test.value_counts()"
   ],
   "metadata": {
    "id": "NlbkMZZEoFxG",
    "cellView": "form"
   },
   "execution_count": 71,
   "outputs": [
    {
     "name": "stdout",
     "output_type": "stream",
     "text": [
      "General baseline accuracy: 0.5885\n"
     ]
    },
    {
     "data": {
      "text/plain": "0.0    8244\n1.0    5756\nName: PINCP, dtype: int64"
     },
     "execution_count": 71,
     "metadata": {},
     "output_type": "execute_result"
    }
   ]
  },
  {
   "cell_type": "code",
   "source": [
    "# @markdown #**TODO**: What would be the accuracy ($\\frac{(TP + TN)}{(TP + FP + TN + FN)}$) for the Male and Female groups considering a classifier that always predicts the majority label (baseline classifier) for each of these groups?\n",
    "\n",
    "# TODO: write code here\n",
    "display(y_test[X_test['SEX'] == 1].value_counts())\n",
    "display(y_test[X_test['SEX'] == 0].value_counts())\n",
    "\n",
    "male_baseline_accuracy = 3894 / (3894 + 3429)\n",
    "female_baseline_accuracy = 4350 / (4350 + 2327)\n",
    "print(f'Male baseline accuracy: {male_baseline_accuracy:.4f}')\n",
    "print(f'Female baseline accuracy: {female_baseline_accuracy:.4f}')"
   ],
   "metadata": {
    "colab": {
     "base_uri": "https://localhost:8080/"
    },
    "id": "FHt5VXJefZ8L",
    "executionInfo": {
     "status": "ok",
     "timestamp": 1675380476071,
     "user_tz": -60,
     "elapsed": 15,
     "user": {
      "displayName": "Raphael Meyer",
      "userId": "07907174275579142022"
     }
    },
    "outputId": "a4131fdd-dc15-4607-a1ba-46fb2f55590c",
    "cellView": "form"
   },
   "execution_count": 72,
   "outputs": [
    {
     "data": {
      "text/plain": "0.0    3894\n1.0    3429\nName: PINCP, dtype: int64"
     },
     "metadata": {},
     "output_type": "display_data"
    },
    {
     "data": {
      "text/plain": "0.0    4350\n1.0    2327\nName: PINCP, dtype: int64"
     },
     "metadata": {},
     "output_type": "display_data"
    },
    {
     "name": "stdout",
     "output_type": "stream",
     "text": [
      "Male baseline accuracy: 0.5317\n",
      "Female baseline accuracy: 0.6515\n"
     ]
    }
   ]
  },
  {
   "cell_type": "code",
   "source": [
    "#@markdown Implement logistic regression\n",
    "clf = LogisticRegression()\n",
    "clf.fit(X_train, y_train)\n",
    "clf_accuracy = clf.score(X_test, y_test)\n",
    "\n",
    "clear_output()\n",
    "\n",
    "print(f'Logistic Regression test accuracy: {clf_accuracy:.4f}')"
   ],
   "metadata": {
    "colab": {
     "base_uri": "https://localhost:8080/"
    },
    "id": "d6f1ZdiyXSE3",
    "executionInfo": {
     "status": "ok",
     "timestamp": 1675380484545,
     "user_tz": -60,
     "elapsed": 8483,
     "user": {
      "displayName": "Raphael Meyer",
      "userId": "07907174275579142022"
     }
    },
    "outputId": "7f0886fd-580b-4c7b-802b-00f24aa96826",
    "cellView": "form"
   },
   "execution_count": 73,
   "outputs": [
    {
     "name": "stdout",
     "output_type": "stream",
     "text": [
      "Logistic Regression test accuracy: 0.8201\n"
     ]
    }
   ]
  },
  {
   "cell_type": "markdown",
   "source": [
    "## Evaluate fairness"
   ],
   "metadata": {
    "id": "d9vugXFztlG8"
   }
  },
  {
   "cell_type": "markdown",
   "source": [
    "Next, we will evaluate the fairness of our classifier on the test set. We first define the **selection rate** of the classifier on a group:\n",
    "$$\n",
    "\\text{Selection Rate} = \\frac{\\text{Number of People Classified Positive}}{\\text{Total Number of People}}\n",
    "$$\n",
    "We will compute the selection rate amongst men and amongst women, and compare them. The difference of their selection rates is called the **Demographic parity difference**, and the ratio of their rates is called the **Demographic parity ratio**.\n",
    "\n",
    "In general, if we have more than 2 classes,\n",
    "- The demographic parity difference is the difference of the largest and smallest selection rates, so it is always positive. A demographic parity difference of 0 means that all groups have the same selection rate.\n",
    "\n",
    "- The demographic parity ratio is the ratio of the smallest to largest selection rates, so it is always between 0 and 1, where a ratio of 1 means that all groups have the same selection rate.\n",
    "\n",
    "<!-- Next, we will evaluate the fairness of our classifier on the test set.  We will first focus on two metrics - demographic parity difference and demographic parity ratio.  **Demographic parity difference** is defined as the difference between the largest and the smallest group-level selection rate across all values of the sensitive feature(s).  A demographic parity difference of 0 means that all groups have the same selection rate.  **Demographic parity ratio** is defined as the ratio between the smallest and the largest group-level selection rate across all values of the sensitive feature(s).  A demographic parity ratio of 1 means that all groups have the same selection rate. -->\n",
    "\n",
    "More formally: let $X$ denote a feature vector used for predictions, $A$ be a single sensitive feature (such as age or race), $Y$ be the true label, and $h$ a classifier or predictor resulted from a Machine Learning algorithm. Then:\n",
    "\n",
    "*Demographic Parity Difference* is defined as $(max_a\\mathbb{E}[h(X)~|~  A = a])~ - ~ (min_a\\mathbb{E}[h(X)~|~  A = a]) $\n",
    "\n",
    "\n",
    "*Demographic Parity Ratio* is defined as $\\frac{max_a\\mathbb{E}[h(X)~|~  A = a]}{min_a\\mathbb{E}[h(X)~|~  A = a]} $"
   ],
   "metadata": {
    "id": "GlGbK5w4x7q-"
   }
  },
  {
   "cell_type": "code",
   "source": [
    "#@markdown Evaluate the fairness of the classifier using `demographic_parity_difference` and `demographic_parity_ratio`\n",
    "#note: we are conducting this analysis over the test set\n",
    "\n",
    "#compute test predictions\n",
    "y_pred = clf.predict(X_test)\n",
    "\n",
    "#compute demographic parity difference and demographic parity ratio\n",
    "demo_parity_diff = demographic_parity_difference(y_test, y_pred, sensitive_features=X_test['SEX'])\n",
    "demo_parity_ratio = demographic_parity_ratio(y_test, y_pred, sensitive_features=X_test['SEX'])\n",
    "\n",
    "print(f'Demographic parity difference: {demo_parity_diff:.4f}')\n",
    "print(f'Demographic parity ratio: {demo_parity_ratio:.4f}')\n",
    "\n",
    "#compute selection rate for males and females\n",
    "male_selection_rate = selection_rate(y_test[X_test['SEX']==1], y_pred[X_test['SEX']==1])\n",
    "female_selection_rate = selection_rate(y_test[X_test['SEX']==0], y_pred[X_test['SEX']==0])\n",
    "\n",
    "print(f'Male selection rate: {male_selection_rate:.4f}')\n",
    "print(f'Female selection rate: {female_selection_rate:.4f}')"
   ],
   "metadata": {
    "colab": {
     "base_uri": "https://localhost:8080/"
    },
    "id": "S9-CPsT9bhhy",
    "executionInfo": {
     "status": "ok",
     "timestamp": 1675380484546,
     "user_tz": -60,
     "elapsed": 10,
     "user": {
      "displayName": "Raphael Meyer",
      "userId": "07907174275579142022"
     }
    },
    "outputId": "05f0a009-7b71-4d89-99ba-08749d2f238a",
    "cellView": "form"
   },
   "execution_count": 74,
   "outputs": [
    {
     "name": "stdout",
     "output_type": "stream",
     "text": [
      "Demographic parity difference: 0.1369\n",
      "Demographic parity ratio: 0.7053\n",
      "Male selection rate: 0.4644\n",
      "Female selection rate: 0.3275\n"
     ]
    }
   ]
  },
  {
   "cell_type": "markdown",
   "source": [
    "Here, we can see that there are substantial differences in selection rates between males and females with males being significantly more likely to be classified as high income."
   ],
   "metadata": {
    "id": "JbwDQ2nQ8c_J"
   }
  },
  {
   "cell_type": "markdown",
   "source": [
    "Fairlearn also provides the fairlearn.metrics.MetricFrame class to evaluate disparities in treatment between different sub-populations.\n",
    "\n",
    "The **fairlearn.metrics.MetricFrame** object requires a minimum of four arguments:\n",
    "\n",
    "*   The underlying metric function(s) to be evaluated\n",
    "*   The true values\n",
    "*   The predicted values\n",
    "*   The sensitive feature values\n",
    "\n",
    "Metric functions must have a signature ''fn(y_true, y_pred)'', i.e., require only two arguments.  Here we will again look at selection rate, but we will also examine a few other metrics.  We will use accuracy, selection rate, false negative rate, and false positive rate."
   ],
   "metadata": {
    "id": "DxWyzIlKyHIH"
   }
  },
  {
   "cell_type": "code",
   "source": [
    "#@markdown Evaluate the fairness of the classifier using the MetricFrame class for the `SEX` variable\n",
    "\n",
    "#changing sensitive feature inputs to be 'male' and 'female' instead of 1 and 0\n",
    "sensitive_feature_sex = X_test['SEX'].replace({0:'female', 1:'male'})\n",
    "\n",
    "#evaluation metrics\n",
    "metrics = {'accuracy': skm.accuracy_score,\n",
    "           'selection_rate': selection_rate,  # i.e., the percentage of the population which have ‘1’ as their predicted label\n",
    "           'FNR': false_negative_rate,\n",
    "           'FPR': false_positive_rate\n",
    "           }\n",
    "\n",
    "grouped_on_sex = MetricFrame(metrics=metrics,\n",
    "                             y_true=y_test,\n",
    "                             y_pred=y_pred,\n",
    "                             sensitive_features=sensitive_feature_sex)"
   ],
   "metadata": {
    "id": "0lhzxtUcmay1",
    "cellView": "form"
   },
   "execution_count": 75,
   "outputs": []
  },
  {
   "cell_type": "markdown",
   "source": [
    "The **fairlearn.metrics.MetricFrame** has the **overall** property, which evaluates the metrics on the entire dataset."
   ],
   "metadata": {
    "id": "P-AAN3eYyOrh"
   }
  },
  {
   "cell_type": "code",
   "source": [
    "#@title\n",
    "grouped_on_sex.overall"
   ],
   "metadata": {
    "colab": {
     "base_uri": "https://localhost:8080/"
    },
    "id": "JPuojgxHm4EG",
    "executionInfo": {
     "status": "ok",
     "timestamp": 1675380484846,
     "user_tz": -60,
     "elapsed": 24,
     "user": {
      "displayName": "Raphael Meyer",
      "userId": "07907174275579142022"
     }
    },
    "outputId": "06778503-6145-4153-d0a9-1735dd28de1b",
    "cellView": "form"
   },
   "execution_count": 76,
   "outputs": [
    {
     "data": {
      "text/plain": "accuracy          0.820143\nselection_rate    0.399143\nFNR               0.233322\nFPR               0.142528\ndtype: float64"
     },
     "execution_count": 76,
     "metadata": {},
     "output_type": "execute_result"
    }
   ]
  },
  {
   "cell_type": "code",
   "source": [
    "#@markdown # **TODO**: Evaluate fairness for the `RAC1P` variable (for black and white individuals at minimum), and show `grouped_on_race.overall` \n",
    "\n",
    "# TODO: write code here\n",
    "#changing sensitive feature inputs to be 'male' and 'female' instead of 1 and 0\n",
    "sensitive_feature_race = (X_test['RAC1P_1'] + 2 * X_test['RAC1P_2']).replace({0 : \"Neither\", 1 : \"Black\", 2 : \"White\"})\n",
    "# X_test['bw'] = 0 if X_test['RELP_0']\n",
    "# sensitive_feature_race = X_test['RAC1P'].replace({0:'female', 1:'male'})\n",
    "\n",
    "#evaluation metrics\n",
    "metrics = {'accuracy': skm.accuracy_score,\n",
    "           'selection_rate': selection_rate,  # i.e., the percentage of the population which have ‘1’ as their predicted label\n",
    "           'FNR': false_negative_rate,\n",
    "           'FPR': false_positive_rate\n",
    "           }\n",
    "\n",
    "grouped_on_race = MetricFrame(metrics=metrics,\n",
    "                             y_true=y_test,\n",
    "                             y_pred=y_pred,\n",
    "                             sensitive_features=sensitive_feature_race)"
   ],
   "metadata": {
    "id": "OG4i1QxPYDm9",
    "cellView": "form"
   },
   "execution_count": 79,
   "outputs": []
  },
  {
   "cell_type": "code",
   "source": [
    "#@markdown\n",
    "grouped_on_race.overall"
   ],
   "metadata": {
    "colab": {
     "base_uri": "https://localhost:8080/"
    },
    "id": "HD4OsxeWbXjW",
    "executionInfo": {
     "status": "ok",
     "timestamp": 1675380484848,
     "user_tz": -60,
     "elapsed": 22,
     "user": {
      "displayName": "Raphael Meyer",
      "userId": "07907174275579142022"
     }
    },
    "outputId": "19bf7ddb-aa98-4d2b-99b7-29f302a33c0b",
    "cellView": "form"
   },
   "execution_count": 80,
   "outputs": [
    {
     "data": {
      "text/plain": "accuracy          0.820143\nselection_rate    0.399143\nFNR               0.233322\nFPR               0.142528\ndtype: float64"
     },
     "execution_count": 80,
     "metadata": {},
     "output_type": "execute_result"
    }
   ]
  },
  {
   "cell_type": "markdown",
   "source": [
    "The **fairlearn.metrics.MetricFrame** object also has the **by_group** functionality. This displays the selected metrics evaluated on each subgroup defined by the categories in the sensitive_features (sex in our case)."
   ],
   "metadata": {
    "id": "yr-EFAs8yQBd"
   }
  },
  {
   "cell_type": "code",
   "source": [
    "#@title\n",
    "grouped_on_sex.by_group"
   ],
   "metadata": {
    "colab": {
     "base_uri": "https://localhost:8080/",
     "height": 143
    },
    "id": "F4KM3xmxm9Ng",
    "executionInfo": {
     "status": "ok",
     "timestamp": 1675380484849,
     "user_tz": -60,
     "elapsed": 19,
     "user": {
      "displayName": "Raphael Meyer",
      "userId": "07907174275579142022"
     }
    },
    "outputId": "c2b3b482-a013-4ef7-c044-9525872e788a",
    "cellView": "form"
   },
   "execution_count": 81,
   "outputs": [
    {
     "data": {
      "text/plain": "        accuracy  selection_rate       FNR       FPR\nSEX                                                 \nfemale  0.822675        0.327542  0.284486  0.120000\nmale    0.817834        0.464427  0.198600  0.167694",
      "text/html": "<div>\n<style scoped>\n    .dataframe tbody tr th:only-of-type {\n        vertical-align: middle;\n    }\n\n    .dataframe tbody tr th {\n        vertical-align: top;\n    }\n\n    .dataframe thead th {\n        text-align: right;\n    }\n</style>\n<table border=\"1\" class=\"dataframe\">\n  <thead>\n    <tr style=\"text-align: right;\">\n      <th></th>\n      <th>accuracy</th>\n      <th>selection_rate</th>\n      <th>FNR</th>\n      <th>FPR</th>\n    </tr>\n    <tr>\n      <th>SEX</th>\n      <th></th>\n      <th></th>\n      <th></th>\n      <th></th>\n    </tr>\n  </thead>\n  <tbody>\n    <tr>\n      <th>female</th>\n      <td>0.822675</td>\n      <td>0.327542</td>\n      <td>0.284486</td>\n      <td>0.120000</td>\n    </tr>\n    <tr>\n      <th>male</th>\n      <td>0.817834</td>\n      <td>0.464427</td>\n      <td>0.198600</td>\n      <td>0.167694</td>\n    </tr>\n  </tbody>\n</table>\n</div>"
     },
     "execution_count": 81,
     "metadata": {},
     "output_type": "execute_result"
    }
   ]
  },
  {
   "cell_type": "code",
   "source": [
    "#@markdown # **TODO**: Display for `RAC1P` as well\n",
    "\n",
    "# TODO: write code here\n",
    "grouped_on_race.by_group"
   ],
   "metadata": {
    "colab": {
     "base_uri": "https://localhost:8080/",
     "height": 143
    },
    "id": "LaYBo98cbbJK",
    "executionInfo": {
     "status": "ok",
     "timestamp": 1675380484849,
     "user_tz": -60,
     "elapsed": 18,
     "user": {
      "displayName": "Raphael Meyer",
      "userId": "07907174275579142022"
     }
    },
    "outputId": "087aaf48-1b5d-4f44-80db-90fb095fed47",
    "cellView": "form"
   },
   "execution_count": 82,
   "outputs": [
    {
     "data": {
      "text/plain": "                     accuracy  selection_rate       FNR       FPR\nsensitive_feature_0                                              \nBlack                0.821789        0.438334  0.207769  0.154506\nNeither              0.820304        0.337711  0.280417  0.123087\nWhite                0.794521        0.325342  0.319588  0.148718",
      "text/html": "<div>\n<style scoped>\n    .dataframe tbody tr th:only-of-type {\n        vertical-align: middle;\n    }\n\n    .dataframe tbody tr th {\n        vertical-align: top;\n    }\n\n    .dataframe thead th {\n        text-align: right;\n    }\n</style>\n<table border=\"1\" class=\"dataframe\">\n  <thead>\n    <tr style=\"text-align: right;\">\n      <th></th>\n      <th>accuracy</th>\n      <th>selection_rate</th>\n      <th>FNR</th>\n      <th>FPR</th>\n    </tr>\n    <tr>\n      <th>sensitive_feature_0</th>\n      <th></th>\n      <th></th>\n      <th></th>\n      <th></th>\n    </tr>\n  </thead>\n  <tbody>\n    <tr>\n      <th>Black</th>\n      <td>0.821789</td>\n      <td>0.438334</td>\n      <td>0.207769</td>\n      <td>0.154506</td>\n    </tr>\n    <tr>\n      <th>Neither</th>\n      <td>0.820304</td>\n      <td>0.337711</td>\n      <td>0.280417</td>\n      <td>0.123087</td>\n    </tr>\n    <tr>\n      <th>White</th>\n      <td>0.794521</td>\n      <td>0.325342</td>\n      <td>0.319588</td>\n      <td>0.148718</td>\n    </tr>\n  </tbody>\n</table>\n</div>"
     },
     "execution_count": 82,
     "metadata": {},
     "output_type": "execute_result"
    }
   ]
  },
  {
   "cell_type": "markdown",
   "source": [
    "Reminder: Females are labeled 0 and males are labeled 1."
   ],
   "metadata": {
    "id": "LNr0r1yIIE3Y"
   }
  },
  {
   "cell_type": "code",
   "source": [
    "#@markdown Plot the metric values\n",
    "\n",
    "metrics_1 = {'accuracy': skm.accuracy_score,\n",
    "           'selection_rate': selection_rate,  # i.e., the percentage of the population which have ‘1’ as their predicted label\n",
    "           }\n",
    "\n",
    "metrics_2 = {\n",
    "           'FNR': false_negative_rate,\n",
    "           'FPR': false_positive_rate\n",
    "           }\n",
    "\n",
    "grouped_on_sex_accuracy_selection = MetricFrame(metrics=metrics_1,\n",
    "                             y_true=y_test,\n",
    "                             y_pred=y_pred,\n",
    "                             sensitive_features=sensitive_feature_sex)\n",
    "\n",
    "grouped_on_sex_fpr_fnr = MetricFrame(metrics=metrics_2,\n",
    "                             y_true=y_test,\n",
    "                             y_pred=y_pred,\n",
    "                             sensitive_features=sensitive_feature_sex)\n",
    "\n",
    "grouped_on_sex_accuracy_selection.by_group.plot.bar(\n",
    "    subplots=False, \n",
    "    figsize=(10, 7), \n",
    "    ylim=[0,1],\n",
    "    title=\"Accuracy and selection rate by sex\",\n",
    "    )\n",
    "\n",
    "grouped_on_sex_fpr_fnr.by_group.plot.bar(\n",
    "    subplots=False, \n",
    "    figsize=(10, 7), \n",
    "    ylim=[0,1],\n",
    "    title=\"FNR and FPR by sex\",\n",
    "    )"
   ],
   "metadata": {
    "colab": {
     "base_uri": "https://localhost:8080/",
     "height": 966
    },
    "id": "5B9z7HUdm_up",
    "executionInfo": {
     "status": "ok",
     "timestamp": 1675380485704,
     "user_tz": -60,
     "elapsed": 868,
     "user": {
      "displayName": "Raphael Meyer",
      "userId": "07907174275579142022"
     }
    },
    "outputId": "3a0869cc-fd13-40ea-af7a-16ee3f4f041a",
    "cellView": "form"
   },
   "execution_count": null,
   "outputs": []
  },
  {
   "cell_type": "code",
   "source": [
    "# @markdown #**TODO**: Replicate the above plots for at `RAC1P` and at least black/white individuals in the data. \n",
    "\n",
    "# TODO: write code here\n",
    "\n",
    "\n",
    "metrics_1 = {'accuracy': skm.accuracy_score,\n",
    "             'selection_rate': selection_rate,  # i.e., the percentage of the population which have ‘1’ as their predicted label\n",
    "             }\n",
    "\n",
    "metrics_2 = {\n",
    "    'FNR': false_negative_rate,\n",
    "    'FPR': false_positive_rate\n",
    "}\n",
    "\n",
    "grouped_on_race_accuracy_selection = MetricFrame(metrics=metrics_1,\n",
    "                                                y_true=y_test,\n",
    "                                                y_pred=y_pred,\n",
    "                                                sensitive_features=sensitive_feature_race)\n",
    "\n",
    "grouped_on_race_fpr_fnr = MetricFrame(metrics=metrics_2,\n",
    "                                     y_true=y_test,\n",
    "                                     y_pred=y_pred,\n",
    "                                     sensitive_features=sensitive_feature_race)\n",
    "\n",
    "grouped_on_race_accuracy_selection.by_group.plot.bar(\n",
    "    subplots=False,\n",
    "    figsize=(10, 7),\n",
    "    ylim=[0,1],\n",
    "    title=\"Accuracy and selection rate by sex\",\n",
    ")\n",
    "\n",
    "grouped_on_race_fpr_fnr.by_group.plot.bar(\n",
    "    subplots=False,\n",
    "    figsize=(10, 7),\n",
    "    ylim=[0,1],\n",
    "    title=\"FNR and FPR by sex\",\n",
    ")"
   ],
   "metadata": {
    "colab": {
     "base_uri": "https://localhost:8080/",
     "height": 954
    },
    "id": "PK3tfGI-bjAy",
    "executionInfo": {
     "status": "ok",
     "timestamp": 1675380486247,
     "user_tz": -60,
     "elapsed": 548,
     "user": {
      "displayName": "Raphael Meyer",
      "userId": "07907174275579142022"
     }
    },
    "outputId": "227c1159-f15c-409d-b869-0036f04d1f9d",
    "cellView": "form"
   },
   "execution_count": 83,
   "outputs": [
    {
     "data": {
      "text/plain": "<AxesSubplot:title={'center':'FNR and FPR by sex'}, xlabel='sensitive_feature_0'>"
     },
     "execution_count": 83,
     "metadata": {},
     "output_type": "execute_result"
    },
    {
     "data": {
      "text/plain": "<Figure size 720x504 with 1 Axes>",
      "image/png": "[encoded data removed]"
     },
     "metadata": {},
     "output_type": "display_data"
    },
    {
     "data": {
      "text/plain": "<Figure size 720x504 with 1 Axes>",
      "image/png": "[encoded data removed]"
     },
     "metadata": {},
     "output_type": "display_data"
    }
   ]
  },
  {
   "cell_type": "markdown",
   "source": [
    "# **TODO**: Observe that accuracy for male and female groups is comparable, and yet we see disparities in FPR and FNR.  Which group benefits from the discrepancies in FPR and FNR shown above?  If you were deploying this system how would you measure performance (eg. accuracy, FNR, FPR)? (Reminder: females are labelled 0, males are labelled 1)\n"
   ],
   "metadata": {
    "id": "LH7SZrv2N8ot"
   }
  },
  {
   "cell_type": "markdown",
   "source": [
    "**Answer**:\n",
    "White people group benefits from the discrepancies in FPR and FNR shown above (than black). And male benefits from the lower FPR rates (than females). I would consider the ratio of FNR and FPR to be a more balanced consideration, and i would not consider accuracy.\n"
   ],
   "metadata": {
    "id": "5cX_eE4QhmLO"
   }
  },
  {
   "cell_type": "markdown",
   "source": [
    "#4. Train \"Blind\" Logistic Regression Classifier (Fairness through Blindness)"
   ],
   "metadata": {
    "id": "PFqCzXyXyhcO"
   }
  },
  {
   "cell_type": "markdown",
   "source": [
    "Next, we will remove the protected attribute of \"sex\" from our data and see what effect this has on the performance of our classifier."
   ],
   "metadata": {
    "id": "7cJPVQ7byn53"
   }
  },
  {
   "cell_type": "code",
   "source": [
    "# @markdown Remove sensitive attribute from data\n",
    "X_train_blind = X_train.drop(columns='SEX')\n",
    "X_test_blind = X_test.drop(columns='SEX')"
   ],
   "metadata": {
    "id": "BGZewKk9tBbZ",
    "cellView": "form"
   },
   "execution_count": 84,
   "outputs": []
  },
  {
   "cell_type": "code",
   "source": [
    "# @markdown Implement logistic regression\n",
    "clf_blind = LogisticRegression()\n",
    "clf_blind.fit(X_train_blind, y_train) \n",
    "clf_blind_accuracy = clf_blind.score(X_test_blind, y_test)\n",
    "\n",
    "clear_output()\n",
    "\n",
    "print(f'Logistic Regression test accuracy (without sensitive attribute): {clf_blind_accuracy:.4f}')"
   ],
   "metadata": {
    "colab": {
     "base_uri": "https://localhost:8080/"
    },
    "id": "P-0MCOFjtL9l",
    "executionInfo": {
     "status": "ok",
     "timestamp": 1675380494910,
     "user_tz": -60,
     "elapsed": 8670,
     "user": {
      "displayName": "Raphael Meyer",
      "userId": "07907174275579142022"
     }
    },
    "outputId": "5794d331-89cc-403c-db74-529e969d179f",
    "cellView": "form"
   },
   "execution_count": 85,
   "outputs": [
    {
     "name": "stdout",
     "output_type": "stream",
     "text": [
      "Logistic Regression test accuracy (without sensitive attribute): 0.8166\n"
     ]
    }
   ]
  },
  {
   "cell_type": "code",
   "source": [
    "# @markdown Recall the accuracy fairness of the original classifier\n",
    "print('Recall the original classifier:')\n",
    "print(f'Logistic Regression test accuracy: {clf_accuracy:.4f}')\n",
    "print(f'Demographic parity difference: {demo_parity_diff:.4f}')\n",
    "print(f'Demographic parity ratio: {demo_parity_ratio:.4f}')\n",
    "print(f'Male selection rate: {male_selection_rate:.4f}')\n",
    "print(f'Female selection rate: {female_selection_rate:.4f}')"
   ],
   "metadata": {
    "id": "5Svx5AUycMC5",
    "executionInfo": {
     "status": "ok",
     "timestamp": 1675380494911,
     "user_tz": -60,
     "elapsed": 34,
     "user": {
      "displayName": "Raphael Meyer",
      "userId": "07907174275579142022"
     }
    },
    "outputId": "7283e4dc-6ae1-47b1-834b-29e07436c825",
    "colab": {
     "base_uri": "https://localhost:8080/"
    },
    "cellView": "form"
   },
   "execution_count": 86,
   "outputs": [
    {
     "name": "stdout",
     "output_type": "stream",
     "text": [
      "Recall the original classifier:\n",
      "Logistic Regression test accuracy: 0.8201\n",
      "Demographic parity difference: 0.1369\n",
      "Demographic parity ratio: 0.7053\n",
      "Male selection rate: 0.4644\n",
      "Female selection rate: 0.3275\n"
     ]
    }
   ]
  },
  {
   "cell_type": "code",
   "source": [
    "# @markdown Evaluate fairness of the blind classifier\n",
    "\n",
    "#compute test predictions\n",
    "y_pred_blind = clf_blind.predict(X_test_blind)\n",
    "\n",
    "#compute demographic parity difference and demographic parity ratio\n",
    "demo_parity_diff_blind = demographic_parity_difference(y_test, y_pred_blind, sensitive_features=X_test['SEX'])\n",
    "demo_parity_ratio_blind = demographic_parity_ratio(y_test, y_pred_blind, sensitive_features=X_test['SEX'])\n",
    "\n",
    "print(f'Demographic parity difference (without sensitive attribute): {demo_parity_diff_blind:.4f}')\n",
    "print(f'Demographic parity ratio (without sensitive attribute): {demo_parity_ratio_blind:.4f}')\n",
    "\n",
    "#compute selection rate for males and females\n",
    "male_selection_rate_blind = selection_rate(y_test[X_test['SEX']==1], y_pred_blind[X_test['SEX']==1])\n",
    "female_selection_rate_blind = selection_rate(y_test[X_test['SEX']==0], y_pred_blind[X_test['SEX']==0])\n",
    "\n",
    "print(f'Male selection rate (without sensitive attribute): {male_selection_rate_blind:.4f}')\n",
    "print(f'Female selection rate (without sensitive attribute): {female_selection_rate_blind:.4f}')\n",
    "\n"
   ],
   "metadata": {
    "colab": {
     "base_uri": "https://localhost:8080/"
    },
    "id": "bEg0YU9Ltbzh",
    "executionInfo": {
     "status": "ok",
     "timestamp": 1675381064071,
     "user_tz": -60,
     "elapsed": 949,
     "user": {
      "displayName": "Raphael Meyer",
      "userId": "07907174275579142022"
     }
    },
    "outputId": "a2de9e73-69af-43a0-c386-437ae8b625de",
    "cellView": "form"
   },
   "execution_count": 87,
   "outputs": [
    {
     "name": "stdout",
     "output_type": "stream",
     "text": [
      "Demographic parity difference (without sensitive attribute): 0.0822\n",
      "Demographic parity ratio (without sensitive attribute): 0.8129\n",
      "Male selection rate (without sensitive attribute): 0.4396\n",
      "Female selection rate (without sensitive attribute): 0.3573\n"
     ]
    }
   ]
  },
  {
   "cell_type": "markdown",
   "source": [
    "# **TODO:** describe the differences of both models in terms of accuracy and fairness among male and female groups?\n"
   ],
   "metadata": {
    "id": "Yueobvhd78gp"
   }
  },
  {
   "cell_type": "markdown",
   "source": [
    "**Answer**:\n",
    "The disparity in demographic parity has seen a substantial reduction, however, the variation in male and female selection rate remains unchanged."
   ],
   "metadata": {
    "id": "lh0IiGaahqs9"
   }
  },
  {
   "cell_type": "markdown",
   "source": [
    "**Nevertheless**, we see that removing the protected feature did not eliminate the biases within our classifier, as exhibited below."
   ],
   "metadata": {
    "id": "PRVVozeK0IYV"
   }
  },
  {
   "cell_type": "code",
   "source": [
    "# @markdown Evaluate the biases of the classifier using the MetricFrame class\n",
    "grouped_on_sex_blind = MetricFrame(metrics=metrics,\n",
    "                                     y_true=y_test,\n",
    "                                     y_pred=y_pred_blind,\n",
    "                                     sensitive_features=sensitive_feature_sex)"
   ],
   "metadata": {
    "id": "6FP75qKmuC6_",
    "cellView": "form"
   },
   "execution_count": null,
   "outputs": []
  },
  {
   "cell_type": "code",
   "source": [
    "# @markdown\n",
    "grouped_on_sex_blind.overall"
   ],
   "metadata": {
    "colab": {
     "base_uri": "https://localhost:8080/"
    },
    "id": "Z0l6FUGluMWh",
    "executionInfo": {
     "status": "ok",
     "timestamp": 1675380495167,
     "user_tz": -60,
     "elapsed": 15,
     "user": {
      "displayName": "Raphael Meyer",
      "userId": "07907174275579142022"
     }
    },
    "outputId": "2bcfeb5f-db5d-4de9-e968-bfeb8d389de9",
    "cellView": "form"
   },
   "execution_count": null,
   "outputs": []
  },
  {
   "cell_type": "code",
   "source": [
    "# @markdown\n",
    "grouped_on_sex_blind.by_group"
   ],
   "metadata": {
    "colab": {
     "base_uri": "https://localhost:8080/",
     "height": 143
    },
    "id": "DwAXmgKcuR0M",
    "executionInfo": {
     "status": "ok",
     "timestamp": 1675380495168,
     "user_tz": -60,
     "elapsed": 11,
     "user": {
      "displayName": "Raphael Meyer",
      "userId": "07907174275579142022"
     }
    },
    "outputId": "409acb8a-1ae5-4b32-f439-65bd4cd74d37",
    "cellView": "form"
   },
   "execution_count": null,
   "outputs": []
  },
  {
   "cell_type": "markdown",
   "source": [
    "## **Showing all the metrics for the full data and blinded data.**"
   ],
   "metadata": {
    "id": "zENn3IQzsNjR"
   }
  },
  {
   "cell_type": "code",
   "source": [
    "# @markdown Comparing the results: full-data vs. blinded data\n",
    "\n",
    "#demographic parity difference\n",
    "demo_parity_diff = demographic_parity_difference(y_test, y_pred, sensitive_features=X_test['SEX'])\n",
    "demo_parity_diff_blind = demographic_parity_difference(y_test, y_pred_blind, sensitive_features=X_test['SEX'])\n",
    "\n",
    "#demographic parity ratio\n",
    "demo_parity_ratio = demographic_parity_ratio(y_test, y_pred, sensitive_features=X_test['SEX'])\n",
    "demo_parity_ratio_blind = demographic_parity_ratio(y_test, y_pred_blind, sensitive_features=X_test['SEX'])\n",
    "\n",
    "#selection rate\n",
    "male_selection_rate = selection_rate(y_test[X_test['SEX']==1], y_pred[X_test['SEX']==1])\n",
    "male_selection_rate_blind = selection_rate(y_test[X_test['SEX']==1], y_pred_blind[X_test['SEX']==1])\n",
    "\n",
    "female_selection_rate = selection_rate(y_test[X_test['SEX']==0], y_pred[X_test['SEX']==0])\n",
    "female_selection_rate_blind = selection_rate(y_test[X_test['SEX']==0], y_pred_blind[X_test['SEX']==0])\n",
    "\n",
    "#fnr\n",
    "male_fnr = false_negative_rate(y_test[X_test['SEX']==1], y_pred[X_test['SEX']==1])\n",
    "male_fnr_blind = false_negative_rate(y_test[X_test['SEX']==1], y_pred_blind[X_test['SEX']==1])\n",
    "\n",
    "female_fnr = false_negative_rate(y_test[X_test['SEX']==0], y_pred[X_test['SEX']==0])\n",
    "female_fnr_blind = false_negative_rate(y_test[X_test['SEX']==0], y_pred_blind[X_test['SEX']==0])\n",
    "\n",
    "#fpr\n",
    "male_fpr = false_positive_rate(y_test[X_test['SEX']==1], y_pred[X_test['SEX']==1])\n",
    "male_fpr_blind = false_positive_rate(y_test[X_test['SEX']==1], y_pred_blind[X_test['SEX']==1])\n",
    "\n",
    "female_fpr = false_positive_rate(y_test[X_test['SEX']==0], y_pred[X_test['SEX']==0])\n",
    "female_fpr_blind = false_positive_rate(y_test[X_test['SEX']==0], y_pred_blind[X_test['SEX']==0])\n",
    "\n",
    "#plot\n",
    "labels = ['Demo Parity Diff','Demo Parity Ratio','Sel Rate (Male)',\n",
    "          'Sel Rate (Female)', 'FNR (Male)', 'FNR (Female)', 'FPR(Male)',\n",
    "          'FPR(Female)']\n",
    "\n",
    "Y_full = [demo_parity_diff, demo_parity_ratio, male_selection_rate, \n",
    "          female_selection_rate, male_fnr, female_fnr, male_fpr, female_fpr]\n",
    "\n",
    "Y_blind = [demo_parity_diff_blind, demo_parity_ratio_blind, \n",
    "           male_selection_rate_blind, female_selection_rate_blind, male_fnr_blind, \n",
    "           female_fnr_blind, male_fpr_blind, female_fpr_blind]\n",
    "\n",
    "x = np.arange(len(labels))\n",
    "width = 0.35\n",
    "\n",
    "fig, ax = plt.subplots(figsize=(15, 7))\n",
    "rects1 = ax.bar(x - width/2, Y_full, width, label='Full Model')\n",
    "rects2 = ax.bar(x + width/2, Y_blind, width, label='Blind Model')\n",
    "\n",
    "ax.set_title('Metrics Comparison', size=20)\n",
    "ax.set_xticks(x)\n",
    "ax.set_xticklabels(labels)\n",
    "ax.legend(fontsize='x-large')\n",
    "ax.bar_label(rects1, padding=3, fmt='%.3f')\n",
    "ax.bar_label(rects2, padding=3, fmt='%.3f')\n",
    "ax.set_ylim([0, 1])\n",
    "fig.tight_layout()\n",
    "plt.rcParams[\"figure.figsize\"] = (18,8)\n",
    "plt.show()\n"
   ],
   "metadata": {
    "colab": {
     "base_uri": "https://localhost:8080/",
     "height": 513
    },
    "id": "5TOyiVARo16T",
    "executionInfo": {
     "status": "ok",
     "timestamp": 1675380496024,
     "user_tz": -60,
     "elapsed": 865,
     "user": {
      "displayName": "Raphael Meyer",
      "userId": "07907174275579142022"
     }
    },
    "outputId": "33614a9a-1ed2-4328-a4bd-6b902445bca3",
    "cellView": "form"
   },
   "execution_count": null,
   "outputs": []
  },
  {
   "cell_type": "markdown",
   "source": [
    "# **TODO:** What are the key takeaways from this Lab?\n"
   ],
   "metadata": {
    "id": "wz-7mcA60DyU"
   }
  },
  {
   "cell_type": "markdown",
   "source": [
    "**Answer**: That first of all, we need to be aware of the existing bias in large dataset and trending bias in the model training. Fairness through blindness could be helpful in adjusting bias but improvement is needed. "
   ],
   "metadata": {
    "id": "13fHBQTGhvCt"
   }
  }
 ]
}
