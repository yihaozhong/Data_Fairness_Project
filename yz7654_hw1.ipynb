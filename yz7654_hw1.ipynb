{
  "nbformat": 4,
  "nbformat_minor": 0,
  "metadata": {
    "colab": {
      "provenance": [],
      "toc_visible": true
    },
    "kernelspec": {
      "name": "python3",
      "display_name": "Python 3"
    },
    "language_info": {
      "name": "python"
    },
    "accelerator": "GPU",
    "gpuClass": "standard"
  },
  "cells": [
    {
      "cell_type": "code",
      "execution_count": 1,
      "metadata": {
        "id": "PmmFUvLx1bDU"
      },
      "outputs": [],
      "source": [
        "%%capture\n",
        "!pip install fairlearn\n",
        "!pip install tensorflow-macos 2.9.0 --force-reinstall\n",
        "\n",
        "!pip install tensorflow-metal 0.5.0 --force-reinstall"
      ]
    },
    {
      "cell_type": "code",
      "source": [],
      "metadata": {
        "id": "lV2nZoPRoZrr"
      },
      "execution_count": 1,
      "outputs": []
    },
    {
      "cell_type": "code",
      "source": [
        "#@markdown \n",
        "import numpy as np\n",
        "from IPython.display import display, Markdown, Latex\n",
        "import pandas as pd\n",
        "import matplotlib.pyplot as plt \n",
        "import seaborn as sns\n",
        "\n",
        "from sklearn.preprocessing import MinMaxScaler\n",
        "from sklearn.model_selection import train_test_split\n",
        "from sklearn.ensemble import RandomForestClassifier\n",
        "from sklearn.metrics import accuracy_score, precision_score, recall_score\n",
        "\n",
        "from fairlearn.postprocessing import ThresholdOptimizer\n",
        "from fairlearn.preprocessing import CorrelationRemover\n",
        "from fairlearn.adversarial import AdversarialFairnessClassifier\n",
        "from fairlearn.metrics import MetricFrame\n",
        "import fairlearn.datasets as fdata\n",
        "from fairlearn.metrics import (demographic_parity_difference, demographic_parity_ratio, \n",
        "                               selection_rate_difference, false_negative_rate_difference, \n",
        "                               false_positive_rate_difference, equalized_odds_ratio,\n",
        "                               false_negative_rate, false_positive_rate)"
      ],
      "metadata": {
        "id": "qOU_nFs11rFc",
        "cellView": "code"
      },
      "execution_count": 2,
      "outputs": []
    },
    {
      "cell_type": "markdown",
      "source": [
        "# Load and preprocess the data"
      ],
      "metadata": {
        "id": "_4uCde0xDNZp"
      }
    },
    {
      "cell_type": "code",
      "source": [
        "#@markdown Load and read about the dataset.\n",
        "# get datast from fairlearn and show description\n",
        "dataset = fdata.fetch_diabetes_hospital()\n",
        "\n",
        "display(Markdown(dataset.DESCR))\n",
        "\n",
        "# save dataframe and features\n",
        "x_raw = dataset.data\n",
        "# y_raw = np.array(dataset.target)\n",
        "feature_names = dataset.feature_names"
      ],
      "metadata": {
        "id": "MWqwAwww1-sa",
        "colab": {
          "base_uri": "https://localhost:8080/",
          "height": 276
        },
        "outputId": "c1a4d8d0-965f-41e9-9e3b-597c84d0afdf",
        "cellView": "code"
      },
      "execution_count": 3,
      "outputs": [
        {
          "output_type": "stream",
          "name": "stderr",
          "text": [
            "/usr/local/lib/python3.9/dist-packages/sklearn/datasets/_openml.py:968: FutureWarning: The default value of `parser` will change from `'liac-arff'` to `'auto'` in 1.4. You can set `parser='auto'` to silence this warning. Therefore, an `ImportError` will be raised from 1.4 if the dataset is dense and pandas is not installed. Note that the pandas parser may return different data types. See the Notes Section in fetch_openml's API doc for details.\n",
            "  warn(\n"
          ]
        },
        {
          "output_type": "display_data",
          "data": {
            "text/plain": [
              "<IPython.core.display.Markdown object>"
            ],
            "text/markdown": "The \"Diabetes 130-Hospitals\" dataset represents 10 years of clinical care at 130 U.S. hospitals and delivery networks, collected from 1999 to 2008. Each record represents the hospital admission record for a patient diagnosed with diabetes whose stay lasted between one to fourteen days. The features describing each encounter include demographics, diagnoses, diabetic medications, number of visits in the year preceding the encounter, and payer information, as well as whether the patient was readmitted after release, and whether the readmission occurred within 30 days of the release.\n\nThe original \"Diabetes 130-Hospitals\" dataset was collected by Beata Strack, Jonathan P. DeShazo, Chris Gennings, Juan L. Olmo, Sebastian Ventura, Krzysztof J. Cios, and John N. Clore in 2014.\n\nThis version of the dataset was derived by the Fairlearn team for the SciPy 2021 tutorial \"Fairness in AI Systems: From social context to practice using Fairlearn\". In this version, the target variable \"readmitted\" is binarized into whether the patient was re-admitted within thirty days. The full dataset pre-processing script can be found on GitHub: https://github.com/fairlearn/talks/blob/main/2021_scipy_tutorial/preprocess.py\n\nDownloaded from openml.org."
          },
          "metadata": {}
        }
      ]
    },
    {
      "cell_type": "markdown",
      "source": [
        "You can read more about the dataset [here](https://fairlearn.org/main/user_guide/datasets/diabetes_hospital_data.html). In this description, we see that two features, `readmitted` and `readmit_binary`, are other representations of the same outcome, so we drop them from the set of predictors."
      ],
      "metadata": {
        "id": "-2H46GsmJ2qg"
      }
    },
    {
      "cell_type": "code",
      "source": [
        "#@markdown Down sample to make runtimes reasonable\n",
        "x_raw = x_raw.sample(frac=0.1, random_state=123)"
      ],
      "metadata": {
        "id": "efDlc2njeMy7"
      },
      "execution_count": 4,
      "outputs": []
    },
    {
      "cell_type": "code",
      "source": [
        "y_raw = x_raw['readmit_binary']\n",
        "x_raw = x_raw.drop(columns=['readmitted', 'readmit_binary'])\n",
        "feature_names = feature_names[:-2]"
      ],
      "metadata": {
        "id": "Nu8TjEmUKGgQ"
      },
      "execution_count": 5,
      "outputs": []
    },
    {
      "cell_type": "code",
      "source": [
        "#@markdown Look at the first few rows of the data.\n",
        "x_raw.head()"
      ],
      "metadata": {
        "id": "VdVRFS3K2f7W",
        "colab": {
          "base_uri": "https://localhost:8080/",
          "height": 473
        },
        "outputId": "691bdefb-efbf-4060-f461-677c3cd53109"
      },
      "execution_count": 6,
      "outputs": [
        {
          "output_type": "execute_result",
          "data": {
            "text/plain": [
              "            race  gender            age discharge_disposition_id  \\\n",
              "65884  Caucasian    Male  Over 60 years       Discharged to Home   \n",
              "86278  Caucasian  Female  Over 60 years                    Other   \n",
              "30000  Caucasian    Male    30-60 years       Discharged to Home   \n",
              "51185  Caucasian    Male    30-60 years                    Other   \n",
              "53902  Caucasian  Female    30-60 years       Discharged to Home   \n",
              "\n",
              "      admission_source_id  time_in_hospital medical_specialty  \\\n",
              "65884           Emergency                 3           Missing   \n",
              "86278            Referral                 5           Missing   \n",
              "30000               Other                 4             Other   \n",
              "51185               Other                 9  InternalMedicine   \n",
              "53902            Referral                 7             Other   \n",
              "\n",
              "       num_lab_procedures  num_procedures  num_medications  ... max_glu_serum  \\\n",
              "65884                  49               6               27  ...          None   \n",
              "86278                  57               0               21  ...          None   \n",
              "30000                  37               2                9  ...          None   \n",
              "51185                  61               6               27  ...          None   \n",
              "53902                  23               0               13  ...          None   \n",
              "\n",
              "       A1Cresult insulin change diabetesMed medicare medicaid had_emergency  \\\n",
              "65884       None      Up     Ch         Yes    False    False         False   \n",
              "86278       None      No     Ch         Yes     True    False         False   \n",
              "30000       None      No     No          No    False    False         False   \n",
              "51185         >8      No     Ch         Yes    False    False          True   \n",
              "53902       None      No     No         Yes     True    False          True   \n",
              "\n",
              "      had_inpatient_days had_outpatient_days  \n",
              "65884               True               False  \n",
              "86278               True               False  \n",
              "30000              False               False  \n",
              "51185              False                True  \n",
              "53902               True               False  \n",
              "\n",
              "[5 rows x 22 columns]"
            ],
            "text/html": [
              "\n",
              "  <div id=\"df-811bde23-d106-43c7-8533-c6048de8e040\">\n",
              "    <div class=\"colab-df-container\">\n",
              "      <div>\n",
              "<style scoped>\n",
              "    .dataframe tbody tr th:only-of-type {\n",
              "        vertical-align: middle;\n",
              "    }\n",
              "\n",
              "    .dataframe tbody tr th {\n",
              "        vertical-align: top;\n",
              "    }\n",
              "\n",
              "    .dataframe thead th {\n",
              "        text-align: right;\n",
              "    }\n",
              "</style>\n",
              "<table border=\"1\" class=\"dataframe\">\n",
              "  <thead>\n",
              "    <tr style=\"text-align: right;\">\n",
              "      <th></th>\n",
              "      <th>race</th>\n",
              "      <th>gender</th>\n",
              "      <th>age</th>\n",
              "      <th>discharge_disposition_id</th>\n",
              "      <th>admission_source_id</th>\n",
              "      <th>time_in_hospital</th>\n",
              "      <th>medical_specialty</th>\n",
              "      <th>num_lab_procedures</th>\n",
              "      <th>num_procedures</th>\n",
              "      <th>num_medications</th>\n",
              "      <th>...</th>\n",
              "      <th>max_glu_serum</th>\n",
              "      <th>A1Cresult</th>\n",
              "      <th>insulin</th>\n",
              "      <th>change</th>\n",
              "      <th>diabetesMed</th>\n",
              "      <th>medicare</th>\n",
              "      <th>medicaid</th>\n",
              "      <th>had_emergency</th>\n",
              "      <th>had_inpatient_days</th>\n",
              "      <th>had_outpatient_days</th>\n",
              "    </tr>\n",
              "  </thead>\n",
              "  <tbody>\n",
              "    <tr>\n",
              "      <th>65884</th>\n",
              "      <td>Caucasian</td>\n",
              "      <td>Male</td>\n",
              "      <td>Over 60 years</td>\n",
              "      <td>Discharged to Home</td>\n",
              "      <td>Emergency</td>\n",
              "      <td>3</td>\n",
              "      <td>Missing</td>\n",
              "      <td>49</td>\n",
              "      <td>6</td>\n",
              "      <td>27</td>\n",
              "      <td>...</td>\n",
              "      <td>None</td>\n",
              "      <td>None</td>\n",
              "      <td>Up</td>\n",
              "      <td>Ch</td>\n",
              "      <td>Yes</td>\n",
              "      <td>False</td>\n",
              "      <td>False</td>\n",
              "      <td>False</td>\n",
              "      <td>True</td>\n",
              "      <td>False</td>\n",
              "    </tr>\n",
              "    <tr>\n",
              "      <th>86278</th>\n",
              "      <td>Caucasian</td>\n",
              "      <td>Female</td>\n",
              "      <td>Over 60 years</td>\n",
              "      <td>Other</td>\n",
              "      <td>Referral</td>\n",
              "      <td>5</td>\n",
              "      <td>Missing</td>\n",
              "      <td>57</td>\n",
              "      <td>0</td>\n",
              "      <td>21</td>\n",
              "      <td>...</td>\n",
              "      <td>None</td>\n",
              "      <td>None</td>\n",
              "      <td>No</td>\n",
              "      <td>Ch</td>\n",
              "      <td>Yes</td>\n",
              "      <td>True</td>\n",
              "      <td>False</td>\n",
              "      <td>False</td>\n",
              "      <td>True</td>\n",
              "      <td>False</td>\n",
              "    </tr>\n",
              "    <tr>\n",
              "      <th>30000</th>\n",
              "      <td>Caucasian</td>\n",
              "      <td>Male</td>\n",
              "      <td>30-60 years</td>\n",
              "      <td>Discharged to Home</td>\n",
              "      <td>Other</td>\n",
              "      <td>4</td>\n",
              "      <td>Other</td>\n",
              "      <td>37</td>\n",
              "      <td>2</td>\n",
              "      <td>9</td>\n",
              "      <td>...</td>\n",
              "      <td>None</td>\n",
              "      <td>None</td>\n",
              "      <td>No</td>\n",
              "      <td>No</td>\n",
              "      <td>No</td>\n",
              "      <td>False</td>\n",
              "      <td>False</td>\n",
              "      <td>False</td>\n",
              "      <td>False</td>\n",
              "      <td>False</td>\n",
              "    </tr>\n",
              "    <tr>\n",
              "      <th>51185</th>\n",
              "      <td>Caucasian</td>\n",
              "      <td>Male</td>\n",
              "      <td>30-60 years</td>\n",
              "      <td>Other</td>\n",
              "      <td>Other</td>\n",
              "      <td>9</td>\n",
              "      <td>InternalMedicine</td>\n",
              "      <td>61</td>\n",
              "      <td>6</td>\n",
              "      <td>27</td>\n",
              "      <td>...</td>\n",
              "      <td>None</td>\n",
              "      <td>&gt;8</td>\n",
              "      <td>No</td>\n",
              "      <td>Ch</td>\n",
              "      <td>Yes</td>\n",
              "      <td>False</td>\n",
              "      <td>False</td>\n",
              "      <td>True</td>\n",
              "      <td>False</td>\n",
              "      <td>True</td>\n",
              "    </tr>\n",
              "    <tr>\n",
              "      <th>53902</th>\n",
              "      <td>Caucasian</td>\n",
              "      <td>Female</td>\n",
              "      <td>30-60 years</td>\n",
              "      <td>Discharged to Home</td>\n",
              "      <td>Referral</td>\n",
              "      <td>7</td>\n",
              "      <td>Other</td>\n",
              "      <td>23</td>\n",
              "      <td>0</td>\n",
              "      <td>13</td>\n",
              "      <td>...</td>\n",
              "      <td>None</td>\n",
              "      <td>None</td>\n",
              "      <td>No</td>\n",
              "      <td>No</td>\n",
              "      <td>Yes</td>\n",
              "      <td>True</td>\n",
              "      <td>False</td>\n",
              "      <td>True</td>\n",
              "      <td>True</td>\n",
              "      <td>False</td>\n",
              "    </tr>\n",
              "  </tbody>\n",
              "</table>\n",
              "<p>5 rows × 22 columns</p>\n",
              "</div>\n",
              "      <button class=\"colab-df-convert\" onclick=\"convertToInteractive('df-811bde23-d106-43c7-8533-c6048de8e040')\"\n",
              "              title=\"Convert this dataframe to an interactive table.\"\n",
              "              style=\"display:none;\">\n",
              "        \n",
              "  <svg xmlns=\"http://www.w3.org/2000/svg\" height=\"24px\"viewBox=\"0 0 24 24\"\n",
              "       width=\"24px\">\n",
              "    <path d=\"M0 0h24v24H0V0z\" fill=\"none\"/>\n",
              "    <path d=\"M18.56 5.44l.94 2.06.94-2.06 2.06-.94-2.06-.94-.94-2.06-.94 2.06-2.06.94zm-11 1L8.5 8.5l.94-2.06 2.06-.94-2.06-.94L8.5 2.5l-.94 2.06-2.06.94zm10 10l.94 2.06.94-2.06 2.06-.94-2.06-.94-.94-2.06-.94 2.06-2.06.94z\"/><path d=\"M17.41 7.96l-1.37-1.37c-.4-.4-.92-.59-1.43-.59-.52 0-1.04.2-1.43.59L10.3 9.45l-7.72 7.72c-.78.78-.78 2.05 0 2.83L4 21.41c.39.39.9.59 1.41.59.51 0 1.02-.2 1.41-.59l7.78-7.78 2.81-2.81c.8-.78.8-2.07 0-2.86zM5.41 20L4 18.59l7.72-7.72 1.47 1.35L5.41 20z\"/>\n",
              "  </svg>\n",
              "      </button>\n",
              "      \n",
              "  <style>\n",
              "    .colab-df-container {\n",
              "      display:flex;\n",
              "      flex-wrap:wrap;\n",
              "      gap: 12px;\n",
              "    }\n",
              "\n",
              "    .colab-df-convert {\n",
              "      background-color: #E8F0FE;\n",
              "      border: none;\n",
              "      border-radius: 50%;\n",
              "      cursor: pointer;\n",
              "      display: none;\n",
              "      fill: #1967D2;\n",
              "      height: 32px;\n",
              "      padding: 0 0 0 0;\n",
              "      width: 32px;\n",
              "    }\n",
              "\n",
              "    .colab-df-convert:hover {\n",
              "      background-color: #E2EBFA;\n",
              "      box-shadow: 0px 1px 2px rgba(60, 64, 67, 0.3), 0px 1px 3px 1px rgba(60, 64, 67, 0.15);\n",
              "      fill: #174EA6;\n",
              "    }\n",
              "\n",
              "    [theme=dark] .colab-df-convert {\n",
              "      background-color: #3B4455;\n",
              "      fill: #D2E3FC;\n",
              "    }\n",
              "\n",
              "    [theme=dark] .colab-df-convert:hover {\n",
              "      background-color: #434B5C;\n",
              "      box-shadow: 0px 1px 3px 1px rgba(0, 0, 0, 0.15);\n",
              "      filter: drop-shadow(0px 1px 2px rgba(0, 0, 0, 0.3));\n",
              "      fill: #FFFFFF;\n",
              "    }\n",
              "  </style>\n",
              "\n",
              "      <script>\n",
              "        const buttonEl =\n",
              "          document.querySelector('#df-811bde23-d106-43c7-8533-c6048de8e040 button.colab-df-convert');\n",
              "        buttonEl.style.display =\n",
              "          google.colab.kernel.accessAllowed ? 'block' : 'none';\n",
              "\n",
              "        async function convertToInteractive(key) {\n",
              "          const element = document.querySelector('#df-811bde23-d106-43c7-8533-c6048de8e040');\n",
              "          const dataTable =\n",
              "            await google.colab.kernel.invokeFunction('convertToInteractive',\n",
              "                                                     [key], {});\n",
              "          if (!dataTable) return;\n",
              "\n",
              "          const docLinkHtml = 'Like what you see? Visit the ' +\n",
              "            '<a target=\"_blank\" href=https://colab.research.google.com/notebooks/data_table.ipynb>data table notebook</a>'\n",
              "            + ' to learn more about interactive tables.';\n",
              "          element.innerHTML = '';\n",
              "          dataTable['output_type'] = 'display_data';\n",
              "          await google.colab.output.renderOutput(dataTable, element);\n",
              "          const docLink = document.createElement('div');\n",
              "          docLink.innerHTML = docLinkHtml;\n",
              "          element.appendChild(docLink);\n",
              "        }\n",
              "      </script>\n",
              "    </div>\n",
              "  </div>\n",
              "  "
            ]
          },
          "metadata": {},
          "execution_count": 6
        }
      ]
    },
    {
      "cell_type": "code",
      "source": [],
      "metadata": {
        "id": "-PutzKgoaThF"
      },
      "execution_count": 6,
      "outputs": []
    },
    {
      "cell_type": "markdown",
      "source": [
        "## data inspectation "
      ],
      "metadata": {
        "id": "ffNcAr5uaTyz"
      }
    },
    {
      "cell_type": "code",
      "source": [
        "#@markdown drop the rows with 'Unknown/Invalid' values for gender\n",
        "\n",
        "# drop these 3 rows\n",
        "print(x_raw.shape)\n",
        "rows_to_keep = x_raw.gender != 'Unknown/Invalid'\n",
        "x_raw = x_raw[rows_to_keep]\n",
        "y_raw = y_raw[rows_to_keep]\n",
        "print(x_raw.shape)"
      ],
      "metadata": {
        "colab": {
          "base_uri": "https://localhost:8080/"
        },
        "id": "LNoVPfQMPTG2",
        "outputId": "0b852b48-211d-4cbf-f921-70788e8cd1ba"
      },
      "execution_count": 7,
      "outputs": [
        {
          "output_type": "stream",
          "name": "stdout",
          "text": [
            "(10177, 22)\n",
            "(10177, 22)\n"
          ]
        }
      ]
    },
    {
      "cell_type": "code",
      "source": [
        "#@markdown\n",
        "unique_feature_values = x_raw.apply(np.unique, axis=0)\n",
        "unique_feature_values"
      ],
      "metadata": {
        "colab": {
          "base_uri": "https://localhost:8080/"
        },
        "id": "_fF5fYMHO33T",
        "outputId": "21ea1dde-3d05-4086-a81c-481c11725a25"
      },
      "execution_count": 8,
      "outputs": [
        {
          "output_type": "execute_result",
          "data": {
            "text/plain": [
              "race                        [AfricanAmerican, Asian, Caucasian, Hispanic, ...\n",
              "gender                                                         [Female, Male]\n",
              "age                         [30 years or younger, 30-60 years, Over 60 years]\n",
              "discharge_disposition_id                          [Discharged to Home, Other]\n",
              "admission_source_id                              [Emergency, Other, Referral]\n",
              "time_in_hospital              [1, 2, 3, 4, 5, 6, 7, 8, 9, 10, 11, 12, 13, 14]\n",
              "medical_specialty           [Cardiology, Emergency/Trauma, Family/GeneralP...\n",
              "num_lab_procedures          [1, 2, 3, 4, 5, 6, 7, 8, 9, 10, 11, 12, 13, 14...\n",
              "num_procedures                                          [0, 1, 2, 3, 4, 5, 6]\n",
              "num_medications             [1, 2, 3, 4, 5, 6, 7, 8, 9, 10, 11, 12, 13, 14...\n",
              "primary_diagnosis           [Diabetes, Genitourinary Issues, Musculoskelet...\n",
              "number_diagnoses                  [1, 2, 3, 4, 5, 6, 7, 8, 9, 11, 13, 15, 16]\n",
              "max_glu_serum                                        [>200, >300, None, Norm]\n",
              "A1Cresult                                                [>7, >8, None, Norm]\n",
              "insulin                                                [Down, No, Steady, Up]\n",
              "change                                                               [Ch, No]\n",
              "diabetesMed                                                         [No, Yes]\n",
              "medicare                                                        [False, True]\n",
              "medicaid                                                        [False, True]\n",
              "had_emergency                                                   [False, True]\n",
              "had_inpatient_days                                              [False, True]\n",
              "had_outpatient_days                                             [False, True]\n",
              "dtype: object"
            ]
          },
          "metadata": {},
          "execution_count": 8
        }
      ]
    },
    {
      "cell_type": "code",
      "source": [
        "#@markdown\n",
        "binary_features = unique_feature_values.index[[len(x) == 2 for x in unique_feature_values]].values\n",
        "print(f'Binary features: {binary_features}')\n",
        "categorical_features = unique_feature_values.index[[len(x) > 2 and isinstance(x[0], str) for x in unique_feature_values]].values\n",
        "print(f'Categorical features: {categorical_features}')"
      ],
      "metadata": {
        "colab": {
          "base_uri": "https://localhost:8080/"
        },
        "id": "FMrfl2a0RL2i",
        "outputId": "d5233caf-3e5a-4c08-f76f-44f1c08a8eb6"
      },
      "execution_count": 9,
      "outputs": [
        {
          "output_type": "stream",
          "name": "stdout",
          "text": [
            "Binary features: ['gender' 'discharge_disposition_id' 'change' 'diabetesMed' 'medicare'\n",
            " 'medicaid' 'had_emergency' 'had_inpatient_days' 'had_outpatient_days']\n",
            "Categorical features: ['race' 'age' 'admission_source_id' 'medical_specialty'\n",
            " 'primary_diagnosis' 'max_glu_serum' 'A1Cresult' 'insulin']\n"
          ]
        }
      ]
    },
    {
      "cell_type": "code",
      "source": [
        "#@markdown standardize data types \n",
        "for col_name in feature_names:\n",
        "    if col_name in categorical_features:\n",
        "        x_raw[col_name] = x_raw[col_name].astype('category')\n",
        "    elif col_name in binary_features:  # redundant for clarity\n",
        "        # turn into int column\n",
        "        integer_col = (x_raw[col_name] == unique_feature_values[col_name][0]).astype(int)\n",
        "        new_name = f'{col_name}_{unique_feature_values[col_name][0]}'\n",
        "        x_raw[new_name] = integer_col\n",
        "        x_raw.drop(columns=[col_name], inplace=True) "
      ],
      "metadata": {
        "id": "pxllwrtKRy4b"
      },
      "execution_count": 10,
      "outputs": []
    },
    {
      "cell_type": "code",
      "source": [
        "#@markdown\n",
        "%%capture\n",
        "x_raw.apply(np.unique, axis=0)"
      ],
      "metadata": {
        "id": "7hXQfOL7StD2"
      },
      "execution_count": 11,
      "outputs": []
    },
    {
      "cell_type": "code",
      "source": [
        "x_raw.dtypes"
      ],
      "metadata": {
        "colab": {
          "base_uri": "https://localhost:8080/"
        },
        "id": "YrY2593wUQu0",
        "outputId": "04142257-7980-43bf-d7af-9db6c0e3f947"
      },
      "execution_count": 12,
      "outputs": [
        {
          "output_type": "execute_result",
          "data": {
            "text/plain": [
              "race                                           category\n",
              "age                                            category\n",
              "admission_source_id                            category\n",
              "time_in_hospital                                  int64\n",
              "medical_specialty                              category\n",
              "num_lab_procedures                                int64\n",
              "num_procedures                                    int64\n",
              "num_medications                                   int64\n",
              "primary_diagnosis                              category\n",
              "number_diagnoses                                  int64\n",
              "max_glu_serum                                  category\n",
              "A1Cresult                                      category\n",
              "insulin                                        category\n",
              "gender_Female                                     int64\n",
              "discharge_disposition_id_Discharged to Home       int64\n",
              "change_Ch                                         int64\n",
              "diabetesMed_No                                    int64\n",
              "medicare_False                                    int64\n",
              "medicaid_False                                    int64\n",
              "had_emergency_False                               int64\n",
              "had_inpatient_days_False                          int64\n",
              "had_outpatient_days_False                         int64\n",
              "dtype: object"
            ]
          },
          "metadata": {},
          "execution_count": 12
        }
      ]
    },
    {
      "cell_type": "code",
      "source": [
        "#@markdown One-hot encode categorical features\n",
        "x_numeric = pd.get_dummies(x_raw)\n",
        "display(x_numeric.head())\n",
        "\n",
        "# get one-hot and numeric column names\n",
        "numeric_cols = x_numeric.dtypes.index[x_numeric.dtypes == 'int64'].values\n",
        "one_hot_cols = x_numeric.dtypes.index[x_numeric.dtypes != 'int64'].values\n",
        "\n",
        "#x_numeric.dtypes"
      ],
      "metadata": {
        "colab": {
          "base_uri": "https://localhost:8080/",
          "height": 317
        },
        "id": "eIaANYyPEBvl",
        "outputId": "3b7ed4f0-d1ca-4aee-c9f7-d46f3fa4e36a"
      },
      "execution_count": 13,
      "outputs": [
        {
          "output_type": "display_data",
          "data": {
            "text/plain": [
              "       time_in_hospital  num_lab_procedures  num_procedures  num_medications  \\\n",
              "65884                 3                  49               6               27   \n",
              "86278                 5                  57               0               21   \n",
              "30000                 4                  37               2                9   \n",
              "51185                 9                  61               6               27   \n",
              "53902                 7                  23               0               13   \n",
              "\n",
              "       number_diagnoses  gender_Female  \\\n",
              "65884                 9              0   \n",
              "86278                 9              1   \n",
              "30000                 5              0   \n",
              "51185                 9              0   \n",
              "53902                 7              1   \n",
              "\n",
              "       discharge_disposition_id_Discharged to Home  change_Ch  diabetesMed_No  \\\n",
              "65884                                            1          1               0   \n",
              "86278                                            0          1               0   \n",
              "30000                                            1          0               1   \n",
              "51185                                            0          1               0   \n",
              "53902                                            1          0               0   \n",
              "\n",
              "       medicare_False  ...  max_glu_serum_None  max_glu_serum_Norm  \\\n",
              "65884               1  ...                   1                   0   \n",
              "86278               0  ...                   1                   0   \n",
              "30000               1  ...                   1                   0   \n",
              "51185               1  ...                   1                   0   \n",
              "53902               0  ...                   1                   0   \n",
              "\n",
              "       A1Cresult_>7  A1Cresult_>8  A1Cresult_None  A1Cresult_Norm  \\\n",
              "65884             0             0               1               0   \n",
              "86278             0             0               1               0   \n",
              "30000             0             0               1               0   \n",
              "51185             0             1               0               0   \n",
              "53902             0             0               1               0   \n",
              "\n",
              "       insulin_Down  insulin_No  insulin_Steady  insulin_Up  \n",
              "65884             0           0               0           1  \n",
              "86278             0           1               0           0  \n",
              "30000             0           1               0           0  \n",
              "51185             0           1               0           0  \n",
              "53902             0           1               0           0  \n",
              "\n",
              "[5 rows x 49 columns]"
            ],
            "text/html": [
              "\n",
              "  <div id=\"df-ec287911-d21f-4845-902e-ad4b4a0ee9e7\">\n",
              "    <div class=\"colab-df-container\">\n",
              "      <div>\n",
              "<style scoped>\n",
              "    .dataframe tbody tr th:only-of-type {\n",
              "        vertical-align: middle;\n",
              "    }\n",
              "\n",
              "    .dataframe tbody tr th {\n",
              "        vertical-align: top;\n",
              "    }\n",
              "\n",
              "    .dataframe thead th {\n",
              "        text-align: right;\n",
              "    }\n",
              "</style>\n",
              "<table border=\"1\" class=\"dataframe\">\n",
              "  <thead>\n",
              "    <tr style=\"text-align: right;\">\n",
              "      <th></th>\n",
              "      <th>time_in_hospital</th>\n",
              "      <th>num_lab_procedures</th>\n",
              "      <th>num_procedures</th>\n",
              "      <th>num_medications</th>\n",
              "      <th>number_diagnoses</th>\n",
              "      <th>gender_Female</th>\n",
              "      <th>discharge_disposition_id_Discharged to Home</th>\n",
              "      <th>change_Ch</th>\n",
              "      <th>diabetesMed_No</th>\n",
              "      <th>medicare_False</th>\n",
              "      <th>...</th>\n",
              "      <th>max_glu_serum_None</th>\n",
              "      <th>max_glu_serum_Norm</th>\n",
              "      <th>A1Cresult_&gt;7</th>\n",
              "      <th>A1Cresult_&gt;8</th>\n",
              "      <th>A1Cresult_None</th>\n",
              "      <th>A1Cresult_Norm</th>\n",
              "      <th>insulin_Down</th>\n",
              "      <th>insulin_No</th>\n",
              "      <th>insulin_Steady</th>\n",
              "      <th>insulin_Up</th>\n",
              "    </tr>\n",
              "  </thead>\n",
              "  <tbody>\n",
              "    <tr>\n",
              "      <th>65884</th>\n",
              "      <td>3</td>\n",
              "      <td>49</td>\n",
              "      <td>6</td>\n",
              "      <td>27</td>\n",
              "      <td>9</td>\n",
              "      <td>0</td>\n",
              "      <td>1</td>\n",
              "      <td>1</td>\n",
              "      <td>0</td>\n",
              "      <td>1</td>\n",
              "      <td>...</td>\n",
              "      <td>1</td>\n",
              "      <td>0</td>\n",
              "      <td>0</td>\n",
              "      <td>0</td>\n",
              "      <td>1</td>\n",
              "      <td>0</td>\n",
              "      <td>0</td>\n",
              "      <td>0</td>\n",
              "      <td>0</td>\n",
              "      <td>1</td>\n",
              "    </tr>\n",
              "    <tr>\n",
              "      <th>86278</th>\n",
              "      <td>5</td>\n",
              "      <td>57</td>\n",
              "      <td>0</td>\n",
              "      <td>21</td>\n",
              "      <td>9</td>\n",
              "      <td>1</td>\n",
              "      <td>0</td>\n",
              "      <td>1</td>\n",
              "      <td>0</td>\n",
              "      <td>0</td>\n",
              "      <td>...</td>\n",
              "      <td>1</td>\n",
              "      <td>0</td>\n",
              "      <td>0</td>\n",
              "      <td>0</td>\n",
              "      <td>1</td>\n",
              "      <td>0</td>\n",
              "      <td>0</td>\n",
              "      <td>1</td>\n",
              "      <td>0</td>\n",
              "      <td>0</td>\n",
              "    </tr>\n",
              "    <tr>\n",
              "      <th>30000</th>\n",
              "      <td>4</td>\n",
              "      <td>37</td>\n",
              "      <td>2</td>\n",
              "      <td>9</td>\n",
              "      <td>5</td>\n",
              "      <td>0</td>\n",
              "      <td>1</td>\n",
              "      <td>0</td>\n",
              "      <td>1</td>\n",
              "      <td>1</td>\n",
              "      <td>...</td>\n",
              "      <td>1</td>\n",
              "      <td>0</td>\n",
              "      <td>0</td>\n",
              "      <td>0</td>\n",
              "      <td>1</td>\n",
              "      <td>0</td>\n",
              "      <td>0</td>\n",
              "      <td>1</td>\n",
              "      <td>0</td>\n",
              "      <td>0</td>\n",
              "    </tr>\n",
              "    <tr>\n",
              "      <th>51185</th>\n",
              "      <td>9</td>\n",
              "      <td>61</td>\n",
              "      <td>6</td>\n",
              "      <td>27</td>\n",
              "      <td>9</td>\n",
              "      <td>0</td>\n",
              "      <td>0</td>\n",
              "      <td>1</td>\n",
              "      <td>0</td>\n",
              "      <td>1</td>\n",
              "      <td>...</td>\n",
              "      <td>1</td>\n",
              "      <td>0</td>\n",
              "      <td>0</td>\n",
              "      <td>1</td>\n",
              "      <td>0</td>\n",
              "      <td>0</td>\n",
              "      <td>0</td>\n",
              "      <td>1</td>\n",
              "      <td>0</td>\n",
              "      <td>0</td>\n",
              "    </tr>\n",
              "    <tr>\n",
              "      <th>53902</th>\n",
              "      <td>7</td>\n",
              "      <td>23</td>\n",
              "      <td>0</td>\n",
              "      <td>13</td>\n",
              "      <td>7</td>\n",
              "      <td>1</td>\n",
              "      <td>1</td>\n",
              "      <td>0</td>\n",
              "      <td>0</td>\n",
              "      <td>0</td>\n",
              "      <td>...</td>\n",
              "      <td>1</td>\n",
              "      <td>0</td>\n",
              "      <td>0</td>\n",
              "      <td>0</td>\n",
              "      <td>1</td>\n",
              "      <td>0</td>\n",
              "      <td>0</td>\n",
              "      <td>1</td>\n",
              "      <td>0</td>\n",
              "      <td>0</td>\n",
              "    </tr>\n",
              "  </tbody>\n",
              "</table>\n",
              "<p>5 rows × 49 columns</p>\n",
              "</div>\n",
              "      <button class=\"colab-df-convert\" onclick=\"convertToInteractive('df-ec287911-d21f-4845-902e-ad4b4a0ee9e7')\"\n",
              "              title=\"Convert this dataframe to an interactive table.\"\n",
              "              style=\"display:none;\">\n",
              "        \n",
              "  <svg xmlns=\"http://www.w3.org/2000/svg\" height=\"24px\"viewBox=\"0 0 24 24\"\n",
              "       width=\"24px\">\n",
              "    <path d=\"M0 0h24v24H0V0z\" fill=\"none\"/>\n",
              "    <path d=\"M18.56 5.44l.94 2.06.94-2.06 2.06-.94-2.06-.94-.94-2.06-.94 2.06-2.06.94zm-11 1L8.5 8.5l.94-2.06 2.06-.94-2.06-.94L8.5 2.5l-.94 2.06-2.06.94zm10 10l.94 2.06.94-2.06 2.06-.94-2.06-.94-.94-2.06-.94 2.06-2.06.94z\"/><path d=\"M17.41 7.96l-1.37-1.37c-.4-.4-.92-.59-1.43-.59-.52 0-1.04.2-1.43.59L10.3 9.45l-7.72 7.72c-.78.78-.78 2.05 0 2.83L4 21.41c.39.39.9.59 1.41.59.51 0 1.02-.2 1.41-.59l7.78-7.78 2.81-2.81c.8-.78.8-2.07 0-2.86zM5.41 20L4 18.59l7.72-7.72 1.47 1.35L5.41 20z\"/>\n",
              "  </svg>\n",
              "      </button>\n",
              "      \n",
              "  <style>\n",
              "    .colab-df-container {\n",
              "      display:flex;\n",
              "      flex-wrap:wrap;\n",
              "      gap: 12px;\n",
              "    }\n",
              "\n",
              "    .colab-df-convert {\n",
              "      background-color: #E8F0FE;\n",
              "      border: none;\n",
              "      border-radius: 50%;\n",
              "      cursor: pointer;\n",
              "      display: none;\n",
              "      fill: #1967D2;\n",
              "      height: 32px;\n",
              "      padding: 0 0 0 0;\n",
              "      width: 32px;\n",
              "    }\n",
              "\n",
              "    .colab-df-convert:hover {\n",
              "      background-color: #E2EBFA;\n",
              "      box-shadow: 0px 1px 2px rgba(60, 64, 67, 0.3), 0px 1px 3px 1px rgba(60, 64, 67, 0.15);\n",
              "      fill: #174EA6;\n",
              "    }\n",
              "\n",
              "    [theme=dark] .colab-df-convert {\n",
              "      background-color: #3B4455;\n",
              "      fill: #D2E3FC;\n",
              "    }\n",
              "\n",
              "    [theme=dark] .colab-df-convert:hover {\n",
              "      background-color: #434B5C;\n",
              "      box-shadow: 0px 1px 3px 1px rgba(0, 0, 0, 0.15);\n",
              "      filter: drop-shadow(0px 1px 2px rgba(0, 0, 0, 0.3));\n",
              "      fill: #FFFFFF;\n",
              "    }\n",
              "  </style>\n",
              "\n",
              "      <script>\n",
              "        const buttonEl =\n",
              "          document.querySelector('#df-ec287911-d21f-4845-902e-ad4b4a0ee9e7 button.colab-df-convert');\n",
              "        buttonEl.style.display =\n",
              "          google.colab.kernel.accessAllowed ? 'block' : 'none';\n",
              "\n",
              "        async function convertToInteractive(key) {\n",
              "          const element = document.querySelector('#df-ec287911-d21f-4845-902e-ad4b4a0ee9e7');\n",
              "          const dataTable =\n",
              "            await google.colab.kernel.invokeFunction('convertToInteractive',\n",
              "                                                     [key], {});\n",
              "          if (!dataTable) return;\n",
              "\n",
              "          const docLinkHtml = 'Like what you see? Visit the ' +\n",
              "            '<a target=\"_blank\" href=https://colab.research.google.com/notebooks/data_table.ipynb>data table notebook</a>'\n",
              "            + ' to learn more about interactive tables.';\n",
              "          element.innerHTML = '';\n",
              "          dataTable['output_type'] = 'display_data';\n",
              "          await google.colab.output.renderOutput(dataTable, element);\n",
              "          const docLink = document.createElement('div');\n",
              "          docLink.innerHTML = docLinkHtml;\n",
              "          element.appendChild(docLink);\n",
              "        }\n",
              "      </script>\n",
              "    </div>\n",
              "  </div>\n",
              "  "
            ]
          },
          "metadata": {}
        }
      ]
    },
    {
      "cell_type": "markdown",
      "source": [
        " # TODO: Split train, test data 80 train / 20 test \n"
      ],
      "metadata": {
        "id": "pLg6BiVp652g"
      }
    },
    {
      "cell_type": "code",
      "source": [
        "# write your code here \n",
        "#here we are setting a value for the random_state (seed) parameter so that the results of this lab will remain consistent\n",
        "\n",
        "X_train, X_test, y_train, y_test = train_test_split(x_numeric, y_raw, test_size=0.2, random_state=4)\n",
        "\n",
        "print(f'X_train shape: {X_train.shape}')\n",
        "print(f'y_train shape: {y_train.shape}')\n",
        "print(f'X_test shape: {X_test.shape}')\n",
        "print(f'y_test shape: {y_test.shape}')\n",
        "\n",
        "X_train.head(5)"
      ],
      "metadata": {
        "id": "OTP3ues-L0bm",
        "colab": {
          "base_uri": "https://localhost:8080/",
          "height": 388
        },
        "outputId": "302a68c6-5b6d-4224-cdb6-64f3f9c49f49"
      },
      "execution_count": 14,
      "outputs": [
        {
          "output_type": "stream",
          "name": "stdout",
          "text": [
            "X_train shape: (8141, 49)\n",
            "y_train shape: (8141,)\n",
            "X_test shape: (2036, 49)\n",
            "y_test shape: (2036,)\n"
          ]
        },
        {
          "output_type": "execute_result",
          "data": {
            "text/plain": [
              "       time_in_hospital  num_lab_procedures  num_procedures  num_medications  \\\n",
              "55665                 1                  36               6               12   \n",
              "10284                 4                  62               6               14   \n",
              "47592                 4                  43               1               11   \n",
              "21033                 8                  80               6               33   \n",
              "64840                14                  75               6               29   \n",
              "\n",
              "       number_diagnoses  gender_Female  \\\n",
              "55665                 9              1   \n",
              "10284                 6              1   \n",
              "47592                 9              1   \n",
              "21033                 9              0   \n",
              "64840                 9              0   \n",
              "\n",
              "       discharge_disposition_id_Discharged to Home  change_Ch  diabetesMed_No  \\\n",
              "55665                                            1          1               0   \n",
              "10284                                            0          0               1   \n",
              "47592                                            0          0               1   \n",
              "21033                                            1          1               0   \n",
              "64840                                            0          1               0   \n",
              "\n",
              "       medicare_False  ...  max_glu_serum_None  max_glu_serum_Norm  \\\n",
              "55665               1  ...                   1                   0   \n",
              "10284               1  ...                   1                   0   \n",
              "47592               0  ...                   1                   0   \n",
              "21033               1  ...                   1                   0   \n",
              "64840               0  ...                   1                   0   \n",
              "\n",
              "       A1Cresult_>7  A1Cresult_>8  A1Cresult_None  A1Cresult_Norm  \\\n",
              "55665             0             0               1               0   \n",
              "10284             0             0               1               0   \n",
              "47592             0             0               1               0   \n",
              "21033             0             1               0               0   \n",
              "64840             0             0               1               0   \n",
              "\n",
              "       insulin_Down  insulin_No  insulin_Steady  insulin_Up  \n",
              "55665             0           0               0           1  \n",
              "10284             0           1               0           0  \n",
              "47592             0           1               0           0  \n",
              "21033             1           0               0           0  \n",
              "64840             0           0               0           1  \n",
              "\n",
              "[5 rows x 49 columns]"
            ],
            "text/html": [
              "\n",
              "  <div id=\"df-c9b0657c-d919-4a65-ac9c-272e62f72aa4\">\n",
              "    <div class=\"colab-df-container\">\n",
              "      <div>\n",
              "<style scoped>\n",
              "    .dataframe tbody tr th:only-of-type {\n",
              "        vertical-align: middle;\n",
              "    }\n",
              "\n",
              "    .dataframe tbody tr th {\n",
              "        vertical-align: top;\n",
              "    }\n",
              "\n",
              "    .dataframe thead th {\n",
              "        text-align: right;\n",
              "    }\n",
              "</style>\n",
              "<table border=\"1\" class=\"dataframe\">\n",
              "  <thead>\n",
              "    <tr style=\"text-align: right;\">\n",
              "      <th></th>\n",
              "      <th>time_in_hospital</th>\n",
              "      <th>num_lab_procedures</th>\n",
              "      <th>num_procedures</th>\n",
              "      <th>num_medications</th>\n",
              "      <th>number_diagnoses</th>\n",
              "      <th>gender_Female</th>\n",
              "      <th>discharge_disposition_id_Discharged to Home</th>\n",
              "      <th>change_Ch</th>\n",
              "      <th>diabetesMed_No</th>\n",
              "      <th>medicare_False</th>\n",
              "      <th>...</th>\n",
              "      <th>max_glu_serum_None</th>\n",
              "      <th>max_glu_serum_Norm</th>\n",
              "      <th>A1Cresult_&gt;7</th>\n",
              "      <th>A1Cresult_&gt;8</th>\n",
              "      <th>A1Cresult_None</th>\n",
              "      <th>A1Cresult_Norm</th>\n",
              "      <th>insulin_Down</th>\n",
              "      <th>insulin_No</th>\n",
              "      <th>insulin_Steady</th>\n",
              "      <th>insulin_Up</th>\n",
              "    </tr>\n",
              "  </thead>\n",
              "  <tbody>\n",
              "    <tr>\n",
              "      <th>55665</th>\n",
              "      <td>1</td>\n",
              "      <td>36</td>\n",
              "      <td>6</td>\n",
              "      <td>12</td>\n",
              "      <td>9</td>\n",
              "      <td>1</td>\n",
              "      <td>1</td>\n",
              "      <td>1</td>\n",
              "      <td>0</td>\n",
              "      <td>1</td>\n",
              "      <td>...</td>\n",
              "      <td>1</td>\n",
              "      <td>0</td>\n",
              "      <td>0</td>\n",
              "      <td>0</td>\n",
              "      <td>1</td>\n",
              "      <td>0</td>\n",
              "      <td>0</td>\n",
              "      <td>0</td>\n",
              "      <td>0</td>\n",
              "      <td>1</td>\n",
              "    </tr>\n",
              "    <tr>\n",
              "      <th>10284</th>\n",
              "      <td>4</td>\n",
              "      <td>62</td>\n",
              "      <td>6</td>\n",
              "      <td>14</td>\n",
              "      <td>6</td>\n",
              "      <td>1</td>\n",
              "      <td>0</td>\n",
              "      <td>0</td>\n",
              "      <td>1</td>\n",
              "      <td>1</td>\n",
              "      <td>...</td>\n",
              "      <td>1</td>\n",
              "      <td>0</td>\n",
              "      <td>0</td>\n",
              "      <td>0</td>\n",
              "      <td>1</td>\n",
              "      <td>0</td>\n",
              "      <td>0</td>\n",
              "      <td>1</td>\n",
              "      <td>0</td>\n",
              "      <td>0</td>\n",
              "    </tr>\n",
              "    <tr>\n",
              "      <th>47592</th>\n",
              "      <td>4</td>\n",
              "      <td>43</td>\n",
              "      <td>1</td>\n",
              "      <td>11</td>\n",
              "      <td>9</td>\n",
              "      <td>1</td>\n",
              "      <td>0</td>\n",
              "      <td>0</td>\n",
              "      <td>1</td>\n",
              "      <td>0</td>\n",
              "      <td>...</td>\n",
              "      <td>1</td>\n",
              "      <td>0</td>\n",
              "      <td>0</td>\n",
              "      <td>0</td>\n",
              "      <td>1</td>\n",
              "      <td>0</td>\n",
              "      <td>0</td>\n",
              "      <td>1</td>\n",
              "      <td>0</td>\n",
              "      <td>0</td>\n",
              "    </tr>\n",
              "    <tr>\n",
              "      <th>21033</th>\n",
              "      <td>8</td>\n",
              "      <td>80</td>\n",
              "      <td>6</td>\n",
              "      <td>33</td>\n",
              "      <td>9</td>\n",
              "      <td>0</td>\n",
              "      <td>1</td>\n",
              "      <td>1</td>\n",
              "      <td>0</td>\n",
              "      <td>1</td>\n",
              "      <td>...</td>\n",
              "      <td>1</td>\n",
              "      <td>0</td>\n",
              "      <td>0</td>\n",
              "      <td>1</td>\n",
              "      <td>0</td>\n",
              "      <td>0</td>\n",
              "      <td>1</td>\n",
              "      <td>0</td>\n",
              "      <td>0</td>\n",
              "      <td>0</td>\n",
              "    </tr>\n",
              "    <tr>\n",
              "      <th>64840</th>\n",
              "      <td>14</td>\n",
              "      <td>75</td>\n",
              "      <td>6</td>\n",
              "      <td>29</td>\n",
              "      <td>9</td>\n",
              "      <td>0</td>\n",
              "      <td>0</td>\n",
              "      <td>1</td>\n",
              "      <td>0</td>\n",
              "      <td>0</td>\n",
              "      <td>...</td>\n",
              "      <td>1</td>\n",
              "      <td>0</td>\n",
              "      <td>0</td>\n",
              "      <td>0</td>\n",
              "      <td>1</td>\n",
              "      <td>0</td>\n",
              "      <td>0</td>\n",
              "      <td>0</td>\n",
              "      <td>0</td>\n",
              "      <td>1</td>\n",
              "    </tr>\n",
              "  </tbody>\n",
              "</table>\n",
              "<p>5 rows × 49 columns</p>\n",
              "</div>\n",
              "      <button class=\"colab-df-convert\" onclick=\"convertToInteractive('df-c9b0657c-d919-4a65-ac9c-272e62f72aa4')\"\n",
              "              title=\"Convert this dataframe to an interactive table.\"\n",
              "              style=\"display:none;\">\n",
              "        \n",
              "  <svg xmlns=\"http://www.w3.org/2000/svg\" height=\"24px\"viewBox=\"0 0 24 24\"\n",
              "       width=\"24px\">\n",
              "    <path d=\"M0 0h24v24H0V0z\" fill=\"none\"/>\n",
              "    <path d=\"M18.56 5.44l.94 2.06.94-2.06 2.06-.94-2.06-.94-.94-2.06-.94 2.06-2.06.94zm-11 1L8.5 8.5l.94-2.06 2.06-.94-2.06-.94L8.5 2.5l-.94 2.06-2.06.94zm10 10l.94 2.06.94-2.06 2.06-.94-2.06-.94-.94-2.06-.94 2.06-2.06.94z\"/><path d=\"M17.41 7.96l-1.37-1.37c-.4-.4-.92-.59-1.43-.59-.52 0-1.04.2-1.43.59L10.3 9.45l-7.72 7.72c-.78.78-.78 2.05 0 2.83L4 21.41c.39.39.9.59 1.41.59.51 0 1.02-.2 1.41-.59l7.78-7.78 2.81-2.81c.8-.78.8-2.07 0-2.86zM5.41 20L4 18.59l7.72-7.72 1.47 1.35L5.41 20z\"/>\n",
              "  </svg>\n",
              "      </button>\n",
              "      \n",
              "  <style>\n",
              "    .colab-df-container {\n",
              "      display:flex;\n",
              "      flex-wrap:wrap;\n",
              "      gap: 12px;\n",
              "    }\n",
              "\n",
              "    .colab-df-convert {\n",
              "      background-color: #E8F0FE;\n",
              "      border: none;\n",
              "      border-radius: 50%;\n",
              "      cursor: pointer;\n",
              "      display: none;\n",
              "      fill: #1967D2;\n",
              "      height: 32px;\n",
              "      padding: 0 0 0 0;\n",
              "      width: 32px;\n",
              "    }\n",
              "\n",
              "    .colab-df-convert:hover {\n",
              "      background-color: #E2EBFA;\n",
              "      box-shadow: 0px 1px 2px rgba(60, 64, 67, 0.3), 0px 1px 3px 1px rgba(60, 64, 67, 0.15);\n",
              "      fill: #174EA6;\n",
              "    }\n",
              "\n",
              "    [theme=dark] .colab-df-convert {\n",
              "      background-color: #3B4455;\n",
              "      fill: #D2E3FC;\n",
              "    }\n",
              "\n",
              "    [theme=dark] .colab-df-convert:hover {\n",
              "      background-color: #434B5C;\n",
              "      box-shadow: 0px 1px 3px 1px rgba(0, 0, 0, 0.15);\n",
              "      filter: drop-shadow(0px 1px 2px rgba(0, 0, 0, 0.3));\n",
              "      fill: #FFFFFF;\n",
              "    }\n",
              "  </style>\n",
              "\n",
              "      <script>\n",
              "        const buttonEl =\n",
              "          document.querySelector('#df-c9b0657c-d919-4a65-ac9c-272e62f72aa4 button.colab-df-convert');\n",
              "        buttonEl.style.display =\n",
              "          google.colab.kernel.accessAllowed ? 'block' : 'none';\n",
              "\n",
              "        async function convertToInteractive(key) {\n",
              "          const element = document.querySelector('#df-c9b0657c-d919-4a65-ac9c-272e62f72aa4');\n",
              "          const dataTable =\n",
              "            await google.colab.kernel.invokeFunction('convertToInteractive',\n",
              "                                                     [key], {});\n",
              "          if (!dataTable) return;\n",
              "\n",
              "          const docLinkHtml = 'Like what you see? Visit the ' +\n",
              "            '<a target=\"_blank\" href=https://colab.research.google.com/notebooks/data_table.ipynb>data table notebook</a>'\n",
              "            + ' to learn more about interactive tables.';\n",
              "          element.innerHTML = '';\n",
              "          dataTable['output_type'] = 'display_data';\n",
              "          await google.colab.output.renderOutput(dataTable, element);\n",
              "          const docLink = document.createElement('div');\n",
              "          docLink.innerHTML = docLinkHtml;\n",
              "          element.appendChild(docLink);\n",
              "        }\n",
              "      </script>\n",
              "    </div>\n",
              "  </div>\n",
              "  "
            ]
          },
          "metadata": {},
          "execution_count": 14
        }
      ]
    },
    {
      "cell_type": "markdown",
      "metadata": {
        "id": "FaQZc9mkDBQc"
      },
      "source": [
        "# Problem 2, Part (a) \n",
        "### **Train a baseline Random Forest (RF) (sklearn RandomForestClassifier) model and report metrics**"
      ]
    },
    {
      "cell_type": "markdown",
      "metadata": {
        "id": "J_9U8nMU3pg0"
      },
      "source": [
        "### Train a random forest model - Baseline"
      ]
    },
    {
      "cell_type": "code",
      "source": [
        "# write your code here \n",
        "# initialize a model with RandomForestClassifier \n",
        "n_estimators = 1\n",
        "\n",
        "rf_model = RandomForestClassifier(n_estimators=1, random_state=4)\n",
        "# train the model with the training data split\n",
        "rf_model.fit(X_train, y_train)\n",
        "\n",
        "# a simple Evaluate model on test set\n",
        "accuracy = rf_model.score(X_test, y_test)\n",
        "print(f\"Accuracy: {accuracy}\")"
      ],
      "metadata": {
        "id": "mftji5ws6z-O",
        "colab": {
          "base_uri": "https://localhost:8080/"
        },
        "outputId": "89af1b02-63d8-4d9a-d716-18df5a1415b4"
      },
      "execution_count": 15,
      "outputs": [
        {
          "output_type": "stream",
          "name": "stdout",
          "text": [
            "Accuracy: 0.5162082514734774\n"
          ]
        }
      ]
    },
    {
      "cell_type": "markdown",
      "source": [
        "### Report metrics"
      ],
      "metadata": {
        "id": "HnLhqs6z1ASV"
      }
    },
    {
      "cell_type": "markdown",
      "source": [
        "Calculate metrics with Fairlearn MetricFrame\n"
      ],
      "metadata": {
        "id": "8jtZt43BOv0C"
      }
    },
    {
      "cell_type": "code",
      "source": [
        "# write your code here \n",
        "# demographic_parity_difference, demographic_parity_ratio, \n",
        "#                                selection_rate_difference, false_negative_rate_difference, \n",
        "#                                false_positive_rate_difference, equalized_odds_ratio,\n",
        "#                                false_negative_rate, false_positive_rate)\n",
        "# get model's prediction for the test set\n",
        "y_pred_baseline = rf_model.predict(X_test)\n",
        "sensitive_f = X_test['gender_Female'].replace({1:'female', 0:'male'})\n",
        "\n",
        "# get the overall metrics\n",
        "\n",
        "# use MetricFrame to get the results \n",
        "\n",
        "metric_dict = {\n",
        "        'accuracy': accuracy_score,\n",
        "        'precision': precision_score,\n",
        "        'recall': recall_score,\n",
        "        'FNR': false_negative_rate,\n",
        "        'FPR': false_positive_rate,\n",
        "        'fnr_diff': false_negative_rate_difference,\n",
        "        'fpr_diff':false_positive_rate_difference,\n",
        "        'demographic_parity_ratio': demographic_parity_ratio,\n",
        "        'equalized_odds_ratio': equalized_odds_ratio,\n",
        "        'selection_rate_diff': selection_rate_difference\n",
        "\n",
        "        }\n",
        "\n",
        "sample_p = {\n",
        "        'fnr_diff': {'sensitive_features': sensitive_f},\n",
        "        'fpr_diff': {'sensitive_features': sensitive_f},\n",
        "        'demographic_parity_ratio': {'sensitive_features': sensitive_f},\n",
        "        'equalized_odds_ratio': {'sensitive_features': sensitive_f},\n",
        "        'selection_rate_diff': {'sensitive_features': sensitive_f},\n",
        "    }\n",
        "\n",
        "metric_frame = MetricFrame(\n",
        "    metrics= metric_dict,\n",
        "    y_true=y_test,\n",
        "    y_pred=y_pred_baseline, \n",
        "    sensitive_features = sensitive_f,\n",
        "    sample_params = sample_p\n",
        ")\n",
        "\n",
        "# some cross validation\n",
        "male_recall_score = recall_score(y_test[X_test['gender_Female']==0], y_pred_baseline[X_test['gender_Female']==0])\n",
        "female_recall_score = recall_score(y_test[X_test['gender_Female']==1], y_pred_baseline[X_test['gender_Female']==1])\n",
        "\n",
        "print(f'Male recall : {male_recall_score:.4f}')\n",
        "print(f'Female recall: {female_recall_score:.4f}')\n"
      ],
      "metadata": {
        "id": "-o-cdBqa-9lX",
        "colab": {
          "base_uri": "https://localhost:8080/"
        },
        "outputId": "0c34eb1c-8e5e-434b-f47d-d817fef7f331"
      },
      "execution_count": 39,
      "outputs": [
        {
          "output_type": "stream",
          "name": "stdout",
          "text": [
            "Male selection rate: 0.4528\n",
            "Female selection rate: 0.4963\n"
          ]
        }
      ]
    },
    {
      "cell_type": "markdown",
      "source": [
        "Print Results"
      ],
      "metadata": {
        "id": "0wXnL70HO0nc"
      }
    },
    {
      "cell_type": "code",
      "source": [
        "# overall (10 metrics)\n",
        "display()\n",
        "\n",
        "# by gender group (5 metrics)\n",
        "df_1_o = metric_frame.overall.to_frame().transpose() \n",
        "display(df_1_o)\n",
        "df_1_b = metric_frame.by_group.iloc[:,:5]\n",
        "display(df_1_b)"
      ],
      "metadata": {
        "id": "zdAle97FOwPG",
        "colab": {
          "base_uri": "https://localhost:8080/",
          "height": 271
        },
        "outputId": "2a30c279-f8b7-4d78-a09c-d31603a7f566"
      },
      "execution_count": 41,
      "outputs": [
        {
          "output_type": "display_data",
          "data": {
            "text/plain": [
              "   accuracy  precision    recall       FNR      FPR  fnr_diff  fpr_diff  \\\n",
              "0  0.516208   0.485138  0.477534  0.522466  0.44949  0.043539  0.056666   \n",
              "\n",
              "   demographic_parity_ratio  equalized_odds_ratio  selection_rate_diff  \n",
              "0                    0.8938              0.881022             0.051621  "
            ],
            "text/html": [
              "\n",
              "  <div id=\"df-0e3c5564-cbd8-4e46-a65a-24ed1f36fb38\">\n",
              "    <div class=\"colab-df-container\">\n",
              "      <div>\n",
              "<style scoped>\n",
              "    .dataframe tbody tr th:only-of-type {\n",
              "        vertical-align: middle;\n",
              "    }\n",
              "\n",
              "    .dataframe tbody tr th {\n",
              "        vertical-align: top;\n",
              "    }\n",
              "\n",
              "    .dataframe thead th {\n",
              "        text-align: right;\n",
              "    }\n",
              "</style>\n",
              "<table border=\"1\" class=\"dataframe\">\n",
              "  <thead>\n",
              "    <tr style=\"text-align: right;\">\n",
              "      <th></th>\n",
              "      <th>accuracy</th>\n",
              "      <th>precision</th>\n",
              "      <th>recall</th>\n",
              "      <th>FNR</th>\n",
              "      <th>FPR</th>\n",
              "      <th>fnr_diff</th>\n",
              "      <th>fpr_diff</th>\n",
              "      <th>demographic_parity_ratio</th>\n",
              "      <th>equalized_odds_ratio</th>\n",
              "      <th>selection_rate_diff</th>\n",
              "    </tr>\n",
              "  </thead>\n",
              "  <tbody>\n",
              "    <tr>\n",
              "      <th>0</th>\n",
              "      <td>0.516208</td>\n",
              "      <td>0.485138</td>\n",
              "      <td>0.477534</td>\n",
              "      <td>0.522466</td>\n",
              "      <td>0.44949</td>\n",
              "      <td>0.043539</td>\n",
              "      <td>0.056666</td>\n",
              "      <td>0.8938</td>\n",
              "      <td>0.881022</td>\n",
              "      <td>0.051621</td>\n",
              "    </tr>\n",
              "  </tbody>\n",
              "</table>\n",
              "</div>\n",
              "      <button class=\"colab-df-convert\" onclick=\"convertToInteractive('df-0e3c5564-cbd8-4e46-a65a-24ed1f36fb38')\"\n",
              "              title=\"Convert this dataframe to an interactive table.\"\n",
              "              style=\"display:none;\">\n",
              "        \n",
              "  <svg xmlns=\"http://www.w3.org/2000/svg\" height=\"24px\"viewBox=\"0 0 24 24\"\n",
              "       width=\"24px\">\n",
              "    <path d=\"M0 0h24v24H0V0z\" fill=\"none\"/>\n",
              "    <path d=\"M18.56 5.44l.94 2.06.94-2.06 2.06-.94-2.06-.94-.94-2.06-.94 2.06-2.06.94zm-11 1L8.5 8.5l.94-2.06 2.06-.94-2.06-.94L8.5 2.5l-.94 2.06-2.06.94zm10 10l.94 2.06.94-2.06 2.06-.94-2.06-.94-.94-2.06-.94 2.06-2.06.94z\"/><path d=\"M17.41 7.96l-1.37-1.37c-.4-.4-.92-.59-1.43-.59-.52 0-1.04.2-1.43.59L10.3 9.45l-7.72 7.72c-.78.78-.78 2.05 0 2.83L4 21.41c.39.39.9.59 1.41.59.51 0 1.02-.2 1.41-.59l7.78-7.78 2.81-2.81c.8-.78.8-2.07 0-2.86zM5.41 20L4 18.59l7.72-7.72 1.47 1.35L5.41 20z\"/>\n",
              "  </svg>\n",
              "      </button>\n",
              "      \n",
              "  <style>\n",
              "    .colab-df-container {\n",
              "      display:flex;\n",
              "      flex-wrap:wrap;\n",
              "      gap: 12px;\n",
              "    }\n",
              "\n",
              "    .colab-df-convert {\n",
              "      background-color: #E8F0FE;\n",
              "      border: none;\n",
              "      border-radius: 50%;\n",
              "      cursor: pointer;\n",
              "      display: none;\n",
              "      fill: #1967D2;\n",
              "      height: 32px;\n",
              "      padding: 0 0 0 0;\n",
              "      width: 32px;\n",
              "    }\n",
              "\n",
              "    .colab-df-convert:hover {\n",
              "      background-color: #E2EBFA;\n",
              "      box-shadow: 0px 1px 2px rgba(60, 64, 67, 0.3), 0px 1px 3px 1px rgba(60, 64, 67, 0.15);\n",
              "      fill: #174EA6;\n",
              "    }\n",
              "\n",
              "    [theme=dark] .colab-df-convert {\n",
              "      background-color: #3B4455;\n",
              "      fill: #D2E3FC;\n",
              "    }\n",
              "\n",
              "    [theme=dark] .colab-df-convert:hover {\n",
              "      background-color: #434B5C;\n",
              "      box-shadow: 0px 1px 3px 1px rgba(0, 0, 0, 0.15);\n",
              "      filter: drop-shadow(0px 1px 2px rgba(0, 0, 0, 0.3));\n",
              "      fill: #FFFFFF;\n",
              "    }\n",
              "  </style>\n",
              "\n",
              "      <script>\n",
              "        const buttonEl =\n",
              "          document.querySelector('#df-0e3c5564-cbd8-4e46-a65a-24ed1f36fb38 button.colab-df-convert');\n",
              "        buttonEl.style.display =\n",
              "          google.colab.kernel.accessAllowed ? 'block' : 'none';\n",
              "\n",
              "        async function convertToInteractive(key) {\n",
              "          const element = document.querySelector('#df-0e3c5564-cbd8-4e46-a65a-24ed1f36fb38');\n",
              "          const dataTable =\n",
              "            await google.colab.kernel.invokeFunction('convertToInteractive',\n",
              "                                                     [key], {});\n",
              "          if (!dataTable) return;\n",
              "\n",
              "          const docLinkHtml = 'Like what you see? Visit the ' +\n",
              "            '<a target=\"_blank\" href=https://colab.research.google.com/notebooks/data_table.ipynb>data table notebook</a>'\n",
              "            + ' to learn more about interactive tables.';\n",
              "          element.innerHTML = '';\n",
              "          dataTable['output_type'] = 'display_data';\n",
              "          await google.colab.output.renderOutput(dataTable, element);\n",
              "          const docLink = document.createElement('div');\n",
              "          docLink.innerHTML = docLinkHtml;\n",
              "          element.appendChild(docLink);\n",
              "        }\n",
              "      </script>\n",
              "    </div>\n",
              "  </div>\n",
              "  "
            ]
          },
          "metadata": {}
        },
        {
          "output_type": "display_data",
          "data": {
            "text/plain": [
              "               accuracy  precision    recall       FNR       FPR\n",
              "gender_Female                                                   \n",
              "female         0.510332   0.499076  0.496324  0.503676  0.476274\n",
              "male           0.523294   0.466334  0.452785  0.547215  0.419608"
            ],
            "text/html": [
              "\n",
              "  <div id=\"df-da59ccd1-c850-47b7-8596-8c54920979e5\">\n",
              "    <div class=\"colab-df-container\">\n",
              "      <div>\n",
              "<style scoped>\n",
              "    .dataframe tbody tr th:only-of-type {\n",
              "        vertical-align: middle;\n",
              "    }\n",
              "\n",
              "    .dataframe tbody tr th {\n",
              "        vertical-align: top;\n",
              "    }\n",
              "\n",
              "    .dataframe thead th {\n",
              "        text-align: right;\n",
              "    }\n",
              "</style>\n",
              "<table border=\"1\" class=\"dataframe\">\n",
              "  <thead>\n",
              "    <tr style=\"text-align: right;\">\n",
              "      <th></th>\n",
              "      <th>accuracy</th>\n",
              "      <th>precision</th>\n",
              "      <th>recall</th>\n",
              "      <th>FNR</th>\n",
              "      <th>FPR</th>\n",
              "    </tr>\n",
              "    <tr>\n",
              "      <th>gender_Female</th>\n",
              "      <th></th>\n",
              "      <th></th>\n",
              "      <th></th>\n",
              "      <th></th>\n",
              "      <th></th>\n",
              "    </tr>\n",
              "  </thead>\n",
              "  <tbody>\n",
              "    <tr>\n",
              "      <th>female</th>\n",
              "      <td>0.510332</td>\n",
              "      <td>0.499076</td>\n",
              "      <td>0.496324</td>\n",
              "      <td>0.503676</td>\n",
              "      <td>0.476274</td>\n",
              "    </tr>\n",
              "    <tr>\n",
              "      <th>male</th>\n",
              "      <td>0.523294</td>\n",
              "      <td>0.466334</td>\n",
              "      <td>0.452785</td>\n",
              "      <td>0.547215</td>\n",
              "      <td>0.419608</td>\n",
              "    </tr>\n",
              "  </tbody>\n",
              "</table>\n",
              "</div>\n",
              "      <button class=\"colab-df-convert\" onclick=\"convertToInteractive('df-da59ccd1-c850-47b7-8596-8c54920979e5')\"\n",
              "              title=\"Convert this dataframe to an interactive table.\"\n",
              "              style=\"display:none;\">\n",
              "        \n",
              "  <svg xmlns=\"http://www.w3.org/2000/svg\" height=\"24px\"viewBox=\"0 0 24 24\"\n",
              "       width=\"24px\">\n",
              "    <path d=\"M0 0h24v24H0V0z\" fill=\"none\"/>\n",
              "    <path d=\"M18.56 5.44l.94 2.06.94-2.06 2.06-.94-2.06-.94-.94-2.06-.94 2.06-2.06.94zm-11 1L8.5 8.5l.94-2.06 2.06-.94-2.06-.94L8.5 2.5l-.94 2.06-2.06.94zm10 10l.94 2.06.94-2.06 2.06-.94-2.06-.94-.94-2.06-.94 2.06-2.06.94z\"/><path d=\"M17.41 7.96l-1.37-1.37c-.4-.4-.92-.59-1.43-.59-.52 0-1.04.2-1.43.59L10.3 9.45l-7.72 7.72c-.78.78-.78 2.05 0 2.83L4 21.41c.39.39.9.59 1.41.59.51 0 1.02-.2 1.41-.59l7.78-7.78 2.81-2.81c.8-.78.8-2.07 0-2.86zM5.41 20L4 18.59l7.72-7.72 1.47 1.35L5.41 20z\"/>\n",
              "  </svg>\n",
              "      </button>\n",
              "      \n",
              "  <style>\n",
              "    .colab-df-container {\n",
              "      display:flex;\n",
              "      flex-wrap:wrap;\n",
              "      gap: 12px;\n",
              "    }\n",
              "\n",
              "    .colab-df-convert {\n",
              "      background-color: #E8F0FE;\n",
              "      border: none;\n",
              "      border-radius: 50%;\n",
              "      cursor: pointer;\n",
              "      display: none;\n",
              "      fill: #1967D2;\n",
              "      height: 32px;\n",
              "      padding: 0 0 0 0;\n",
              "      width: 32px;\n",
              "    }\n",
              "\n",
              "    .colab-df-convert:hover {\n",
              "      background-color: #E2EBFA;\n",
              "      box-shadow: 0px 1px 2px rgba(60, 64, 67, 0.3), 0px 1px 3px 1px rgba(60, 64, 67, 0.15);\n",
              "      fill: #174EA6;\n",
              "    }\n",
              "\n",
              "    [theme=dark] .colab-df-convert {\n",
              "      background-color: #3B4455;\n",
              "      fill: #D2E3FC;\n",
              "    }\n",
              "\n",
              "    [theme=dark] .colab-df-convert:hover {\n",
              "      background-color: #434B5C;\n",
              "      box-shadow: 0px 1px 3px 1px rgba(0, 0, 0, 0.15);\n",
              "      filter: drop-shadow(0px 1px 2px rgba(0, 0, 0, 0.3));\n",
              "      fill: #FFFFFF;\n",
              "    }\n",
              "  </style>\n",
              "\n",
              "      <script>\n",
              "        const buttonEl =\n",
              "          document.querySelector('#df-da59ccd1-c850-47b7-8596-8c54920979e5 button.colab-df-convert');\n",
              "        buttonEl.style.display =\n",
              "          google.colab.kernel.accessAllowed ? 'block' : 'none';\n",
              "\n",
              "        async function convertToInteractive(key) {\n",
              "          const element = document.querySelector('#df-da59ccd1-c850-47b7-8596-8c54920979e5');\n",
              "          const dataTable =\n",
              "            await google.colab.kernel.invokeFunction('convertToInteractive',\n",
              "                                                     [key], {});\n",
              "          if (!dataTable) return;\n",
              "\n",
              "          const docLinkHtml = 'Like what you see? Visit the ' +\n",
              "            '<a target=\"_blank\" href=https://colab.research.google.com/notebooks/data_table.ipynb>data table notebook</a>'\n",
              "            + ' to learn more about interactive tables.';\n",
              "          element.innerHTML = '';\n",
              "          dataTable['output_type'] = 'display_data';\n",
              "          await google.colab.output.renderOutput(dataTable, element);\n",
              "          const docLink = document.createElement('div');\n",
              "          docLink.innerHTML = docLinkHtml;\n",
              "          element.appendChild(docLink);\n",
              "        }\n",
              "      </script>\n",
              "    </div>\n",
              "  </div>\n",
              "  "
            ]
          },
          "metadata": {}
        }
      ]
    },
    {
      "cell_type": "markdown",
      "source": [
        "## Q4a Report Answer\n",
        "\n",
        "The RandomForestClassifier model did not do particularly well overall. It seems that both genders perform similarly on the first five metrics (I to v), with men marginally outperforming women on most of the indicators.\n",
        "\n",
        "In terms of the overall model, the precision of 0.48 shows that a significant fraction of those classified as positive were actually negative, while the accuracy of 0.51 suggests that the model accurately predicted only slightly more than half of the test samples. Recall of 0.477 indicates that the model did not correctly identify many of the positive subjects. A significantly high percentage of the negative samples were falsely forecasted as positive, according to the FPR of 0.45, while the FNR of 0.52 suggests that more than half of the real positive samples were incorrectly predicted as negative.\n",
        "\n",
        "It seems that performance on the first five measures (I–v) by group is roughly equivalent for both genders, with slightly superior performance on most metrics for males as opposed to females. The accuracy is poor for both genders. For both genders, the precision is also quite low. For men, the recall is a little higher, indicating that the model did a better job of identifying good results. The FNR is high for both sexes, indicating that many real positives were mistakenly forecasted as negative. As the FPR is higher for women than it is for men, it is possible that the model was more likely to predict negatively for women than for men. This might be as a result of variations in the basic distribution of traits between the two genders.\n",
        "\n",
        "Positive predictions for female samples are 89% of those for male samples, according to the demographic parity ratio of 0.89. According to what we have taught in class, the demographic parity ratio should ideally be close to 1 for fairness, which means that there may be some gender bias in the model's predictions.\n",
        "\n",
        "The equalized odds ratio of 0.88 indicates that there are gender differences in the true positive and true negative rates of the model.\n",
        "\n",
        "By looking at the selection rate difference of 0.05, the proportion of accurate predictions in the female samples is 5% higher than that in the male samples. This would imply that the model is more likely to predict positive results for women, which might show bias in the model's predictions.\n",
        "\n",
        "Overall, these indicators imply that the model's predictions may exhibit some gender bias."
      ],
      "metadata": {
        "id": "WpfyoZgs2non"
      }
    },
    {
      "cell_type": "markdown",
      "source": [
        "# Problem 2, Part (b)"
      ],
      "metadata": {
        "id": "pDinJweUQT-w"
      }
    },
    {
      "cell_type": "markdown",
      "source": [
        "Train another classifier with the following value of hyperparameters"
      ],
      "metadata": {
        "id": "Kh1ruIp8Woyf"
      }
    },
    {
      "cell_type": "code",
      "source": [
        "# write your code here \n",
        "n_estimators = 1000\n",
        "max_depth = 10\n",
        "\n",
        "rf_model_2 = RandomForestClassifier(n_estimators=100, max_depth = 10, random_state=4)\n",
        "rf_model_2.fit(X_train, y_train)\n",
        "\n",
        "accuracy = rf_model_2.score(X_test, y_test)\n",
        "print(f\"Accuracy: {accuracy}\")"
      ],
      "metadata": {
        "id": "1bGhluekQU8v",
        "colab": {
          "base_uri": "https://localhost:8080/"
        },
        "outputId": "c77162dc-b96d-4883-fd8e-0b501f939d3c"
      },
      "execution_count": 42,
      "outputs": [
        {
          "output_type": "stream",
          "name": "stdout",
          "text": [
            "Accuracy: 0.6149312377210217\n"
          ]
        }
      ]
    },
    {
      "cell_type": "markdown",
      "source": [
        "Calculate metrics with Fairlearn MetricFrame\n",
        "and print the results"
      ],
      "metadata": {
        "id": "GWn_275zUS28"
      }
    },
    {
      "cell_type": "code",
      "source": [
        "\n",
        "# write your code here \n",
        "# demographic_parity_difference, demographic_parity_ratio, \n",
        "#                                selection_rate_difference, false_negative_rate_difference, \n",
        "#                                false_positive_rate_difference, equalized_odds_ratio,\n",
        "#                                false_negative_rate, false_positive_rate)\n",
        "# get model's prediction for the test set\n",
        "\n",
        "# We don't specify in this question how you should report your results. \n",
        "# If you've chosen to do it with a table or some other format, that's fine. \n",
        "\n",
        "y_pred_baseline_2 = rf_model_2.predict(X_test)\n",
        "sensitive_f = X_test['gender_Female'].replace({1:'female', 0:'male'})\n",
        "\n",
        "# get the overall metrics\n",
        "\n",
        "# use MetricFrame to get the results \n",
        "\n",
        "metric_dict = {\n",
        "        'accuracy': accuracy_score,\n",
        "        'precision': precision_score,\n",
        "        'recall': recall_score,\n",
        "        'FNR': false_negative_rate,\n",
        "        'FPR': false_positive_rate,\n",
        "        'fnr_diff': false_negative_rate_difference,\n",
        "        'fpr_diff':false_positive_rate_difference,\n",
        "        'demographic_parity_ratio': demographic_parity_ratio,\n",
        "        'equalized_odds_ratio': equalized_odds_ratio,\n",
        "        'selection_rate_diff': selection_rate_difference\n",
        "\n",
        "        }\n",
        "\n",
        "sample_p = {\n",
        "        'fnr_diff': {'sensitive_features': sensitive_f},\n",
        "        'fpr_diff': {'sensitive_features': sensitive_f},\n",
        "        'demographic_parity_ratio': {'sensitive_features': sensitive_f},\n",
        "        'equalized_odds_ratio': {'sensitive_features': sensitive_f},\n",
        "        'selection_rate_diff': {'sensitive_features': sensitive_f},\n",
        "    }\n",
        "\n",
        "metric_frame = MetricFrame(\n",
        "    metrics= metric_dict,\n",
        "    y_true=y_test,\n",
        "    y_pred=y_pred_baseline_2, \n",
        "    sensitive_features = sensitive_f,\n",
        "    sample_params = sample_p\n",
        ")\n",
        "\n",
        "# some cross validation\n",
        "male_recall_score = recall_score(y_test[X_test['gender_Female']==0], y_pred_baseline_2[X_test['gender_Female']==0])\n",
        "female_recall_score = recall_score(y_test[X_test['gender_Female']==1], y_pred_baseline_2[X_test['gender_Female']==1])\n",
        "\n",
        "print(f'Male recall_score: {male_recall_score:.4f}')\n",
        "print(f'Female recall_score: {female_recall_score:.4f}')\n",
        "\n",
        "# overall (10 metrics)\n",
        "df_2_o = metric_frame.overall.to_frame().transpose()\n",
        "display(df_2_o)\n",
        "# by gender group (5 metrics)\n",
        "df_2_b = metric_frame.by_group.iloc[:,:5]\n",
        "display(df_2_b)\n",
        "\n",
        "df_diff_o = df_2_o - df_1_o\n",
        "df_overall = pd.concat([df_1_o, df_2_o,df_diff_o], axis = 0)\n",
        "df_overall = df_overall.set_index(pd.Index(['baseline (b)', 'tuned (t)', 't - b diff']))\n",
        "display(df_overall)\n",
        "\n",
        "df_diff_b = df_2_b - df_1_b\n",
        "df_by = pd.concat([df_1_b, df_2_b,df_diff_b], axis = 0)\n",
        "df_by = df_by.set_index(pd.Index(['female (b)', 'male (b)', \n",
        "                                  'female (t)', 'male (t)',\n",
        "                                  'female (t - b)', 'male (t - b)']))\n",
        "display(df_by)"
      ],
      "metadata": {
        "id": "URm6dK9VQVKj",
        "colab": {
          "base_uri": "https://localhost:8080/",
          "height": 671
        },
        "outputId": "289db1aa-199d-4567-d420-c027d2eb20bc"
      },
      "execution_count": 49,
      "outputs": [
        {
          "output_type": "stream",
          "name": "stdout",
          "text": [
            "Male recall_score: 0.4116\n",
            "Female recall_score: 0.4853\n"
          ]
        },
        {
          "output_type": "display_data",
          "data": {
            "text/plain": [
              "   accuracy  precision    recall       FNR       FPR  fnr_diff  fpr_diff  \\\n",
              "0  0.614931    0.62446  0.453501  0.546499  0.241891  0.073672  0.008791   \n",
              "\n",
              "   demographic_parity_ratio  equalized_odds_ratio  selection_rate_diff  \n",
              "0                  0.868571              0.848191             0.047707  "
            ],
            "text/html": [
              "\n",
              "  <div id=\"df-fa046e0d-c7fe-4c2c-9ea9-a5e1515f0293\">\n",
              "    <div class=\"colab-df-container\">\n",
              "      <div>\n",
              "<style scoped>\n",
              "    .dataframe tbody tr th:only-of-type {\n",
              "        vertical-align: middle;\n",
              "    }\n",
              "\n",
              "    .dataframe tbody tr th {\n",
              "        vertical-align: top;\n",
              "    }\n",
              "\n",
              "    .dataframe thead th {\n",
              "        text-align: right;\n",
              "    }\n",
              "</style>\n",
              "<table border=\"1\" class=\"dataframe\">\n",
              "  <thead>\n",
              "    <tr style=\"text-align: right;\">\n",
              "      <th></th>\n",
              "      <th>accuracy</th>\n",
              "      <th>precision</th>\n",
              "      <th>recall</th>\n",
              "      <th>FNR</th>\n",
              "      <th>FPR</th>\n",
              "      <th>fnr_diff</th>\n",
              "      <th>fpr_diff</th>\n",
              "      <th>demographic_parity_ratio</th>\n",
              "      <th>equalized_odds_ratio</th>\n",
              "      <th>selection_rate_diff</th>\n",
              "    </tr>\n",
              "  </thead>\n",
              "  <tbody>\n",
              "    <tr>\n",
              "      <th>0</th>\n",
              "      <td>0.614931</td>\n",
              "      <td>0.62446</td>\n",
              "      <td>0.453501</td>\n",
              "      <td>0.546499</td>\n",
              "      <td>0.241891</td>\n",
              "      <td>0.073672</td>\n",
              "      <td>0.008791</td>\n",
              "      <td>0.868571</td>\n",
              "      <td>0.848191</td>\n",
              "      <td>0.047707</td>\n",
              "    </tr>\n",
              "  </tbody>\n",
              "</table>\n",
              "</div>\n",
              "      <button class=\"colab-df-convert\" onclick=\"convertToInteractive('df-fa046e0d-c7fe-4c2c-9ea9-a5e1515f0293')\"\n",
              "              title=\"Convert this dataframe to an interactive table.\"\n",
              "              style=\"display:none;\">\n",
              "        \n",
              "  <svg xmlns=\"http://www.w3.org/2000/svg\" height=\"24px\"viewBox=\"0 0 24 24\"\n",
              "       width=\"24px\">\n",
              "    <path d=\"M0 0h24v24H0V0z\" fill=\"none\"/>\n",
              "    <path d=\"M18.56 5.44l.94 2.06.94-2.06 2.06-.94-2.06-.94-.94-2.06-.94 2.06-2.06.94zm-11 1L8.5 8.5l.94-2.06 2.06-.94-2.06-.94L8.5 2.5l-.94 2.06-2.06.94zm10 10l.94 2.06.94-2.06 2.06-.94-2.06-.94-.94-2.06-.94 2.06-2.06.94z\"/><path d=\"M17.41 7.96l-1.37-1.37c-.4-.4-.92-.59-1.43-.59-.52 0-1.04.2-1.43.59L10.3 9.45l-7.72 7.72c-.78.78-.78 2.05 0 2.83L4 21.41c.39.39.9.59 1.41.59.51 0 1.02-.2 1.41-.59l7.78-7.78 2.81-2.81c.8-.78.8-2.07 0-2.86zM5.41 20L4 18.59l7.72-7.72 1.47 1.35L5.41 20z\"/>\n",
              "  </svg>\n",
              "      </button>\n",
              "      \n",
              "  <style>\n",
              "    .colab-df-container {\n",
              "      display:flex;\n",
              "      flex-wrap:wrap;\n",
              "      gap: 12px;\n",
              "    }\n",
              "\n",
              "    .colab-df-convert {\n",
              "      background-color: #E8F0FE;\n",
              "      border: none;\n",
              "      border-radius: 50%;\n",
              "      cursor: pointer;\n",
              "      display: none;\n",
              "      fill: #1967D2;\n",
              "      height: 32px;\n",
              "      padding: 0 0 0 0;\n",
              "      width: 32px;\n",
              "    }\n",
              "\n",
              "    .colab-df-convert:hover {\n",
              "      background-color: #E2EBFA;\n",
              "      box-shadow: 0px 1px 2px rgba(60, 64, 67, 0.3), 0px 1px 3px 1px rgba(60, 64, 67, 0.15);\n",
              "      fill: #174EA6;\n",
              "    }\n",
              "\n",
              "    [theme=dark] .colab-df-convert {\n",
              "      background-color: #3B4455;\n",
              "      fill: #D2E3FC;\n",
              "    }\n",
              "\n",
              "    [theme=dark] .colab-df-convert:hover {\n",
              "      background-color: #434B5C;\n",
              "      box-shadow: 0px 1px 3px 1px rgba(0, 0, 0, 0.15);\n",
              "      filter: drop-shadow(0px 1px 2px rgba(0, 0, 0, 0.3));\n",
              "      fill: #FFFFFF;\n",
              "    }\n",
              "  </style>\n",
              "\n",
              "      <script>\n",
              "        const buttonEl =\n",
              "          document.querySelector('#df-fa046e0d-c7fe-4c2c-9ea9-a5e1515f0293 button.colab-df-convert');\n",
              "        buttonEl.style.display =\n",
              "          google.colab.kernel.accessAllowed ? 'block' : 'none';\n",
              "\n",
              "        async function convertToInteractive(key) {\n",
              "          const element = document.querySelector('#df-fa046e0d-c7fe-4c2c-9ea9-a5e1515f0293');\n",
              "          const dataTable =\n",
              "            await google.colab.kernel.invokeFunction('convertToInteractive',\n",
              "                                                     [key], {});\n",
              "          if (!dataTable) return;\n",
              "\n",
              "          const docLinkHtml = 'Like what you see? Visit the ' +\n",
              "            '<a target=\"_blank\" href=https://colab.research.google.com/notebooks/data_table.ipynb>data table notebook</a>'\n",
              "            + ' to learn more about interactive tables.';\n",
              "          element.innerHTML = '';\n",
              "          dataTable['output_type'] = 'display_data';\n",
              "          await google.colab.output.renderOutput(dataTable, element);\n",
              "          const docLink = document.createElement('div');\n",
              "          docLink.innerHTML = docLinkHtml;\n",
              "          element.appendChild(docLink);\n",
              "        }\n",
              "      </script>\n",
              "    </div>\n",
              "  </div>\n",
              "  "
            ]
          },
          "metadata": {}
        },
        {
          "output_type": "display_data",
          "data": {
            "text/plain": [
              "               accuracy  precision    recall       FNR       FPR\n",
              "gender_Female                                                   \n",
              "female         0.622642   0.653465  0.485294  0.514706  0.246046\n",
              "male           0.605634   0.584192  0.411622  0.588378  0.237255"
            ],
            "text/html": [
              "\n",
              "  <div id=\"df-3732824e-f32b-424f-9109-4d4aa6ad6934\">\n",
              "    <div class=\"colab-df-container\">\n",
              "      <div>\n",
              "<style scoped>\n",
              "    .dataframe tbody tr th:only-of-type {\n",
              "        vertical-align: middle;\n",
              "    }\n",
              "\n",
              "    .dataframe tbody tr th {\n",
              "        vertical-align: top;\n",
              "    }\n",
              "\n",
              "    .dataframe thead th {\n",
              "        text-align: right;\n",
              "    }\n",
              "</style>\n",
              "<table border=\"1\" class=\"dataframe\">\n",
              "  <thead>\n",
              "    <tr style=\"text-align: right;\">\n",
              "      <th></th>\n",
              "      <th>accuracy</th>\n",
              "      <th>precision</th>\n",
              "      <th>recall</th>\n",
              "      <th>FNR</th>\n",
              "      <th>FPR</th>\n",
              "    </tr>\n",
              "    <tr>\n",
              "      <th>gender_Female</th>\n",
              "      <th></th>\n",
              "      <th></th>\n",
              "      <th></th>\n",
              "      <th></th>\n",
              "      <th></th>\n",
              "    </tr>\n",
              "  </thead>\n",
              "  <tbody>\n",
              "    <tr>\n",
              "      <th>female</th>\n",
              "      <td>0.622642</td>\n",
              "      <td>0.653465</td>\n",
              "      <td>0.485294</td>\n",
              "      <td>0.514706</td>\n",
              "      <td>0.246046</td>\n",
              "    </tr>\n",
              "    <tr>\n",
              "      <th>male</th>\n",
              "      <td>0.605634</td>\n",
              "      <td>0.584192</td>\n",
              "      <td>0.411622</td>\n",
              "      <td>0.588378</td>\n",
              "      <td>0.237255</td>\n",
              "    </tr>\n",
              "  </tbody>\n",
              "</table>\n",
              "</div>\n",
              "      <button class=\"colab-df-convert\" onclick=\"convertToInteractive('df-3732824e-f32b-424f-9109-4d4aa6ad6934')\"\n",
              "              title=\"Convert this dataframe to an interactive table.\"\n",
              "              style=\"display:none;\">\n",
              "        \n",
              "  <svg xmlns=\"http://www.w3.org/2000/svg\" height=\"24px\"viewBox=\"0 0 24 24\"\n",
              "       width=\"24px\">\n",
              "    <path d=\"M0 0h24v24H0V0z\" fill=\"none\"/>\n",
              "    <path d=\"M18.56 5.44l.94 2.06.94-2.06 2.06-.94-2.06-.94-.94-2.06-.94 2.06-2.06.94zm-11 1L8.5 8.5l.94-2.06 2.06-.94-2.06-.94L8.5 2.5l-.94 2.06-2.06.94zm10 10l.94 2.06.94-2.06 2.06-.94-2.06-.94-.94-2.06-.94 2.06-2.06.94z\"/><path d=\"M17.41 7.96l-1.37-1.37c-.4-.4-.92-.59-1.43-.59-.52 0-1.04.2-1.43.59L10.3 9.45l-7.72 7.72c-.78.78-.78 2.05 0 2.83L4 21.41c.39.39.9.59 1.41.59.51 0 1.02-.2 1.41-.59l7.78-7.78 2.81-2.81c.8-.78.8-2.07 0-2.86zM5.41 20L4 18.59l7.72-7.72 1.47 1.35L5.41 20z\"/>\n",
              "  </svg>\n",
              "      </button>\n",
              "      \n",
              "  <style>\n",
              "    .colab-df-container {\n",
              "      display:flex;\n",
              "      flex-wrap:wrap;\n",
              "      gap: 12px;\n",
              "    }\n",
              "\n",
              "    .colab-df-convert {\n",
              "      background-color: #E8F0FE;\n",
              "      border: none;\n",
              "      border-radius: 50%;\n",
              "      cursor: pointer;\n",
              "      display: none;\n",
              "      fill: #1967D2;\n",
              "      height: 32px;\n",
              "      padding: 0 0 0 0;\n",
              "      width: 32px;\n",
              "    }\n",
              "\n",
              "    .colab-df-convert:hover {\n",
              "      background-color: #E2EBFA;\n",
              "      box-shadow: 0px 1px 2px rgba(60, 64, 67, 0.3), 0px 1px 3px 1px rgba(60, 64, 67, 0.15);\n",
              "      fill: #174EA6;\n",
              "    }\n",
              "\n",
              "    [theme=dark] .colab-df-convert {\n",
              "      background-color: #3B4455;\n",
              "      fill: #D2E3FC;\n",
              "    }\n",
              "\n",
              "    [theme=dark] .colab-df-convert:hover {\n",
              "      background-color: #434B5C;\n",
              "      box-shadow: 0px 1px 3px 1px rgba(0, 0, 0, 0.15);\n",
              "      filter: drop-shadow(0px 1px 2px rgba(0, 0, 0, 0.3));\n",
              "      fill: #FFFFFF;\n",
              "    }\n",
              "  </style>\n",
              "\n",
              "      <script>\n",
              "        const buttonEl =\n",
              "          document.querySelector('#df-3732824e-f32b-424f-9109-4d4aa6ad6934 button.colab-df-convert');\n",
              "        buttonEl.style.display =\n",
              "          google.colab.kernel.accessAllowed ? 'block' : 'none';\n",
              "\n",
              "        async function convertToInteractive(key) {\n",
              "          const element = document.querySelector('#df-3732824e-f32b-424f-9109-4d4aa6ad6934');\n",
              "          const dataTable =\n",
              "            await google.colab.kernel.invokeFunction('convertToInteractive',\n",
              "                                                     [key], {});\n",
              "          if (!dataTable) return;\n",
              "\n",
              "          const docLinkHtml = 'Like what you see? Visit the ' +\n",
              "            '<a target=\"_blank\" href=https://colab.research.google.com/notebooks/data_table.ipynb>data table notebook</a>'\n",
              "            + ' to learn more about interactive tables.';\n",
              "          element.innerHTML = '';\n",
              "          dataTable['output_type'] = 'display_data';\n",
              "          await google.colab.output.renderOutput(dataTable, element);\n",
              "          const docLink = document.createElement('div');\n",
              "          docLink.innerHTML = docLinkHtml;\n",
              "          element.appendChild(docLink);\n",
              "        }\n",
              "      </script>\n",
              "    </div>\n",
              "  </div>\n",
              "  "
            ]
          },
          "metadata": {}
        },
        {
          "output_type": "display_data",
          "data": {
            "text/plain": [
              "              accuracy  precision    recall       FNR       FPR  fnr_diff  \\\n",
              "baseline (b)  0.516208   0.485138  0.477534  0.522466  0.449490  0.043539   \n",
              "tuned (t)     0.614931   0.624460  0.453501  0.546499  0.241891  0.073672   \n",
              "t - b diff    0.098723   0.139322 -0.024033  0.024033 -0.207600  0.030133   \n",
              "\n",
              "              fpr_diff  demographic_parity_ratio  equalized_odds_ratio  \\\n",
              "baseline (b)  0.056666                  0.893800              0.881022   \n",
              "tuned (t)     0.008791                  0.868571              0.848191   \n",
              "t - b diff   -0.047876                 -0.025230             -0.032830   \n",
              "\n",
              "              selection_rate_diff  \n",
              "baseline (b)             0.051621  \n",
              "tuned (t)                0.047707  \n",
              "t - b diff              -0.003914  "
            ],
            "text/html": [
              "\n",
              "  <div id=\"df-867583cb-3a51-4c81-95b8-a01975636bc1\">\n",
              "    <div class=\"colab-df-container\">\n",
              "      <div>\n",
              "<style scoped>\n",
              "    .dataframe tbody tr th:only-of-type {\n",
              "        vertical-align: middle;\n",
              "    }\n",
              "\n",
              "    .dataframe tbody tr th {\n",
              "        vertical-align: top;\n",
              "    }\n",
              "\n",
              "    .dataframe thead th {\n",
              "        text-align: right;\n",
              "    }\n",
              "</style>\n",
              "<table border=\"1\" class=\"dataframe\">\n",
              "  <thead>\n",
              "    <tr style=\"text-align: right;\">\n",
              "      <th></th>\n",
              "      <th>accuracy</th>\n",
              "      <th>precision</th>\n",
              "      <th>recall</th>\n",
              "      <th>FNR</th>\n",
              "      <th>FPR</th>\n",
              "      <th>fnr_diff</th>\n",
              "      <th>fpr_diff</th>\n",
              "      <th>demographic_parity_ratio</th>\n",
              "      <th>equalized_odds_ratio</th>\n",
              "      <th>selection_rate_diff</th>\n",
              "    </tr>\n",
              "  </thead>\n",
              "  <tbody>\n",
              "    <tr>\n",
              "      <th>baseline (b)</th>\n",
              "      <td>0.516208</td>\n",
              "      <td>0.485138</td>\n",
              "      <td>0.477534</td>\n",
              "      <td>0.522466</td>\n",
              "      <td>0.449490</td>\n",
              "      <td>0.043539</td>\n",
              "      <td>0.056666</td>\n",
              "      <td>0.893800</td>\n",
              "      <td>0.881022</td>\n",
              "      <td>0.051621</td>\n",
              "    </tr>\n",
              "    <tr>\n",
              "      <th>tuned (t)</th>\n",
              "      <td>0.614931</td>\n",
              "      <td>0.624460</td>\n",
              "      <td>0.453501</td>\n",
              "      <td>0.546499</td>\n",
              "      <td>0.241891</td>\n",
              "      <td>0.073672</td>\n",
              "      <td>0.008791</td>\n",
              "      <td>0.868571</td>\n",
              "      <td>0.848191</td>\n",
              "      <td>0.047707</td>\n",
              "    </tr>\n",
              "    <tr>\n",
              "      <th>t - b diff</th>\n",
              "      <td>0.098723</td>\n",
              "      <td>0.139322</td>\n",
              "      <td>-0.024033</td>\n",
              "      <td>0.024033</td>\n",
              "      <td>-0.207600</td>\n",
              "      <td>0.030133</td>\n",
              "      <td>-0.047876</td>\n",
              "      <td>-0.025230</td>\n",
              "      <td>-0.032830</td>\n",
              "      <td>-0.003914</td>\n",
              "    </tr>\n",
              "  </tbody>\n",
              "</table>\n",
              "</div>\n",
              "      <button class=\"colab-df-convert\" onclick=\"convertToInteractive('df-867583cb-3a51-4c81-95b8-a01975636bc1')\"\n",
              "              title=\"Convert this dataframe to an interactive table.\"\n",
              "              style=\"display:none;\">\n",
              "        \n",
              "  <svg xmlns=\"http://www.w3.org/2000/svg\" height=\"24px\"viewBox=\"0 0 24 24\"\n",
              "       width=\"24px\">\n",
              "    <path d=\"M0 0h24v24H0V0z\" fill=\"none\"/>\n",
              "    <path d=\"M18.56 5.44l.94 2.06.94-2.06 2.06-.94-2.06-.94-.94-2.06-.94 2.06-2.06.94zm-11 1L8.5 8.5l.94-2.06 2.06-.94-2.06-.94L8.5 2.5l-.94 2.06-2.06.94zm10 10l.94 2.06.94-2.06 2.06-.94-2.06-.94-.94-2.06-.94 2.06-2.06.94z\"/><path d=\"M17.41 7.96l-1.37-1.37c-.4-.4-.92-.59-1.43-.59-.52 0-1.04.2-1.43.59L10.3 9.45l-7.72 7.72c-.78.78-.78 2.05 0 2.83L4 21.41c.39.39.9.59 1.41.59.51 0 1.02-.2 1.41-.59l7.78-7.78 2.81-2.81c.8-.78.8-2.07 0-2.86zM5.41 20L4 18.59l7.72-7.72 1.47 1.35L5.41 20z\"/>\n",
              "  </svg>\n",
              "      </button>\n",
              "      \n",
              "  <style>\n",
              "    .colab-df-container {\n",
              "      display:flex;\n",
              "      flex-wrap:wrap;\n",
              "      gap: 12px;\n",
              "    }\n",
              "\n",
              "    .colab-df-convert {\n",
              "      background-color: #E8F0FE;\n",
              "      border: none;\n",
              "      border-radius: 50%;\n",
              "      cursor: pointer;\n",
              "      display: none;\n",
              "      fill: #1967D2;\n",
              "      height: 32px;\n",
              "      padding: 0 0 0 0;\n",
              "      width: 32px;\n",
              "    }\n",
              "\n",
              "    .colab-df-convert:hover {\n",
              "      background-color: #E2EBFA;\n",
              "      box-shadow: 0px 1px 2px rgba(60, 64, 67, 0.3), 0px 1px 3px 1px rgba(60, 64, 67, 0.15);\n",
              "      fill: #174EA6;\n",
              "    }\n",
              "\n",
              "    [theme=dark] .colab-df-convert {\n",
              "      background-color: #3B4455;\n",
              "      fill: #D2E3FC;\n",
              "    }\n",
              "\n",
              "    [theme=dark] .colab-df-convert:hover {\n",
              "      background-color: #434B5C;\n",
              "      box-shadow: 0px 1px 3px 1px rgba(0, 0, 0, 0.15);\n",
              "      filter: drop-shadow(0px 1px 2px rgba(0, 0, 0, 0.3));\n",
              "      fill: #FFFFFF;\n",
              "    }\n",
              "  </style>\n",
              "\n",
              "      <script>\n",
              "        const buttonEl =\n",
              "          document.querySelector('#df-867583cb-3a51-4c81-95b8-a01975636bc1 button.colab-df-convert');\n",
              "        buttonEl.style.display =\n",
              "          google.colab.kernel.accessAllowed ? 'block' : 'none';\n",
              "\n",
              "        async function convertToInteractive(key) {\n",
              "          const element = document.querySelector('#df-867583cb-3a51-4c81-95b8-a01975636bc1');\n",
              "          const dataTable =\n",
              "            await google.colab.kernel.invokeFunction('convertToInteractive',\n",
              "                                                     [key], {});\n",
              "          if (!dataTable) return;\n",
              "\n",
              "          const docLinkHtml = 'Like what you see? Visit the ' +\n",
              "            '<a target=\"_blank\" href=https://colab.research.google.com/notebooks/data_table.ipynb>data table notebook</a>'\n",
              "            + ' to learn more about interactive tables.';\n",
              "          element.innerHTML = '';\n",
              "          dataTable['output_type'] = 'display_data';\n",
              "          await google.colab.output.renderOutput(dataTable, element);\n",
              "          const docLink = document.createElement('div');\n",
              "          docLink.innerHTML = docLinkHtml;\n",
              "          element.appendChild(docLink);\n",
              "        }\n",
              "      </script>\n",
              "    </div>\n",
              "  </div>\n",
              "  "
            ]
          },
          "metadata": {}
        },
        {
          "output_type": "display_data",
          "data": {
            "text/plain": [
              "                accuracy  precision    recall       FNR       FPR\n",
              "female (b)      0.510332   0.499076  0.496324  0.503676  0.476274\n",
              "male (b)        0.523294   0.466334  0.452785  0.547215  0.419608\n",
              "female (t)      0.622642   0.653465  0.485294  0.514706  0.246046\n",
              "male (t)        0.605634   0.584192  0.411622  0.588378  0.237255\n",
              "female (t - b)  0.112309   0.154390 -0.011029  0.011029 -0.230228\n",
              "male (t - b)    0.082340   0.117858 -0.041162  0.041162 -0.182353"
            ],
            "text/html": [
              "\n",
              "  <div id=\"df-351afa44-f9b7-439d-9333-c258bd8d68e2\">\n",
              "    <div class=\"colab-df-container\">\n",
              "      <div>\n",
              "<style scoped>\n",
              "    .dataframe tbody tr th:only-of-type {\n",
              "        vertical-align: middle;\n",
              "    }\n",
              "\n",
              "    .dataframe tbody tr th {\n",
              "        vertical-align: top;\n",
              "    }\n",
              "\n",
              "    .dataframe thead th {\n",
              "        text-align: right;\n",
              "    }\n",
              "</style>\n",
              "<table border=\"1\" class=\"dataframe\">\n",
              "  <thead>\n",
              "    <tr style=\"text-align: right;\">\n",
              "      <th></th>\n",
              "      <th>accuracy</th>\n",
              "      <th>precision</th>\n",
              "      <th>recall</th>\n",
              "      <th>FNR</th>\n",
              "      <th>FPR</th>\n",
              "    </tr>\n",
              "  </thead>\n",
              "  <tbody>\n",
              "    <tr>\n",
              "      <th>female (b)</th>\n",
              "      <td>0.510332</td>\n",
              "      <td>0.499076</td>\n",
              "      <td>0.496324</td>\n",
              "      <td>0.503676</td>\n",
              "      <td>0.476274</td>\n",
              "    </tr>\n",
              "    <tr>\n",
              "      <th>male (b)</th>\n",
              "      <td>0.523294</td>\n",
              "      <td>0.466334</td>\n",
              "      <td>0.452785</td>\n",
              "      <td>0.547215</td>\n",
              "      <td>0.419608</td>\n",
              "    </tr>\n",
              "    <tr>\n",
              "      <th>female (t)</th>\n",
              "      <td>0.622642</td>\n",
              "      <td>0.653465</td>\n",
              "      <td>0.485294</td>\n",
              "      <td>0.514706</td>\n",
              "      <td>0.246046</td>\n",
              "    </tr>\n",
              "    <tr>\n",
              "      <th>male (t)</th>\n",
              "      <td>0.605634</td>\n",
              "      <td>0.584192</td>\n",
              "      <td>0.411622</td>\n",
              "      <td>0.588378</td>\n",
              "      <td>0.237255</td>\n",
              "    </tr>\n",
              "    <tr>\n",
              "      <th>female (t - b)</th>\n",
              "      <td>0.112309</td>\n",
              "      <td>0.154390</td>\n",
              "      <td>-0.011029</td>\n",
              "      <td>0.011029</td>\n",
              "      <td>-0.230228</td>\n",
              "    </tr>\n",
              "    <tr>\n",
              "      <th>male (t - b)</th>\n",
              "      <td>0.082340</td>\n",
              "      <td>0.117858</td>\n",
              "      <td>-0.041162</td>\n",
              "      <td>0.041162</td>\n",
              "      <td>-0.182353</td>\n",
              "    </tr>\n",
              "  </tbody>\n",
              "</table>\n",
              "</div>\n",
              "      <button class=\"colab-df-convert\" onclick=\"convertToInteractive('df-351afa44-f9b7-439d-9333-c258bd8d68e2')\"\n",
              "              title=\"Convert this dataframe to an interactive table.\"\n",
              "              style=\"display:none;\">\n",
              "        \n",
              "  <svg xmlns=\"http://www.w3.org/2000/svg\" height=\"24px\"viewBox=\"0 0 24 24\"\n",
              "       width=\"24px\">\n",
              "    <path d=\"M0 0h24v24H0V0z\" fill=\"none\"/>\n",
              "    <path d=\"M18.56 5.44l.94 2.06.94-2.06 2.06-.94-2.06-.94-.94-2.06-.94 2.06-2.06.94zm-11 1L8.5 8.5l.94-2.06 2.06-.94-2.06-.94L8.5 2.5l-.94 2.06-2.06.94zm10 10l.94 2.06.94-2.06 2.06-.94-2.06-.94-.94-2.06-.94 2.06-2.06.94z\"/><path d=\"M17.41 7.96l-1.37-1.37c-.4-.4-.92-.59-1.43-.59-.52 0-1.04.2-1.43.59L10.3 9.45l-7.72 7.72c-.78.78-.78 2.05 0 2.83L4 21.41c.39.39.9.59 1.41.59.51 0 1.02-.2 1.41-.59l7.78-7.78 2.81-2.81c.8-.78.8-2.07 0-2.86zM5.41 20L4 18.59l7.72-7.72 1.47 1.35L5.41 20z\"/>\n",
              "  </svg>\n",
              "      </button>\n",
              "      \n",
              "  <style>\n",
              "    .colab-df-container {\n",
              "      display:flex;\n",
              "      flex-wrap:wrap;\n",
              "      gap: 12px;\n",
              "    }\n",
              "\n",
              "    .colab-df-convert {\n",
              "      background-color: #E8F0FE;\n",
              "      border: none;\n",
              "      border-radius: 50%;\n",
              "      cursor: pointer;\n",
              "      display: none;\n",
              "      fill: #1967D2;\n",
              "      height: 32px;\n",
              "      padding: 0 0 0 0;\n",
              "      width: 32px;\n",
              "    }\n",
              "\n",
              "    .colab-df-convert:hover {\n",
              "      background-color: #E2EBFA;\n",
              "      box-shadow: 0px 1px 2px rgba(60, 64, 67, 0.3), 0px 1px 3px 1px rgba(60, 64, 67, 0.15);\n",
              "      fill: #174EA6;\n",
              "    }\n",
              "\n",
              "    [theme=dark] .colab-df-convert {\n",
              "      background-color: #3B4455;\n",
              "      fill: #D2E3FC;\n",
              "    }\n",
              "\n",
              "    [theme=dark] .colab-df-convert:hover {\n",
              "      background-color: #434B5C;\n",
              "      box-shadow: 0px 1px 3px 1px rgba(0, 0, 0, 0.15);\n",
              "      filter: drop-shadow(0px 1px 2px rgba(0, 0, 0, 0.3));\n",
              "      fill: #FFFFFF;\n",
              "    }\n",
              "  </style>\n",
              "\n",
              "      <script>\n",
              "        const buttonEl =\n",
              "          document.querySelector('#df-351afa44-f9b7-439d-9333-c258bd8d68e2 button.colab-df-convert');\n",
              "        buttonEl.style.display =\n",
              "          google.colab.kernel.accessAllowed ? 'block' : 'none';\n",
              "\n",
              "        async function convertToInteractive(key) {\n",
              "          const element = document.querySelector('#df-351afa44-f9b7-439d-9333-c258bd8d68e2');\n",
              "          const dataTable =\n",
              "            await google.colab.kernel.invokeFunction('convertToInteractive',\n",
              "                                                     [key], {});\n",
              "          if (!dataTable) return;\n",
              "\n",
              "          const docLinkHtml = 'Like what you see? Visit the ' +\n",
              "            '<a target=\"_blank\" href=https://colab.research.google.com/notebooks/data_table.ipynb>data table notebook</a>'\n",
              "            + ' to learn more about interactive tables.';\n",
              "          element.innerHTML = '';\n",
              "          dataTable['output_type'] = 'display_data';\n",
              "          await google.colab.output.renderOutput(dataTable, element);\n",
              "          const docLink = document.createElement('div');\n",
              "          docLink.innerHTML = docLinkHtml;\n",
              "          element.appendChild(docLink);\n",
              "        }\n",
              "      </script>\n",
              "    </div>\n",
              "  </div>\n",
              "  "
            ]
          },
          "metadata": {}
        }
      ]
    },
    {
      "cell_type": "markdown",
      "source": [
        "## Q4b Report Answer\n",
        "\n",
        "In comparison to the prior baseline model, the RandomForestClassifier model with n estimators = 1000 and max depth = 10 performed better, with higher accuracy and precision scores. The recall score, however, has dropped, suggesting that the model is accurately identifying fewer actual positive samples.\n",
        "\n",
        "While the FPR score of 0.24 indicates that a smaller percentage of negative samples are being mistakenly forecasted as negative, the FNR value of 0.546 suggests that more than half of the actual positive samples are still being incorrectly projected as negative (as positive). Comparing this to the baseline model, which had a higher FPR score, is an improvement.\n",
        "\n",
        "The model also has better accuracy and precision ratings for both when broken down by gender. For both sexes, the recall score is still only moderately high, suggesting that the model may be lacking some positive samples. The FNR score is still quite high for both sexes, which indicates that a sizable percentage of genuine positive samples are still misclassified as negative.\n",
        "\n",
        "Males have a lower FPR score than females, which suggests that the model is less likely to predict negative samples as positive in error for males than for females.\n",
        "\n",
        "The demographic parity ratio of women to men is 0.868, the equalized odds ratio is 0.84, and the difference in the selection rate is 0.04. It appears that little has changed, and there has been little variation from the baseline.\n",
        "\n",
        "According to my research, each decision tree is trained on a random subset of the training data and a random subset of the features in the RandomForestClassifier model. A certain amount of variability or randomness may be introduced into the model by the random subsets of the data and characteristics.\n",
        "\n",
        "As a result, the model's enhanced complexity and depth, which enable it to capture more intricate correlations between the features and the target variable, are probably because of the effects of the modified hyperparameters. The model is also able to better capture data variability and mitigate the effects of random noise because to the increased number of estimators. That is, the model is better able to capture the overall patterns in the data and lessen the impact of random noise by increasing the number of estimators in the model (i.e., the number of decision trees).\n",
        "\n",
        "It is however important that as model complexity rises, so does the potential of overfitting. Hence, the goal here is to discover the ideal trade-off."
      ],
      "metadata": {
        "id": "bBsLz55C9chC"
      }
    },
    {
      "cell_type": "markdown",
      "source": [
        "# Problem 2, Part (c) \n",
        "### **Fit Fairlean Adversarial Debiaser**\n",
        "\n",
        "Experiment with the alpha parameter - which value of alpha produces the fairest and most accurate classifier? Does such a value exist?"
      ],
      "metadata": {
        "id": "1TxGuvaynIP6"
      }
    },
    {
      "cell_type": "code",
      "source": [
        "dfs_overall = {}\n",
        "dfs_bygroup = {}\n",
        "import random"
      ],
      "metadata": {
        "id": "sARhd5OO8NeD"
      },
      "execution_count": 20,
      "outputs": []
    },
    {
      "cell_type": "code",
      "source": [
        "#@markdown Fit the AdversarialFairnessClassifier here.\n",
        "#@markdown Use these hyperparameters, while varying the `alpha` parameter:\n",
        "#@markdown - backend='tensorflow',\n",
        "#@markdown - predictor_model=[128,64,32,16,8],\n",
        "#@markdown - adversary_model=[32,16,8],\n",
        "#@markdown - learning_rate=0.001,\n",
        "#@markdown - epochs=3,\n",
        "#@markdown - batch_size=16,\n",
        "#@markdown - constraints='demographic_parity',\n",
        "#@markdown - random_state=seed,\n",
        "#@markdown - shuffle=True\n",
        "\n",
        "%time\n",
        "for i in range(10):\n",
        "  for k in [0, 0.3, 0.7, 1]:\n",
        "    y_pred = AdversarialFairnessClassifier(backend='tensorflow',\n",
        "          predictor_model=[128,64,32,16,8],\n",
        "          adversary_model=[32,16,8],\n",
        "          learning_rate=0.001,\n",
        "          epochs=3,\n",
        "          batch_size=16,\n",
        "          constraints='demographic_parity',\n",
        "          random_state= random.randint(100, 1000),\n",
        "          shuffle=True,\n",
        "          alpha = k).fit(X_train, y_train, sensitive_features= X_train['gender_Female']).predict(X_test)\n",
        "    sensitive_f = X_test['gender_Female'].replace({1:'female', 0:'male'})\n",
        "\n",
        "    temp = MetricFrame(\n",
        "        metrics= metric_dict,\n",
        "        y_true=y_test,\n",
        "        y_pred=y_pred, \n",
        "        sensitive_features = sensitive_f,\n",
        "        sample_params = sample_p\n",
        "    )\n",
        "    dfs_overall[f'a_{i}_{k}'] = temp.overall.to_frame().transpose()\n",
        "    dfs_bygroup[f'a_{i}_{k}'] = temp.by_group.iloc[:,:5]\n",
        "    print(f\"finish {i} {k}\\n\")\n"
      ],
      "metadata": {
        "id": "IXHVzAFe_qE2",
        "colab": {
          "base_uri": "https://localhost:8080/"
        },
        "cellView": "code",
        "outputId": "e54343d9-1865-4a6c-882e-befc21b92e5e"
      },
      "execution_count": 21,
      "outputs": [
        {
          "output_type": "stream",
          "name": "stdout",
          "text": [
            "CPU times: user 3 µs, sys: 0 ns, total: 3 µs\n",
            "Wall time: 6.44 µs\n"
          ]
        },
        {
          "output_type": "stream",
          "name": "stderr",
          "text": [
            "/usr/local/lib/python3.9/dist-packages/sklearn/preprocessing/_encoders.py:868: FutureWarning: `sparse` was renamed to `sparse_output` in version 1.2 and will be removed in 1.4. `sparse_output` is ignored unless you leave `sparse` to its default value.\n",
            "  warnings.warn(\n",
            "/usr/local/lib/python3.9/dist-packages/sklearn/preprocessing/_encoders.py:868: FutureWarning: `sparse` was renamed to `sparse_output` in version 1.2 and will be removed in 1.4. `sparse_output` is ignored unless you leave `sparse` to its default value.\n",
            "  warnings.warn(\n",
            "/usr/local/lib/python3.9/dist-packages/keras/initializers/initializers_v2.py:120: UserWarning: The initializer GlorotNormal is unseeded and being called multiple times, which will return identical values  each time (even if the initializer is unseeded). Please update your code to provide a seed to the initializer, or avoid using the same initalizer instance more than once.\n",
            "  warnings.warn(\n",
            "WARNING:tensorflow:5 out of the last 5 calls to <function _BaseOptimizer._update_step_xla at 0x7fce681293a0> triggered tf.function retracing. Tracing is expensive and the excessive number of tracings could be due to (1) creating @tf.function repeatedly in a loop, (2) passing tensors with different shapes, (3) passing Python objects instead of tensors. For (1), please define your @tf.function outside of the loop. For (2), @tf.function has reduce_retracing=True option that can avoid unnecessary retracing. For (3), please refer to https://www.tensorflow.org/guide/function#controlling_retracing and https://www.tensorflow.org/api_docs/python/tf/function for  more details.\n",
            "WARNING:tensorflow:6 out of the last 6 calls to <function _BaseOptimizer._update_step_xla at 0x7fce681293a0> triggered tf.function retracing. Tracing is expensive and the excessive number of tracings could be due to (1) creating @tf.function repeatedly in a loop, (2) passing tensors with different shapes, (3) passing Python objects instead of tensors. For (1), please define your @tf.function outside of the loop. For (2), @tf.function has reduce_retracing=True option that can avoid unnecessary retracing. For (3), please refer to https://www.tensorflow.org/guide/function#controlling_retracing and https://www.tensorflow.org/api_docs/python/tf/function for  more details.\n"
          ]
        },
        {
          "output_type": "stream",
          "name": "stdout",
          "text": [
            "finish 0 0\n",
            "\n"
          ]
        },
        {
          "output_type": "stream",
          "name": "stderr",
          "text": [
            "/usr/local/lib/python3.9/dist-packages/sklearn/preprocessing/_encoders.py:868: FutureWarning: `sparse` was renamed to `sparse_output` in version 1.2 and will be removed in 1.4. `sparse_output` is ignored unless you leave `sparse` to its default value.\n",
            "  warnings.warn(\n",
            "/usr/local/lib/python3.9/dist-packages/sklearn/preprocessing/_encoders.py:868: FutureWarning: `sparse` was renamed to `sparse_output` in version 1.2 and will be removed in 1.4. `sparse_output` is ignored unless you leave `sparse` to its default value.\n",
            "  warnings.warn(\n",
            "/usr/local/lib/python3.9/dist-packages/keras/initializers/initializers_v2.py:120: UserWarning: The initializer GlorotNormal is unseeded and being called multiple times, which will return identical values  each time (even if the initializer is unseeded). Please update your code to provide a seed to the initializer, or avoid using the same initalizer instance more than once.\n",
            "  warnings.warn(\n"
          ]
        },
        {
          "output_type": "stream",
          "name": "stdout",
          "text": [
            "finish 0 0.3\n",
            "\n"
          ]
        },
        {
          "output_type": "stream",
          "name": "stderr",
          "text": [
            "/usr/local/lib/python3.9/dist-packages/sklearn/preprocessing/_encoders.py:868: FutureWarning: `sparse` was renamed to `sparse_output` in version 1.2 and will be removed in 1.4. `sparse_output` is ignored unless you leave `sparse` to its default value.\n",
            "  warnings.warn(\n",
            "/usr/local/lib/python3.9/dist-packages/sklearn/preprocessing/_encoders.py:868: FutureWarning: `sparse` was renamed to `sparse_output` in version 1.2 and will be removed in 1.4. `sparse_output` is ignored unless you leave `sparse` to its default value.\n",
            "  warnings.warn(\n",
            "/usr/local/lib/python3.9/dist-packages/keras/initializers/initializers_v2.py:120: UserWarning: The initializer GlorotNormal is unseeded and being called multiple times, which will return identical values  each time (even if the initializer is unseeded). Please update your code to provide a seed to the initializer, or avoid using the same initalizer instance more than once.\n",
            "  warnings.warn(\n"
          ]
        },
        {
          "output_type": "stream",
          "name": "stdout",
          "text": [
            "finish 0 0.7\n",
            "\n"
          ]
        },
        {
          "output_type": "stream",
          "name": "stderr",
          "text": [
            "/usr/local/lib/python3.9/dist-packages/sklearn/preprocessing/_encoders.py:868: FutureWarning: `sparse` was renamed to `sparse_output` in version 1.2 and will be removed in 1.4. `sparse_output` is ignored unless you leave `sparse` to its default value.\n",
            "  warnings.warn(\n",
            "/usr/local/lib/python3.9/dist-packages/sklearn/preprocessing/_encoders.py:868: FutureWarning: `sparse` was renamed to `sparse_output` in version 1.2 and will be removed in 1.4. `sparse_output` is ignored unless you leave `sparse` to its default value.\n",
            "  warnings.warn(\n",
            "/usr/local/lib/python3.9/dist-packages/keras/initializers/initializers_v2.py:120: UserWarning: The initializer GlorotNormal is unseeded and being called multiple times, which will return identical values  each time (even if the initializer is unseeded). Please update your code to provide a seed to the initializer, or avoid using the same initalizer instance more than once.\n",
            "  warnings.warn(\n"
          ]
        },
        {
          "output_type": "stream",
          "name": "stdout",
          "text": [
            "finish 0 1\n",
            "\n"
          ]
        },
        {
          "output_type": "stream",
          "name": "stderr",
          "text": [
            "/usr/local/lib/python3.9/dist-packages/sklearn/preprocessing/_encoders.py:868: FutureWarning: `sparse` was renamed to `sparse_output` in version 1.2 and will be removed in 1.4. `sparse_output` is ignored unless you leave `sparse` to its default value.\n",
            "  warnings.warn(\n",
            "/usr/local/lib/python3.9/dist-packages/sklearn/preprocessing/_encoders.py:868: FutureWarning: `sparse` was renamed to `sparse_output` in version 1.2 and will be removed in 1.4. `sparse_output` is ignored unless you leave `sparse` to its default value.\n",
            "  warnings.warn(\n",
            "/usr/local/lib/python3.9/dist-packages/keras/initializers/initializers_v2.py:120: UserWarning: The initializer GlorotNormal is unseeded and being called multiple times, which will return identical values  each time (even if the initializer is unseeded). Please update your code to provide a seed to the initializer, or avoid using the same initalizer instance more than once.\n",
            "  warnings.warn(\n"
          ]
        },
        {
          "output_type": "stream",
          "name": "stdout",
          "text": [
            "finish 1 0\n",
            "\n"
          ]
        },
        {
          "output_type": "stream",
          "name": "stderr",
          "text": [
            "/usr/local/lib/python3.9/dist-packages/sklearn/preprocessing/_encoders.py:868: FutureWarning: `sparse` was renamed to `sparse_output` in version 1.2 and will be removed in 1.4. `sparse_output` is ignored unless you leave `sparse` to its default value.\n",
            "  warnings.warn(\n",
            "/usr/local/lib/python3.9/dist-packages/sklearn/preprocessing/_encoders.py:868: FutureWarning: `sparse` was renamed to `sparse_output` in version 1.2 and will be removed in 1.4. `sparse_output` is ignored unless you leave `sparse` to its default value.\n",
            "  warnings.warn(\n",
            "/usr/local/lib/python3.9/dist-packages/keras/initializers/initializers_v2.py:120: UserWarning: The initializer GlorotNormal is unseeded and being called multiple times, which will return identical values  each time (even if the initializer is unseeded). Please update your code to provide a seed to the initializer, or avoid using the same initalizer instance more than once.\n",
            "  warnings.warn(\n"
          ]
        },
        {
          "output_type": "stream",
          "name": "stdout",
          "text": [
            "finish 1 0.3\n",
            "\n"
          ]
        },
        {
          "output_type": "stream",
          "name": "stderr",
          "text": [
            "/usr/local/lib/python3.9/dist-packages/sklearn/preprocessing/_encoders.py:868: FutureWarning: `sparse` was renamed to `sparse_output` in version 1.2 and will be removed in 1.4. `sparse_output` is ignored unless you leave `sparse` to its default value.\n",
            "  warnings.warn(\n",
            "/usr/local/lib/python3.9/dist-packages/sklearn/preprocessing/_encoders.py:868: FutureWarning: `sparse` was renamed to `sparse_output` in version 1.2 and will be removed in 1.4. `sparse_output` is ignored unless you leave `sparse` to its default value.\n",
            "  warnings.warn(\n",
            "/usr/local/lib/python3.9/dist-packages/keras/initializers/initializers_v2.py:120: UserWarning: The initializer GlorotNormal is unseeded and being called multiple times, which will return identical values  each time (even if the initializer is unseeded). Please update your code to provide a seed to the initializer, or avoid using the same initalizer instance more than once.\n",
            "  warnings.warn(\n"
          ]
        },
        {
          "output_type": "stream",
          "name": "stdout",
          "text": [
            "finish 1 0.7\n",
            "\n"
          ]
        },
        {
          "output_type": "stream",
          "name": "stderr",
          "text": [
            "/usr/local/lib/python3.9/dist-packages/sklearn/preprocessing/_encoders.py:868: FutureWarning: `sparse` was renamed to `sparse_output` in version 1.2 and will be removed in 1.4. `sparse_output` is ignored unless you leave `sparse` to its default value.\n",
            "  warnings.warn(\n",
            "/usr/local/lib/python3.9/dist-packages/sklearn/preprocessing/_encoders.py:868: FutureWarning: `sparse` was renamed to `sparse_output` in version 1.2 and will be removed in 1.4. `sparse_output` is ignored unless you leave `sparse` to its default value.\n",
            "  warnings.warn(\n",
            "/usr/local/lib/python3.9/dist-packages/keras/initializers/initializers_v2.py:120: UserWarning: The initializer GlorotNormal is unseeded and being called multiple times, which will return identical values  each time (even if the initializer is unseeded). Please update your code to provide a seed to the initializer, or avoid using the same initalizer instance more than once.\n",
            "  warnings.warn(\n"
          ]
        },
        {
          "output_type": "stream",
          "name": "stdout",
          "text": [
            "finish 1 1\n",
            "\n"
          ]
        },
        {
          "output_type": "stream",
          "name": "stderr",
          "text": [
            "/usr/local/lib/python3.9/dist-packages/sklearn/preprocessing/_encoders.py:868: FutureWarning: `sparse` was renamed to `sparse_output` in version 1.2 and will be removed in 1.4. `sparse_output` is ignored unless you leave `sparse` to its default value.\n",
            "  warnings.warn(\n",
            "/usr/local/lib/python3.9/dist-packages/sklearn/preprocessing/_encoders.py:868: FutureWarning: `sparse` was renamed to `sparse_output` in version 1.2 and will be removed in 1.4. `sparse_output` is ignored unless you leave `sparse` to its default value.\n",
            "  warnings.warn(\n",
            "/usr/local/lib/python3.9/dist-packages/keras/initializers/initializers_v2.py:120: UserWarning: The initializer GlorotNormal is unseeded and being called multiple times, which will return identical values  each time (even if the initializer is unseeded). Please update your code to provide a seed to the initializer, or avoid using the same initalizer instance more than once.\n",
            "  warnings.warn(\n"
          ]
        },
        {
          "output_type": "stream",
          "name": "stdout",
          "text": [
            "finish 2 0\n",
            "\n"
          ]
        },
        {
          "output_type": "stream",
          "name": "stderr",
          "text": [
            "/usr/local/lib/python3.9/dist-packages/sklearn/preprocessing/_encoders.py:868: FutureWarning: `sparse` was renamed to `sparse_output` in version 1.2 and will be removed in 1.4. `sparse_output` is ignored unless you leave `sparse` to its default value.\n",
            "  warnings.warn(\n",
            "/usr/local/lib/python3.9/dist-packages/sklearn/preprocessing/_encoders.py:868: FutureWarning: `sparse` was renamed to `sparse_output` in version 1.2 and will be removed in 1.4. `sparse_output` is ignored unless you leave `sparse` to its default value.\n",
            "  warnings.warn(\n",
            "/usr/local/lib/python3.9/dist-packages/keras/initializers/initializers_v2.py:120: UserWarning: The initializer GlorotNormal is unseeded and being called multiple times, which will return identical values  each time (even if the initializer is unseeded). Please update your code to provide a seed to the initializer, or avoid using the same initalizer instance more than once.\n",
            "  warnings.warn(\n"
          ]
        },
        {
          "output_type": "stream",
          "name": "stdout",
          "text": [
            "finish 2 0.3\n",
            "\n"
          ]
        },
        {
          "output_type": "stream",
          "name": "stderr",
          "text": [
            "/usr/local/lib/python3.9/dist-packages/sklearn/preprocessing/_encoders.py:868: FutureWarning: `sparse` was renamed to `sparse_output` in version 1.2 and will be removed in 1.4. `sparse_output` is ignored unless you leave `sparse` to its default value.\n",
            "  warnings.warn(\n",
            "/usr/local/lib/python3.9/dist-packages/sklearn/preprocessing/_encoders.py:868: FutureWarning: `sparse` was renamed to `sparse_output` in version 1.2 and will be removed in 1.4. `sparse_output` is ignored unless you leave `sparse` to its default value.\n",
            "  warnings.warn(\n",
            "/usr/local/lib/python3.9/dist-packages/keras/initializers/initializers_v2.py:120: UserWarning: The initializer GlorotNormal is unseeded and being called multiple times, which will return identical values  each time (even if the initializer is unseeded). Please update your code to provide a seed to the initializer, or avoid using the same initalizer instance more than once.\n",
            "  warnings.warn(\n"
          ]
        },
        {
          "output_type": "stream",
          "name": "stdout",
          "text": [
            "finish 2 0.7\n",
            "\n"
          ]
        },
        {
          "output_type": "stream",
          "name": "stderr",
          "text": [
            "/usr/local/lib/python3.9/dist-packages/sklearn/preprocessing/_encoders.py:868: FutureWarning: `sparse` was renamed to `sparse_output` in version 1.2 and will be removed in 1.4. `sparse_output` is ignored unless you leave `sparse` to its default value.\n",
            "  warnings.warn(\n",
            "/usr/local/lib/python3.9/dist-packages/sklearn/preprocessing/_encoders.py:868: FutureWarning: `sparse` was renamed to `sparse_output` in version 1.2 and will be removed in 1.4. `sparse_output` is ignored unless you leave `sparse` to its default value.\n",
            "  warnings.warn(\n",
            "/usr/local/lib/python3.9/dist-packages/keras/initializers/initializers_v2.py:120: UserWarning: The initializer GlorotNormal is unseeded and being called multiple times, which will return identical values  each time (even if the initializer is unseeded). Please update your code to provide a seed to the initializer, or avoid using the same initalizer instance more than once.\n",
            "  warnings.warn(\n"
          ]
        },
        {
          "output_type": "stream",
          "name": "stdout",
          "text": [
            "finish 2 1\n",
            "\n"
          ]
        },
        {
          "output_type": "stream",
          "name": "stderr",
          "text": [
            "/usr/local/lib/python3.9/dist-packages/sklearn/preprocessing/_encoders.py:868: FutureWarning: `sparse` was renamed to `sparse_output` in version 1.2 and will be removed in 1.4. `sparse_output` is ignored unless you leave `sparse` to its default value.\n",
            "  warnings.warn(\n",
            "/usr/local/lib/python3.9/dist-packages/sklearn/preprocessing/_encoders.py:868: FutureWarning: `sparse` was renamed to `sparse_output` in version 1.2 and will be removed in 1.4. `sparse_output` is ignored unless you leave `sparse` to its default value.\n",
            "  warnings.warn(\n",
            "/usr/local/lib/python3.9/dist-packages/keras/initializers/initializers_v2.py:120: UserWarning: The initializer GlorotNormal is unseeded and being called multiple times, which will return identical values  each time (even if the initializer is unseeded). Please update your code to provide a seed to the initializer, or avoid using the same initalizer instance more than once.\n",
            "  warnings.warn(\n"
          ]
        },
        {
          "output_type": "stream",
          "name": "stdout",
          "text": [
            "finish 3 0\n",
            "\n"
          ]
        },
        {
          "output_type": "stream",
          "name": "stderr",
          "text": [
            "/usr/local/lib/python3.9/dist-packages/sklearn/preprocessing/_encoders.py:868: FutureWarning: `sparse` was renamed to `sparse_output` in version 1.2 and will be removed in 1.4. `sparse_output` is ignored unless you leave `sparse` to its default value.\n",
            "  warnings.warn(\n",
            "/usr/local/lib/python3.9/dist-packages/sklearn/preprocessing/_encoders.py:868: FutureWarning: `sparse` was renamed to `sparse_output` in version 1.2 and will be removed in 1.4. `sparse_output` is ignored unless you leave `sparse` to its default value.\n",
            "  warnings.warn(\n",
            "/usr/local/lib/python3.9/dist-packages/keras/initializers/initializers_v2.py:120: UserWarning: The initializer GlorotNormal is unseeded and being called multiple times, which will return identical values  each time (even if the initializer is unseeded). Please update your code to provide a seed to the initializer, or avoid using the same initalizer instance more than once.\n",
            "  warnings.warn(\n"
          ]
        },
        {
          "output_type": "stream",
          "name": "stdout",
          "text": [
            "finish 3 0.3\n",
            "\n"
          ]
        },
        {
          "output_type": "stream",
          "name": "stderr",
          "text": [
            "/usr/local/lib/python3.9/dist-packages/sklearn/preprocessing/_encoders.py:868: FutureWarning: `sparse` was renamed to `sparse_output` in version 1.2 and will be removed in 1.4. `sparse_output` is ignored unless you leave `sparse` to its default value.\n",
            "  warnings.warn(\n",
            "/usr/local/lib/python3.9/dist-packages/sklearn/preprocessing/_encoders.py:868: FutureWarning: `sparse` was renamed to `sparse_output` in version 1.2 and will be removed in 1.4. `sparse_output` is ignored unless you leave `sparse` to its default value.\n",
            "  warnings.warn(\n",
            "/usr/local/lib/python3.9/dist-packages/keras/initializers/initializers_v2.py:120: UserWarning: The initializer GlorotNormal is unseeded and being called multiple times, which will return identical values  each time (even if the initializer is unseeded). Please update your code to provide a seed to the initializer, or avoid using the same initalizer instance more than once.\n",
            "  warnings.warn(\n"
          ]
        },
        {
          "output_type": "stream",
          "name": "stdout",
          "text": [
            "finish 3 0.7\n",
            "\n"
          ]
        },
        {
          "output_type": "stream",
          "name": "stderr",
          "text": [
            "/usr/local/lib/python3.9/dist-packages/sklearn/preprocessing/_encoders.py:868: FutureWarning: `sparse` was renamed to `sparse_output` in version 1.2 and will be removed in 1.4. `sparse_output` is ignored unless you leave `sparse` to its default value.\n",
            "  warnings.warn(\n",
            "/usr/local/lib/python3.9/dist-packages/sklearn/preprocessing/_encoders.py:868: FutureWarning: `sparse` was renamed to `sparse_output` in version 1.2 and will be removed in 1.4. `sparse_output` is ignored unless you leave `sparse` to its default value.\n",
            "  warnings.warn(\n",
            "/usr/local/lib/python3.9/dist-packages/keras/initializers/initializers_v2.py:120: UserWarning: The initializer GlorotNormal is unseeded and being called multiple times, which will return identical values  each time (even if the initializer is unseeded). Please update your code to provide a seed to the initializer, or avoid using the same initalizer instance more than once.\n",
            "  warnings.warn(\n"
          ]
        },
        {
          "output_type": "stream",
          "name": "stdout",
          "text": [
            "finish 3 1\n",
            "\n"
          ]
        },
        {
          "output_type": "stream",
          "name": "stderr",
          "text": [
            "/usr/local/lib/python3.9/dist-packages/sklearn/preprocessing/_encoders.py:868: FutureWarning: `sparse` was renamed to `sparse_output` in version 1.2 and will be removed in 1.4. `sparse_output` is ignored unless you leave `sparse` to its default value.\n",
            "  warnings.warn(\n",
            "/usr/local/lib/python3.9/dist-packages/sklearn/preprocessing/_encoders.py:868: FutureWarning: `sparse` was renamed to `sparse_output` in version 1.2 and will be removed in 1.4. `sparse_output` is ignored unless you leave `sparse` to its default value.\n",
            "  warnings.warn(\n",
            "/usr/local/lib/python3.9/dist-packages/keras/initializers/initializers_v2.py:120: UserWarning: The initializer GlorotNormal is unseeded and being called multiple times, which will return identical values  each time (even if the initializer is unseeded). Please update your code to provide a seed to the initializer, or avoid using the same initalizer instance more than once.\n",
            "  warnings.warn(\n"
          ]
        },
        {
          "output_type": "stream",
          "name": "stdout",
          "text": [
            "finish 4 0\n",
            "\n"
          ]
        },
        {
          "output_type": "stream",
          "name": "stderr",
          "text": [
            "/usr/local/lib/python3.9/dist-packages/sklearn/preprocessing/_encoders.py:868: FutureWarning: `sparse` was renamed to `sparse_output` in version 1.2 and will be removed in 1.4. `sparse_output` is ignored unless you leave `sparse` to its default value.\n",
            "  warnings.warn(\n",
            "/usr/local/lib/python3.9/dist-packages/sklearn/preprocessing/_encoders.py:868: FutureWarning: `sparse` was renamed to `sparse_output` in version 1.2 and will be removed in 1.4. `sparse_output` is ignored unless you leave `sparse` to its default value.\n",
            "  warnings.warn(\n",
            "/usr/local/lib/python3.9/dist-packages/keras/initializers/initializers_v2.py:120: UserWarning: The initializer GlorotNormal is unseeded and being called multiple times, which will return identical values  each time (even if the initializer is unseeded). Please update your code to provide a seed to the initializer, or avoid using the same initalizer instance more than once.\n",
            "  warnings.warn(\n"
          ]
        },
        {
          "output_type": "stream",
          "name": "stdout",
          "text": [
            "finish 4 0.3\n",
            "\n"
          ]
        },
        {
          "output_type": "stream",
          "name": "stderr",
          "text": [
            "/usr/local/lib/python3.9/dist-packages/sklearn/preprocessing/_encoders.py:868: FutureWarning: `sparse` was renamed to `sparse_output` in version 1.2 and will be removed in 1.4. `sparse_output` is ignored unless you leave `sparse` to its default value.\n",
            "  warnings.warn(\n",
            "/usr/local/lib/python3.9/dist-packages/sklearn/preprocessing/_encoders.py:868: FutureWarning: `sparse` was renamed to `sparse_output` in version 1.2 and will be removed in 1.4. `sparse_output` is ignored unless you leave `sparse` to its default value.\n",
            "  warnings.warn(\n",
            "/usr/local/lib/python3.9/dist-packages/keras/initializers/initializers_v2.py:120: UserWarning: The initializer GlorotNormal is unseeded and being called multiple times, which will return identical values  each time (even if the initializer is unseeded). Please update your code to provide a seed to the initializer, or avoid using the same initalizer instance more than once.\n",
            "  warnings.warn(\n"
          ]
        },
        {
          "output_type": "stream",
          "name": "stdout",
          "text": [
            "finish 4 0.7\n",
            "\n"
          ]
        },
        {
          "output_type": "stream",
          "name": "stderr",
          "text": [
            "/usr/local/lib/python3.9/dist-packages/sklearn/preprocessing/_encoders.py:868: FutureWarning: `sparse` was renamed to `sparse_output` in version 1.2 and will be removed in 1.4. `sparse_output` is ignored unless you leave `sparse` to its default value.\n",
            "  warnings.warn(\n",
            "/usr/local/lib/python3.9/dist-packages/sklearn/preprocessing/_encoders.py:868: FutureWarning: `sparse` was renamed to `sparse_output` in version 1.2 and will be removed in 1.4. `sparse_output` is ignored unless you leave `sparse` to its default value.\n",
            "  warnings.warn(\n",
            "/usr/local/lib/python3.9/dist-packages/keras/initializers/initializers_v2.py:120: UserWarning: The initializer GlorotNormal is unseeded and being called multiple times, which will return identical values  each time (even if the initializer is unseeded). Please update your code to provide a seed to the initializer, or avoid using the same initalizer instance more than once.\n",
            "  warnings.warn(\n"
          ]
        },
        {
          "output_type": "stream",
          "name": "stdout",
          "text": [
            "finish 4 1\n",
            "\n"
          ]
        },
        {
          "output_type": "stream",
          "name": "stderr",
          "text": [
            "/usr/local/lib/python3.9/dist-packages/sklearn/preprocessing/_encoders.py:868: FutureWarning: `sparse` was renamed to `sparse_output` in version 1.2 and will be removed in 1.4. `sparse_output` is ignored unless you leave `sparse` to its default value.\n",
            "  warnings.warn(\n",
            "/usr/local/lib/python3.9/dist-packages/sklearn/preprocessing/_encoders.py:868: FutureWarning: `sparse` was renamed to `sparse_output` in version 1.2 and will be removed in 1.4. `sparse_output` is ignored unless you leave `sparse` to its default value.\n",
            "  warnings.warn(\n",
            "/usr/local/lib/python3.9/dist-packages/keras/initializers/initializers_v2.py:120: UserWarning: The initializer GlorotNormal is unseeded and being called multiple times, which will return identical values  each time (even if the initializer is unseeded). Please update your code to provide a seed to the initializer, or avoid using the same initalizer instance more than once.\n",
            "  warnings.warn(\n"
          ]
        },
        {
          "output_type": "stream",
          "name": "stdout",
          "text": [
            "finish 5 0\n",
            "\n"
          ]
        },
        {
          "output_type": "stream",
          "name": "stderr",
          "text": [
            "/usr/local/lib/python3.9/dist-packages/sklearn/preprocessing/_encoders.py:868: FutureWarning: `sparse` was renamed to `sparse_output` in version 1.2 and will be removed in 1.4. `sparse_output` is ignored unless you leave `sparse` to its default value.\n",
            "  warnings.warn(\n",
            "/usr/local/lib/python3.9/dist-packages/sklearn/preprocessing/_encoders.py:868: FutureWarning: `sparse` was renamed to `sparse_output` in version 1.2 and will be removed in 1.4. `sparse_output` is ignored unless you leave `sparse` to its default value.\n",
            "  warnings.warn(\n",
            "/usr/local/lib/python3.9/dist-packages/keras/initializers/initializers_v2.py:120: UserWarning: The initializer GlorotNormal is unseeded and being called multiple times, which will return identical values  each time (even if the initializer is unseeded). Please update your code to provide a seed to the initializer, or avoid using the same initalizer instance more than once.\n",
            "  warnings.warn(\n"
          ]
        },
        {
          "output_type": "stream",
          "name": "stdout",
          "text": [
            "finish 5 0.3\n",
            "\n"
          ]
        },
        {
          "output_type": "stream",
          "name": "stderr",
          "text": [
            "/usr/local/lib/python3.9/dist-packages/sklearn/preprocessing/_encoders.py:868: FutureWarning: `sparse` was renamed to `sparse_output` in version 1.2 and will be removed in 1.4. `sparse_output` is ignored unless you leave `sparse` to its default value.\n",
            "  warnings.warn(\n",
            "/usr/local/lib/python3.9/dist-packages/sklearn/preprocessing/_encoders.py:868: FutureWarning: `sparse` was renamed to `sparse_output` in version 1.2 and will be removed in 1.4. `sparse_output` is ignored unless you leave `sparse` to its default value.\n",
            "  warnings.warn(\n",
            "/usr/local/lib/python3.9/dist-packages/keras/initializers/initializers_v2.py:120: UserWarning: The initializer GlorotNormal is unseeded and being called multiple times, which will return identical values  each time (even if the initializer is unseeded). Please update your code to provide a seed to the initializer, or avoid using the same initalizer instance more than once.\n",
            "  warnings.warn(\n"
          ]
        },
        {
          "output_type": "stream",
          "name": "stdout",
          "text": [
            "finish 5 0.7\n",
            "\n"
          ]
        },
        {
          "output_type": "stream",
          "name": "stderr",
          "text": [
            "/usr/local/lib/python3.9/dist-packages/sklearn/preprocessing/_encoders.py:868: FutureWarning: `sparse` was renamed to `sparse_output` in version 1.2 and will be removed in 1.4. `sparse_output` is ignored unless you leave `sparse` to its default value.\n",
            "  warnings.warn(\n",
            "/usr/local/lib/python3.9/dist-packages/sklearn/preprocessing/_encoders.py:868: FutureWarning: `sparse` was renamed to `sparse_output` in version 1.2 and will be removed in 1.4. `sparse_output` is ignored unless you leave `sparse` to its default value.\n",
            "  warnings.warn(\n",
            "/usr/local/lib/python3.9/dist-packages/keras/initializers/initializers_v2.py:120: UserWarning: The initializer GlorotNormal is unseeded and being called multiple times, which will return identical values  each time (even if the initializer is unseeded). Please update your code to provide a seed to the initializer, or avoid using the same initalizer instance more than once.\n",
            "  warnings.warn(\n"
          ]
        },
        {
          "output_type": "stream",
          "name": "stdout",
          "text": [
            "finish 5 1\n",
            "\n"
          ]
        },
        {
          "output_type": "stream",
          "name": "stderr",
          "text": [
            "/usr/local/lib/python3.9/dist-packages/sklearn/preprocessing/_encoders.py:868: FutureWarning: `sparse` was renamed to `sparse_output` in version 1.2 and will be removed in 1.4. `sparse_output` is ignored unless you leave `sparse` to its default value.\n",
            "  warnings.warn(\n",
            "/usr/local/lib/python3.9/dist-packages/sklearn/preprocessing/_encoders.py:868: FutureWarning: `sparse` was renamed to `sparse_output` in version 1.2 and will be removed in 1.4. `sparse_output` is ignored unless you leave `sparse` to its default value.\n",
            "  warnings.warn(\n",
            "/usr/local/lib/python3.9/dist-packages/keras/initializers/initializers_v2.py:120: UserWarning: The initializer GlorotNormal is unseeded and being called multiple times, which will return identical values  each time (even if the initializer is unseeded). Please update your code to provide a seed to the initializer, or avoid using the same initalizer instance more than once.\n",
            "  warnings.warn(\n"
          ]
        },
        {
          "output_type": "stream",
          "name": "stdout",
          "text": [
            "finish 6 0\n",
            "\n"
          ]
        },
        {
          "output_type": "stream",
          "name": "stderr",
          "text": [
            "/usr/local/lib/python3.9/dist-packages/sklearn/preprocessing/_encoders.py:868: FutureWarning: `sparse` was renamed to `sparse_output` in version 1.2 and will be removed in 1.4. `sparse_output` is ignored unless you leave `sparse` to its default value.\n",
            "  warnings.warn(\n",
            "/usr/local/lib/python3.9/dist-packages/sklearn/preprocessing/_encoders.py:868: FutureWarning: `sparse` was renamed to `sparse_output` in version 1.2 and will be removed in 1.4. `sparse_output` is ignored unless you leave `sparse` to its default value.\n",
            "  warnings.warn(\n",
            "/usr/local/lib/python3.9/dist-packages/keras/initializers/initializers_v2.py:120: UserWarning: The initializer GlorotNormal is unseeded and being called multiple times, which will return identical values  each time (even if the initializer is unseeded). Please update your code to provide a seed to the initializer, or avoid using the same initalizer instance more than once.\n",
            "  warnings.warn(\n"
          ]
        },
        {
          "output_type": "stream",
          "name": "stdout",
          "text": [
            "finish 6 0.3\n",
            "\n"
          ]
        },
        {
          "output_type": "stream",
          "name": "stderr",
          "text": [
            "/usr/local/lib/python3.9/dist-packages/sklearn/preprocessing/_encoders.py:868: FutureWarning: `sparse` was renamed to `sparse_output` in version 1.2 and will be removed in 1.4. `sparse_output` is ignored unless you leave `sparse` to its default value.\n",
            "  warnings.warn(\n",
            "/usr/local/lib/python3.9/dist-packages/sklearn/preprocessing/_encoders.py:868: FutureWarning: `sparse` was renamed to `sparse_output` in version 1.2 and will be removed in 1.4. `sparse_output` is ignored unless you leave `sparse` to its default value.\n",
            "  warnings.warn(\n",
            "/usr/local/lib/python3.9/dist-packages/keras/initializers/initializers_v2.py:120: UserWarning: The initializer GlorotNormal is unseeded and being called multiple times, which will return identical values  each time (even if the initializer is unseeded). Please update your code to provide a seed to the initializer, or avoid using the same initalizer instance more than once.\n",
            "  warnings.warn(\n"
          ]
        },
        {
          "output_type": "stream",
          "name": "stdout",
          "text": [
            "finish 6 0.7\n",
            "\n"
          ]
        },
        {
          "output_type": "stream",
          "name": "stderr",
          "text": [
            "/usr/local/lib/python3.9/dist-packages/sklearn/preprocessing/_encoders.py:868: FutureWarning: `sparse` was renamed to `sparse_output` in version 1.2 and will be removed in 1.4. `sparse_output` is ignored unless you leave `sparse` to its default value.\n",
            "  warnings.warn(\n",
            "/usr/local/lib/python3.9/dist-packages/sklearn/preprocessing/_encoders.py:868: FutureWarning: `sparse` was renamed to `sparse_output` in version 1.2 and will be removed in 1.4. `sparse_output` is ignored unless you leave `sparse` to its default value.\n",
            "  warnings.warn(\n",
            "/usr/local/lib/python3.9/dist-packages/keras/initializers/initializers_v2.py:120: UserWarning: The initializer GlorotNormal is unseeded and being called multiple times, which will return identical values  each time (even if the initializer is unseeded). Please update your code to provide a seed to the initializer, or avoid using the same initalizer instance more than once.\n",
            "  warnings.warn(\n"
          ]
        },
        {
          "output_type": "stream",
          "name": "stdout",
          "text": [
            "finish 6 1\n",
            "\n"
          ]
        },
        {
          "output_type": "stream",
          "name": "stderr",
          "text": [
            "/usr/local/lib/python3.9/dist-packages/sklearn/preprocessing/_encoders.py:868: FutureWarning: `sparse` was renamed to `sparse_output` in version 1.2 and will be removed in 1.4. `sparse_output` is ignored unless you leave `sparse` to its default value.\n",
            "  warnings.warn(\n",
            "/usr/local/lib/python3.9/dist-packages/sklearn/preprocessing/_encoders.py:868: FutureWarning: `sparse` was renamed to `sparse_output` in version 1.2 and will be removed in 1.4. `sparse_output` is ignored unless you leave `sparse` to its default value.\n",
            "  warnings.warn(\n",
            "/usr/local/lib/python3.9/dist-packages/keras/initializers/initializers_v2.py:120: UserWarning: The initializer GlorotNormal is unseeded and being called multiple times, which will return identical values  each time (even if the initializer is unseeded). Please update your code to provide a seed to the initializer, or avoid using the same initalizer instance more than once.\n",
            "  warnings.warn(\n"
          ]
        },
        {
          "output_type": "stream",
          "name": "stdout",
          "text": [
            "finish 7 0\n",
            "\n"
          ]
        },
        {
          "output_type": "stream",
          "name": "stderr",
          "text": [
            "/usr/local/lib/python3.9/dist-packages/sklearn/preprocessing/_encoders.py:868: FutureWarning: `sparse` was renamed to `sparse_output` in version 1.2 and will be removed in 1.4. `sparse_output` is ignored unless you leave `sparse` to its default value.\n",
            "  warnings.warn(\n",
            "/usr/local/lib/python3.9/dist-packages/sklearn/preprocessing/_encoders.py:868: FutureWarning: `sparse` was renamed to `sparse_output` in version 1.2 and will be removed in 1.4. `sparse_output` is ignored unless you leave `sparse` to its default value.\n",
            "  warnings.warn(\n",
            "/usr/local/lib/python3.9/dist-packages/keras/initializers/initializers_v2.py:120: UserWarning: The initializer GlorotNormal is unseeded and being called multiple times, which will return identical values  each time (even if the initializer is unseeded). Please update your code to provide a seed to the initializer, or avoid using the same initalizer instance more than once.\n",
            "  warnings.warn(\n"
          ]
        },
        {
          "output_type": "stream",
          "name": "stdout",
          "text": [
            "finish 7 0.3\n",
            "\n"
          ]
        },
        {
          "output_type": "stream",
          "name": "stderr",
          "text": [
            "/usr/local/lib/python3.9/dist-packages/sklearn/preprocessing/_encoders.py:868: FutureWarning: `sparse` was renamed to `sparse_output` in version 1.2 and will be removed in 1.4. `sparse_output` is ignored unless you leave `sparse` to its default value.\n",
            "  warnings.warn(\n",
            "/usr/local/lib/python3.9/dist-packages/sklearn/preprocessing/_encoders.py:868: FutureWarning: `sparse` was renamed to `sparse_output` in version 1.2 and will be removed in 1.4. `sparse_output` is ignored unless you leave `sparse` to its default value.\n",
            "  warnings.warn(\n",
            "/usr/local/lib/python3.9/dist-packages/keras/initializers/initializers_v2.py:120: UserWarning: The initializer GlorotNormal is unseeded and being called multiple times, which will return identical values  each time (even if the initializer is unseeded). Please update your code to provide a seed to the initializer, or avoid using the same initalizer instance more than once.\n",
            "  warnings.warn(\n"
          ]
        },
        {
          "output_type": "stream",
          "name": "stdout",
          "text": [
            "finish 7 0.7\n",
            "\n"
          ]
        },
        {
          "output_type": "stream",
          "name": "stderr",
          "text": [
            "/usr/local/lib/python3.9/dist-packages/sklearn/preprocessing/_encoders.py:868: FutureWarning: `sparse` was renamed to `sparse_output` in version 1.2 and will be removed in 1.4. `sparse_output` is ignored unless you leave `sparse` to its default value.\n",
            "  warnings.warn(\n",
            "/usr/local/lib/python3.9/dist-packages/sklearn/preprocessing/_encoders.py:868: FutureWarning: `sparse` was renamed to `sparse_output` in version 1.2 and will be removed in 1.4. `sparse_output` is ignored unless you leave `sparse` to its default value.\n",
            "  warnings.warn(\n",
            "/usr/local/lib/python3.9/dist-packages/keras/initializers/initializers_v2.py:120: UserWarning: The initializer GlorotNormal is unseeded and being called multiple times, which will return identical values  each time (even if the initializer is unseeded). Please update your code to provide a seed to the initializer, or avoid using the same initalizer instance more than once.\n",
            "  warnings.warn(\n"
          ]
        },
        {
          "output_type": "stream",
          "name": "stdout",
          "text": [
            "finish 7 1\n",
            "\n"
          ]
        },
        {
          "output_type": "stream",
          "name": "stderr",
          "text": [
            "/usr/local/lib/python3.9/dist-packages/sklearn/preprocessing/_encoders.py:868: FutureWarning: `sparse` was renamed to `sparse_output` in version 1.2 and will be removed in 1.4. `sparse_output` is ignored unless you leave `sparse` to its default value.\n",
            "  warnings.warn(\n",
            "/usr/local/lib/python3.9/dist-packages/sklearn/preprocessing/_encoders.py:868: FutureWarning: `sparse` was renamed to `sparse_output` in version 1.2 and will be removed in 1.4. `sparse_output` is ignored unless you leave `sparse` to its default value.\n",
            "  warnings.warn(\n",
            "/usr/local/lib/python3.9/dist-packages/keras/initializers/initializers_v2.py:120: UserWarning: The initializer GlorotNormal is unseeded and being called multiple times, which will return identical values  each time (even if the initializer is unseeded). Please update your code to provide a seed to the initializer, or avoid using the same initalizer instance more than once.\n",
            "  warnings.warn(\n"
          ]
        },
        {
          "output_type": "stream",
          "name": "stdout",
          "text": [
            "finish 8 0\n",
            "\n"
          ]
        },
        {
          "output_type": "stream",
          "name": "stderr",
          "text": [
            "/usr/local/lib/python3.9/dist-packages/sklearn/preprocessing/_encoders.py:868: FutureWarning: `sparse` was renamed to `sparse_output` in version 1.2 and will be removed in 1.4. `sparse_output` is ignored unless you leave `sparse` to its default value.\n",
            "  warnings.warn(\n",
            "/usr/local/lib/python3.9/dist-packages/sklearn/preprocessing/_encoders.py:868: FutureWarning: `sparse` was renamed to `sparse_output` in version 1.2 and will be removed in 1.4. `sparse_output` is ignored unless you leave `sparse` to its default value.\n",
            "  warnings.warn(\n",
            "/usr/local/lib/python3.9/dist-packages/keras/initializers/initializers_v2.py:120: UserWarning: The initializer GlorotNormal is unseeded and being called multiple times, which will return identical values  each time (even if the initializer is unseeded). Please update your code to provide a seed to the initializer, or avoid using the same initalizer instance more than once.\n",
            "  warnings.warn(\n"
          ]
        },
        {
          "output_type": "stream",
          "name": "stdout",
          "text": [
            "finish 8 0.3\n",
            "\n"
          ]
        },
        {
          "output_type": "stream",
          "name": "stderr",
          "text": [
            "/usr/local/lib/python3.9/dist-packages/sklearn/preprocessing/_encoders.py:868: FutureWarning: `sparse` was renamed to `sparse_output` in version 1.2 and will be removed in 1.4. `sparse_output` is ignored unless you leave `sparse` to its default value.\n",
            "  warnings.warn(\n",
            "/usr/local/lib/python3.9/dist-packages/sklearn/preprocessing/_encoders.py:868: FutureWarning: `sparse` was renamed to `sparse_output` in version 1.2 and will be removed in 1.4. `sparse_output` is ignored unless you leave `sparse` to its default value.\n",
            "  warnings.warn(\n",
            "/usr/local/lib/python3.9/dist-packages/keras/initializers/initializers_v2.py:120: UserWarning: The initializer GlorotNormal is unseeded and being called multiple times, which will return identical values  each time (even if the initializer is unseeded). Please update your code to provide a seed to the initializer, or avoid using the same initalizer instance more than once.\n",
            "  warnings.warn(\n"
          ]
        },
        {
          "output_type": "stream",
          "name": "stdout",
          "text": [
            "finish 8 0.7\n",
            "\n"
          ]
        },
        {
          "output_type": "stream",
          "name": "stderr",
          "text": [
            "/usr/local/lib/python3.9/dist-packages/sklearn/preprocessing/_encoders.py:868: FutureWarning: `sparse` was renamed to `sparse_output` in version 1.2 and will be removed in 1.4. `sparse_output` is ignored unless you leave `sparse` to its default value.\n",
            "  warnings.warn(\n",
            "/usr/local/lib/python3.9/dist-packages/sklearn/preprocessing/_encoders.py:868: FutureWarning: `sparse` was renamed to `sparse_output` in version 1.2 and will be removed in 1.4. `sparse_output` is ignored unless you leave `sparse` to its default value.\n",
            "  warnings.warn(\n",
            "/usr/local/lib/python3.9/dist-packages/keras/initializers/initializers_v2.py:120: UserWarning: The initializer GlorotNormal is unseeded and being called multiple times, which will return identical values  each time (even if the initializer is unseeded). Please update your code to provide a seed to the initializer, or avoid using the same initalizer instance more than once.\n",
            "  warnings.warn(\n"
          ]
        },
        {
          "output_type": "stream",
          "name": "stdout",
          "text": [
            "finish 8 1\n",
            "\n"
          ]
        },
        {
          "output_type": "stream",
          "name": "stderr",
          "text": [
            "/usr/local/lib/python3.9/dist-packages/sklearn/preprocessing/_encoders.py:868: FutureWarning: `sparse` was renamed to `sparse_output` in version 1.2 and will be removed in 1.4. `sparse_output` is ignored unless you leave `sparse` to its default value.\n",
            "  warnings.warn(\n",
            "/usr/local/lib/python3.9/dist-packages/sklearn/preprocessing/_encoders.py:868: FutureWarning: `sparse` was renamed to `sparse_output` in version 1.2 and will be removed in 1.4. `sparse_output` is ignored unless you leave `sparse` to its default value.\n",
            "  warnings.warn(\n",
            "/usr/local/lib/python3.9/dist-packages/keras/initializers/initializers_v2.py:120: UserWarning: The initializer GlorotNormal is unseeded and being called multiple times, which will return identical values  each time (even if the initializer is unseeded). Please update your code to provide a seed to the initializer, or avoid using the same initalizer instance more than once.\n",
            "  warnings.warn(\n"
          ]
        },
        {
          "output_type": "stream",
          "name": "stdout",
          "text": [
            "finish 9 0\n",
            "\n"
          ]
        },
        {
          "output_type": "stream",
          "name": "stderr",
          "text": [
            "/usr/local/lib/python3.9/dist-packages/sklearn/preprocessing/_encoders.py:868: FutureWarning: `sparse` was renamed to `sparse_output` in version 1.2 and will be removed in 1.4. `sparse_output` is ignored unless you leave `sparse` to its default value.\n",
            "  warnings.warn(\n",
            "/usr/local/lib/python3.9/dist-packages/sklearn/preprocessing/_encoders.py:868: FutureWarning: `sparse` was renamed to `sparse_output` in version 1.2 and will be removed in 1.4. `sparse_output` is ignored unless you leave `sparse` to its default value.\n",
            "  warnings.warn(\n",
            "/usr/local/lib/python3.9/dist-packages/keras/initializers/initializers_v2.py:120: UserWarning: The initializer GlorotNormal is unseeded and being called multiple times, which will return identical values  each time (even if the initializer is unseeded). Please update your code to provide a seed to the initializer, or avoid using the same initalizer instance more than once.\n",
            "  warnings.warn(\n"
          ]
        },
        {
          "output_type": "stream",
          "name": "stdout",
          "text": [
            "finish 9 0.3\n",
            "\n"
          ]
        },
        {
          "output_type": "stream",
          "name": "stderr",
          "text": [
            "/usr/local/lib/python3.9/dist-packages/sklearn/preprocessing/_encoders.py:868: FutureWarning: `sparse` was renamed to `sparse_output` in version 1.2 and will be removed in 1.4. `sparse_output` is ignored unless you leave `sparse` to its default value.\n",
            "  warnings.warn(\n",
            "/usr/local/lib/python3.9/dist-packages/sklearn/preprocessing/_encoders.py:868: FutureWarning: `sparse` was renamed to `sparse_output` in version 1.2 and will be removed in 1.4. `sparse_output` is ignored unless you leave `sparse` to its default value.\n",
            "  warnings.warn(\n",
            "/usr/local/lib/python3.9/dist-packages/keras/initializers/initializers_v2.py:120: UserWarning: The initializer GlorotNormal is unseeded and being called multiple times, which will return identical values  each time (even if the initializer is unseeded). Please update your code to provide a seed to the initializer, or avoid using the same initalizer instance more than once.\n",
            "  warnings.warn(\n"
          ]
        },
        {
          "output_type": "stream",
          "name": "stdout",
          "text": [
            "finish 9 0.7\n",
            "\n"
          ]
        },
        {
          "output_type": "stream",
          "name": "stderr",
          "text": [
            "/usr/local/lib/python3.9/dist-packages/sklearn/preprocessing/_encoders.py:868: FutureWarning: `sparse` was renamed to `sparse_output` in version 1.2 and will be removed in 1.4. `sparse_output` is ignored unless you leave `sparse` to its default value.\n",
            "  warnings.warn(\n",
            "/usr/local/lib/python3.9/dist-packages/sklearn/preprocessing/_encoders.py:868: FutureWarning: `sparse` was renamed to `sparse_output` in version 1.2 and will be removed in 1.4. `sparse_output` is ignored unless you leave `sparse` to its default value.\n",
            "  warnings.warn(\n",
            "/usr/local/lib/python3.9/dist-packages/keras/initializers/initializers_v2.py:120: UserWarning: The initializer GlorotNormal is unseeded and being called multiple times, which will return identical values  each time (even if the initializer is unseeded). Please update your code to provide a seed to the initializer, or avoid using the same initalizer instance more than once.\n",
            "  warnings.warn(\n"
          ]
        },
        {
          "output_type": "stream",
          "name": "stdout",
          "text": [
            "finish 9 1\n",
            "\n"
          ]
        }
      ]
    },
    {
      "cell_type": "code",
      "source": [
        "#@markdown ### Plot all our metrics as line plots while varying alpha\n",
        "var_l =  []\n",
        "\n",
        "count = 1\n",
        "for m in [\"accuracy\",\"precision\",\"recall\",\"FNR\",\"FPR\"]:\n",
        "  lst = []\n",
        "  lst_f = []\n",
        "  lst_m = []\n",
        "\n",
        "  for k in [0, 0.3, 0.7, 1]:\n",
        "    for i in range(10):\n",
        "      v = f'a_{i}_{k}'\n",
        "      #display(d_t)\n",
        "      #print(d_t.columns)\n",
        "      # (dfs_bygroup[v])\n",
        "      # dfs_overall[v].to_csv(f\"{v}_overall.csv\")\n",
        "      # dfs_bygroup[v].to_csv(f\"{v}_bygroup.csv\")\n",
        "      lst.append([k, dfs_overall[v].loc[0, m]])\n",
        "      lst_f.append([k, dfs_bygroup[v].loc['female', m]])\n",
        "      lst_m.append([k, dfs_bygroup[v].loc['male', m]])\n",
        "\n",
        "\n",
        "  plot_df = pd.DataFrame(data=lst,columns=[\"Alphas\",\"val\"])\n",
        "  sns.boxplot(x=\"Alphas\",y=\"val\",data=plot_df)\n",
        "  plt.title(str(count) +\". \"+ m + \" at four alpha levels\")\n",
        "  plt.xlabel(\"Alpha Levels\")\n",
        "  plt.ylabel(m)\n",
        "  plt.show()\n",
        "  count += 1\n",
        "\n",
        "  plot_df_f = pd.DataFrame(data=lst_f,columns=[\"Alphas\",\"val\"])\n",
        "  sns.boxplot(x=\"Alphas\",y=\"val\",data=plot_df_f)\n",
        "  plt.title(str(count) +\". \"+ m + \" at four alpha levels (Female)\")\n",
        "  plt.xlabel(\"Alpha Levels (Female)\")\n",
        "  plt.ylabel(m)\n",
        "  plt.show()\n",
        "  count += 1\n",
        "\n",
        "  plot_df_m = pd.DataFrame(data=lst_m,columns=[\"Alphas\",\"val\"])\n",
        "  sns.boxplot(x=\"Alphas\",y=\"val\",data=plot_df_m)\n",
        "  plt.title(str(count) + \". \"+m + \" at four alpha levels (Male)\")\n",
        "  plt.xlabel(\"Alpha Levels (Male)\")\n",
        "  plt.ylabel(m)\n",
        "  plt.show()\n",
        "  count += 1\n",
        "\n",
        "\n",
        "for m in ['fnr_diff','fpr_diff',\n",
        "        'demographic_parity_ratio',\n",
        "        'equalized_odds_ratio',\n",
        "        'selection_rate_diff']:\n",
        "  lst = []\n",
        "  for k in [0, 0.3, 0.7, 1]:\n",
        "    for i in range(10):\n",
        "      v = f'a_{i}_{k}'\n",
        "\n",
        "      lst.append([k, dfs_overall[v].loc[0, m]])\n",
        "\n",
        "  plot_df = pd.DataFrame(data=lst,columns=[\"Alphas\",\"val\"])\n",
        "  sns.boxplot(x=\"Alphas\",y=\"val\",data=plot_df)\n",
        "  plt.title(str(count) +\". \"+ m + \" at four alpha levels\")\n",
        "  plt.xlabel(\"Alpha Levels\")\n",
        "  plt.ylabel(m)\n",
        "  plt.show()\n",
        "  count += 1"
      ],
      "metadata": {
        "colab": {
          "base_uri": "https://localhost:8080/",
          "height": 1000
        },
        "cellView": "code",
        "id": "kon0a3eaagkP",
        "outputId": "74440d91-24a5-4d9a-85de-38bd261c7cad"
      },
      "execution_count": 76,
      "outputs": [
        {
          "output_type": "display_data",
          "data": {
            "text/plain": [
              "<Figure size 432x288 with 1 Axes>"
            ],
            "image/png": "[encoded data removed]"
          },
          "metadata": {
            "needs_background": "light"
          }
        },
        {
          "output_type": "display_data",
          "data": {
            "text/plain": [
              "<Figure size 432x288 with 1 Axes>"
            ],
            "image/png": "[encoded data removed]"
          },
          "metadata": {
            "needs_background": "light"
          }
        },
        {
          "output_type": "display_data",
          "data": {
            "text/plain": [
              "<Figure size 432x288 with 1 Axes>"
            ],
            "image/png": "[encoded data removed]"
          },
          "metadata": {
            "needs_background": "light"
          }
        },
        {
          "output_type": "display_data",
          "data": {
            "text/plain": [
              "<Figure size 432x288 with 1 Axes>"
            ],
            "image/png": "[encoded data removed]"
          },
          "metadata": {
            "needs_background": "light"
          }
        },
        {
          "output_type": "display_data",
          "data": {
            "text/plain": [
              "<Figure size 432x288 with 1 Axes>"
            ],
            "image/png": "[encoded data removed]"
          },
          "metadata": {
            "needs_background": "light"
          }
        },
        {
          "output_type": "display_data",
          "data": {
            "text/plain": [
              "<Figure size 432x288 with 1 Axes>"
            ],
            "image/png": "[encoded data removed]"
          },
          "metadata": {
            "needs_background": "light"
          }
        },
        {
          "output_type": "display_data",
          "data": {
            "text/plain": [
              "<Figure size 432x288 with 1 Axes>"
            ],
            "image/png": "[encoded data removed]"
          },
          "metadata": {
            "needs_background": "light"
          }
        },
        {
          "output_type": "display_data",
          "data": {
            "text/plain": [
              "<Figure size 432x288 with 1 Axes>"
            ],
            "image/png": "[encoded data removed]"
          },
          "metadata": {
            "needs_background": "light"
          }
        },
        {
          "output_type": "display_data",
          "data": {
            "text/plain": [
              "<Figure size 432x288 with 1 Axes>"
            ],
            "image/png": "[encoded data removed]"
          },
          "metadata": {
            "needs_background": "light"
          }
        },
        {
          "output_type": "display_data",
          "data": {
            "text/plain": [
              "<Figure size 432x288 with 1 Axes>"
            ],
            "image/png": "[encoded data removed]"
          },
          "metadata": {
            "needs_background": "light"
          }
        },
        {
          "output_type": "display_data",
          "data": {
            "text/plain": [
              "<Figure size 432x288 with 1 Axes>"
            ],
            "image/png": "[encoded data removed]"
          },
          "metadata": {
            "needs_background": "light"
          }
        },
        {
          "output_type": "display_data",
          "data": {
            "text/plain": [
              "<Figure size 432x288 with 1 Axes>"
            ],
            "image/png": "[encoded data removed]"
          },
          "metadata": {
            "needs_background": "light"
          }
        },
        {
          "output_type": "display_data",
          "data": {
            "text/plain": [
              "<Figure size 432x288 with 1 Axes>"
            ],
            "image/png": "[encoded data removed]"
          },
          "metadata": {
            "needs_background": "light"
          }
        },
        {
          "output_type": "display_data",
          "data": {
            "text/plain": [
              "<Figure size 432x288 with 1 Axes>"
            ],
            "image/png": "[encoded data removed]"
          },
          "metadata": {
            "needs_background": "light"
          }
        },
        {
          "output_type": "display_data",
          "data": {
            "text/plain": [
              "<Figure size 432x288 with 1 Axes>"
            ],
            "image/png": "[encoded data removed]"
          },
          "metadata": {
            "needs_background": "light"
          }
        },
        {
          "output_type": "display_data",
          "data": {
            "text/plain": [
              "<Figure size 432x288 with 1 Axes>"
            ],
            "image/png": "[encoded data removed]"
          },
          "metadata": {
            "needs_background": "light"
          }
        },
        {
          "output_type": "display_data",
          "data": {
            "text/plain": [
              "<Figure size 432x288 with 1 Axes>"
            ],
            "image/png": "[encoded data removed]"
          },
          "metadata": {
            "needs_background": "light"
          }
        },
        {
          "output_type": "display_data",
          "data": {
            "text/plain": [
              "<Figure size 432x288 with 1 Axes>"
            ],
            "image/png": "[encoded data removed]"
          },
          "metadata": {
            "needs_background": "light"
          }
        },
        {
          "output_type": "display_data",
          "data": {
            "text/plain": [
              "<Figure size 432x288 with 1 Axes>"
            ],
            "image/png": "[encoded data removed]"
          },
          "metadata": {
            "needs_background": "light"
          }
        },
        {
          "output_type": "display_data",
          "data": {
            "text/plain": [
              "<Figure size 432x288 with 1 Axes>"
            ],
            "image/png": "[encoded data removed]"
          },
          "metadata": {
            "needs_background": "light"
          }
        }
      ]
    },
    {
      "cell_type": "markdown",
      "source": [
        "### Q4d Answer\n",
        "When we examine the box plot, we pay particular attention to the data's central tendency as well as its variability. The box that is included in a box plot is a representation of the interquartile range (IQR), which encompasses the data that falls in the middle 50% of the distribution. When the data is arranged in descending order, the value that corresponds to the median is the line that is drawn inside the box. The median is the middle value of the data.\n",
        "\n",
        "Based on the examination of the box plots, we can see that models with hyperparameters a=0 and a=0.3 have a tendency to have better results in comparison to models with hyperparameters a=0.7 and a=1 for the accuracy and precision measure. This is something that we can observe for ourselves. This pattern is observable across the board, including in both the male and female populations.\n",
        "\n",
        "In this set of ten measures, the performance associated with a = 1 is often the worst, and the performance associated with a = 0 is typically the second worst. The results for a = 0.3 and a = 0.7 are typically interchangeable with one another. The models that have moderate hyperparameters can be considered as a balanced alternative between the models that have the highest and models that have the lowest hyperparameters; nonetheless, the models with moderate hyperparameters generate higher IQR ranges than the other two on most metrics. \n",
        "\n",
        "In most metrics, a = 0.3 has a significant lower variaty than a = 0.7. Thefore It's possible that a = 0.3 is a better value for alpha because it strikes a better balance between fairness and accuracy than a = 0.7. Additionally, a = 0.3 may have resulted in a model that is less sensitive to differences in the data between the male and female groups. This could explain why it has lower variability in the metrics across gender.\n",
        "\n",
        "The a = 0.3 and 0.7 has a worse accuracy, precision, and FNR when compared to the 4b, but the variance for the FPR rate difference is reduced. While the box plot does provide a summary of the data, it does not provide a deep knowledge of the underlying patterns and relationships in the data. This is an important point to keep in mind as we come to the conclusion of this discussion. As a result of this, it is frequently required to augment the box plot with additional statistical tools and studies in order to have a comprehensive understanding of how well our models work."
      ],
      "metadata": {
        "id": "-5_t3m9RwuXJ"
      }
    },
    {
      "cell_type": "markdown",
      "source": [
        "# Problem 2, Part (d) \n",
        "### **Threshold Optimizer Post-processing intervention**\n",
        "\n"
      ],
      "metadata": {
        "id": "-UbQD7Gy13rv"
      }
    },
    {
      "cell_type": "code",
      "source": [
        "#@markdown Fit the ThresholdOptimizer model here\n",
        "\n",
        "df_d_o = {}\n",
        "df_d_b = {}\n",
        "for i in range(10):\n",
        "  X_train, X_test, y_train, y_test = train_test_split(x_numeric, y_raw, \n",
        "                                                      test_size=0.2, random_state=random.randint(100,1000))\n",
        "  model = RandomForestClassifier(n_estimators=1000,max_depth=10).fit(X_train, y_train)\n",
        "  #\n",
        "  post_model = ThresholdOptimizer(\n",
        "        estimator= model,\n",
        "        constraints='false_negative_rate_parity',\n",
        "        prefit=True, # If True, avoid refitting the given estimator.\n",
        "      ).fit(X_train, y_train, sensitive_features=X_train[\"gender_Female\"])\n",
        "\n",
        "\n",
        "  y_pred = post_model.predict(X_test,sensitive_features=X_test[\"gender_Female\"]) \n",
        "\n",
        "  sensitive_f = X_test['gender_Female'].replace({1:'female', 0:'male'})\n",
        "\n",
        "  temp = MetricFrame(\n",
        "      metrics= metric_dict,\n",
        "      y_true=y_test,\n",
        "      y_pred=y_pred, \n",
        "      sensitive_features = sensitive_f,\n",
        "      sample_params = sample_p\n",
        "  )\n",
        "  df_d_o[i] = temp.overall.to_frame().transpose()\n",
        "  df_d_b[i] = temp.by_group.iloc[:,:5]\n",
        "\n"
      ],
      "metadata": {
        "id": "TJXJ1zypou-M",
        "cellView": "code",
        "colab": {
          "base_uri": "https://localhost:8080/"
        },
        "outputId": "ad35afc4-0c89-402b-d2e7-208614709304"
      },
      "execution_count": 97,
      "outputs": [
        {
          "output_type": "stream",
          "name": "stderr",
          "text": [
            "/usr/local/lib/python3.9/dist-packages/fairlearn/postprocessing/_threshold_optimizer.py:285: FutureWarning: 'predict_method' default value is changed from 'predict' to 'auto'. Explicitly pass `predict_method='predict' to replicate the old behavior, or pass `predict_method='auto' or other valid values to silence this warning.\n",
            "  warn(\n",
            "/usr/local/lib/python3.9/dist-packages/fairlearn/postprocessing/_threshold_optimizer.py:285: FutureWarning: 'predict_method' default value is changed from 'predict' to 'auto'. Explicitly pass `predict_method='predict' to replicate the old behavior, or pass `predict_method='auto' or other valid values to silence this warning.\n",
            "  warn(\n",
            "/usr/local/lib/python3.9/dist-packages/fairlearn/postprocessing/_threshold_optimizer.py:285: FutureWarning: 'predict_method' default value is changed from 'predict' to 'auto'. Explicitly pass `predict_method='predict' to replicate the old behavior, or pass `predict_method='auto' or other valid values to silence this warning.\n",
            "  warn(\n",
            "/usr/local/lib/python3.9/dist-packages/fairlearn/postprocessing/_threshold_optimizer.py:285: FutureWarning: 'predict_method' default value is changed from 'predict' to 'auto'. Explicitly pass `predict_method='predict' to replicate the old behavior, or pass `predict_method='auto' or other valid values to silence this warning.\n",
            "  warn(\n",
            "/usr/local/lib/python3.9/dist-packages/fairlearn/postprocessing/_threshold_optimizer.py:285: FutureWarning: 'predict_method' default value is changed from 'predict' to 'auto'. Explicitly pass `predict_method='predict' to replicate the old behavior, or pass `predict_method='auto' or other valid values to silence this warning.\n",
            "  warn(\n",
            "/usr/local/lib/python3.9/dist-packages/fairlearn/postprocessing/_threshold_optimizer.py:285: FutureWarning: 'predict_method' default value is changed from 'predict' to 'auto'. Explicitly pass `predict_method='predict' to replicate the old behavior, or pass `predict_method='auto' or other valid values to silence this warning.\n",
            "  warn(\n",
            "/usr/local/lib/python3.9/dist-packages/fairlearn/postprocessing/_threshold_optimizer.py:285: FutureWarning: 'predict_method' default value is changed from 'predict' to 'auto'. Explicitly pass `predict_method='predict' to replicate the old behavior, or pass `predict_method='auto' or other valid values to silence this warning.\n",
            "  warn(\n",
            "/usr/local/lib/python3.9/dist-packages/fairlearn/postprocessing/_threshold_optimizer.py:285: FutureWarning: 'predict_method' default value is changed from 'predict' to 'auto'. Explicitly pass `predict_method='predict' to replicate the old behavior, or pass `predict_method='auto' or other valid values to silence this warning.\n",
            "  warn(\n",
            "/usr/local/lib/python3.9/dist-packages/fairlearn/postprocessing/_threshold_optimizer.py:285: FutureWarning: 'predict_method' default value is changed from 'predict' to 'auto'. Explicitly pass `predict_method='predict' to replicate the old behavior, or pass `predict_method='auto' or other valid values to silence this warning.\n",
            "  warn(\n",
            "/usr/local/lib/python3.9/dist-packages/fairlearn/postprocessing/_threshold_optimizer.py:285: FutureWarning: 'predict_method' default value is changed from 'predict' to 'auto'. Explicitly pass `predict_method='predict' to replicate the old behavior, or pass `predict_method='auto' or other valid values to silence this warning.\n",
            "  warn(\n"
          ]
        }
      ]
    },
    {
      "cell_type": "code",
      "source": [
        "var_l =  []\n",
        "\n",
        "count = 1\n",
        "for m in [\"accuracy\",\"precision\",\"recall\",\"FNR\",\"FPR\"]:\n",
        "  lst = []\n",
        "  lst_f = []\n",
        "  lst_m = []\n",
        "\n",
        "  for k in [0, 0.3, 0.7, 1, 'ThreshOpt']:\n",
        "    for i in range(10):\n",
        "      v = f'a_{i}_{k}'\n",
        "      #display(d_t)\n",
        "      #print(d_t.columns)\n",
        "      # (dfs_bygroup[v])\n",
        "      # dfs_overall[v].to_csv(f\"{v}_overall.csv\")\n",
        "      # dfs_bygroup[v].to_csv(f\"{v}_bygroup.csv\")\n",
        "      if type(k) != str:\n",
        "        lst.append([k, dfs_overall[v].loc[0, m]])\n",
        "        lst_f.append([k, dfs_bygroup[v].loc['female', m]])\n",
        "        lst_m.append([k, dfs_bygroup[v].loc['male', m]])\n",
        "      else:\n",
        "        lst.append([k, df_d_o[i].loc[0, m]])\n",
        "        lst_f.append([k, df_d_b[i].loc['female', m]])\n",
        "        lst_m.append([k, df_d_b[i].loc['male', m]])\n",
        "\n",
        "\n",
        "\n",
        "  plot_df = pd.DataFrame(data=lst,columns=[\"Alphas\",\"val\"])\n",
        "  #display(plot_df)\n",
        "  sns.boxplot(x=\"Alphas\",y=\"val\",data=plot_df)\n",
        "  plt.title(str(count) +\". \"+ m + \" at four alpha levels + ThreshOpt\")\n",
        "  plt.xlabel(\"Alpha Levels\")\n",
        "  plt.ylabel(m)\n",
        "  plt.axhline(y = df_1_o.loc[0, m], color = 'grey', linestyle = '--')\n",
        "  plt.axhline(y = df_2_o.loc[0, m], color = 'grey')\n",
        "  plt.show()\n",
        "  count += 1\n",
        "\n",
        "  plot_df_f = pd.DataFrame(data=lst_f,columns=[\"Alphas\",\"val\"])\n",
        "  sns.boxplot(x=\"Alphas\",y=\"val\",data=plot_df_f)\n",
        "  plt.title(str(count) +\". \"+ m + \" at four alpha levels + ThreshOpt (Female)\")\n",
        "  plt.xlabel(\"Alpha Levels (Female)\")\n",
        "  plt.ylabel(m)\n",
        "  plt.axhline(y = df_1_b.loc['female', m], color = 'grey', linestyle = '--')\n",
        "  plt.axhline(y = df_2_b.loc['female', m], color = 'grey')\n",
        "  plt.show()\n",
        "  count += 1\n",
        "\n",
        "  plot_df_m = pd.DataFrame(data=lst_m,columns=[\"Alphas\",\"val\"])\n",
        "  sns.boxplot(x=\"Alphas\",y=\"val\",data=plot_df_m)\n",
        "  plt.title(str(count) + \". \"+m + \" at four alpha levels + ThreshOpt (Male)\")\n",
        "  plt.xlabel(\"Alpha Levels (Male)\")\n",
        "  plt.axhline(y = df_1_b.loc['male', m], color = 'grey', linestyle = '--')\n",
        "  plt.axhline(y = df_2_b.loc['male', m], color = 'grey')\n",
        "  plt.ylabel(m)\n",
        "  plt.show()\n",
        "  count += 1\n",
        "\n",
        "\n",
        "for m in ['fnr_diff','fpr_diff',\n",
        "        'demographic_parity_ratio',\n",
        "        'equalized_odds_ratio',\n",
        "        'selection_rate_diff']:\n",
        "  lst = []\n",
        "  for k in [0, 0.3, 0.7, 1, 'ThreshOpt']:\n",
        "    for i in range(10):\n",
        "      v = f'a_{i}_{k}'\n",
        "      if type(k) != str:\n",
        "        lst.append([k, dfs_overall[v].loc[0, m]])\n",
        "      else:\n",
        "        lst.append([k, df_d_o[i].loc[0, m]])\n",
        "  plot_df = pd.DataFrame(data=lst,columns=[\"Alphas\",\"val\"])\n",
        "  sns.boxplot(x=\"Alphas\",y=\"val\",data=plot_df)\n",
        "  plt.title(str(count) +\". \"+ m + \" at four alpha levels + ThreshOpt\")\n",
        "  plt.xlabel(\"Alpha Levels\")\n",
        "  plt.ylabel(m)\n",
        "  plt.axhline(y = df_1_o.loc[0, m], color = 'grey', linestyle = '--')\n",
        "  plt.axhline(y = df_2_o.loc[0, m], color = 'grey')\n",
        "  plt.show()\n",
        "  count += 1\n",
        "\n"
      ],
      "metadata": {
        "id": "4fr32wEdsR0J",
        "colab": {
          "base_uri": "https://localhost:8080/",
          "height": 1000
        },
        "outputId": "09f5ffaf-a77e-4258-c7ca-0c0720a9d060"
      },
      "execution_count": 99,
      "outputs": [
        {
          "output_type": "display_data",
          "data": {
            "text/plain": [
              "<Figure size 432x288 with 1 Axes>"
            ],
            "image/png": "[encoded data removed]"
          },
          "metadata": {
            "needs_background": "light"
          }
        },
        {
          "output_type": "display_data",
          "data": {
            "text/plain": [
              "<Figure size 432x288 with 1 Axes>"
            ],
            "image/png": "[encoded data removed]"
          },
          "metadata": {
            "needs_background": "light"
          }
        },
        {
          "output_type": "display_data",
          "data": {
            "text/plain": [
              "<Figure size 432x288 with 1 Axes>"
            ],
            "image/png": "[encoded data removed]"
          },
          "metadata": {
            "needs_background": "light"
          }
        },
        {
          "output_type": "display_data",
          "data": {
            "text/plain": [
              "<Figure size 432x288 with 1 Axes>"
            ],
            "image/png": "[encoded data removed]"
          },
          "metadata": {
            "needs_background": "light"
          }
        },
        {
          "output_type": "display_data",
          "data": {
            "text/plain": [
              "<Figure size 432x288 with 1 Axes>"
            ],
            "image/png": "[encoded data removed]"
          },
          "metadata": {
            "needs_background": "light"
          }
        },
        {
          "output_type": "display_data",
          "data": {
            "text/plain": [
              "<Figure size 432x288 with 1 Axes>"
            ],
            "image/png": "[encoded data removed]"
          },
          "metadata": {
            "needs_background": "light"
          }
        },
        {
          "output_type": "display_data",
          "data": {
            "text/plain": [
              "<Figure size 432x288 with 1 Axes>"
            ],
            "image/png": "[encoded data removed]"
          },
          "metadata": {
            "needs_background": "light"
          }
        },
        {
          "output_type": "display_data",
          "data": {
            "text/plain": [
              "<Figure size 432x288 with 1 Axes>"
            ],
            "image/png": "[encoded data removed]"
          },
          "metadata": {
            "needs_background": "light"
          }
        },
        {
          "output_type": "display_data",
          "data": {
            "text/plain": [
              "<Figure size 432x288 with 1 Axes>"
            ],
            "image/png": "[encoded data removed]"
          },
          "metadata": {
            "needs_background": "light"
          }
        },
        {
          "output_type": "display_data",
          "data": {
            "text/plain": [
              "<Figure size 432x288 with 1 Axes>"
            ],
            "image/png": "[encoded data removed]"
          },
          "metadata": {
            "needs_background": "light"
          }
        },
        {
          "output_type": "display_data",
          "data": {
            "text/plain": [
              "<Figure size 432x288 with 1 Axes>"
            ],
            "image/png": "[encoded data removed]"
          },
          "metadata": {
            "needs_background": "light"
          }
        },
        {
          "output_type": "display_data",
          "data": {
            "text/plain": [
              "<Figure size 432x288 with 1 Axes>"
            ],
            "image/png": "[encoded data removed]"
          },
          "metadata": {
            "needs_background": "light"
          }
        },
        {
          "output_type": "display_data",
          "data": {
            "text/plain": [
              "<Figure size 432x288 with 1 Axes>"
            ],
            "image/png": "[encoded data removed]"
          },
          "metadata": {
            "needs_background": "light"
          }
        },
        {
          "output_type": "display_data",
          "data": {
            "text/plain": [
              "<Figure size 432x288 with 1 Axes>"
            ],
            "image/png": "[encoded data removed]"
          },
          "metadata": {
            "needs_background": "light"
          }
        },
        {
          "output_type": "display_data",
          "data": {
            "text/plain": [
              "<Figure size 432x288 with 1 Axes>"
            ],
            "image/png": "[encoded data removed]"
          },
          "metadata": {
            "needs_background": "light"
          }
        },
        {
          "output_type": "display_data",
          "data": {
            "text/plain": [
              "<Figure size 432x288 with 1 Axes>"
            ],
            "image/png": "[encoded data removed]"
          },
          "metadata": {
            "needs_background": "light"
          }
        },
        {
          "output_type": "display_data",
          "data": {
            "text/plain": [
              "<Figure size 432x288 with 1 Axes>"
            ],
            "image/png": "[encoded data removed]"
          },
          "metadata": {
            "needs_background": "light"
          }
        },
        {
          "output_type": "display_data",
          "data": {
            "text/plain": [
              "<Figure size 432x288 with 1 Axes>"
            ],
            "image/png": "[encoded data removed]"
          },
          "metadata": {
            "needs_background": "light"
          }
        },
        {
          "output_type": "display_data",
          "data": {
            "text/plain": [
              "<Figure size 432x288 with 1 Axes>"
            ],
            "image/png": "[encoded data removed]"
          },
          "metadata": {
            "needs_background": "light"
          }
        },
        {
          "output_type": "display_data",
          "data": {
            "text/plain": [
              "<Figure size 432x288 with 1 Axes>"
            ],
            "image/png": "[encoded data removed]"
          },
          "metadata": {
            "needs_background": "light"
          }
        }
      ]
    },
    {
      "cell_type": "markdown",
      "source": [
        "### Q4d Answer\n",
        "Models of ThreOpt and the random forest generally outperform models of simple neural network and the Adversarial Fairness, with respect to accuracy, precision, recall, and FPR metrics and in most of the cases, Adversarial Fairness with a proper alpha level, has better fairness over genders. \n",
        "\n",
        "ThresholdOptimizer can further improve the performance of Random Forest by optimizing the threshold values for each protected group, which can lead to a better balance between the true positive and false positive rates. This can be seen in our box plots where the median values of the FPR difference across genders were lower for ThresholdOptimizer as compared to Adversarial Fairness. However, when it comes to fairness considerations, Adversarial Fairness with a proper alpha level seemed to perform better than the other models. This is because Adversarial Fairness has a built-in mechanism that tries to equalize the false positive rates across protected groups by minimizing a loss function that penalizes the classifier for predicting differently for similar inputs from different groups.\n",
        "\n",
        "We observed a clear trade-off between model accuracy and fairness throughout the experiment. We discovered that the more we optimize for fairness, the lower the model's accuracy becomes. When we optimize for accuracy, we see a decrease in fairness, particularly in the FPR and FNR metrics.\n",
        "\n",
        "The ThresholdOptimizer and random forest fairness interventions outperformed the simple neural network and Adversarial Fairness methods in general. The ThresholdOptimizer in particular demonstrated a more balanced performance across fairness metrics and accuracy, especially when the alpha level was set to 0.3. However, when we set the alpha level to the appropriate level, Adversarial Fairness performed better in terms of fairness.\n",
        "\n",
        "We observed some variations in the impact of gender on model performance. In most metrics, the female gender's performance was slightly lower than the male gender's, particularly in terms of recall and FNR. When we optimized for fairness, the models' performance for both genders was comparable.\n",
        "\n",
        "Overall, these findings suggest that fairness and accuracy are not mutually exclusive, and that there is always a trade-off between the two. As a result, when developing machine learning models, it is critical to carefully consider the balance between fairness and accuracy, especially in applications where fairness is critical."
      ],
      "metadata": {
        "id": "RxOmFv814Hg2"
      }
    },
    {
      "cell_type": "code",
      "source": [],
      "metadata": {
        "id": "feptc3bDwrSC"
      },
      "execution_count": null,
      "outputs": []
    },
    {
      "cell_type": "code",
      "source": [],
      "metadata": {
        "id": "mhgWIA4n_e1N"
      },
      "execution_count": null,
      "outputs": []
    }
  ]
}