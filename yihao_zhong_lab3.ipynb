{
 "nbformat": 4,
 "nbformat_minor": 0,
 "metadata": {
  "colab": {
   "provenance": []
  },
  "kernelspec": {
   "name": "python3",
   "display_name": "Python 3"
  },
  "language_info": {
   "name": "python"
  }
 },
 "cells": [
  {
   "cell_type": "markdown",
   "source": [
    "# **Lab 3: Mitigating Bias Using Fairlearn**"
   ],
   "metadata": {
    "id": "3LrSVlCSDA9Z"
   }
  },
  {
   "cell_type": "markdown",
   "source": [
    "Previously we explored bias metrics and measuring bias in a binary classification machine learning model. In this Lab we will continue working on the same data and ML model, this time using Fairlearn to perform bias-mitigating interventions in three different ways:\n",
    "\n",
    "*   **Preprocessing interventions:** These algorithms transform the dataset (prior to training a model) in order to mitigate possible unfairness present in the data. \n",
    "    - Example: One way to think about bias is as correlation between sensitive and non-sensitive features in the dataset. By applying the [CorrelationRemover](https://fairlearn.org/v0.7.0/api_reference/fairlearn.preprocessing.html#fairlearn.preprocessing.CorrelationRemover), these correlations are projected away while details from the original data are retained as much as possible (as measured by least-squares error). The user can control the level of projection via the `alpha` parameter. \n",
    "\n",
    "*   **Reduction algorithms:** At a high level, the reduction algorithms within Fairlearn enable bias mitigation for machine learning models using user-provided constraints. The two available algorithms are [Exponentiated Gradient](https://fairlearn.org/v0.7.0/api_reference/fairlearn.reductions.html#fairlearn.reductions.ExponentiatedGradient) and [Grid Search](https://fairlearn.org/v0.7.0/api_reference/fairlearn.reductions.html#fairlearn.reductions.GridSearch). The reductions approach seeks to reduce binary classification and regression problems subject to fairness contrains to a sequence of weighted classification problems. As a result, the reduction algorithms in Fairlearn only require a wrapper to access to any “base” learning algorithm. By this we mean that the “base” algorithm only needs to implement `fit` and `predict` methods (like any standard scikit-learn estimator) but it does not need to have any knowledge of the desired fairness constraints or sensitive features.\n",
    "\n",
    "    From an API perspective this looks as follows in all situations:\n",
    "\n",
    "  > reduction = Reduction(base_estimator, constraints, **kwargs)  \n",
    "  > reduction.fit(X_train, y_train, sensitive_features=sensitive_features)  \n",
    "  > reduction.predict(X_test)  \n",
    "\n",
    "*   **Postprocessing algorithms:** The postprocessing algorithms transform the *outputs* of a classification or regression model to mitigate bias. For example, the [ThresholdOptimizer](https://fairlearn.org/v0.7.0/api_reference/fairlearn.postprocessing.html#fairlearn.postprocessing.ThresholdOptimizer) takes as input an existing classifier and the sensitive feature, and derives a monotone transformation of the classifier’s prediction to enforce the specified parity constraints.\n",
    "\n",
    "This Lab is divided into the following parts:\n",
    "\n",
    "1. Load the data as we did in Lab 2\n",
    "2. Use preprocessing algorithms to mitigate bias\n",
    "3. Use reduction algorithms to mitigate bias\n",
    "4. Use postprocessing algorithms to mitigate bias\n",
    "5. Compare all of our efforts"
   ],
   "metadata": {
    "id": "lmV3Oa62ewha"
   }
  },
  {
   "cell_type": "markdown",
   "source": [
    "#1. Load the data  (This code is all from Lab 2)"
   ],
   "metadata": {
    "id": "OAVIoTU3l9GI"
   }
  },
  {
   "cell_type": "markdown",
   "source": [
    "If you have any doubts about Part 1, please refer to Lab 2, in which we did the same steps."
   ],
   "metadata": {
    "id": "9ZPC6Qfzn1-4"
   }
  },
  {
   "cell_type": "code",
   "execution_count": null,
   "metadata": {
    "id": "9LqUU91SjcFB",
    "colab": {
     "base_uri": "https://localhost:8080/"
    },
    "outputId": "a3e1629c-dc97-4862-8fcf-10bdabd7d1a9",
    "cellView": "form"
   },
   "outputs": [
    {
     "output_type": "stream",
     "name": "stdout",
     "text": [
      "Looking in indexes: https://pypi.org/simple, https://us-python.pkg.dev/colab-wheels/public/simple/\n",
      "Requirement already satisfied: fairlearn in /usr/local/lib/python3.8/dist-packages (0.8.0)\n",
      "Requirement already satisfied: scikit-learn>=0.22.1 in /usr/local/lib/python3.8/dist-packages (from fairlearn) (1.0.2)\n",
      "Requirement already satisfied: scipy>=1.4.1 in /usr/local/lib/python3.8/dist-packages (from fairlearn) (1.7.3)\n",
      "Requirement already satisfied: numpy>=1.17.2 in /usr/local/lib/python3.8/dist-packages (from fairlearn) (1.21.6)\n",
      "Requirement already satisfied: pandas>=0.25.1 in /usr/local/lib/python3.8/dist-packages (from fairlearn) (1.3.5)\n",
      "Requirement already satisfied: pytz>=2017.3 in /usr/local/lib/python3.8/dist-packages (from pandas>=0.25.1->fairlearn) (2022.7.1)\n",
      "Requirement already satisfied: python-dateutil>=2.7.3 in /usr/local/lib/python3.8/dist-packages (from pandas>=0.25.1->fairlearn) (2.8.2)\n",
      "Requirement already satisfied: threadpoolctl>=2.0.0 in /usr/local/lib/python3.8/dist-packages (from scikit-learn>=0.22.1->fairlearn) (3.1.0)\n",
      "Requirement already satisfied: joblib>=0.11 in /usr/local/lib/python3.8/dist-packages (from scikit-learn>=0.22.1->fairlearn) (1.2.0)\n",
      "Requirement already satisfied: six>=1.5 in /usr/local/lib/python3.8/dist-packages (from python-dateutil>=2.7.3->pandas>=0.25.1->fairlearn) (1.15.0)\n",
      "Looking in indexes: https://pypi.org/simple, https://us-python.pkg.dev/colab-wheels/public/simple/\n",
      "Requirement already satisfied: folktables in /usr/local/lib/python3.8/dist-packages (0.0.12)\n",
      "Requirement already satisfied: numpy in /usr/local/lib/python3.8/dist-packages (from folktables) (1.21.6)\n",
      "Requirement already satisfied: scikit-learn in /usr/local/lib/python3.8/dist-packages (from folktables) (1.0.2)\n",
      "Requirement already satisfied: pandas in /usr/local/lib/python3.8/dist-packages (from folktables) (1.3.5)\n",
      "Requirement already satisfied: requests in /usr/local/lib/python3.8/dist-packages (from folktables) (2.25.1)\n",
      "Requirement already satisfied: pytz>=2017.3 in /usr/local/lib/python3.8/dist-packages (from pandas->folktables) (2022.7.1)\n",
      "Requirement already satisfied: python-dateutil>=2.7.3 in /usr/local/lib/python3.8/dist-packages (from pandas->folktables) (2.8.2)\n",
      "Requirement already satisfied: idna<3,>=2.5 in /usr/local/lib/python3.8/dist-packages (from requests->folktables) (2.10)\n",
      "Requirement already satisfied: chardet<5,>=3.0.2 in /usr/local/lib/python3.8/dist-packages (from requests->folktables) (4.0.0)\n",
      "Requirement already satisfied: certifi>=2017.4.17 in /usr/local/lib/python3.8/dist-packages (from requests->folktables) (2022.12.7)\n",
      "Requirement already satisfied: urllib3<1.27,>=1.21.1 in /usr/local/lib/python3.8/dist-packages (from requests->folktables) (1.24.3)\n",
      "Requirement already satisfied: scipy>=1.1.0 in /usr/local/lib/python3.8/dist-packages (from scikit-learn->folktables) (1.7.3)\n",
      "Requirement already satisfied: threadpoolctl>=2.0.0 in /usr/local/lib/python3.8/dist-packages (from scikit-learn->folktables) (3.1.0)\n",
      "Requirement already satisfied: joblib>=0.11 in /usr/local/lib/python3.8/dist-packages (from scikit-learn->folktables) (1.2.0)\n",
      "Requirement already satisfied: six>=1.5 in /usr/local/lib/python3.8/dist-packages (from python-dateutil>=2.7.3->pandas->folktables) (1.15.0)\n",
      "fatal: destination path 'superquail' already exists and is not an empty directory.\n"
     ]
    }
   ],
   "source": [
    "# %%capture\n",
    "#@markdown\n",
    "!pip install fairlearn\n",
    "!pip install folktables\n",
    "!git clone https://github.com/lurosenb/superquail"
   ]
  },
  {
   "cell_type": "code",
   "source": [
    "#@markdown Import statments\n",
    "from folktables import ACSDataSource, ACSEmployment, ACSIncome, ACSPublicCoverage, ACSTravelTime\n",
    "from superquail.data.acs_helper import ACSData\n",
    "\n",
    "import matplotlib.pyplot as plt\n",
    "import seaborn as sn\n",
    "import pandas as pd\n",
    "import numpy as np\n",
    "from sklearn.model_selection import train_test_split\n",
    "from sklearn.preprocessing import StandardScaler\n",
    "from sklearn.linear_model import LogisticRegression\n",
    "from sklearn.metrics import accuracy_score\n",
    "import sklearn.metrics as skm\n",
    "\n",
    "from fairlearn.datasets import fetch_adult\n",
    "from fairlearn.preprocessing import CorrelationRemover\n",
    "from fairlearn.reductions import ExponentiatedGradient\n",
    "from fairlearn.reductions import GridSearch\n",
    "from fairlearn.reductions import DemographicParity, ErrorRate\n",
    "from fairlearn.postprocessing import ThresholdOptimizer\n",
    "from fairlearn.metrics import MetricFrame\n",
    "from fairlearn.metrics import demographic_parity_difference, demographic_parity_ratio, selection_rate\n",
    "from fairlearn.metrics import false_negative_rate, false_positive_rate\n",
    "\n",
    "from IPython.display import clear_output"
   ],
   "metadata": {
    "id": "XJ5pQ55zkzHp",
    "cellView": "form"
   },
   "execution_count": 1,
   "outputs": []
  },
  {
   "cell_type": "code",
   "source": [
    "#@markdown Import data \n",
    "data, features_df, target_df, groups_df = ACSData().return_acs_data_scenario(scenario=\"ACSIncome\", subsample=70000)\n",
    "\n",
    "print(data.shape)\n",
    "data.head()"
   ],
   "metadata": {
    "id": "8vjRWA4xlwk5",
    "colab": {
     "base_uri": "https://localhost:8080/",
     "height": 225
    },
    "outputId": "6bb8b9a7-e111-4a50-c2d6-ce11cab5e709",
    "cellView": "form"
   },
   "execution_count": 2,
   "outputs": [
    {
     "name": "stdout",
     "output_type": "stream",
     "text": [
      "(70000, 11)\n"
     ]
    },
    {
     "data": {
      "text/plain": "   AGEP  COW  SCHL  MAR    OCCP   POBP  RELP  WKHP  SEX  RAC1P  PINCP\n0  54.0  1.0  21.0  1.0  5240.0  207.0   1.0  40.0  2.0    6.0    0.0\n1  49.0  3.0  21.0  1.0  4220.0   18.0   1.0  40.0  1.0    1.0    1.0\n2  33.0  1.0  18.0  5.0  5860.0    6.0   4.0  45.0  2.0    1.0    0.0\n3  37.0  1.0   1.0  5.0  4010.0   25.0   2.0  40.0  2.0    1.0    0.0\n4  57.0  1.0  19.0  1.0  6005.0    6.0   0.0  50.0  1.0    1.0    1.0",
      "text/html": "<div>\n<style scoped>\n    .dataframe tbody tr th:only-of-type {\n        vertical-align: middle;\n    }\n\n    .dataframe tbody tr th {\n        vertical-align: top;\n    }\n\n    .dataframe thead th {\n        text-align: right;\n    }\n</style>\n<table border=\"1\" class=\"dataframe\">\n  <thead>\n    <tr style=\"text-align: right;\">\n      <th></th>\n      <th>AGEP</th>\n      <th>COW</th>\n      <th>SCHL</th>\n      <th>MAR</th>\n      <th>OCCP</th>\n      <th>POBP</th>\n      <th>RELP</th>\n      <th>WKHP</th>\n      <th>SEX</th>\n      <th>RAC1P</th>\n      <th>PINCP</th>\n    </tr>\n  </thead>\n  <tbody>\n    <tr>\n      <th>0</th>\n      <td>54.0</td>\n      <td>1.0</td>\n      <td>21.0</td>\n      <td>1.0</td>\n      <td>5240.0</td>\n      <td>207.0</td>\n      <td>1.0</td>\n      <td>40.0</td>\n      <td>2.0</td>\n      <td>6.0</td>\n      <td>0.0</td>\n    </tr>\n    <tr>\n      <th>1</th>\n      <td>49.0</td>\n      <td>3.0</td>\n      <td>21.0</td>\n      <td>1.0</td>\n      <td>4220.0</td>\n      <td>18.0</td>\n      <td>1.0</td>\n      <td>40.0</td>\n      <td>1.0</td>\n      <td>1.0</td>\n      <td>1.0</td>\n    </tr>\n    <tr>\n      <th>2</th>\n      <td>33.0</td>\n      <td>1.0</td>\n      <td>18.0</td>\n      <td>5.0</td>\n      <td>5860.0</td>\n      <td>6.0</td>\n      <td>4.0</td>\n      <td>45.0</td>\n      <td>2.0</td>\n      <td>1.0</td>\n      <td>0.0</td>\n    </tr>\n    <tr>\n      <th>3</th>\n      <td>37.0</td>\n      <td>1.0</td>\n      <td>1.0</td>\n      <td>5.0</td>\n      <td>4010.0</td>\n      <td>25.0</td>\n      <td>2.0</td>\n      <td>40.0</td>\n      <td>2.0</td>\n      <td>1.0</td>\n      <td>0.0</td>\n    </tr>\n    <tr>\n      <th>4</th>\n      <td>57.0</td>\n      <td>1.0</td>\n      <td>19.0</td>\n      <td>1.0</td>\n      <td>6005.0</td>\n      <td>6.0</td>\n      <td>0.0</td>\n      <td>50.0</td>\n      <td>1.0</td>\n      <td>1.0</td>\n      <td>1.0</td>\n    </tr>\n  </tbody>\n</table>\n</div>"
     },
     "execution_count": 2,
     "metadata": {},
     "output_type": "execute_result"
    }
   ]
  },
  {
   "cell_type": "code",
   "source": [
    "#@markdown Drop rows with missing values\n",
    "data.dropna(inplace=True)\n",
    "data.info()"
   ],
   "metadata": {
    "colab": {
     "base_uri": "https://localhost:8080/"
    },
    "id": "_UV-ZkNpIAX-",
    "outputId": "df4c5260-ad74-4e46-9075-709a22f430c3",
    "cellView": "form"
   },
   "execution_count": 3,
   "outputs": [
    {
     "name": "stdout",
     "output_type": "stream",
     "text": [
      "<class 'pandas.core.frame.DataFrame'>\n",
      "RangeIndex: 70000 entries, 0 to 69999\n",
      "Data columns (total 11 columns):\n",
      " #   Column  Non-Null Count  Dtype  \n",
      "---  ------  --------------  -----  \n",
      " 0   AGEP    70000 non-null  float64\n",
      " 1   COW     70000 non-null  float64\n",
      " 2   SCHL    70000 non-null  float64\n",
      " 3   MAR     70000 non-null  float64\n",
      " 4   OCCP    70000 non-null  float64\n",
      " 5   POBP    70000 non-null  float64\n",
      " 6   RELP    70000 non-null  float64\n",
      " 7   WKHP    70000 non-null  float64\n",
      " 8   SEX     70000 non-null  float64\n",
      " 9   RAC1P   70000 non-null  float64\n",
      " 10  PINCP   70000 non-null  float64\n",
      "dtypes: float64(11)\n",
      "memory usage: 5.9 MB\n"
     ]
    }
   ]
  },
  {
   "cell_type": "code",
   "source": [
    "#@markdown Change data types of categorical features\n",
    "numerical_cols = ['AGEP','WKHP']\n",
    "categorical_cols = ['COW','SCHL','MAR','OCCP','POBP','RELP','RAC1P','SEX']\n",
    "\n",
    "for col in categorical_cols:\n",
    "  data[col] = data[col].astype('int')\n",
    "  data[col] = data[col].astype('str')\n",
    "\n",
    "data.info()"
   ],
   "metadata": {
    "colab": {
     "base_uri": "https://localhost:8080/"
    },
    "id": "yT7svu0Ld84g",
    "outputId": "26eff3c1-692c-40b7-a7c4-be23e0d5dc2b",
    "cellView": "form"
   },
   "execution_count": 4,
   "outputs": [
    {
     "name": "stdout",
     "output_type": "stream",
     "text": [
      "<class 'pandas.core.frame.DataFrame'>\n",
      "RangeIndex: 70000 entries, 0 to 69999\n",
      "Data columns (total 11 columns):\n",
      " #   Column  Non-Null Count  Dtype  \n",
      "---  ------  --------------  -----  \n",
      " 0   AGEP    70000 non-null  float64\n",
      " 1   COW     70000 non-null  object \n",
      " 2   SCHL    70000 non-null  object \n",
      " 3   MAR     70000 non-null  object \n",
      " 4   OCCP    70000 non-null  object \n",
      " 5   POBP    70000 non-null  object \n",
      " 6   RELP    70000 non-null  object \n",
      " 7   WKHP    70000 non-null  float64\n",
      " 8   SEX     70000 non-null  object \n",
      " 9   RAC1P   70000 non-null  object \n",
      " 10  PINCP   70000 non-null  float64\n",
      "dtypes: float64(3), object(8)\n",
      "memory usage: 5.9+ MB\n"
     ]
    }
   ]
  },
  {
   "cell_type": "code",
   "source": [
    "#@markdown Standardize numerical features\n",
    "scaler = StandardScaler()\n",
    "data[numerical_cols] = scaler.fit_transform(data[numerical_cols])\n",
    "data.head()"
   ],
   "metadata": {
    "colab": {
     "base_uri": "https://localhost:8080/",
     "height": 206
    },
    "id": "K45x53wezFp1",
    "outputId": "b1e9beaa-d661-450c-8043-975f7171f131",
    "cellView": "form"
   },
   "execution_count": 5,
   "outputs": [
    {
     "data": {
      "text/plain": "       AGEP COW SCHL MAR  OCCP POBP RELP      WKHP SEX RAC1P  PINCP\n0  0.759241   1   21   1  5240  207    1  0.162258   2     6    0.0\n1  0.423269   3   21   1  4220   18    1  0.162258   1     1    1.0\n2 -0.651841   1   18   5  5860    6    4  0.546433   2     1    0.0\n3 -0.383064   1    1   5  4010   25    2  0.162258   2     1    0.0\n4  0.960824   1   19   1  6005    6    0  0.930608   1     1    1.0",
      "text/html": "<div>\n<style scoped>\n    .dataframe tbody tr th:only-of-type {\n        vertical-align: middle;\n    }\n\n    .dataframe tbody tr th {\n        vertical-align: top;\n    }\n\n    .dataframe thead th {\n        text-align: right;\n    }\n</style>\n<table border=\"1\" class=\"dataframe\">\n  <thead>\n    <tr style=\"text-align: right;\">\n      <th></th>\n      <th>AGEP</th>\n      <th>COW</th>\n      <th>SCHL</th>\n      <th>MAR</th>\n      <th>OCCP</th>\n      <th>POBP</th>\n      <th>RELP</th>\n      <th>WKHP</th>\n      <th>SEX</th>\n      <th>RAC1P</th>\n      <th>PINCP</th>\n    </tr>\n  </thead>\n  <tbody>\n    <tr>\n      <th>0</th>\n      <td>0.759241</td>\n      <td>1</td>\n      <td>21</td>\n      <td>1</td>\n      <td>5240</td>\n      <td>207</td>\n      <td>1</td>\n      <td>0.162258</td>\n      <td>2</td>\n      <td>6</td>\n      <td>0.0</td>\n    </tr>\n    <tr>\n      <th>1</th>\n      <td>0.423269</td>\n      <td>3</td>\n      <td>21</td>\n      <td>1</td>\n      <td>4220</td>\n      <td>18</td>\n      <td>1</td>\n      <td>0.162258</td>\n      <td>1</td>\n      <td>1</td>\n      <td>1.0</td>\n    </tr>\n    <tr>\n      <th>2</th>\n      <td>-0.651841</td>\n      <td>1</td>\n      <td>18</td>\n      <td>5</td>\n      <td>5860</td>\n      <td>6</td>\n      <td>4</td>\n      <td>0.546433</td>\n      <td>2</td>\n      <td>1</td>\n      <td>0.0</td>\n    </tr>\n    <tr>\n      <th>3</th>\n      <td>-0.383064</td>\n      <td>1</td>\n      <td>1</td>\n      <td>5</td>\n      <td>4010</td>\n      <td>25</td>\n      <td>2</td>\n      <td>0.162258</td>\n      <td>2</td>\n      <td>1</td>\n      <td>0.0</td>\n    </tr>\n    <tr>\n      <th>4</th>\n      <td>0.960824</td>\n      <td>1</td>\n      <td>19</td>\n      <td>1</td>\n      <td>6005</td>\n      <td>6</td>\n      <td>0</td>\n      <td>0.930608</td>\n      <td>1</td>\n      <td>1</td>\n      <td>1.0</td>\n    </tr>\n  </tbody>\n</table>\n</div>"
     },
     "execution_count": 5,
     "metadata": {},
     "output_type": "execute_result"
    }
   ]
  },
  {
   "cell_type": "code",
   "source": [
    "#@markdown One-hot encode categorical features\n",
    "data = pd.get_dummies(data)\n",
    "\n",
    "#since the sex attribute is already binary we can drop one of the redundant dummy columns\n",
    "#note: males are now labeled as 1 and females are labeled as 0\n",
    "data.drop(columns=['SEX_2'], inplace=True)\n",
    "data.rename(columns={'SEX_1':'SEX'}, inplace=True)\n",
    "\n",
    "data.head()"
   ],
   "metadata": {
    "colab": {
     "base_uri": "https://localhost:8080/",
     "height": 235
    },
    "id": "6jWxUdV0gju_",
    "outputId": "ac557ec6-c983-4a45-a79a-24e2cc7d4642",
    "cellView": "form"
   },
   "execution_count": 6,
   "outputs": [
    {
     "data": {
      "text/plain": "       AGEP      WKHP  PINCP  COW_1  COW_2  COW_3  COW_4  COW_5  COW_6  COW_7  \\\n0  0.759241  0.162258    0.0      1      0      0      0      0      0      0   \n1  0.423269  0.162258    1.0      0      0      1      0      0      0      0   \n2 -0.651841  0.546433    0.0      1      0      0      0      0      0      0   \n3 -0.383064  0.162258    0.0      1      0      0      0      0      0      0   \n4  0.960824  0.930608    1.0      1      0      0      0      0      0      0   \n\n   ...  SEX  RAC1P_1  RAC1P_2  RAC1P_3  RAC1P_4  RAC1P_5  RAC1P_6  RAC1P_7  \\\n0  ...    0        0        0        0        0        0        1        0   \n1  ...    1        1        0        0        0        0        0        0   \n2  ...    0        1        0        0        0        0        0        0   \n3  ...    0        1        0        0        0        0        0        0   \n4  ...    1        1        0        0        0        0        0        0   \n\n   RAC1P_8  RAC1P_9  \n0        0        0  \n1        0        0  \n2        0        0  \n3        0        0  \n4        0        0  \n\n[5 rows x 808 columns]",
      "text/html": "<div>\n<style scoped>\n    .dataframe tbody tr th:only-of-type {\n        vertical-align: middle;\n    }\n\n    .dataframe tbody tr th {\n        vertical-align: top;\n    }\n\n    .dataframe thead th {\n        text-align: right;\n    }\n</style>\n<table border=\"1\" class=\"dataframe\">\n  <thead>\n    <tr style=\"text-align: right;\">\n      <th></th>\n      <th>AGEP</th>\n      <th>WKHP</th>\n      <th>PINCP</th>\n      <th>COW_1</th>\n      <th>COW_2</th>\n      <th>COW_3</th>\n      <th>COW_4</th>\n      <th>COW_5</th>\n      <th>COW_6</th>\n      <th>COW_7</th>\n      <th>...</th>\n      <th>SEX</th>\n      <th>RAC1P_1</th>\n      <th>RAC1P_2</th>\n      <th>RAC1P_3</th>\n      <th>RAC1P_4</th>\n      <th>RAC1P_5</th>\n      <th>RAC1P_6</th>\n      <th>RAC1P_7</th>\n      <th>RAC1P_8</th>\n      <th>RAC1P_9</th>\n    </tr>\n  </thead>\n  <tbody>\n    <tr>\n      <th>0</th>\n      <td>0.759241</td>\n      <td>0.162258</td>\n      <td>0.0</td>\n      <td>1</td>\n      <td>0</td>\n      <td>0</td>\n      <td>0</td>\n      <td>0</td>\n      <td>0</td>\n      <td>0</td>\n      <td>...</td>\n      <td>0</td>\n      <td>0</td>\n      <td>0</td>\n      <td>0</td>\n      <td>0</td>\n      <td>0</td>\n      <td>1</td>\n      <td>0</td>\n      <td>0</td>\n      <td>0</td>\n    </tr>\n    <tr>\n      <th>1</th>\n      <td>0.423269</td>\n      <td>0.162258</td>\n      <td>1.0</td>\n      <td>0</td>\n      <td>0</td>\n      <td>1</td>\n      <td>0</td>\n      <td>0</td>\n      <td>0</td>\n      <td>0</td>\n      <td>...</td>\n      <td>1</td>\n      <td>1</td>\n      <td>0</td>\n      <td>0</td>\n      <td>0</td>\n      <td>0</td>\n      <td>0</td>\n      <td>0</td>\n      <td>0</td>\n      <td>0</td>\n    </tr>\n    <tr>\n      <th>2</th>\n      <td>-0.651841</td>\n      <td>0.546433</td>\n      <td>0.0</td>\n      <td>1</td>\n      <td>0</td>\n      <td>0</td>\n      <td>0</td>\n      <td>0</td>\n      <td>0</td>\n      <td>0</td>\n      <td>...</td>\n      <td>0</td>\n      <td>1</td>\n      <td>0</td>\n      <td>0</td>\n      <td>0</td>\n      <td>0</td>\n      <td>0</td>\n      <td>0</td>\n      <td>0</td>\n      <td>0</td>\n    </tr>\n    <tr>\n      <th>3</th>\n      <td>-0.383064</td>\n      <td>0.162258</td>\n      <td>0.0</td>\n      <td>1</td>\n      <td>0</td>\n      <td>0</td>\n      <td>0</td>\n      <td>0</td>\n      <td>0</td>\n      <td>0</td>\n      <td>...</td>\n      <td>0</td>\n      <td>1</td>\n      <td>0</td>\n      <td>0</td>\n      <td>0</td>\n      <td>0</td>\n      <td>0</td>\n      <td>0</td>\n      <td>0</td>\n      <td>0</td>\n    </tr>\n    <tr>\n      <th>4</th>\n      <td>0.960824</td>\n      <td>0.930608</td>\n      <td>1.0</td>\n      <td>1</td>\n      <td>0</td>\n      <td>0</td>\n      <td>0</td>\n      <td>0</td>\n      <td>0</td>\n      <td>0</td>\n      <td>...</td>\n      <td>1</td>\n      <td>1</td>\n      <td>0</td>\n      <td>0</td>\n      <td>0</td>\n      <td>0</td>\n      <td>0</td>\n      <td>0</td>\n      <td>0</td>\n      <td>0</td>\n    </tr>\n  </tbody>\n</table>\n<p>5 rows × 808 columns</p>\n</div>"
     },
     "execution_count": 6,
     "metadata": {},
     "output_type": "execute_result"
    }
   ]
  },
  {
   "cell_type": "code",
   "source": [
    "#@markdown Split data into training and test sets\n",
    "target = data['PINCP']\n",
    "data.drop(columns='PINCP', inplace=True)\n",
    "\n",
    "#note: here we are setting a value for the random_state (seed) parameter so that the results of this lab will remain consistent\n",
    "X_train, X_test, y_train, y_test = train_test_split(data, target, test_size=0.2, random_state=4)\n",
    "\n",
    "print(f'X_train shape: {X_train.shape}')\n",
    "print(f'y_train shape: {y_train.shape}')\n",
    "print(f'X_test shape: {X_test.shape}')\n",
    "print(f'y_test shape: {y_test.shape}')"
   ],
   "metadata": {
    "id": "k7CoKBalCB_T",
    "colab": {
     "base_uri": "https://localhost:8080/"
    },
    "outputId": "a4148b5c-3a12-4d7d-8bb3-c383e1276afc",
    "cellView": "form"
   },
   "execution_count": 7,
   "outputs": [
    {
     "name": "stdout",
     "output_type": "stream",
     "text": [
      "X_train shape: (56000, 807)\n",
      "y_train shape: (56000,)\n",
      "X_test shape: (14000, 807)\n",
      "y_test shape: (14000,)\n"
     ]
    }
   ]
  },
  {
   "cell_type": "markdown",
   "source": [
    "Next, we will replicate our procedure from Lab 2 where we train a classifier and evaluate its accuracy and bias."
   ],
   "metadata": {
    "id": "n-h8k2m-D-8j"
   }
  },
  {
   "cell_type": "code",
   "source": [
    "#@markdown Implement logistic regression\n",
    "clf = LogisticRegression()\n",
    "clf.fit(X_train, y_train)\n",
    "clf_accuracy = clf.score(X_test, y_test)\n",
    "\n",
    "clear_output()\n",
    "\n",
    "print(f'Logistic Regression test accuracy: {clf_accuracy:.4f}')"
   ],
   "metadata": {
    "colab": {
     "base_uri": "https://localhost:8080/"
    },
    "id": "0O1D5EVdCZxw",
    "outputId": "8f0d0915-df7a-4c12-cc32-952e2dbcc91b",
    "cellView": "form"
   },
   "execution_count": 8,
   "outputs": [
    {
     "name": "stdout",
     "output_type": "stream",
     "text": [
      "Logistic Regression test accuracy: 0.8209\n"
     ]
    }
   ]
  },
  {
   "cell_type": "code",
   "source": [
    "#@markdown Evaluate the fairness of the classifier using demographic_parity_difference and demographic_parity_ratio\n",
    "#note: we are conducting this analysis over the test set\n",
    "\n",
    "#compute test predictions\n",
    "y_pred = clf.predict(X_test)\n",
    "\n",
    "#compute demographic parity difference and demographic parity ratio\n",
    "demo_parity_diff = demographic_parity_difference(y_test, y_pred, sensitive_features=X_test['SEX'])\n",
    "demo_parity_ratio = demographic_parity_ratio(y_test, y_pred, sensitive_features=X_test['SEX'])\n",
    "\n",
    "print(f'Demographic parity difference: {demo_parity_diff:.4f}')\n",
    "print(f'Demographic parity ratio: {demo_parity_ratio:.4f}')\n",
    "\n",
    "#compute selection rate for males and females\n",
    "male_selection_rate = selection_rate(y_test[X_test['SEX']==1], y_pred[X_test['SEX']==1])\n",
    "female_selection_rate = selection_rate(y_test[X_test['SEX']==0], y_pred[X_test['SEX']==0])\n",
    "\n",
    "print(f'Male selection rate: {male_selection_rate:.4f}')\n",
    "print(f'Female selection rate: {female_selection_rate:.4f}')"
   ],
   "metadata": {
    "colab": {
     "base_uri": "https://localhost:8080/"
    },
    "id": "rv0n_HiZChCZ",
    "outputId": "08e16e8c-8bbf-4dd7-ff8c-90f78b30b4e3",
    "cellView": "form"
   },
   "execution_count": 9,
   "outputs": [
    {
     "name": "stdout",
     "output_type": "stream",
     "text": [
      "Demographic parity difference: 0.1254\n",
      "Demographic parity ratio: 0.7346\n",
      "Male selection rate: 0.4725\n",
      "Female selection rate: 0.3471\n"
     ]
    }
   ]
  },
  {
   "cell_type": "code",
   "source": [
    "#@markdown Evaluate (plot) the fairness of the classifier using the MetricFrame class\n",
    "\n",
    "#changing sensitive feature inputs to be 'male' and 'female' instead of 1 and 0\n",
    "sensitive_feature = X_test['SEX'].replace({0:'female', 1:'male'})\n",
    "\n",
    "#evaluation metrics\n",
    "metrics = {'accuracy': skm.accuracy_score,\n",
    "           'selection_rate': selection_rate,  # i.e., the percentage of the population which have ‘1’ as their predicted label\n",
    "           'FNR': false_negative_rate,\n",
    "           'FPR': false_positive_rate\n",
    "           }\n",
    "\n",
    "grouped_on_sex = MetricFrame(metrics=metrics,\n",
    "                             y_true=y_test,\n",
    "                             y_pred=y_pred,\n",
    "                             sensitive_features=sensitive_feature)\n",
    "\n",
    "grouped_on_sex.by_group.plot.bar(\n",
    "    subplots=True, \n",
    "    figsize=(5, 10), \n",
    "    ylim=[0,1],\n",
    "    title=\"Metrics by sex\",\n",
    "    )\n",
    "plt.show()"
   ],
   "metadata": {
    "id": "RhRew9d2a2AD",
    "colab": {
     "base_uri": "https://localhost:8080/",
     "height": 702
    },
    "outputId": "a06110d6-9634-4249-8be4-3adb9752c5b1",
    "cellView": "form"
   },
   "execution_count": 10,
   "outputs": [
    {
     "data": {
      "text/plain": "<Figure size 360x720 with 4 Axes>",
      "image/png": "[encoded data removed]"
     },
     "metadata": {},
     "output_type": "display_data"
    }
   ]
  },
  {
   "cell_type": "markdown",
   "source": [
    "As before, we see that there are some disparities in the selection rate, FPR, and FNR between males and females. Namely, men have a higher selection rate because the have both a lower false negative rate and higher false positive rate."
   ],
   "metadata": {
    "id": "NBSkfP7Kf0o5"
   }
  },
  {
   "cell_type": "markdown",
   "source": [
    "#2. Preprocessing algorithms"
   ],
   "metadata": {
    "id": "oy8aIYjsl9oT"
   }
  },
  {
   "cell_type": "markdown",
   "source": [
    "Here, we will use the Correlation Remover Preprocessing algorithm to attempt to mitigate bias in our model.  The Correlation Remover will modify the original data, and then we will use this modified data in place of our original data to train our predictive model.\n",
    "\n",
    "- For example, suppose that `WKHP`, the number of hours worked per week, was well correlated with sex. Then, consider a model trained on that data which uses `WKHP` to predict someone's income. Thanks to that correlation, that model is also using `SEX` to predict income.\n",
    "\n",
    "To resolve this, this \"Correlation Remover\" takes our features that we are allowed to predict from, and forcibly changes their values a little bit so that the resulting features are _uncorrelated_ with sex. Then, a blind model like we used last week shouldn't have a way to distinguish men and women.\n",
    "\n",
    "- Notably, the \"Correlation Remover\" is a statistical model, and it needs to be trained on data. So, we fit the Remover on training data, and apply that model to de-correlate both the training and test data.\n",
    "\n",
    "- This removes _linear correlations_ in the data. If there's a nonlinear correlations in the data, and if the classifier model is able to learn nonlinear correlations, then it's not obvious that \"Correlation Remover\" will fix bias."
   ],
   "metadata": {
    "id": "PwJwQeyoGPET"
   }
  },
  {
   "cell_type": "markdown",
   "source": [
    "Before implementing the correlation remover, let us take a look again at the correlations between the numeric features and the target variable."
   ],
   "metadata": {
    "id": "_nDgm1dtfrCg"
   }
  },
  {
   "cell_type": "code",
   "source": [
    "#@title\n",
    "# Plot pairwise correlations between numeric features\n",
    "numerical_cols = ['AGEP','WKHP','SEX'] # We'll just pretend sex is numeric for this figure\n",
    "sn.heatmap(X_train[numerical_cols].corr(), mask=np.identity(len(X_train[numerical_cols].corr())), annot=True, cmap='Blues')\n",
    "plt.show()"
   ],
   "metadata": {
    "colab": {
     "base_uri": "https://localhost:8080/",
     "height": 265
    },
    "id": "zPbrYVfwf6A-",
    "outputId": "8dc4fc63-3499-403a-813b-3849e74156d8",
    "cellView": "form"
   },
   "execution_count": 16,
   "outputs": [
    {
     "data": {
      "text/plain": "<Figure size 432x288 with 2 Axes>",
      "image/png": "[encoded data removed]"
     },
     "metadata": {},
     "output_type": "display_data"
    }
   ]
  },
  {
   "cell_type": "markdown",
   "source": [
    "The correlation between `sex` and `hours worked per week` is non-negligable. Note that we only plotted correlations between `sex` and the numerical features, event though we will also remove correlations between `sex` and the one-hot encoded categorical features."
   ],
   "metadata": {
    "id": "imsVhDahtmhV"
   }
  },
  {
   "cell_type": "markdown",
   "source": [],
   "metadata": {
    "collapsed": false
   }
  },
  {
   "cell_type": "code",
   "source": [
    "#@title\n",
    "# Implement Correlation Remover\n",
    "column_names = list(data.columns.values)\n",
    "column_names.remove(\"SEX\")\n",
    "\n",
    "cr = CorrelationRemover(sensitive_feature_ids=['SEX'], alpha=1.0)\n",
    "\n",
    "# Fit our correlation removing model on *only* training data\n",
    "cr.fit(X_train)\n",
    "\n",
    "# Remove correlations on both training and test data\n",
    "\n",
    "X_train_cr = cr.transform(X_train) # returns a numpy array, not a dataframe\n",
    "X_train_cr = pd.DataFrame(X_train_cr, columns=column_names, index=X_train.index)\n",
    "X_train_cr['SEX'] = X_train['SEX']\n",
    "\n",
    "X_test_cr = cr.transform(X_test)\n",
    "X_test_cr = pd.DataFrame(X_test_cr, columns=column_names, index=X_test.index)\n",
    "X_test_cr['SEX'] = X_test['SEX']"
   ],
   "metadata": {
    "id": "hT_KlvO4z7Ch",
    "cellView": "form"
   },
   "execution_count": 17,
   "outputs": []
  },
  {
   "cell_type": "code",
   "source": [
    "#@title\n",
    "# We can plot the pairwise correlation again to see if correlation with `SEX` has decreased\n",
    "\n",
    "sn.heatmap(X_train_cr[numerical_cols].corr(), mask=np.identity(len(X_train_cr[numerical_cols].corr())), annot=True, cmap='Blues')\n",
    "plt.show()"
   ],
   "metadata": {
    "colab": {
     "base_uri": "https://localhost:8080/",
     "height": 269
    },
    "id": "HE3DFkoTj7Xa",
    "outputId": "282e6d9a-de97-42fa-bc4d-8ff6082ade90",
    "cellView": "form"
   },
   "execution_count": 18,
   "outputs": [
    {
     "data": {
      "text/plain": "<Figure size 432x288 with 2 Axes>",
      "image/png": "[encoded data removed]"
     },
     "metadata": {},
     "output_type": "display_data"
    }
   ]
  },
  {
   "cell_type": "markdown",
   "source": [
    "Notice that the moderate-to-small correlations with `sex` are now virtually zero.\n",
    "\n",
    "In principle, we have done this also to all our categorical data too, though this preprocessing algorithm treated that data like it was numerical, and those columns are no longer only full of 0s and 1s.\n"
   ],
   "metadata": {
    "id": "dRpETIKJuyIa"
   }
  },
  {
   "cell_type": "code",
   "source": [
    "#@title\n",
    "X_train_cr.head()"
   ],
   "metadata": {
    "colab": {
     "base_uri": "https://localhost:8080/",
     "height": 235
    },
    "id": "v1pqW7kpujpO",
    "outputId": "18061b40-b022-4273-dc05-4fa4fc8f0669",
    "cellView": "form"
   },
   "execution_count": 19,
   "outputs": [
    {
     "data": {
      "text/plain": "           AGEP      WKHP     COW_1     COW_2     COW_3     COW_4     COW_5  \\\n31604  1.422590 -0.010426  0.975134  0.020716  0.019542  0.008438 -0.007130   \n10793 -0.104707  0.354711  1.027713 -0.023088 -0.021779 -0.009404  0.007946   \n52093  0.683452  4.446005 -0.024866  0.020716  0.019542  0.008438 -0.007130   \n25134 -0.660436 -0.010426 -0.024866  0.020716  1.019542  0.008438 -0.007130   \n31569  0.701626  0.354711  1.027713 -0.023088 -0.021779 -0.009404  0.007946   \n\n          COW_6     COW_7     COW_8  ...   RAC1P_1   RAC1P_2   RAC1P_3  \\\n31604 -0.007681 -0.009692  0.000673  ...  0.993390  0.002365  0.000397   \n10793  0.008561  0.010801 -0.000750  ...  0.007366  0.997365 -0.000442   \n52093 -0.007681  0.990308  0.000673  ...  0.993390  0.002365  0.000397   \n25134 -0.007681 -0.009692  0.000673  ...  0.993390  0.002365  0.000397   \n31569  0.008561  0.010801 -0.000750  ...  0.007366 -0.002635 -0.000442   \n\n        RAC1P_4   RAC1P_5   RAC1P_6   RAC1P_7   RAC1P_8   RAC1P_9  SEX  \n31604  0.000039 -0.000070  0.009589  0.000301 -0.007040  0.001029    1  \n10793 -0.000044  0.000078 -0.010687 -0.000335  0.007846 -0.001147    0  \n52093  0.000039 -0.000070  0.009589  0.000301 -0.007040  0.001029    1  \n25134  0.000039 -0.000070  0.009589  0.000301 -0.007040  0.001029    1  \n31569 -0.000044  0.000078  0.989313 -0.000335  0.007846 -0.001147    0  \n\n[5 rows x 807 columns]",
      "text/html": "<div>\n<style scoped>\n    .dataframe tbody tr th:only-of-type {\n        vertical-align: middle;\n    }\n\n    .dataframe tbody tr th {\n        vertical-align: top;\n    }\n\n    .dataframe thead th {\n        text-align: right;\n    }\n</style>\n<table border=\"1\" class=\"dataframe\">\n  <thead>\n    <tr style=\"text-align: right;\">\n      <th></th>\n      <th>AGEP</th>\n      <th>WKHP</th>\n      <th>COW_1</th>\n      <th>COW_2</th>\n      <th>COW_3</th>\n      <th>COW_4</th>\n      <th>COW_5</th>\n      <th>COW_6</th>\n      <th>COW_7</th>\n      <th>COW_8</th>\n      <th>...</th>\n      <th>RAC1P_1</th>\n      <th>RAC1P_2</th>\n      <th>RAC1P_3</th>\n      <th>RAC1P_4</th>\n      <th>RAC1P_5</th>\n      <th>RAC1P_6</th>\n      <th>RAC1P_7</th>\n      <th>RAC1P_8</th>\n      <th>RAC1P_9</th>\n      <th>SEX</th>\n    </tr>\n  </thead>\n  <tbody>\n    <tr>\n      <th>31604</th>\n      <td>1.422590</td>\n      <td>-0.010426</td>\n      <td>0.975134</td>\n      <td>0.020716</td>\n      <td>0.019542</td>\n      <td>0.008438</td>\n      <td>-0.007130</td>\n      <td>-0.007681</td>\n      <td>-0.009692</td>\n      <td>0.000673</td>\n      <td>...</td>\n      <td>0.993390</td>\n      <td>0.002365</td>\n      <td>0.000397</td>\n      <td>0.000039</td>\n      <td>-0.000070</td>\n      <td>0.009589</td>\n      <td>0.000301</td>\n      <td>-0.007040</td>\n      <td>0.001029</td>\n      <td>1</td>\n    </tr>\n    <tr>\n      <th>10793</th>\n      <td>-0.104707</td>\n      <td>0.354711</td>\n      <td>1.027713</td>\n      <td>-0.023088</td>\n      <td>-0.021779</td>\n      <td>-0.009404</td>\n      <td>0.007946</td>\n      <td>0.008561</td>\n      <td>0.010801</td>\n      <td>-0.000750</td>\n      <td>...</td>\n      <td>0.007366</td>\n      <td>0.997365</td>\n      <td>-0.000442</td>\n      <td>-0.000044</td>\n      <td>0.000078</td>\n      <td>-0.010687</td>\n      <td>-0.000335</td>\n      <td>0.007846</td>\n      <td>-0.001147</td>\n      <td>0</td>\n    </tr>\n    <tr>\n      <th>52093</th>\n      <td>0.683452</td>\n      <td>4.446005</td>\n      <td>-0.024866</td>\n      <td>0.020716</td>\n      <td>0.019542</td>\n      <td>0.008438</td>\n      <td>-0.007130</td>\n      <td>-0.007681</td>\n      <td>0.990308</td>\n      <td>0.000673</td>\n      <td>...</td>\n      <td>0.993390</td>\n      <td>0.002365</td>\n      <td>0.000397</td>\n      <td>0.000039</td>\n      <td>-0.000070</td>\n      <td>0.009589</td>\n      <td>0.000301</td>\n      <td>-0.007040</td>\n      <td>0.001029</td>\n      <td>1</td>\n    </tr>\n    <tr>\n      <th>25134</th>\n      <td>-0.660436</td>\n      <td>-0.010426</td>\n      <td>-0.024866</td>\n      <td>0.020716</td>\n      <td>1.019542</td>\n      <td>0.008438</td>\n      <td>-0.007130</td>\n      <td>-0.007681</td>\n      <td>-0.009692</td>\n      <td>0.000673</td>\n      <td>...</td>\n      <td>0.993390</td>\n      <td>0.002365</td>\n      <td>0.000397</td>\n      <td>0.000039</td>\n      <td>-0.000070</td>\n      <td>0.009589</td>\n      <td>0.000301</td>\n      <td>-0.007040</td>\n      <td>0.001029</td>\n      <td>1</td>\n    </tr>\n    <tr>\n      <th>31569</th>\n      <td>0.701626</td>\n      <td>0.354711</td>\n      <td>1.027713</td>\n      <td>-0.023088</td>\n      <td>-0.021779</td>\n      <td>-0.009404</td>\n      <td>0.007946</td>\n      <td>0.008561</td>\n      <td>0.010801</td>\n      <td>-0.000750</td>\n      <td>...</td>\n      <td>0.007366</td>\n      <td>-0.002635</td>\n      <td>-0.000442</td>\n      <td>-0.000044</td>\n      <td>0.000078</td>\n      <td>0.989313</td>\n      <td>-0.000335</td>\n      <td>0.007846</td>\n      <td>-0.001147</td>\n      <td>0</td>\n    </tr>\n  </tbody>\n</table>\n<p>5 rows × 807 columns</p>\n</div>"
     },
     "execution_count": 19,
     "metadata": {},
     "output_type": "execute_result"
    }
   ]
  },
  {
   "cell_type": "markdown",
   "source": [
    "Next, using the de-correlated data, we again implement our Logistic Regression classifier."
   ],
   "metadata": {
    "id": "cg8Ueg16GhAg"
   }
  },
  {
   "cell_type": "code",
   "source": [
    "#@title\n",
    "#implement logistic regression\n",
    "\n",
    "# First, drop sex from the data, which is now (hopefully) meaningful since it's uncorrelated with other variables now\n",
    "X_train_cr.drop(['SEX'], axis=1, inplace=True)\n",
    "X_test_cr.drop(['SEX'], axis=1, inplace=True)\n",
    "\n",
    "# Train the Logistic Regression model\n",
    "clf = LogisticRegression()\n",
    "clf.fit(X_train_cr, y_train)\n",
    "clf_accuracy_cr = clf.score(X_test_cr, y_test)\n",
    "\n",
    "clear_output()\n",
    "\n",
    "print(f'Logistic Regression with Correlation Remover test accuracy: {clf_accuracy_cr:.4f}')"
   ],
   "metadata": {
    "id": "5BRk6K8f6sDW",
    "colab": {
     "base_uri": "https://localhost:8080/"
    },
    "outputId": "30d0e7dd-b0b2-4b33-838a-be9f397774c6",
    "cellView": "form"
   },
   "execution_count": 20,
   "outputs": [
    {
     "name": "stdout",
     "output_type": "stream",
     "text": [
      "Logistic Regression with Correlation Remover test accuracy: 0.8146\n"
     ]
    }
   ]
  },
  {
   "cell_type": "markdown",
   "source": [
    "#**TODO 1**: Write code to evaluate the fairness metrics of the model implemented with the Correlation Remover. Specifically, show the demographic parity difference, demographic parity ratio, male selection rate, and female selection rate.\n",
    "\n"
   ],
   "metadata": {
    "id": "Ya73N10CV0m4"
   }
  },
  {
   "cell_type": "code",
   "source": [
    "#@markdown \n",
    "\n",
    "# print the fairness of the unaltered model\n",
    "print(\"Naive Model's results:\")\n",
    "print(f'  Demographic parity difference: {demo_parity_diff:.4f}')\n",
    "print(f'  Demographic parity ratio: {demo_parity_ratio:.4f}')\n",
    "print(f'  Male selection rate: {male_selection_rate:.4f}')\n",
    "print(f'  Female selection rate: {female_selection_rate:.4f}')\n",
    "print()\n",
    "\n",
    "\n",
    "# evaluate fairness of the classifier with Correlation Remover\n",
    "print('Correlation Remover results:')\n",
    "\n",
    "# store a vector with the sex of everyone in the test data\n",
    "X_test_sexes = X_test['SEX']\n",
    "\n",
    "\n",
    "# compute test predictions\n",
    "y_pred_cr = clf.predict(X_test_cr)\n",
    "\n",
    "# demo_parity_diff = demographic_parity_difference(y_test, y_pred_cr, sensitive_features=X_test['SEX'])\n",
    "# demo_parity_ratio = demographic_parity_ratio(y_test, y_pred_Cr, sensitive_features=X_test['SEX'])\n",
    "# compute demographic parity difference and demographic parity ratio\n",
    "demo_parity_diff_cr = demographic_parity_difference(y_test, y_pred_cr, sensitive_features=X_test['SEX'])\n",
    "demo_parity_ratio_cr = demographic_parity_ratio(y_test, y_pred_cr, sensitive_features=X_test['SEX'])\n",
    "print(f'  Demographic parity difference: {demo_parity_diff_cr:.4f}')\n",
    "print(f'  Demographic parity ratio: {demo_parity_ratio_cr:.4f}')\n",
    "\n",
    "# male_selection_rate = selection_rate(y_test[X_test_cr['SEX']==1], y_pred_cr[X_test_cr['SEX']==1])\n",
    "# female_selection_rate = selection_rate(y_test[X_test_cr['SEX']==0], y_pred[X_test_cr['SEX']==0])\n",
    "# compute selection rate for males and females\n",
    "male_selection_rate_cr = selection_rate(y_test[X_test['SEX']==1], y_pred_cr[X_test['SEX']==1])\n",
    "female_selection_rate_cr = female_selection_rate = selection_rate(y_test[X_test['SEX']==0], y_pred_cr[X_test['SEX']==0])\n",
    "print(f'  Male selection rate: {male_selection_rate_cr:.4f}')\n",
    "print(f'  Female selection rate: {female_selection_rate_cr:.4f}')\n"
   ],
   "metadata": {
    "colab": {
     "base_uri": "https://localhost:8080/"
    },
    "id": "bj9Zu7VfxI0v",
    "outputId": "07e2987d-52e8-4569-d2d5-cf9e9ebe2a0d",
    "cellView": "form"
   },
   "execution_count": 26,
   "outputs": [
    {
     "name": "stdout",
     "output_type": "stream",
     "text": [
      "Naive Model's results:\n",
      "  Demographic parity difference: 0.1254\n",
      "  Demographic parity ratio: 0.7346\n",
      "  Male selection rate: 0.4725\n",
      "  Female selection rate: 0.3471\n",
      "\n",
      "Correlation Remover results:\n",
      "  Demographic parity difference: 0.0033\n",
      "  Demographic parity ratio: 0.9920\n",
      "  Male selection rate: 0.4113\n",
      "  Female selection rate: 0.4080\n"
     ]
    }
   ]
  },
  {
   "cell_type": "code",
   "source": [
    "# @markdown #**TODO 2**: write some code in this cell that plots metrics using the `MetricFrame` class\n",
    "\n",
    "# Write Code\n",
    "\n",
    "#@markdown Evaluate (plot) the fairness of the classifier using the MetricFrame class\n",
    "\n",
    "#changing sensitive feature inputs to be 'male' and 'female' instead of 1 and 0\n",
    "sensitive_feature = X_test['SEX'].replace({0:'female', 1:'male'})\n",
    "\n",
    "#evaluation metrics\n",
    "metrics = {'accuracy': skm.accuracy_score,\n",
    "           'selection_rate': selection_rate,  # i.e., the percentage of the population which have ‘1’ as their predicted label\n",
    "           'FNR': false_negative_rate,\n",
    "           'FPR': false_positive_rate\n",
    "           }\n",
    "\n",
    "grouped_on_sex = MetricFrame(metrics=metrics,\n",
    "                             y_true=y_test,\n",
    "                             y_pred=y_pred_cr,\n",
    "                             sensitive_features=sensitive_feature)\n",
    "\n",
    "grouped_on_sex.by_group.plot.bar(\n",
    "    subplots=True,\n",
    "    figsize=(5, 10),\n",
    "    ylim=[0,1],\n",
    "    title=\"Metrics by sex\",\n",
    ")\n",
    "plt.show()"
   ],
   "metadata": {
    "id": "a9VN5qfWavT0",
    "cellView": "form"
   },
   "execution_count": 27,
   "outputs": [
    {
     "data": {
      "text/plain": "<Figure size 360x720 with 4 Axes>",
      "image/png": "[encoded data removed]"
     },
     "metadata": {},
     "output_type": "display_data"
    }
   ]
  },
  {
   "cell_type": "markdown",
   "source": [
    "#**TODO 3**: What are the main differences in terms of bias in the Logistic Regression model implemented before and after the Correlation Remover Pre-Processing algorithm? What do these results indicate in terms of the attributes' correlation with the feature \"sex\"?"
   ],
   "metadata": {
    "id": "Laua3uXfN0Rr"
   }
  },
  {
   "cell_type": "markdown",
   "source": [
    "**Answer:**\n",
    "The main difference in that the Demographic parity difference is smaller and the Demographic parity ratio is much closer to one. This means that there is a correlation between \"sex\" and the other numerical features. That is, 'sex' is a sensitive feature in our model."
   ],
   "metadata": {
    "id": "BSzjBKrch8i9"
   }
  },
  {
   "cell_type": "markdown",
   "source": [
    "#**TODO 4**: What would we expect the results to be if we use an alpha parameter less than 1.0 (standard)? What would happen if we use alpha equal to 0?"
   ],
   "metadata": {
    "id": "Ac2VR2hjOcoU"
   }
  },
  {
   "cell_type": "markdown",
   "source": [
    "**Answer:**\n",
    "If alpha is less than 1, then it make the input more uncorrelated. If alpha is equal to 0, then there is no correction, which is the same as the last week lab."
   ],
   "metadata": {
    "id": "515Y5EZspLvj"
   }
  },
  {
   "cell_type": "markdown",
   "source": [
    "#3. Reduction algorithms"
   ],
   "metadata": {
    "id": "C6y0E2iEmDWs"
   }
  },
  {
   "cell_type": "markdown",
   "source": [
    "Both **GridSearch** and **ExponentialGradient** can be used for binary classification and regression models, supporting the following fairness definitions:\n",
    "\n",
    "*   **Demographic Parity:** ensures that the selection rate or percentage of samples with label = 1 is equal across all groups. Implicitly this means the percentage with label = 0 is equal as well.\n",
    "\n",
    "*   **True Positive Rate Parity and False Positive Rate Parity:** ensures that the True Positive Rate (TP / TP + FN) **OR** the False Positive Rate (FP / FP + TN) is equal across all groups. In first case, we only consider samples with $Y = 1$ and ignore the samples with $Y = 0$, and in the second case vice versa.\n",
    "\n",
    "*   **Equalized Odds:** ensures that both True Positive Rate (TP / TP + FN) **AND** the False Positive Rate (FP / FP + TN) are equal across all groups. The constraints represent the union of constraints for true positive rate and false positive rate. Thus, samples with both $Y = 1$ and $Y = 0$ are considered.\n",
    "\n",
    "*   **Error Rate Parity:** ensures that the error rates should be the same across all groups. The __utility__ of our classifier on a single sample $X$ is 0 if we predicted the label correctly, and the utility is 1 otherwise. So, a large __total utility__ (i.e. sum of utilities across all test samples) here corresponds to a poor model.\n",
    "\n",
    "*   **Control Features:** The above metrics (Demographic Parity, True and False Positive Rate Parity, Equalized Odds, and Error Rate Parity) happen to all fit a math definition which lets us call them __Moments__$\\text{}^{\\dagger}$. These moments all support __Control Features__ when applying their fairness constraints.\n",
    "  1. Suppose we are designing a classifier to predict if someone will repay a loan. We may want to be fair towards sex. But, we also don't want to lose information about their annual income, so we want to control for their annual income somehow.\n",
    "  2. We can split all people into groups based on their income level, and require fairness towards sex _within_ each group. We will not require fairness towards sex _between_ different groups.\n",
    "  3. In this example, income level is a control feature.\n",
    "  4. Formally, a control feature stratifies the dataset, and applies the fairness constraint within each stratum, but not between strata.\n",
    "  5. This should be done with caution, since the control features might be correlated with the sensitive features due to historical biases.\n",
    "  6. In the loan scenario, we might choose to control for income level, on the grounds that higher income individuals are more likely to be able to repay a loan. However, due to historical bias, there is a correlation between the income level of individuals and their race and gender.\n",
    "\n",
    "$\\phantom{}^{[\\dagger]}$ _If you're curious, see https://arxiv.org/pdf/1803.02453.pdf for details on why these are called \"moments\"._"
   ],
   "metadata": {
    "id": "lRY-8XORIrpb"
   }
  },
  {
   "cell_type": "markdown",
   "source": [
    "##3.1 GridSearch"
   ],
   "metadata": {
    "id": "ylEcucV2t0px"
   }
  },
  {
   "cell_type": "markdown",
   "source": [
    "Here, we implement the Grid Search intervention on our classifier and examine its effects on bias in our model.  `GridSearch` implements a simplified version of the [exponentiated gradient reduction](https://fairlearn.org/main/api_reference/generated/fairlearn.reductions.ExponentiatedGradient.html) intervention.  It generates a sequence of relabellings and reweightings and trains a predictor for each.  From there, users can select the model that generates the most favorable tradoff between accuracy and fairness for their specific purpose.\n",
    "\n",
    "**NOTE**: this code will temporarily create several outputs which say `lbfgs failed to converge`. Ingore these messages."
   ],
   "metadata": {
    "id": "bgwgMmoHt2G3"
   }
  },
  {
   "cell_type": "code",
   "source": [
    "#@title\n",
    "#first we specificy Demographic Parity as our fairness metric and generate a train a series of predictors\n",
    "sweep = GridSearch(LogisticRegression(max_iter=100), constraints=DemographicParity())\n",
    "\n",
    "sweep.fit(X_train, y_train, sensitive_features=X_train['SEX']) # This will take about 2 minutes\n",
    "\n",
    "#GridSearch created a bunch of different predictors, stored in this list\n",
    "predictors = sweep.predictors_\n",
    "\n",
    "#next, we remove predictors which are dominated in the error-disparity space by others from the sweep\n",
    "errors, disparities = [], []\n",
    "for m in predictors:\n",
    "    def classifier(X): return m.predict(X)\n",
    "\n",
    "    # Load the training and test data into ErrorRate and DemographicParity objects\n",
    "    error = ErrorRate()\n",
    "    error.load_data(X_train, y_train, sensitive_features=X_train['SEX'])\n",
    "    disparity = DemographicParity()\n",
    "    disparity.load_data(X_train, y_train, sensitive_features=X_train['SEX'])\n",
    "\n",
    "    # error.gamma(classifier) and disparity.gamma(classifier) returns the actual error rate and statistical disparity\n",
    "    errors.append(error.gamma(classifier)[0])\n",
    "    disparities.append(disparity.gamma(classifier).max())\n",
    "\n",
    "\n",
    "# A Dataframe of all predictors, their errors, and their disparities\n",
    "all_results = pd.DataFrame({\"predictor\": predictors, \"error\": errors, \"disparity\": disparities})\n",
    "\n",
    "best_predictors = []\n",
    "\n",
    "# for each predictor\n",
    "for row in all_results.itertuples(): \n",
    "    # find the subset of all predictors with disparity <= this predictor's disparity\n",
    "    # keep only the errors from that subset\n",
    "    errors_for_lower_or_eq_disparity = all_results[\"error\"][all_results[\"disparity\"] <= row.disparity]\n",
    "    if row.error <= errors_for_lower_or_eq_disparity.min():\n",
    "        # If this predictor has better error than all rows better disparity, add it to the list\n",
    "        best_predictors.append(row.predictor)\n",
    "\n",
    "clear_output()"
   ],
   "metadata": {
    "id": "hCq0ffkZtZ1S",
    "cellView": "form"
   },
   "execution_count": 29,
   "outputs": []
  },
  {
   "cell_type": "code",
   "source": [
    "#@title\n",
    "# here we calculate the accuracy and fairness metrics for our dominant models\n",
    "# define a bunch of lists that will become Pandas dataframe columns\n",
    "model_num = []\n",
    "accuracy_gs = []\n",
    "demo_parity_diff_gs = []\n",
    "demo_parity_ratio_gs = []\n",
    "male_selection_rate_gs = []\n",
    "female_selection_rate_gs = []\n",
    "\n",
    "# populate the lists\n",
    "for i in range(len(best_predictors)):\n",
    "    y_pred = best_predictors[i].predict(X_test)\n",
    "\n",
    "    model_num.append(\"dominant_model_{0}\".format(i))\n",
    "    accuracy_gs.append(accuracy_score(y_test,y_pred))\n",
    "    demo_parity_diff_gs.append(demographic_parity_difference(y_test, y_pred, sensitive_features=X_test['SEX']))\n",
    "    demo_parity_ratio_gs.append(demographic_parity_ratio(y_test, y_pred, sensitive_features=X_test['SEX']))\n",
    "    male_selection_rate_gs.append(selection_rate(y_test[X_test['SEX']==1], y_pred[X_test['SEX']==1]))\n",
    "    female_selection_rate_gs.append(selection_rate(y_test[X_test['SEX']==0], y_pred[X_test['SEX']==0]))\n",
    "\n",
    "# make the lists into a single pandas dataframe\n",
    "grid_search_results_df = pd.DataFrame()\n",
    "grid_search_results_df['model'] = model_num\n",
    "grid_search_results_df['accuracy'] = accuracy_gs\n",
    "grid_search_results_df['demo_parity_diff'] = demo_parity_diff_gs\n",
    "grid_search_results_df['demo_parity_ratio'] = demo_parity_ratio_gs\n",
    "grid_search_results_df['male_selection_rate'] = male_selection_rate_gs\n",
    "grid_search_results_df['female_selection_rate'] = female_selection_rate_gs\n",
    "\n",
    "grid_search_results_df\n"
   ],
   "metadata": {
    "colab": {
     "base_uri": "https://localhost:8080/",
     "height": 112
    },
    "id": "gj9j5wzpvfvc",
    "outputId": "59e45e72-f224-4c35-ac0d-ea7b69b665b9",
    "cellView": "form"
   },
   "execution_count": 40,
   "outputs": [
    {
     "data": {
      "text/plain": "              model  accuracy  demo_parity_diff  demo_parity_ratio  \\\n0  dominant_model_0  0.820929          0.125404           0.734611   \n1  dominant_model_1  0.798786          0.105135           0.772497   \n\n   male_selection_rate  female_selection_rate  \n0             0.472529               0.347125  \n1             0.356989               0.462124  ",
      "text/html": "<div>\n<style scoped>\n    .dataframe tbody tr th:only-of-type {\n        vertical-align: middle;\n    }\n\n    .dataframe tbody tr th {\n        vertical-align: top;\n    }\n\n    .dataframe thead th {\n        text-align: right;\n    }\n</style>\n<table border=\"1\" class=\"dataframe\">\n  <thead>\n    <tr style=\"text-align: right;\">\n      <th></th>\n      <th>model</th>\n      <th>accuracy</th>\n      <th>demo_parity_diff</th>\n      <th>demo_parity_ratio</th>\n      <th>male_selection_rate</th>\n      <th>female_selection_rate</th>\n    </tr>\n  </thead>\n  <tbody>\n    <tr>\n      <th>0</th>\n      <td>dominant_model_0</td>\n      <td>0.820929</td>\n      <td>0.125404</td>\n      <td>0.734611</td>\n      <td>0.472529</td>\n      <td>0.347125</td>\n    </tr>\n    <tr>\n      <th>1</th>\n      <td>dominant_model_1</td>\n      <td>0.798786</td>\n      <td>0.105135</td>\n      <td>0.772497</td>\n      <td>0.356989</td>\n      <td>0.462124</td>\n    </tr>\n  </tbody>\n</table>\n</div>"
     },
     "execution_count": 40,
     "metadata": {},
     "output_type": "execute_result"
    }
   ]
  },
  {
   "cell_type": "markdown",
   "source": [
    "#**TODO 5**: If we decide to prioritize fairness over accuracy in our model, which of these dominant models would you select and why? Recreate the MetricFrame plots used previously for the selected model.\n",
    "\n",
    "\n",
    "**Note: Results may changes with different runs.**\n"
   ],
   "metadata": {
    "id": "1L4nRRqEr1XK"
   }
  },
  {
   "cell_type": "markdown",
   "source": [
    "**Answer:**\n",
    "\n",
    "If we prefer fairness over accuracy, then dominant model 1 is better to be selected as it has less demo_parity_Diff so it has slightly more fairness here. The selection rate across sex is pretty much the same in both model"
   ],
   "metadata": {
    "id": "bY6_zV2bFvHq"
   }
  },
  {
   "cell_type": "code",
   "source": [
    "#@markdown Plot the fairness metrics of the selected classifier using the MetricFrame class\n",
    "selected_model_num = 1\n",
    "y_pred_gs = best_predictors[selected_model_num].predict(X_test)\n",
    "\n",
    "grouped_on_sex_grid_search = MetricFrame(metrics=metrics,\n",
    "                             y_true=y_test,\n",
    "                             y_pred=y_pred_gs,\n",
    "                             sensitive_features=sensitive_feature)\n",
    "#plot the metric values\n",
    "grouped_on_sex_grid_search.by_group.plot.bar(\n",
    "    subplots=True, \n",
    "    figsize=(5, 10), \n",
    "    ylim=[0,1],\n",
    "    title=\"Metrics by sex\",\n",
    "    )\n",
    "plt.show()"
   ],
   "metadata": {
    "colab": {
     "base_uri": "https://localhost:8080/",
     "height": 702
    },
    "id": "f-ZS1oXWPEbv",
    "outputId": "82bdbab6-4958-447c-bd20-31e810b58e8d",
    "cellView": "form"
   },
   "execution_count": 41,
   "outputs": [
    {
     "data": {
      "text/plain": "<Figure size 360x720 with 4 Axes>",
      "image/png": "[encoded data removed]"
     },
     "metadata": {},
     "output_type": "display_data"
    }
   ]
  },
  {
   "cell_type": "markdown",
   "source": [
    "#**TODO 6**: What does a comparison of these two dominant models tell us about the relationship between accuracy and fairness in our models?"
   ],
   "metadata": {
    "id": "HRT5VUSh0kBd"
   }
  },
  {
   "cell_type": "markdown",
   "source": [
    "**Answer here:**\n",
    "\n",
    "It is sometimes the trade-off of the accuracy and fairness. If we have more accuracy, then sometimes less fairness across groups, and if we have more fairness, the accuracy is being decreased as we need to pre-process some correlations. This is also fairness-utility trade-off described more generally, where fairness is enforced then usually the accuracy (or 'utility') suffers."
   ],
   "metadata": {
    "id": "-Ukhh_uXF_2a"
   }
  },
  {
   "cell_type": "markdown",
   "source": [
    "# 4 Postprocessing algorithms\n",
    "\n",
    "The logistic regression classifier does not just predict the class of a given input. It can also provide a \"confidence\" of how likely it thinks the class is postive, as a number between 0 and 1. Often, any confidence above 0.5 is labeled as positive, and any confidence below 0.5 is labeled as negative. In this case, we say that 0.5 is the __confidence threshold__.\n",
    "\n",
    "To achieve fairness, we will now consider a __postprocessing algorithm__ called [ThresholdOptimizer](https://fairlearn.org/v0.7.0/api_reference/fairlearn.postprocessing.html#fairlearn.postprocessing.ThresholdOptimizer).\n",
    "The ThresholdOptimizer will use our dataset and the confidence scores of our logistic regression model in order to transform the confidence scores to create a more fair model."
   ],
   "metadata": {
    "id": "YEQNF1BdTrK3"
   }
  },
  {
   "cell_type": "code",
   "source": [
    "#@markdown\n",
    "\n",
    "# Train a model on straightforward data\n",
    "default_model = LogisticRegression(max_iter=500).fit(X_train, y_train)\n",
    "\n",
    "# Make the post-processed model\n",
    "postprocessed_model = ThresholdOptimizer(\n",
    "    estimator=default_model,\n",
    "    constraints='selection_rate_parity',\n",
    "    objective='balanced_accuracy_score',\n",
    "    prefit=True,\n",
    "    predict_method='predict_proba'\n",
    ")\n",
    "\n",
    "# Fit the model to the training data\n",
    "postprocessed_model.fit(X_train, y_train, sensitive_features=X_train['SEX'])\n",
    "\n",
    "# Predict on the test data\n",
    "y_pred_to = postprocessed_model.predict(X_test, sensitive_features=X_test['SEX'])  \n",
    "\n",
    "\n",
    "# Make a metricframe\n",
    "grouped_on_sex_to = MetricFrame(\n",
    "    metrics=metrics,\n",
    "    y_true=y_test,\n",
    "    y_pred=y_pred_to,\n",
    "    sensitive_features=sensitive_feature\n",
    ")\n",
    "\n",
    "# Plot a metricframe grouped by sex\n",
    "grouped_on_sex_to.by_group.plot.bar(\n",
    "    subplots=True, \n",
    "    figsize=(5, 10), \n",
    "    ylim=[0,1],\n",
    "    title=\"Metrics by sex\",\n",
    "    )\n",
    "plt.show()\n"
   ],
   "metadata": {
    "colab": {
     "base_uri": "https://localhost:8080/",
     "height": 702
    },
    "id": "rouFxrXRTqb_",
    "outputId": "a38e3d60-93ca-4627-9d7f-069357258938",
    "cellView": "form"
   },
   "execution_count": 34,
   "outputs": [
    {
     "data": {
      "text/plain": "<Figure size 360x720 with 4 Axes>",
      "image/png": "[encoded data removed]"
     },
     "metadata": {},
     "output_type": "display_data"
    }
   ]
  },
  {
   "cell_type": "code",
   "source": [
    "#@title\n",
    "# print the fairness of the unaltered model\n",
    "print(\"Naive Model's results:\")\n",
    "print(f'  Demographic parity difference: {demo_parity_diff:.4f}')\n",
    "print(f'  Demographic parity ratio: {demo_parity_ratio:.4f}')\n",
    "print(f'  Male selection rate: {male_selection_rate:.4f}')\n",
    "print(f'  Female selection rate: {female_selection_rate:.4f}')\n",
    "print()\n",
    "\n",
    "\n",
    "# evaluate fairness of the classifier with Correlation Remover\n",
    "print('ThresholdOptimizer results:')\n",
    "\n",
    "#compute demographic parity difference and demographic parity ratio\n",
    "demo_parity_diff_to = demographic_parity_difference(y_test, y_pred_to, sensitive_features=X_test_sexes)\n",
    "demo_parity_ratio_to = demographic_parity_ratio(y_test, y_pred_to, sensitive_features=X_test_sexes)\n",
    "\n",
    "print(f'  Demographic parity difference: {demo_parity_diff_to:.4f}')\n",
    "print(f'  Demographic parity ratio: {demo_parity_ratio_to:.4f}')\n",
    "\n",
    "#compute selection rate for males and females\n",
    "male_selection_rate_to = selection_rate(y_test[X_test_sexes==1], y_pred_to[X_test_sexes==1])\n",
    "female_selection_rate_to = selection_rate(y_test[X_test_sexes==0], y_pred_to[X_test_sexes==0])\n",
    "\n",
    "print(f'  Male selection rate: {male_selection_rate_cr:.4f}')\n",
    "print(f'  Female selection rate: {female_selection_rate_cr:.4f}')"
   ],
   "metadata": {
    "colab": {
     "base_uri": "https://localhost:8080/"
    },
    "cellView": "form",
    "id": "roJpej4SJjEI",
    "outputId": "34fbda8d-470c-4320-ce05-69cbab62991a"
   },
   "execution_count": 35,
   "outputs": [
    {
     "name": "stdout",
     "output_type": "stream",
     "text": [
      "Naive Model's results:\n",
      "  Demographic parity difference: 0.1254\n",
      "  Demographic parity ratio: 0.7346\n",
      "  Male selection rate: 0.4725\n",
      "  Female selection rate: 0.4080\n",
      "\n",
      "ThresholdOptimizer results:\n",
      "  Demographic parity difference: 0.0059\n",
      "  Demographic parity ratio: 0.9872\n",
      "  Male selection rate: 0.4113\n",
      "  Female selection rate: 0.4080\n"
     ]
    }
   ]
  },
  {
   "cell_type": "markdown",
   "source": [
    "#**TODO 7**: Is the ThresholdOptimizer successful at balancing selection rates? Is it fair?"
   ],
   "metadata": {
    "id": "hwKHcwTgKMDg"
   }
  },
  {
   "cell_type": "markdown",
   "source": [
    "**Answer:**\n",
    "\n",
    "\n",
    "It seems like ThresholdOptimizer is making the selection rates more balanced. It is fairer than the naive model. The selection rate disparity between Male and Female is smaller than the naive model. However, it will only reduce the fairness problems in our model but not eliminating it."
   ],
   "metadata": {
    "id": "w-nhdkxZLUan"
   }
  },
  {
   "cell_type": "markdown",
   "source": [
    "Now, we try the same idea, but aiming for `false_negative_rate_parity` instead of `selection_rate_parity`"
   ],
   "metadata": {
    "id": "6um_IyQBLLd_"
   }
  },
  {
   "cell_type": "code",
   "source": [
    "#@title\n",
    "\n",
    "\n",
    "# Make the post-processed model\n",
    "postprocessed_model_fnr = ThresholdOptimizer(\n",
    "    estimator=default_model,\n",
    "    constraints='false_negative_rate_parity',\n",
    "    objective='balanced_accuracy_score',\n",
    "    prefit=True,\n",
    "    predict_method='predict_proba'\n",
    ")\n",
    "\n",
    "# Fit the model to the training data\n",
    "postprocessed_model_fnr.fit(X_train, y_train, sensitive_features=X_train['SEX'])\n",
    "\n",
    "# Predict on the test data\n",
    "y_pred_to_fnr = postprocessed_model_fnr.predict(X_test, sensitive_features=X_test['SEX'])  \n",
    "\n",
    "# Make a metricframe\n",
    "grouped_on_sex_to_fnr = MetricFrame(\n",
    "    metrics=metrics,\n",
    "    y_true=y_test,\n",
    "    y_pred=y_pred_to_fnr,\n",
    "    sensitive_features=sensitive_feature\n",
    ")\n",
    "\n",
    "# Plot a metricframe grouped by sex\n",
    "grouped_on_sex_to.by_group.plot.bar(\n",
    "    subplots=True, \n",
    "    figsize=(5, 10), \n",
    "    ylim=[0,1],\n",
    "    title=\"Metrics by sex\",\n",
    "    )\n",
    "plt.show()"
   ],
   "metadata": {
    "colab": {
     "base_uri": "https://localhost:8080/",
     "height": 702
    },
    "id": "TLfYSKJWZOTG",
    "outputId": "d64bd2de-7578-4e4b-9ff1-80e3d8ac567a",
    "cellView": "form"
   },
   "execution_count": 36,
   "outputs": [
    {
     "data": {
      "text/plain": "<Figure size 360x720 with 4 Axes>",
      "image/png": "[encoded data removed]"
     },
     "metadata": {},
     "output_type": "display_data"
    }
   ]
  },
  {
   "cell_type": "code",
   "source": [
    "#@title\n",
    "# print the fairness of the unaltered model\n",
    "print(\"Naive Model's results:\")\n",
    "print(f'  Demographic parity difference: {demo_parity_diff:.4f}')\n",
    "print(f'  Demographic parity ratio: {demo_parity_ratio:.4f}')\n",
    "print(f'  Male selection rate: {male_selection_rate:.4f}')\n",
    "print(f'  Female selection rate: {female_selection_rate:.4f}')\n",
    "print()\n",
    "\n",
    "\n",
    "# evaluate fairness of the classifier with Correlation Remover\n",
    "print('ThresholdOptimizer (for FNR) results:')\n",
    "\n",
    "#compute demographic parity difference and demographic parity ratio\n",
    "demo_parity_diff_to_fnr = demographic_parity_difference(y_test, y_pred_to_fnr, sensitive_features=X_test_sexes)\n",
    "demo_parity_ratio_to_fnr = demographic_parity_ratio(y_test, y_pred_to_fnr, sensitive_features=X_test_sexes)\n",
    "\n",
    "print(f'  Demographic parity difference: {demo_parity_diff_to_fnr:.4f}')\n",
    "print(f'  Demographic parity ratio: {demo_parity_ratio_to_fnr:.4f}')\n",
    "\n",
    "#compute selection rate for males and females\n",
    "male_selection_rate_to_fnr = selection_rate(y_test[X_test_sexes==1], y_pred_to_fnr[X_test_sexes==1])\n",
    "female_selection_rate_to_fnr = selection_rate(y_test[X_test_sexes==0], y_pred_to_fnr[X_test_sexes==0])\n",
    "\n",
    "print(f'  Male selection rate: {male_selection_rate_to_fnr:.4f}')\n",
    "print(f'  Female selection rate: {female_selection_rate_to_fnr:.4f}')"
   ],
   "metadata": {
    "colab": {
     "base_uri": "https://localhost:8080/"
    },
    "cellView": "form",
    "id": "rDFmE4LVK44P",
    "outputId": "ef6d4bb9-5836-45de-f023-a8caa8bae29a"
   },
   "execution_count": 37,
   "outputs": [
    {
     "name": "stdout",
     "output_type": "stream",
     "text": [
      "Naive Model's results:\n",
      "  Demographic parity difference: 0.1254\n",
      "  Demographic parity ratio: 0.7346\n",
      "  Male selection rate: 0.4725\n",
      "  Female selection rate: 0.4080\n",
      "\n",
      "ThresholdOptimizer (for FNR) results:\n",
      "  Demographic parity difference: 0.0840\n",
      "  Demographic parity ratio: 0.8326\n",
      "  Male selection rate: 0.5019\n",
      "  Female selection rate: 0.4179\n"
     ]
    }
   ]
  },
  {
   "cell_type": "markdown",
   "source": [
    "#**TODO 8**: Is the ThresholdOptimizer successful at balancing false negative rates? Is it fair?"
   ],
   "metadata": {
    "id": "YfSpDbMfLZ-X"
   }
  },
  {
   "cell_type": "markdown",
   "source": [
    "**Answer**:\n",
    "\n",
    "It seems like ThresholdOptimizer is making the false negative rates more balanced. It is fairer than the naive model. The false negative rate disparity between Male and Female is smaller than the naive model. However, it will only reduce the fairness problems in our model but not eliminating it."
   ],
   "metadata": {
    "id": "HEwZsvv1Ltk-"
   }
  },
  {
   "cell_type": "markdown",
   "source": [
    "#**TODO 9**: Which of all the methods we tried in this lab was the most effective?"
   ],
   "metadata": {
    "id": "IawHn4fAqzgJ"
   }
  },
  {
   "cell_type": "markdown",
   "source": [
    "**Answer:**\n",
    "\n",
    "ThresholdOptimizer is the most effective tool as far as I am concerned. As it has more fairness without lose too much accuracy compare to reduction algo and correlation adjustment. Given that we already have a model, use a postprocessing algorithm to improve existing models is always a better choice, or more effectively. But in general, for existing models, we can mitigate unfairness using postprocessing. For new models, we can use reduction algorithms to improve fairness. That is, we can improve fairness for trained models using TresholdOptimizer and to train models with improved fairness using GridSearch. There is no firm answer to be honest."
   ],
   "metadata": {
    "id": "FqgRQpFdLxmH"
   }
  },
  {
   "cell_type": "code",
   "execution_count": null,
   "outputs": [],
   "source": [],
   "metadata": {
    "collapsed": false
   }
  }
 ]
}
