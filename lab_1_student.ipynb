{
 "nbformat": 4,
 "nbformat_minor": 0,
 "metadata": {
  "colab": {
   "provenance": [],
   "collapsed_sections": [
    "355LmyCRd_sZ",
    "JI0slRqXFyXZ",
    "06n4G0ShMTWY"
   ]
  },
  "kernelspec": {
   "display_name": "Python 3",
   "name": "python3"
  }
 },
 "cells": [
  {
   "cell_type": "markdown",
   "metadata": {
    "id": "355LmyCRd_sZ"
   },
   "source": [
    "# Lab 1: ProPublica's Analysis of the COMPAS Tool\n",
    "\n",
    "In 2016, [ProPublica published an analysis](https://www.propublica.org/article/machine-bias-risk-assessments-in-criminal-sentencing) of the Correctional Offender Management Profiling for Alternative Sanctions (COMPAS) tool. COMPAS is a proprietary tool which generates a so-called risk assessment for defendants in a criminal trial. ProPublica's analysis focused on the \"recidivism score,\" which purports to provide the likelihood of recidivism (i.e. committing a misdemeanor of felony) within two years of assessment.\n",
    "\n",
    "In this lab, we will go through parts of ProPublica's analysis of COMPAS, focusing on how the recidivism risk scale varies by race and sex.\n",
    "\n",
    "This notebook has four stages in which we will:\n",
    "1. Import the data, implement a few pre-processing steps, and inspect the data\n",
    "2. Run a short exploratory analysis of the COMPAS recidivism score, our primary variable of interest\n",
    "3. Reproduce the logistic regression model in ProPublica's analysis and interpret the estimates\n",
    "4. Compute the predictive accuracy of the risk score labels"
   ]
  },
  {
   "cell_type": "markdown",
   "metadata": {
    "id": "pdeHvX_6woJg"
   },
   "source": [
    "# Packages and Modules"
   ]
  },
  {
   "cell_type": "markdown",
   "metadata": {
    "id": "lI_-xUcTnhv3"
   },
   "source": [
    "You may need to install the following packages:\n",
    "\n",
    "\n"
   ]
  },
  {
   "cell_type": "code",
   "metadata": {
    "id": "OgzPfEeYl28y",
    "outputId": "cade6b6b-2ee8-449e-bf3e-a7d62024e9c3",
    "colab": {
     "base_uri": "https://localhost:8080/"
    }
   },
   "source": [
    "#@title Installs\n",
    "%pip install pandas numpy statsmodels matplotlib seaborn"
   ],
   "execution_count": 1,
   "outputs": [
    {
     "name": "stdout",
     "output_type": "stream",
     "text": [
      "Requirement already satisfied: pandas in /Users/zhongyihao/opt/anaconda3/lib/python3.9/site-packages (1.4.2)\r\n",
      "Requirement already satisfied: numpy in /Users/zhongyihao/opt/anaconda3/lib/python3.9/site-packages (1.21.5)\r\n",
      "Requirement already satisfied: statsmodels in /Users/zhongyihao/opt/anaconda3/lib/python3.9/site-packages (0.13.2)\r\n",
      "Requirement already satisfied: matplotlib in /Users/zhongyihao/opt/anaconda3/lib/python3.9/site-packages (3.5.1)\r\n",
      "Requirement already satisfied: seaborn in /Users/zhongyihao/opt/anaconda3/lib/python3.9/site-packages (0.11.2)\r\n",
      "Requirement already satisfied: python-dateutil>=2.8.1 in /Users/zhongyihao/opt/anaconda3/lib/python3.9/site-packages (from pandas) (2.8.2)\r\n",
      "Requirement already satisfied: pytz>=2020.1 in /Users/zhongyihao/opt/anaconda3/lib/python3.9/site-packages (from pandas) (2021.3)\r\n",
      "Requirement already satisfied: packaging>=21.3 in /Users/zhongyihao/opt/anaconda3/lib/python3.9/site-packages (from statsmodels) (21.3)\r\n",
      "Requirement already satisfied: scipy>=1.3 in /Users/zhongyihao/opt/anaconda3/lib/python3.9/site-packages (from statsmodels) (1.7.3)\r\n",
      "Requirement already satisfied: patsy>=0.5.2 in /Users/zhongyihao/opt/anaconda3/lib/python3.9/site-packages (from statsmodels) (0.5.2)\r\n",
      "Requirement already satisfied: fonttools>=4.22.0 in /Users/zhongyihao/opt/anaconda3/lib/python3.9/site-packages (from matplotlib) (4.25.0)\r\n",
      "Requirement already satisfied: pillow>=6.2.0 in /Users/zhongyihao/opt/anaconda3/lib/python3.9/site-packages (from matplotlib) (9.0.1)\r\n",
      "Requirement already satisfied: pyparsing>=2.2.1 in /Users/zhongyihao/opt/anaconda3/lib/python3.9/site-packages (from matplotlib) (3.0.4)\r\n",
      "Requirement already satisfied: kiwisolver>=1.0.1 in /Users/zhongyihao/opt/anaconda3/lib/python3.9/site-packages (from matplotlib) (1.3.2)\r\n",
      "Requirement already satisfied: cycler>=0.10 in /Users/zhongyihao/opt/anaconda3/lib/python3.9/site-packages (from matplotlib) (0.11.0)\r\n",
      "Requirement already satisfied: six in /Users/zhongyihao/opt/anaconda3/lib/python3.9/site-packages (from patsy>=0.5.2->statsmodels) (1.16.0)\r\n",
      "Note: you may need to restart the kernel to use updated packages.\n"
     ]
    }
   ]
  },
  {
   "cell_type": "markdown",
   "metadata": {
    "id": "UmvEsKCOTIV-"
   },
   "source": [
    "Import the packages and modules:\n"
   ]
  },
  {
   "cell_type": "code",
   "metadata": {
    "id": "hWQEryWrr7qH",
    "outputId": "d5338842-7e5e-497d-c97f-39f6a2270dc0",
    "colab": {
     "base_uri": "https://localhost:8080/"
    },
    "cellView": "form"
   },
   "source": [
    "#@title Imports\n",
    "import math\n",
    "import pandas as pd\n",
    "import numpy as np\n",
    "import statsmodels.api as sm\n",
    "import matplotlib\n",
    "import matplotlib.pyplot as plt\n",
    "%matplotlib inline\n",
    "import seaborn as sns"
   ],
   "execution_count": 2,
   "outputs": []
  },
  {
   "cell_type": "code",
   "metadata": {
    "id": "O5B1icC-sbBg",
    "outputId": "81fab871-3d94-4b11-be11-7ccdc009649c",
    "colab": {
     "base_uri": "https://localhost:8080/",
     "height": 392
    },
    "cellView": "form"
   },
   "source": [
    "#@title Load Data: \n",
    "#@markdown Import the data from ProPublica's compas-analysis repository on GitHub and check the first few rows\n",
    "url = \"https://raw.githubusercontent.com/propublica/compas-analysis/master/compas-scores-two-years.csv\"\n",
    "df_compas = pd.read_csv(url)\n",
    "print(\"Shape: \", df_compas.shape)\n",
    "df_compas.head(5)"
   ],
   "execution_count": 3,
   "outputs": [
    {
     "name": "stdout",
     "output_type": "stream",
     "text": [
      "Shape:  (7214, 53)\n"
     ]
    },
    {
     "data": {
      "text/plain": "   id                name   first         last compas_screening_date   sex  \\\n0   1    miguel hernandez  miguel    hernandez            2013-08-14  Male   \n1   3         kevon dixon   kevon        dixon            2013-01-27  Male   \n2   4            ed philo      ed        philo            2013-04-14  Male   \n3   5         marcu brown   marcu        brown            2013-01-13  Male   \n4   6  bouthy pierrelouis  bouthy  pierrelouis            2013-03-26  Male   \n\n          dob  age          age_cat              race  ...  v_decile_score  \\\n0  1947-04-18   69  Greater than 45             Other  ...               1   \n1  1982-01-22   34          25 - 45  African-American  ...               1   \n2  1991-05-14   24     Less than 25  African-American  ...               3   \n3  1993-01-21   23     Less than 25  African-American  ...               6   \n4  1973-01-22   43          25 - 45             Other  ...               1   \n\n   v_score_text  v_screening_date  in_custody  out_custody  priors_count.1  \\\n0           Low        2013-08-14  2014-07-07   2014-07-14               0   \n1           Low        2013-01-27  2013-01-26   2013-02-05               0   \n2           Low        2013-04-14  2013-06-16   2013-06-16               4   \n3        Medium        2013-01-13         NaN          NaN               1   \n4           Low        2013-03-26         NaN          NaN               2   \n\n  start   end event two_year_recid  \n0     0   327     0              0  \n1     9   159     1              1  \n2     0    63     0              1  \n3     0  1174     0              0  \n4     0  1102     0              0  \n\n[5 rows x 53 columns]",
      "text/html": "<div>\n<style scoped>\n    .dataframe tbody tr th:only-of-type {\n        vertical-align: middle;\n    }\n\n    .dataframe tbody tr th {\n        vertical-align: top;\n    }\n\n    .dataframe thead th {\n        text-align: right;\n    }\n</style>\n<table border=\"1\" class=\"dataframe\">\n  <thead>\n    <tr style=\"text-align: right;\">\n      <th></th>\n      <th>id</th>\n      <th>name</th>\n      <th>first</th>\n      <th>last</th>\n      <th>compas_screening_date</th>\n      <th>sex</th>\n      <th>dob</th>\n      <th>age</th>\n      <th>age_cat</th>\n      <th>race</th>\n      <th>...</th>\n      <th>v_decile_score</th>\n      <th>v_score_text</th>\n      <th>v_screening_date</th>\n      <th>in_custody</th>\n      <th>out_custody</th>\n      <th>priors_count.1</th>\n      <th>start</th>\n      <th>end</th>\n      <th>event</th>\n      <th>two_year_recid</th>\n    </tr>\n  </thead>\n  <tbody>\n    <tr>\n      <th>0</th>\n      <td>1</td>\n      <td>miguel hernandez</td>\n      <td>miguel</td>\n      <td>hernandez</td>\n      <td>2013-08-14</td>\n      <td>Male</td>\n      <td>1947-04-18</td>\n      <td>69</td>\n      <td>Greater than 45</td>\n      <td>Other</td>\n      <td>...</td>\n      <td>1</td>\n      <td>Low</td>\n      <td>2013-08-14</td>\n      <td>2014-07-07</td>\n      <td>2014-07-14</td>\n      <td>0</td>\n      <td>0</td>\n      <td>327</td>\n      <td>0</td>\n      <td>0</td>\n    </tr>\n    <tr>\n      <th>1</th>\n      <td>3</td>\n      <td>kevon dixon</td>\n      <td>kevon</td>\n      <td>dixon</td>\n      <td>2013-01-27</td>\n      <td>Male</td>\n      <td>1982-01-22</td>\n      <td>34</td>\n      <td>25 - 45</td>\n      <td>African-American</td>\n      <td>...</td>\n      <td>1</td>\n      <td>Low</td>\n      <td>2013-01-27</td>\n      <td>2013-01-26</td>\n      <td>2013-02-05</td>\n      <td>0</td>\n      <td>9</td>\n      <td>159</td>\n      <td>1</td>\n      <td>1</td>\n    </tr>\n    <tr>\n      <th>2</th>\n      <td>4</td>\n      <td>ed philo</td>\n      <td>ed</td>\n      <td>philo</td>\n      <td>2013-04-14</td>\n      <td>Male</td>\n      <td>1991-05-14</td>\n      <td>24</td>\n      <td>Less than 25</td>\n      <td>African-American</td>\n      <td>...</td>\n      <td>3</td>\n      <td>Low</td>\n      <td>2013-04-14</td>\n      <td>2013-06-16</td>\n      <td>2013-06-16</td>\n      <td>4</td>\n      <td>0</td>\n      <td>63</td>\n      <td>0</td>\n      <td>1</td>\n    </tr>\n    <tr>\n      <th>3</th>\n      <td>5</td>\n      <td>marcu brown</td>\n      <td>marcu</td>\n      <td>brown</td>\n      <td>2013-01-13</td>\n      <td>Male</td>\n      <td>1993-01-21</td>\n      <td>23</td>\n      <td>Less than 25</td>\n      <td>African-American</td>\n      <td>...</td>\n      <td>6</td>\n      <td>Medium</td>\n      <td>2013-01-13</td>\n      <td>NaN</td>\n      <td>NaN</td>\n      <td>1</td>\n      <td>0</td>\n      <td>1174</td>\n      <td>0</td>\n      <td>0</td>\n    </tr>\n    <tr>\n      <th>4</th>\n      <td>6</td>\n      <td>bouthy pierrelouis</td>\n      <td>bouthy</td>\n      <td>pierrelouis</td>\n      <td>2013-03-26</td>\n      <td>Male</td>\n      <td>1973-01-22</td>\n      <td>43</td>\n      <td>25 - 45</td>\n      <td>Other</td>\n      <td>...</td>\n      <td>1</td>\n      <td>Low</td>\n      <td>2013-03-26</td>\n      <td>NaN</td>\n      <td>NaN</td>\n      <td>2</td>\n      <td>0</td>\n      <td>1102</td>\n      <td>0</td>\n      <td>0</td>\n    </tr>\n  </tbody>\n</table>\n<p>5 rows × 53 columns</p>\n</div>"
     },
     "execution_count": 3,
     "metadata": {},
     "output_type": "execute_result"
    }
   ]
  },
  {
   "cell_type": "markdown",
   "metadata": {
    "id": "JI0slRqXFyXZ"
   },
   "source": [
    "## Notes on the Data\n",
    "\n",
    "Refer to the description of the [data collection methodology](https://www.propublica.org/article/how-we-analyzed-the-compas-recidivism-algorithm). Salient points are highlighted below; see the full description from ProPublica for additional details.\n",
    "\n",
    "> **Goal:** We looked at more than 10,000 criminal defendants in Broward County, Florida, and compared their predicted recidivism rates with the rate that actually occurred over a two-year period.\n",
    ">\n",
    "> **COMPAS tool input (data subjects):** When most defendants are booked in jail, they respond to a COMPAS questionnaire. Their answers are fed into the COMPAS software to generate several scores including predictions of Risk of Recidivism and Risk of Violent Recidivism.\n",
    ">\n",
    "> **How COMPAS input was acquired by ProPublica:** Through a public records request, ProPublica obtained two years worth of COMPAS scores from the Broward County Sheriff’s Office in Florida. We received data for all 18,610 people who were scored in 2013 and 2014.\n",
    ">\n",
    "> **COMPAS tool output:** Each pretrial defendant received at least three COMPAS scores: \"Risk of Recidivism,\" \"Risk of Violence\" and \"Risk of Failure to Appear. [...] COMPAS scores for each defendant ranged from 1 to 10, with ten being the highest risk. Scores 1 to 4 were labeled by COMPAS as \"Low;\" 5 to 7 were labeled “Medium;\" and 8 to 10 were labeled “High.”\n",
    ">\n",
    "> **Data integration (record linkage):** Starting with the database of COMPAS scores, we built a profile of each person’s criminal history, both before and after they were scored. We collected public criminal records from the Broward County Clerk’s Office website through April 1, 2016. On average, defendants in our dataset were not incarcerated for 622.87 days (sd: 329.19). We matched the criminal records to the COMPAS records using a person’s first and last names and date of birth. This is the same technique used in the Broward County COMPAS validation study conducted by researchers at Florida State University in 2010. We downloaded around 80,000 criminal records from the Broward County Clerk’s Office website.\n",
    ">\n",
    "> **What is recidivism?** Northpointe defined recidivism as “a finger-printable arrest involving a charge and a filing for any uniform crime reporting (UCR) code.” We interpreted that to mean a criminal offense that resulted in a jail booking and took place after the crime for which the person was COMPAS scored. [...] For most of our analysis, we defined recidivism as a new arrest within two years."
   ]
  },
  {
   "cell_type": "markdown",
   "metadata": {
    "id": "G0xgPnT11OtO"
   },
   "source": [
    "# Inspect Data\n",
    "\n",
    "For convenience, here is a table of variable definitions:\n",
    "\n",
    "| Variable    | Description |\n",
    "| ----------- | ----------- |\n",
    "| age       |  Age of the defendant   |\n",
    "| age_cat   |  Age category. It can be < 25, 25-45, >45    |\n",
    "| sex   |  Sex of the defendant. It is either \"Male\" or \"Female\"       |\n",
    "| race   |  Race of the defendant. It can be \"African-American\", \"Caucasian\", \"Hispanic\", \"Asian\", or \"Other\"      |\n",
    "| c_charge_degree   |   Charge. Either \"M\" for misdemeanor, \"F\" for felony, or \"O\" (not causing jail time)    |\n",
    "| priors_count   |   Count of prior crimes committed by the defendant      |\n",
    "| days_b_screening_arrest   |  Days between the arrest and COMPAS screening       |\n",
    "| decile_score   |  The COMPAS score estimated by the system. It is between 0-10       |\n",
    "| score_text   |  Decile score. It can be \"Low\" (1-4), \"Medium\" (5-7), or \"High\" (8-10)       |\n",
    "| is_recid   |  Indicates if the defendant recidivated. It can be 0, 1, or -1      |\n",
    "| two_year_recid   |  Indicates if the defendant recidivated within two years of COMPAS assessment      |\n",
    "| c_jail_in   |   Date the defendant was in jail      |\n",
    "| c_jail_out  |   Date when the defendant was released from jail     |\n",
    "\n",
    "\\\n",
    "Plot the distribution of age, race, and sex in the imported data (```df_compas```):"
   ]
  },
  {
   "cell_type": "code",
   "metadata": {
    "id": "C6lQj5HJVuyw"
   },
   "source": [
    "# TODO: write code to plot the distribution of age, race, and sex\n",
    "# in this code cell\n",
    "\n",
    "for i in ['age', 'race', 'sex']:\n",
    "    plt.figure()\n",
    "    plt.title(\"Distribution of \" + i)\n",
    "    plt.hist(df_compas[i])\n"
   ],
   "execution_count": 4,
   "outputs": [
    {
     "data": {
      "text/plain": "<Figure size 432x288 with 1 Axes>",
      "image/png": "[encoded data removed]"
     },
     "metadata": {
      "needs_background": "light"
     },
     "output_type": "display_data"
    },
    {
     "data": {
      "text/plain": "<Figure size 432x288 with 1 Axes>",
      "image/png": "[encoded data removed]"
     },
     "metadata": {
      "needs_background": "light"
     },
     "output_type": "display_data"
    },
    {
     "data": {
      "text/plain": "<Figure size 432x288 with 1 Axes>",
      "image/png": "[encoded data removed]"
     },
     "metadata": {
      "needs_background": "light"
     },
     "output_type": "display_data"
    }
   ]
  },
  {
   "cell_type": "code",
   "metadata": {
    "id": "T1qppbDjoRGJ",
    "outputId": "b0ca7a0b-0abf-41db-dccf-3bb73199d361",
    "colab": {
     "base_uri": "https://localhost:8080/",
     "height": 224
    },
    "cellView": "form"
   },
   "source": [
    "#@title Preprocess Data\n",
    "#@markdown ProPublica implemented a few pre-processing steps. First, they generated a subset of the data with a few variables of interest. Here, we select even fewer variables, keeping only those that we will use in this notebook.\n",
    "cols_to_keep = [\"id\", \"age\", \"c_charge_degree\", \"race\", \"age_cat\", \"score_text\",\n",
    "                \"sex\", \"priors_count\", \"days_b_screening_arrest\",\n",
    "                \"decile_score\", \"is_recid\", \"two_year_recid\"]\n",
    "\n",
    "df_selected = df_compas[cols_to_keep].copy()\n",
    "\n",
    "print(\"Shape: \", df_selected.shape)\n",
    "df_selected.head()"
   ],
   "execution_count": 5,
   "outputs": [
    {
     "name": "stdout",
     "output_type": "stream",
     "text": [
      "Shape:  (7214, 12)\n"
     ]
    },
    {
     "data": {
      "text/plain": "   id  age c_charge_degree              race          age_cat score_text  \\\n0   1   69               F             Other  Greater than 45        Low   \n1   3   34               F  African-American          25 - 45        Low   \n2   4   24               F  African-American     Less than 25        Low   \n3   5   23               F  African-American     Less than 25       High   \n4   6   43               F             Other          25 - 45        Low   \n\n    sex  priors_count  days_b_screening_arrest  decile_score  is_recid  \\\n0  Male             0                     -1.0             1         0   \n1  Male             0                     -1.0             3         1   \n2  Male             4                     -1.0             4         1   \n3  Male             1                      NaN             8         0   \n4  Male             2                      NaN             1         0   \n\n   two_year_recid  \n0               0  \n1               1  \n2               1  \n3               0  \n4               0  ",
      "text/html": "<div>\n<style scoped>\n    .dataframe tbody tr th:only-of-type {\n        vertical-align: middle;\n    }\n\n    .dataframe tbody tr th {\n        vertical-align: top;\n    }\n\n    .dataframe thead th {\n        text-align: right;\n    }\n</style>\n<table border=\"1\" class=\"dataframe\">\n  <thead>\n    <tr style=\"text-align: right;\">\n      <th></th>\n      <th>id</th>\n      <th>age</th>\n      <th>c_charge_degree</th>\n      <th>race</th>\n      <th>age_cat</th>\n      <th>score_text</th>\n      <th>sex</th>\n      <th>priors_count</th>\n      <th>days_b_screening_arrest</th>\n      <th>decile_score</th>\n      <th>is_recid</th>\n      <th>two_year_recid</th>\n    </tr>\n  </thead>\n  <tbody>\n    <tr>\n      <th>0</th>\n      <td>1</td>\n      <td>69</td>\n      <td>F</td>\n      <td>Other</td>\n      <td>Greater than 45</td>\n      <td>Low</td>\n      <td>Male</td>\n      <td>0</td>\n      <td>-1.0</td>\n      <td>1</td>\n      <td>0</td>\n      <td>0</td>\n    </tr>\n    <tr>\n      <th>1</th>\n      <td>3</td>\n      <td>34</td>\n      <td>F</td>\n      <td>African-American</td>\n      <td>25 - 45</td>\n      <td>Low</td>\n      <td>Male</td>\n      <td>0</td>\n      <td>-1.0</td>\n      <td>3</td>\n      <td>1</td>\n      <td>1</td>\n    </tr>\n    <tr>\n      <th>2</th>\n      <td>4</td>\n      <td>24</td>\n      <td>F</td>\n      <td>African-American</td>\n      <td>Less than 25</td>\n      <td>Low</td>\n      <td>Male</td>\n      <td>4</td>\n      <td>-1.0</td>\n      <td>4</td>\n      <td>1</td>\n      <td>1</td>\n    </tr>\n    <tr>\n      <th>3</th>\n      <td>5</td>\n      <td>23</td>\n      <td>F</td>\n      <td>African-American</td>\n      <td>Less than 25</td>\n      <td>High</td>\n      <td>Male</td>\n      <td>1</td>\n      <td>NaN</td>\n      <td>8</td>\n      <td>0</td>\n      <td>0</td>\n    </tr>\n    <tr>\n      <th>4</th>\n      <td>6</td>\n      <td>43</td>\n      <td>F</td>\n      <td>Other</td>\n      <td>25 - 45</td>\n      <td>Low</td>\n      <td>Male</td>\n      <td>2</td>\n      <td>NaN</td>\n      <td>1</td>\n      <td>0</td>\n      <td>0</td>\n    </tr>\n  </tbody>\n</table>\n</div>"
     },
     "execution_count": 5,
     "metadata": {},
     "output_type": "execute_result"
    }
   ]
  },
  {
   "cell_type": "markdown",
   "metadata": {
    "id": "ghZE7FZUpBsQ"
   },
   "source": [
    "Take a moment to get a feel for the variables and structure of the data. ProPublica filtered the above data by removing rows where:\n",
    "\n",
    "1. The COMPAS score is missing.\n",
    "1. The charge date of the defendant's COMPAS-scored crime was not within 30 days from the date of arrest. ProPublica assumed that the offense may not be correct in these cases.\n",
    "2. The recividist flag is \"-1\". In such cases, ProPublica could not find a COMPAS record at all.\n",
    "3. The charge is \"O\". These are ordinary traffic offenses and do not result in jail time.\n",
    "\n",
    "We implement these conditions here:"
   ]
  },
  {
   "cell_type": "code",
   "metadata": {
    "id": "3muereQrap8u"
   },
   "source": [
    "df_analysis = df_selected[\n",
    "    (df_selected.score_text != \"N/A\") &\n",
    "    (df_selected.days_b_screening_arrest <= 30) &\n",
    "    (df_selected.days_b_screening_arrest >= -30) &\n",
    "    (df_selected.is_recid != -1) &\n",
    "    (df_selected.c_charge_degree != \"O\")\n",
    "    ].copy()"
   ],
   "execution_count": 6,
   "outputs": []
  },
  {
   "cell_type": "markdown",
   "metadata": {
    "id": "wCNlGWB_sBda"
   },
   "source": [
    "Note that ProPublica only included people who had recidivated within two years or had at least two years outside a correctional facility. This pre-processing step is \"baked in\" to the data that we imported from GitHub in this notebook.\n",
    "\n",
    "Check the dimensions (i.e. the number of variables and observations) of the imported (```df_compas```) and preprocessed (```df_analysis```) data:"
   ]
  },
  {
   "cell_type": "code",
   "metadata": {
    "id": "JJ_MkWKxt1YJ"
   },
   "source": [
    "# TODO: write code to check the number of variables and observations in df_compas\n",
    "# and df_analysis here\n",
    "df_compas.info()\n",
    "df_analysis.info()\n",
    "print(\"Number of variabels of df_compas is \",  df_compas.shape[1],  \" and num of observation is \", df_compas.shape[0])\n",
    "print(\"Number of variabels of df_analysis is \",  df_analysis.shape[1],  \" and num of observation is \", df_analysis.shape[0])"
   ],
   "execution_count": 7,
   "outputs": [
    {
     "name": "stdout",
     "output_type": "stream",
     "text": [
      "<class 'pandas.core.frame.DataFrame'>\n",
      "RangeIndex: 7214 entries, 0 to 7213\n",
      "Data columns (total 53 columns):\n",
      " #   Column                   Non-Null Count  Dtype  \n",
      "---  ------                   --------------  -----  \n",
      " 0   id                       7214 non-null   int64  \n",
      " 1   name                     7214 non-null   object \n",
      " 2   first                    7214 non-null   object \n",
      " 3   last                     7214 non-null   object \n",
      " 4   compas_screening_date    7214 non-null   object \n",
      " 5   sex                      7214 non-null   object \n",
      " 6   dob                      7214 non-null   object \n",
      " 7   age                      7214 non-null   int64  \n",
      " 8   age_cat                  7214 non-null   object \n",
      " 9   race                     7214 non-null   object \n",
      " 10  juv_fel_count            7214 non-null   int64  \n",
      " 11  decile_score             7214 non-null   int64  \n",
      " 12  juv_misd_count           7214 non-null   int64  \n",
      " 13  juv_other_count          7214 non-null   int64  \n",
      " 14  priors_count             7214 non-null   int64  \n",
      " 15  days_b_screening_arrest  6907 non-null   float64\n",
      " 16  c_jail_in                6907 non-null   object \n",
      " 17  c_jail_out               6907 non-null   object \n",
      " 18  c_case_number            7192 non-null   object \n",
      " 19  c_offense_date           6055 non-null   object \n",
      " 20  c_arrest_date            1137 non-null   object \n",
      " 21  c_days_from_compas       7192 non-null   float64\n",
      " 22  c_charge_degree          7214 non-null   object \n",
      " 23  c_charge_desc            7185 non-null   object \n",
      " 24  is_recid                 7214 non-null   int64  \n",
      " 25  r_case_number            3471 non-null   object \n",
      " 26  r_charge_degree          3471 non-null   object \n",
      " 27  r_days_from_arrest       2316 non-null   float64\n",
      " 28  r_offense_date           3471 non-null   object \n",
      " 29  r_charge_desc            3413 non-null   object \n",
      " 30  r_jail_in                2316 non-null   object \n",
      " 31  r_jail_out               2316 non-null   object \n",
      " 32  violent_recid            0 non-null      float64\n",
      " 33  is_violent_recid         7214 non-null   int64  \n",
      " 34  vr_case_number           819 non-null    object \n",
      " 35  vr_charge_degree         819 non-null    object \n",
      " 36  vr_offense_date          819 non-null    object \n",
      " 37  vr_charge_desc           819 non-null    object \n",
      " 38  type_of_assessment       7214 non-null   object \n",
      " 39  decile_score.1           7214 non-null   int64  \n",
      " 40  score_text               7214 non-null   object \n",
      " 41  screening_date           7214 non-null   object \n",
      " 42  v_type_of_assessment     7214 non-null   object \n",
      " 43  v_decile_score           7214 non-null   int64  \n",
      " 44  v_score_text             7214 non-null   object \n",
      " 45  v_screening_date         7214 non-null   object \n",
      " 46  in_custody               6978 non-null   object \n",
      " 47  out_custody              6978 non-null   object \n",
      " 48  priors_count.1           7214 non-null   int64  \n",
      " 49  start                    7214 non-null   int64  \n",
      " 50  end                      7214 non-null   int64  \n",
      " 51  event                    7214 non-null   int64  \n",
      " 52  two_year_recid           7214 non-null   int64  \n",
      "dtypes: float64(4), int64(16), object(33)\n",
      "memory usage: 2.9+ MB\n",
      "<class 'pandas.core.frame.DataFrame'>\n",
      "Int64Index: 6172 entries, 0 to 7213\n",
      "Data columns (total 12 columns):\n",
      " #   Column                   Non-Null Count  Dtype  \n",
      "---  ------                   --------------  -----  \n",
      " 0   id                       6172 non-null   int64  \n",
      " 1   age                      6172 non-null   int64  \n",
      " 2   c_charge_degree          6172 non-null   object \n",
      " 3   race                     6172 non-null   object \n",
      " 4   age_cat                  6172 non-null   object \n",
      " 5   score_text               6172 non-null   object \n",
      " 6   sex                      6172 non-null   object \n",
      " 7   priors_count             6172 non-null   int64  \n",
      " 8   days_b_screening_arrest  6172 non-null   float64\n",
      " 9   decile_score             6172 non-null   int64  \n",
      " 10  is_recid                 6172 non-null   int64  \n",
      " 11  two_year_recid           6172 non-null   int64  \n",
      "dtypes: float64(1), int64(6), object(5)\n",
      "memory usage: 626.8+ KB\n",
      "Number of variabels of df_compas is  53  and num of observation is  7214\n",
      "Number of variabels of df_analysis is  12  and num of observation is  6172\n"
     ]
    }
   ]
  },
  {
   "cell_type": "markdown",
   "metadata": {
    "id": "0juptQDv7pDG"
   },
   "source": [
    "Take the additional step of making sure that the decile score (discussed below) is numeric:\n"
   ]
  },
  {
   "cell_type": "code",
   "metadata": {
    "id": "xjg2B1s47tJr"
   },
   "source": [
    "df_analysis[\"decile_score\"] = pd.to_numeric(df_analysis[\"decile_score\"])\n",
    "df_analysis"
   ],
   "execution_count": 8,
   "outputs": [
    {
     "data": {
      "text/plain": "         id  age c_charge_degree              race          age_cat  \\\n0         1   69               F             Other  Greater than 45   \n1         3   34               F  African-American          25 - 45   \n2         4   24               F  African-American     Less than 25   \n5         7   44               M             Other          25 - 45   \n6         8   41               F         Caucasian          25 - 45   \n...     ...  ...             ...               ...              ...   \n7209  10996   23               F  African-American     Less than 25   \n7210  10997   23               F  African-American     Less than 25   \n7211  10999   57               F             Other  Greater than 45   \n7212  11000   33               M  African-American          25 - 45   \n7213  11001   23               F          Hispanic     Less than 25   \n\n     score_text     sex  priors_count  days_b_screening_arrest  decile_score  \\\n0           Low    Male             0                     -1.0             1   \n1           Low    Male             0                     -1.0             3   \n2           Low    Male             4                     -1.0             4   \n5           Low    Male             0                      0.0             1   \n6        Medium    Male            14                     -1.0             6   \n...         ...     ...           ...                      ...           ...   \n7209     Medium    Male             0                     -1.0             7   \n7210        Low    Male             0                     -1.0             3   \n7211        Low    Male             0                     -1.0             1   \n7212        Low  Female             3                     -1.0             2   \n7213        Low  Female             2                     -2.0             4   \n\n      is_recid  two_year_recid  \n0            0               0  \n1            1               1  \n2            1               1  \n5            0               0  \n6            1               1  \n...        ...             ...  \n7209         0               0  \n7210         0               0  \n7211         0               0  \n7212         0               0  \n7213         1               1  \n\n[6172 rows x 12 columns]",
      "text/html": "<div>\n<style scoped>\n    .dataframe tbody tr th:only-of-type {\n        vertical-align: middle;\n    }\n\n    .dataframe tbody tr th {\n        vertical-align: top;\n    }\n\n    .dataframe thead th {\n        text-align: right;\n    }\n</style>\n<table border=\"1\" class=\"dataframe\">\n  <thead>\n    <tr style=\"text-align: right;\">\n      <th></th>\n      <th>id</th>\n      <th>age</th>\n      <th>c_charge_degree</th>\n      <th>race</th>\n      <th>age_cat</th>\n      <th>score_text</th>\n      <th>sex</th>\n      <th>priors_count</th>\n      <th>days_b_screening_arrest</th>\n      <th>decile_score</th>\n      <th>is_recid</th>\n      <th>two_year_recid</th>\n    </tr>\n  </thead>\n  <tbody>\n    <tr>\n      <th>0</th>\n      <td>1</td>\n      <td>69</td>\n      <td>F</td>\n      <td>Other</td>\n      <td>Greater than 45</td>\n      <td>Low</td>\n      <td>Male</td>\n      <td>0</td>\n      <td>-1.0</td>\n      <td>1</td>\n      <td>0</td>\n      <td>0</td>\n    </tr>\n    <tr>\n      <th>1</th>\n      <td>3</td>\n      <td>34</td>\n      <td>F</td>\n      <td>African-American</td>\n      <td>25 - 45</td>\n      <td>Low</td>\n      <td>Male</td>\n      <td>0</td>\n      <td>-1.0</td>\n      <td>3</td>\n      <td>1</td>\n      <td>1</td>\n    </tr>\n    <tr>\n      <th>2</th>\n      <td>4</td>\n      <td>24</td>\n      <td>F</td>\n      <td>African-American</td>\n      <td>Less than 25</td>\n      <td>Low</td>\n      <td>Male</td>\n      <td>4</td>\n      <td>-1.0</td>\n      <td>4</td>\n      <td>1</td>\n      <td>1</td>\n    </tr>\n    <tr>\n      <th>5</th>\n      <td>7</td>\n      <td>44</td>\n      <td>M</td>\n      <td>Other</td>\n      <td>25 - 45</td>\n      <td>Low</td>\n      <td>Male</td>\n      <td>0</td>\n      <td>0.0</td>\n      <td>1</td>\n      <td>0</td>\n      <td>0</td>\n    </tr>\n    <tr>\n      <th>6</th>\n      <td>8</td>\n      <td>41</td>\n      <td>F</td>\n      <td>Caucasian</td>\n      <td>25 - 45</td>\n      <td>Medium</td>\n      <td>Male</td>\n      <td>14</td>\n      <td>-1.0</td>\n      <td>6</td>\n      <td>1</td>\n      <td>1</td>\n    </tr>\n    <tr>\n      <th>...</th>\n      <td>...</td>\n      <td>...</td>\n      <td>...</td>\n      <td>...</td>\n      <td>...</td>\n      <td>...</td>\n      <td>...</td>\n      <td>...</td>\n      <td>...</td>\n      <td>...</td>\n      <td>...</td>\n      <td>...</td>\n    </tr>\n    <tr>\n      <th>7209</th>\n      <td>10996</td>\n      <td>23</td>\n      <td>F</td>\n      <td>African-American</td>\n      <td>Less than 25</td>\n      <td>Medium</td>\n      <td>Male</td>\n      <td>0</td>\n      <td>-1.0</td>\n      <td>7</td>\n      <td>0</td>\n      <td>0</td>\n    </tr>\n    <tr>\n      <th>7210</th>\n      <td>10997</td>\n      <td>23</td>\n      <td>F</td>\n      <td>African-American</td>\n      <td>Less than 25</td>\n      <td>Low</td>\n      <td>Male</td>\n      <td>0</td>\n      <td>-1.0</td>\n      <td>3</td>\n      <td>0</td>\n      <td>0</td>\n    </tr>\n    <tr>\n      <th>7211</th>\n      <td>10999</td>\n      <td>57</td>\n      <td>F</td>\n      <td>Other</td>\n      <td>Greater than 45</td>\n      <td>Low</td>\n      <td>Male</td>\n      <td>0</td>\n      <td>-1.0</td>\n      <td>1</td>\n      <td>0</td>\n      <td>0</td>\n    </tr>\n    <tr>\n      <th>7212</th>\n      <td>11000</td>\n      <td>33</td>\n      <td>M</td>\n      <td>African-American</td>\n      <td>25 - 45</td>\n      <td>Low</td>\n      <td>Female</td>\n      <td>3</td>\n      <td>-1.0</td>\n      <td>2</td>\n      <td>0</td>\n      <td>0</td>\n    </tr>\n    <tr>\n      <th>7213</th>\n      <td>11001</td>\n      <td>23</td>\n      <td>F</td>\n      <td>Hispanic</td>\n      <td>Less than 25</td>\n      <td>Low</td>\n      <td>Female</td>\n      <td>2</td>\n      <td>-2.0</td>\n      <td>4</td>\n      <td>1</td>\n      <td>1</td>\n    </tr>\n  </tbody>\n</table>\n<p>6172 rows × 12 columns</p>\n</div>"
     },
     "execution_count": 8,
     "metadata": {},
     "output_type": "execute_result"
    }
   ]
  },
  {
   "cell_type": "markdown",
   "metadata": {
    "id": "TS1ZlkXTwTrU"
   },
   "source": [
    "# Inspect Data Again"
   ]
  },
  {
   "cell_type": "markdown",
   "metadata": {
    "id": "5bgG7Odrk1Wf"
   },
   "source": [
    "Re-inspect salient variables in the data after the preprocessing steps. Plot the distribution of age, race, and sex in the preprocessed data (```df_analysis```) and compare these distributions to the imported data (```df_compas```):"
   ]
  },
  {
   "cell_type": "code",
   "metadata": {
    "id": "rf4Jdy6QwRAS"
   },
   "source": [
    "# TODO: write code to plot the distribution of age, race, and sex in \n",
    "# the df_analysis data\n",
    "\n",
    "for i in ['age', 'race', 'sex']:\n",
    "    plt.figure()\n",
    "    plt.title(\"Distribution of \" + i)\n",
    "    plt.hist(df_analysis[i])"
   ],
   "execution_count": 9,
   "outputs": [
    {
     "data": {
      "text/plain": "<Figure size 432x288 with 1 Axes>",
      "image/png": "[encoded data removed]"
     },
     "metadata": {
      "needs_background": "light"
     },
     "output_type": "display_data"
    },
    {
     "data": {
      "text/plain": "<Figure size 432x288 with 1 Axes>",
      "image/png": "[encoded data removed]"
     },
     "metadata": {
      "needs_background": "light"
     },
     "output_type": "display_data"
    },
    {
     "data": {
      "text/plain": "<Figure size 432x288 with 1 Axes>",
      "image/png": "[encoded data removed]"
     },
     "metadata": {
      "needs_background": "light"
     },
     "output_type": "display_data"
    }
   ]
  },
  {
   "cell_type": "markdown",
   "metadata": {
    "id": "RnlEcgYrwIkw"
   },
   "source": [
    "Observe that we are iterating through the data analysis: import, inspect & profile, preprocess, and profile again. Generate a crosstab summarizing the number of observations by race and sex:"
   ]
  },
  {
   "cell_type": "code",
   "metadata": {
    "id": "sQnZbZDF162n"
   },
   "source": [
    "# TODO: write code to generate a crosstab summarizing the number of observations by\n",
    "# race and sex (i.e. a pivot table) in this code cell\n",
    "\n",
    "\n",
    "pd.crosstab(df_analysis['race'], df_analysis['sex'])"
   ],
   "execution_count": 10,
   "outputs": [
    {
     "data": {
      "text/plain": "sex               Female  Male\nrace                          \nAfrican-American     549  2626\nAsian                  2    29\nCaucasian            482  1621\nHispanic              82   427\nNative American        2     9\nOther                 58   285",
      "text/html": "<div>\n<style scoped>\n    .dataframe tbody tr th:only-of-type {\n        vertical-align: middle;\n    }\n\n    .dataframe tbody tr th {\n        vertical-align: top;\n    }\n\n    .dataframe thead th {\n        text-align: right;\n    }\n</style>\n<table border=\"1\" class=\"dataframe\">\n  <thead>\n    <tr style=\"text-align: right;\">\n      <th>sex</th>\n      <th>Female</th>\n      <th>Male</th>\n    </tr>\n    <tr>\n      <th>race</th>\n      <th></th>\n      <th></th>\n    </tr>\n  </thead>\n  <tbody>\n    <tr>\n      <th>African-American</th>\n      <td>549</td>\n      <td>2626</td>\n    </tr>\n    <tr>\n      <th>Asian</th>\n      <td>2</td>\n      <td>29</td>\n    </tr>\n    <tr>\n      <th>Caucasian</th>\n      <td>482</td>\n      <td>1621</td>\n    </tr>\n    <tr>\n      <th>Hispanic</th>\n      <td>82</td>\n      <td>427</td>\n    </tr>\n    <tr>\n      <th>Native American</th>\n      <td>2</td>\n      <td>9</td>\n    </tr>\n    <tr>\n      <th>Other</th>\n      <td>58</td>\n      <td>285</td>\n    </tr>\n  </tbody>\n</table>\n</div>"
     },
     "execution_count": 10,
     "metadata": {},
     "output_type": "execute_result"
    }
   ]
  },
  {
   "cell_type": "code",
   "metadata": {
    "id": "5ntoFh0w-1F3",
    "outputId": "ffbacd01-3807-443d-a10d-0e6392eb891b",
    "colab": {
     "base_uri": "https://localhost:8080/",
     "height": 404
    },
    "cellView": "form"
   },
   "source": [
    "#@title Exploratory Analysis\n",
    "#@markdown Let's turn our focus to the primary variable of interest: the COMPAS recidivism score. In this exploratory analysis, we are interested in the variable named \"decile_score\".\n",
    "\n",
    "#@markdown The ProPublica analysis notes: \"Judges are often presented with two sets of scores from the COMPAS system: one that classifies people into high, medium or low risk, and a corresponding decile score.\"\n",
    "\n",
    "#@markdown Plot the distribution of decile score for males and for females. To what extent do these distributions differ?\n",
    "\n",
    "#plot score decile by sex\n",
    "df_female = df_analysis[(df_analysis.sex == \"Female\")].copy()\n",
    "df_male   = df_analysis[(df_analysis.sex == \"Male\")].copy()\n",
    "\n",
    "fig = plt.figure(figsize = (12, 6))\n",
    "fig.add_subplot(121)\n",
    "\n",
    "plt.hist(df_female[\"decile_score\"], ec = \"white\",\n",
    "         weights = np.ones(len(df_female[\"decile_score\"])) /\n",
    "         len(df_female[\"decile_score\"]))\n",
    "plt.xlabel(\"Decile Score (0-10)\")\n",
    "plt.ylabel(\"Percent of Cases\")\n",
    "plt.title(\"Female Defendant's Decile Scores\")\n",
    "plt.ylim([0, 0.25])\n",
    "\n",
    "fig.add_subplot(122)\n",
    "plt.hist(df_male[\"decile_score\"], ec = \"white\",\n",
    "         weights = np.ones(len(df_male[\"decile_score\"])) /\n",
    "         len(df_male[\"decile_score\"]))\n",
    "plt.xlabel(\"Decile Score (0-10)\")\n",
    "plt.ylabel(\"Percent of Cases\")\n",
    "plt.title(\"Male Defendant's Decile Scores\")\n",
    "plt.ylim([0, 0.25])\n",
    "\n",
    "plt.show()"
   ],
   "execution_count": 11,
   "outputs": [
    {
     "data": {
      "text/plain": "<Figure size 864x432 with 2 Axes>",
      "image/png": "[encoded data removed]"
     },
     "metadata": {
      "needs_background": "light"
     },
     "output_type": "display_data"
    }
   ]
  },
  {
   "cell_type": "markdown",
   "metadata": {
    "id": "RDtwnIWk4O_P"
   },
   "source": [
    "What about race? Repeat the above plots for Black defendants and White defendants:"
   ]
  },
  {
   "cell_type": "code",
   "metadata": {
    "id": "2QRK2jsM3Vvn"
   },
   "source": [
    "# TODO: write code to plot \"decile_score\" for White and Black defendants\n",
    "# in this code cell\n",
    "\n",
    "df_white = df_analysis[(df_analysis.race == \"Caucasian\")].copy()\n",
    "df_black   = df_analysis[(df_analysis.race == \"African-American\")].copy()\n",
    "\n",
    "fig = plt.figure(figsize = (12, 6))\n",
    "fig.add_subplot(121)\n",
    "\n",
    "plt.hist(df_white[\"decile_score\"], ec = \"white\",\n",
    "         weights = np.ones(len(df_white[\"decile_score\"])) /\n",
    "                   len(df_white[\"decile_score\"]))\n",
    "plt.xlabel(\"Decile Score (0-10)\")\n",
    "plt.ylabel(\"Percent of Cases\")\n",
    "plt.title(\"white Defendant's Decile Scores\")\n",
    "plt.ylim([0, 0.3])\n",
    "\n",
    "fig.add_subplot(122)\n",
    "plt.hist(df_black[\"decile_score\"], ec = \"white\",\n",
    "         weights = np.ones(len(df_black[\"decile_score\"])) /\n",
    "                   len(df_black[\"decile_score\"]))\n",
    "plt.xlabel(\"Decile Score (0-10)\")\n",
    "plt.ylabel(\"Percent of Cases\")\n",
    "plt.title(\"black Defendant's Decile Scores\")\n",
    "plt.ylim([0, 0.3])\n",
    "\n",
    "plt.show()"
   ],
   "execution_count": 12,
   "outputs": [
    {
     "data": {
      "text/plain": "<Figure size 864x432 with 2 Axes>",
      "image/png": "[encoded data removed]"
     },
     "metadata": {
      "needs_background": "light"
     },
     "output_type": "display_data"
    }
   ]
  },
  {
   "cell_type": "markdown",
   "metadata": {
    "id": "2v4KvrqCNaqi"
   },
   "source": [
    "# TODO: **Summarize the difference between the distribution of decile scores for Black defendants and White defendants in this text cell (three sentences maximum):**"
   ]
  },
  {
   "cell_type": "markdown",
   "source": [
    "(write your summary here)\n",
    "The distribution of decile scores for Black defendants and White defendants shows different pattern. The white defendant's decile score skew to the right and has more decile score less than 4 and has less decile score more than 6. The black defendants's decile score is evenly distributed across all decile scores."
   ],
   "metadata": {
    "id": "BSxDcarA0Lkp"
   }
  },
  {
   "cell_type": "markdown",
   "metadata": {
    "id": "V1o9A7VlDWuo"
   },
   "source": [
    "Plot the distribution of COMPAS-assigned \"risk labels\" (the variable is named \"score_text\") for Black defendants and White defendants:"
   ]
  },
  {
   "cell_type": "code",
   "metadata": {
    "id": "P3tnCwrbDvIe"
   },
   "source": [
    "# TODO: plot the distribution of \"score_text\" for White defendants and \n",
    "# Black defendants in this code cell\n",
    "\n",
    "fig = plt.figure(figsize = (12, 6))\n",
    "fig.add_subplot(121)\n",
    "\n",
    "plt.hist(df_white[\"score_text\"], ec = \"white\",\n",
    "         weights = np.ones(len(df_white[\"score_text\"])) /\n",
    "                   len(df_white[\"score_text\"]))\n",
    "plt.xlabel(\"Score Text(0-10)\")\n",
    "plt.ylabel(\"Percent of Cases\")\n",
    "plt.title(\"white Defendant's score_text\")\n",
    "plt.ylim([0, 0.8])\n",
    "\n",
    "fig.add_subplot(122)\n",
    "plt.hist(df_black[\"score_text\"], ec = \"white\",\n",
    "         weights = np.ones(len(df_black[\"score_text\"])) /\n",
    "                   len(df_black[\"score_text\"]))\n",
    "plt.xlabel(\"Score Text (0-10)\")\n",
    "plt.ylabel(\"Percent of Cases\")\n",
    "plt.title(\"black Defendant's score_text\")\n",
    "plt.ylim([0, 0.8])\n",
    "\n",
    "plt.show()"
   ],
   "execution_count": 15,
   "outputs": [
    {
     "data": {
      "text/plain": "<Figure size 864x432 with 2 Axes>",
      "image/png": "[encoded data removed]"
     },
     "metadata": {
      "needs_background": "light"
     },
     "output_type": "display_data"
    }
   ]
  },
  {
   "cell_type": "markdown",
   "metadata": {
    "id": "zfFXAqvNFFXi"
   },
   "source": [
    "# Bias in COMPAS"
   ]
  },
  {
   "cell_type": "markdown",
   "metadata": {
    "id": "7lcvC8rNFbYc"
   },
   "source": [
    "ProPublica focused on racial bias in the COMPAS algorithm. In general terms, ProPublica analyzed (i) how the *risk scores* vary by race and (ii) the extent to which the *risk labels* assigned to defendants matches up with their observed recidivism and how this varies by race. We will (approximately) reproduce this analysis below."
   ]
  },
  {
   "cell_type": "code",
   "metadata": {
    "id": "VqJLl5RfFIXR",
    "outputId": "0e9634ef-0c10-4020-e35d-4689f4d983b0",
    "colab": {
     "base_uri": "https://localhost:8080/"
    },
    "cellView": "form"
   },
   "source": [
    "#@title Preprocess Data for Logistic Regression\n",
    "#@markdown ProPublica used a logistic regression model to analyze variation in the risk scores by race. We will prepare the data by one-hot encoding the categorical variables.\n",
    "print(df_analysis.dtypes)\n"
   ],
   "execution_count": 16,
   "outputs": [
    {
     "name": "stdout",
     "output_type": "stream",
     "text": [
      "id                           int64\n",
      "age                          int64\n",
      "c_charge_degree             object\n",
      "race                        object\n",
      "age_cat                     object\n",
      "score_text                  object\n",
      "sex                         object\n",
      "priors_count                 int64\n",
      "days_b_screening_arrest    float64\n",
      "decile_score                 int64\n",
      "is_recid                     int64\n",
      "two_year_recid               int64\n",
      "dtype: object\n"
     ]
    }
   ]
  },
  {
   "cell_type": "code",
   "metadata": {
    "id": "1VywniiqFugA",
    "outputId": "921f1823-2ecf-4d83-e42d-14e35171b83f",
    "colab": {
     "base_uri": "https://localhost:8080/"
    },
    "cellView": "form"
   },
   "source": [
    "#@markdown\n",
    "for i, col_type in enumerate(df_analysis.dtypes):\n",
    "    if col_type == \"object\":\n",
    "        print(\"\\nVariable {} takes the values: {}\".format(\n",
    "            df_analysis.columns[i],\n",
    "            df_analysis[df_analysis.columns[i]].unique()))"
   ],
   "execution_count": 17,
   "outputs": [
    {
     "name": "stdout",
     "output_type": "stream",
     "text": [
      "\n",
      "Variable c_charge_degree takes the values: ['F' 'M']\n",
      "\n",
      "Variable race takes the values: ['Other' 'African-American' 'Caucasian' 'Hispanic' 'Asian'\n",
      " 'Native American']\n",
      "\n",
      "Variable age_cat takes the values: ['Greater than 45' '25 - 45' 'Less than 25']\n",
      "\n",
      "Variable score_text takes the values: ['Low' 'Medium' 'High']\n",
      "\n",
      "Variable sex takes the values: ['Male' 'Female']\n"
     ]
    }
   ]
  },
  {
   "cell_type": "code",
   "metadata": {
    "id": "bbPi5iRYHZ64",
    "cellView": "form"
   },
   "source": [
    "#@markdown\n",
    "df_logistic = df_analysis.copy()\n",
    "\n",
    "# one-hot encoding\n",
    "df_logistic = pd.get_dummies(df_logistic,\n",
    "                             columns = [\"c_charge_degree\", \"race\",\n",
    "                                        \"age_cat\", \"sex\"])\n",
    "\n",
    "# mutate score_text to binary variable where low = {low}\n",
    "# and high = {medium, high}\n",
    "df_logistic[\"score_binary\"] = np.where(df_logistic[\"score_text\"] != \"Low\",\n",
    "                                       \"High\", \"Low\")\n",
    "df_logistic[\"score_binary\"] = df_logistic[\"score_binary\"].astype('category')\n",
    "\n",
    "# rename the columns to be more instructive and consistent with statsmodel\n",
    "# requirements for variable names\n",
    "df_logistic.columns = df_logistic.columns.str.replace(' ', '_')\n",
    "df_logistic.columns = df_logistic.columns.str.replace('-', '_')\n",
    "\n",
    "renamed_cols = {'age_cat_25___45':'age_cat_25_to_45',\n",
    "                'c_charge_degree_F':'Felony',\n",
    "                'c_charge_degree_M':'Misdemeanor'}\n",
    "\n",
    "df_logistic = df_logistic.rename(columns = renamed_cols)\n",
    "\n"
   ],
   "execution_count": 18,
   "outputs": []
  },
  {
   "cell_type": "markdown",
   "metadata": {
    "id": "3BaOl-bMfU3q"
   },
   "source": [
    "Check that recoding resulted in the desired data structure:"
   ]
  },
  {
   "cell_type": "code",
   "metadata": {
    "id": "7rAihNgrP3f7",
    "outputId": "35a3ebe6-a402-410c-d7b9-20cce23df21b",
    "colab": {
     "base_uri": "https://localhost:8080/",
     "height": 270
    },
    "cellView": "form"
   },
   "source": [
    "#@markdown\n",
    "df_logistic.head()"
   ],
   "execution_count": 19,
   "outputs": [
    {
     "data": {
      "text/plain": "   id  age score_text  priors_count  days_b_screening_arrest  decile_score  \\\n0   1   69        Low             0                     -1.0             1   \n1   3   34        Low             0                     -1.0             3   \n2   4   24        Low             4                     -1.0             4   \n5   7   44        Low             0                      0.0             1   \n6   8   41     Medium            14                     -1.0             6   \n\n   is_recid  two_year_recid  Felony  Misdemeanor  ...  race_Caucasian  \\\n0         0               0       1            0  ...               0   \n1         1               1       1            0  ...               0   \n2         1               1       1            0  ...               0   \n5         0               0       0            1  ...               0   \n6         1               1       1            0  ...               1   \n\n   race_Hispanic  race_Native_American  race_Other  age_cat_25_to_45  \\\n0              0                     0           1                 0   \n1              0                     0           0                 1   \n2              0                     0           0                 0   \n5              0                     0           1                 1   \n6              0                     0           0                 1   \n\n   age_cat_Greater_than_45  age_cat_Less_than_25  sex_Female  sex_Male  \\\n0                        1                     0           0         1   \n1                        0                     0           0         1   \n2                        0                     1           0         1   \n5                        0                     0           0         1   \n6                        0                     0           0         1   \n\n   score_binary  \n0           Low  \n1           Low  \n2           Low  \n5           Low  \n6          High  \n\n[5 rows x 22 columns]",
      "text/html": "<div>\n<style scoped>\n    .dataframe tbody tr th:only-of-type {\n        vertical-align: middle;\n    }\n\n    .dataframe tbody tr th {\n        vertical-align: top;\n    }\n\n    .dataframe thead th {\n        text-align: right;\n    }\n</style>\n<table border=\"1\" class=\"dataframe\">\n  <thead>\n    <tr style=\"text-align: right;\">\n      <th></th>\n      <th>id</th>\n      <th>age</th>\n      <th>score_text</th>\n      <th>priors_count</th>\n      <th>days_b_screening_arrest</th>\n      <th>decile_score</th>\n      <th>is_recid</th>\n      <th>two_year_recid</th>\n      <th>Felony</th>\n      <th>Misdemeanor</th>\n      <th>...</th>\n      <th>race_Caucasian</th>\n      <th>race_Hispanic</th>\n      <th>race_Native_American</th>\n      <th>race_Other</th>\n      <th>age_cat_25_to_45</th>\n      <th>age_cat_Greater_than_45</th>\n      <th>age_cat_Less_than_25</th>\n      <th>sex_Female</th>\n      <th>sex_Male</th>\n      <th>score_binary</th>\n    </tr>\n  </thead>\n  <tbody>\n    <tr>\n      <th>0</th>\n      <td>1</td>\n      <td>69</td>\n      <td>Low</td>\n      <td>0</td>\n      <td>-1.0</td>\n      <td>1</td>\n      <td>0</td>\n      <td>0</td>\n      <td>1</td>\n      <td>0</td>\n      <td>...</td>\n      <td>0</td>\n      <td>0</td>\n      <td>0</td>\n      <td>1</td>\n      <td>0</td>\n      <td>1</td>\n      <td>0</td>\n      <td>0</td>\n      <td>1</td>\n      <td>Low</td>\n    </tr>\n    <tr>\n      <th>1</th>\n      <td>3</td>\n      <td>34</td>\n      <td>Low</td>\n      <td>0</td>\n      <td>-1.0</td>\n      <td>3</td>\n      <td>1</td>\n      <td>1</td>\n      <td>1</td>\n      <td>0</td>\n      <td>...</td>\n      <td>0</td>\n      <td>0</td>\n      <td>0</td>\n      <td>0</td>\n      <td>1</td>\n      <td>0</td>\n      <td>0</td>\n      <td>0</td>\n      <td>1</td>\n      <td>Low</td>\n    </tr>\n    <tr>\n      <th>2</th>\n      <td>4</td>\n      <td>24</td>\n      <td>Low</td>\n      <td>4</td>\n      <td>-1.0</td>\n      <td>4</td>\n      <td>1</td>\n      <td>1</td>\n      <td>1</td>\n      <td>0</td>\n      <td>...</td>\n      <td>0</td>\n      <td>0</td>\n      <td>0</td>\n      <td>0</td>\n      <td>0</td>\n      <td>0</td>\n      <td>1</td>\n      <td>0</td>\n      <td>1</td>\n      <td>Low</td>\n    </tr>\n    <tr>\n      <th>5</th>\n      <td>7</td>\n      <td>44</td>\n      <td>Low</td>\n      <td>0</td>\n      <td>0.0</td>\n      <td>1</td>\n      <td>0</td>\n      <td>0</td>\n      <td>0</td>\n      <td>1</td>\n      <td>...</td>\n      <td>0</td>\n      <td>0</td>\n      <td>0</td>\n      <td>1</td>\n      <td>1</td>\n      <td>0</td>\n      <td>0</td>\n      <td>0</td>\n      <td>1</td>\n      <td>Low</td>\n    </tr>\n    <tr>\n      <th>6</th>\n      <td>8</td>\n      <td>41</td>\n      <td>Medium</td>\n      <td>14</td>\n      <td>-1.0</td>\n      <td>6</td>\n      <td>1</td>\n      <td>1</td>\n      <td>1</td>\n      <td>0</td>\n      <td>...</td>\n      <td>1</td>\n      <td>0</td>\n      <td>0</td>\n      <td>0</td>\n      <td>1</td>\n      <td>0</td>\n      <td>0</td>\n      <td>0</td>\n      <td>1</td>\n      <td>High</td>\n    </tr>\n  </tbody>\n</table>\n<p>5 rows × 22 columns</p>\n</div>"
     },
     "execution_count": 19,
     "metadata": {},
     "output_type": "execute_result"
    }
   ]
  },
  {
   "cell_type": "code",
   "metadata": {
    "id": "Fd07D4i_MUjN",
    "outputId": "78443a11-ae76-42e0-fb2d-c08ad5a2e2bd",
    "colab": {
     "base_uri": "https://localhost:8080/"
    },
    "cellView": "form"
   },
   "source": [
    "#@title Estimate Logistic Regression Model\n",
    "#@markdown Following ProPublica, we specify the following logistic regression model:\n",
    "# Right-hand side\n",
    "explanatory = \"priors_count + two_year_recid + Misdemeanor + \\\n",
    "age_cat_Greater_than_45 + age_cat_Less_than_25 + \\\n",
    "race_African_American + race_Asian + race_Hispanic + race_Native_American + \\\n",
    "race_Other + sex_Female\"\n",
    "\n",
    "# Left-hand side\n",
    "response = \"score_binary\"\n",
    "\n",
    "# Formula\n",
    "formula = response + \" ~ \" + explanatory\n",
    "print(formula)"
   ],
   "execution_count": 20,
   "outputs": [
    {
     "name": "stdout",
     "output_type": "stream",
     "text": [
      "score_binary ~ priors_count + two_year_recid + Misdemeanor + age_cat_Greater_than_45 + age_cat_Less_than_25 + race_African_American + race_Asian + race_Hispanic + race_Native_American + race_Other + sex_Female\n"
     ]
    }
   ]
  },
  {
   "cell_type": "code",
   "metadata": {
    "id": "SXGOejPiNk3E",
    "outputId": "ce49e884-f9e9-4efc-e1ba-896508f15afe",
    "colab": {
     "base_uri": "https://localhost:8080/"
    },
    "cellView": "form"
   },
   "source": [
    "#@markdown *Let*'s fit the model:\n",
    "\n",
    "# Note: using family = sm.families.Binomial() specifies a logistic regression\n",
    "model = sm.formula.glm(formula = formula, \n",
    "                       family = sm.families.Binomial(),\n",
    "                       data = df_logistic).fit()\n",
    "\n",
    "print(model.summary())"
   ],
   "execution_count": 21,
   "outputs": [
    {
     "name": "stdout",
     "output_type": "stream",
     "text": [
      "                              Generalized Linear Model Regression Results                              \n",
      "=======================================================================================================\n",
      "Dep. Variable:     ['score_binary[High]', 'score_binary[Low]']   No. Observations:                 6172\n",
      "Model:                                                     GLM   Df Residuals:                     6160\n",
      "Model Family:                                         Binomial   Df Model:                           11\n",
      "Link Function:                                           Logit   Scale:                          1.0000\n",
      "Method:                                                   IRLS   Log-Likelihood:                -3084.2\n",
      "Date:                                         Mon, 30 Jan 2023   Deviance:                       6168.4\n",
      "Time:                                                 12:47:47   Pearson chi2:                 6.07e+03\n",
      "No. Iterations:                                              6   Pseudo R-squ. (CS):             0.3128\n",
      "Covariance Type:                                     nonrobust                                         \n",
      "===========================================================================================\n",
      "                              coef    std err          z      P>|z|      [0.025      0.975]\n",
      "-------------------------------------------------------------------------------------------\n",
      "Intercept                  -1.5255      0.079    -19.430      0.000      -1.679      -1.372\n",
      "priors_count                0.2689      0.011     24.221      0.000       0.247       0.291\n",
      "two_year_recid              0.6859      0.064     10.713      0.000       0.560       0.811\n",
      "Misdemeanor                -0.3112      0.067     -4.677      0.000      -0.442      -0.181\n",
      "age_cat_Greater_than_45    -1.3556      0.099    -13.682      0.000      -1.550      -1.161\n",
      "age_cat_Less_than_25        1.3084      0.076     17.232      0.000       1.160       1.457\n",
      "race_African_American       0.4772      0.069      6.881      0.000       0.341       0.613\n",
      "race_Asian                 -0.2544      0.478     -0.532      0.595      -1.192       0.683\n",
      "race_Hispanic              -0.4284      0.128     -3.344      0.001      -0.680      -0.177\n",
      "race_Native_American        1.3942      0.766      1.820      0.069      -0.107       2.896\n",
      "race_Other                 -0.8263      0.162     -5.098      0.000      -1.144      -0.509\n",
      "sex_Female                  0.2213      0.080      2.783      0.005       0.065       0.377\n",
      "===========================================================================================\n"
     ]
    }
   ]
  },
  {
   "cell_type": "markdown",
   "metadata": {
    "id": "yJ7CaxsERKus"
   },
   "source": [
    "## Interpret Estimates"
   ]
  },
  {
   "cell_type": "markdown",
   "metadata": {
    "id": "TOE5Yi5dR6rG"
   },
   "source": [
    "Take a moment to read through the model summary. \n",
    "\n",
    "One way to interpret the estimates is by calculating odds ratios. To calculate odds ratios, we take the exponential of the coefficients. For example, taking the exponential of the coefficient for sex_Female ($\\beta_{female}$ = 0.2213) will return the odds of score_text taking the value \"high\" for a female relative to a male. Calculate this odds ratio here:\n",
    "\n"
   ]
  },
  {
   "cell_type": "code",
   "metadata": {
    "id": "m-kJeX2TSu29"
   },
   "source": [
    "# TODO: write code to calculate the odds for female defendants here\n",
    "\n"
   ],
   "execution_count": null,
   "outputs": []
  },
  {
   "cell_type": "markdown",
   "metadata": {
    "id": "Zt01yUzKTzG_"
   },
   "source": [
    "In words, the odds that COMPAS labeled a defendant as \"high risk\" of recidivism is 1.25 times greater for a female than a male.\n",
    "\n",
    "Next, calculate the odds ratio for all of the coefficients in the model:"
   ]
  },
  {
   "cell_type": "code",
   "metadata": {
    "id": "8nPb8HKJROFd"
   },
   "source": [
    "# TODO: write code to calculate the odds ratio for all variables in the \n",
    "# logistic regression model here"
   ],
   "execution_count": null,
   "outputs": []
  },
  {
   "cell_type": "markdown",
   "metadata": {
    "id": "YRy_qGPaYj-r"
   },
   "source": [
    "Take a moment to read through these coefficients. What is the reference category for each variable? (e.g. For females, the reference category is male.) Think in terms of comparisons, for example:\n",
    "\n",
    "> A person with a value of [ &nbsp; &nbsp; ] on variable [ &nbsp; &nbsp; ] is [ &nbsp; &nbsp; ] times more likely to be labeled high risk compared to a person with a value of [ &nbsp; &nbsp; ] on variable [ &nbsp; &nbsp; ]\n",
    "\n",
    "In the female example above, this could be stated:\n",
    "\n",
    "> \"A person with a value of female on variable sex is 1.25 times more likely to be labeled high risk compared to a person with a value of male on variable sex\"\n",
    "\n",
    "Of course, we should be more straightforward when writing up results. \"A person with a value of male on variable sex\" is rather verbose; \"males\" will suffice. Interpreting model estimates in straightforward terms is an underrated skill.\n"
   ]
  },
  {
   "cell_type": "markdown",
   "metadata": {
    "id": "5dQBzQ5jSjPy"
   },
   "source": [
    "# **TODO: Summarize the odds associated with the \"age_cat\" variable in this text cell (two sentences maximum):**\n"
   ]
  },
  {
   "cell_type": "markdown",
   "source": [
    "(write your summary here)"
   ],
   "metadata": {
    "id": "KtxwUESZzppK"
   }
  },
  {
   "cell_type": "markdown",
   "metadata": {
    "id": "jrTWMqP7Sytr"
   },
   "source": [
    "Before moving on, think about how the above estimates relate to the concepts of fairness introduced in Lecture 1. (Hint: To what extent do these findings about the assignment of risk labels in COMPAS relate to pre-existing bias, technical bias, and emergent bias). You are not required to write down your answer for completion of this notebook."
   ]
  },
  {
   "cell_type": "markdown",
   "metadata": {
    "id": "CvGGSeCqY-eN"
   },
   "source": [
    "## Predictive Accuracy\n",
    "\n",
    "In terms of fairness, ProPublica focused the predictive accuracy of the COMPAS algorithm. In this case, predictive accuracy refers to the concordance between a person's recidivism and the label assigned to that person by the COMPAS algorithm. For instance, how often did COMPAS predict that a person was at \"high risk\" of recidivism and that person in fact recidivated within two years? We can think of this in terms of a 2x2 table:\n",
    "\n",
    "|      | Did not recidivate | Recidivated   |\n",
    "| :---        |    :----:   |          ---: |\n",
    "| **Labeled high risk**  | A       | B   |\n",
    "| **Labeled low risk**   | C       | D      |\n",
    "\n",
    "ProPublica reported A and D for black defendants and white defendants, separately.\n",
    "\n",
    "## **TODO: What are generic terms for A and D? Why focus on A and D?**"
   ]
  },
  {
   "cell_type": "markdown",
   "metadata": {
    "id": "mnVn3FqiLbL3"
   },
   "source": [
    "(write your answer in this text cell)"
   ]
  },
  {
   "cell_type": "code",
   "metadata": {
    "id": "JpluSwppZFUe",
    "outputId": "cc3a189f-655a-4e84-b942-4f43b9b82dc3",
    "colab": {
     "base_uri": "https://localhost:8080/",
     "height": 161
    },
    "cellView": "form"
   },
   "source": [
    "#@markdown ProPublica used a somewhat different data set to calculate the predictive accuracy of COMPAS. In this section we will use the ```df_logistic``` data we preprocessed above for brevity. Note therefore that the numbers we calculate below will not match those reported by ProPublica. Let's generate a crosstab of the variable denoting recidivism within two years (```is_recid```) and the binary score variable (```score_binary```):\n",
    "print(\"All defendants\")\n",
    "pd.crosstab(df_logistic[\"score_binary\"], df_logistic[\"is_recid\"])"
   ],
   "execution_count": null,
   "outputs": []
  },
  {
   "cell_type": "markdown",
   "metadata": {
    "id": "kojOZPLybCSv"
   },
   "source": [
    "Based on this crosstab, input the number of true positives, false positives, \n",
    "true negatives, and false negatives:"
   ]
  },
  {
   "cell_type": "code",
   "metadata": {
    "id": "D3Av4Eu0ZjFN"
   },
   "source": [
    "# TODO\n",
    "true_positive  = 0#@param {type:\"number\"}\n",
    "false_positive = 0#@param {type:\"number\"}\n",
    "true_negative  = 0#@param {type:\"number\"}\n",
    "false_negative = 0#@param {type:\"number\"}"
   ],
   "execution_count": null,
   "outputs": []
  },
  {
   "cell_type": "markdown",
   "metadata": {
    "id": "pOKUOXBh6rh0"
   },
   "source": [
    "You can calculate the false positive rate by taking FP / (FP + TN), where FP is the number of false positives and TN is the number of true negatives. Calculate the false positive rate:\n",
    "\n"
   ]
  },
  {
   "cell_type": "code",
   "metadata": {
    "id": "VrkCFBzAZa2R"
   },
   "source": [
    "# TODO: write code to calculate the false positive rate for all defendants\n",
    "# in this code cell"
   ],
   "execution_count": null,
   "outputs": []
  },
  {
   "cell_type": "markdown",
   "metadata": {
    "id": "WgmNak0ob2C8"
   },
   "source": [
    "Now calculate the false *negative* rate: (hint, replace the terms in the false positive rate formula in the previous text cell)"
   ]
  },
  {
   "cell_type": "code",
   "metadata": {
    "id": "46bwGfLba3ij"
   },
   "source": [
    "# TODO: write code to calculate the false negative rate for all defendants\n",
    "# in this code cell"
   ],
   "execution_count": null,
   "outputs": []
  },
  {
   "cell_type": "markdown",
   "metadata": {
    "id": "G1LBhe-f-TTn"
   },
   "source": [
    "How do the false positive and false negative rates vary by sex? Let's generate a crosstab of \"score_binary\" and \"is_recid\" for female defendants:"
   ]
  },
  {
   "cell_type": "code",
   "metadata": {
    "id": "LI3i9zzt-kMG",
    "outputId": "e6c05f46-d96f-4080-a975-0dfcaa7d55d6",
    "colab": {
     "base_uri": "https://localhost:8080/"
    },
    "cellView": "form"
   },
   "source": [
    "#@markdown \n",
    "mask = df_logistic[\"sex_Female\"] == 1\n",
    "print(pd.crosstab(df_logistic.loc[mask, \"score_binary\"],\n",
    "                  df_logistic.loc[mask, \"is_recid\"]))\n",
    "print(\"Female defendants\")"
   ],
   "execution_count": null,
   "outputs": []
  },
  {
   "cell_type": "markdown",
   "metadata": {
    "id": "TFmpimkjZbVJ"
   },
   "source": [
    "Based on this crosstab, calculate the false positive and false negative rates for females:"
   ]
  },
  {
   "cell_type": "code",
   "metadata": {
    "id": "8tzBrFZKb4UI"
   },
   "source": [
    "# TODO: write code to calculate the false positive rate and false negative rate for\n",
    "# female defendants in this code cell\n",
    "\n",
    "# fal pos: 29.72\n",
    "# fal neg: 41"
   ],
   "execution_count": null,
   "outputs": []
  },
  {
   "cell_type": "markdown",
   "metadata": {
    "id": "MYowpvPWcooI"
   },
   "source": [
    "Now repeat the process and calculate the false positive rate and false negative rate for male defendants:"
   ]
  },
  {
   "cell_type": "code",
   "metadata": {
    "id": "dlxlpA9SARFT"
   },
   "source": [
    "# TODO: write code to generate a crosstab for male defendants in this code cell"
   ],
   "execution_count": null,
   "outputs": []
  },
  {
   "cell_type": "code",
   "metadata": {
    "id": "Yexu8ZUIb78V"
   },
   "source": [
    "# TODO: write code to calculate the false positive rate and false negative rate for\n",
    "# male defendants in this code cell"
   ],
   "execution_count": null,
   "outputs": []
  },
  {
   "cell_type": "markdown",
   "metadata": {
    "id": "0Y3odoqE-g0y"
   },
   "source": [
    "How do the false positive and false negative rates vary by race? Calculate the false positive rate and false negative rate for White defendants:"
   ]
  },
  {
   "cell_type": "code",
   "metadata": {
    "id": "_0-offlbBQTy"
   },
   "source": [
    "# TODO: write code to generate a crosstab for White defendants in this code cell"
   ],
   "execution_count": null,
   "outputs": []
  },
  {
   "cell_type": "code",
   "metadata": {
    "id": "OZ3qx2aGcGxm"
   },
   "source": [
    "# TODO: write code to calculate the false positive rate and false negative rate for\n",
    "# White defendants in this code cell\n",
    "\n"
   ],
   "execution_count": null,
   "outputs": []
  },
  {
   "cell_type": "markdown",
   "metadata": {
    "id": "GU0ft0TSe_1m"
   },
   "source": [
    "Lastly, calculate the false positive rate and false negative rate for Black defendants:"
   ]
  },
  {
   "cell_type": "code",
   "metadata": {
    "id": "HUU_w57EfEDk"
   },
   "source": [
    "# TODO: write code to generate a crosstab for Black defendants in this code cell"
   ],
   "execution_count": null,
   "outputs": []
  },
  {
   "cell_type": "code",
   "metadata": {
    "id": "kasSRZjkcYET"
   },
   "source": [
    "# TODO: write code to calculate the false positive rate and false negative rate for\n",
    "# Black defendnats in this code cell\n",
    "\n",
    "# fal pos: 41.44\n",
    "# fal neg: 29.61"
   ],
   "execution_count": null,
   "outputs": []
  },
  {
   "cell_type": "markdown",
   "metadata": {
    "id": "w6jHN6nWcP3X"
   },
   "source": [
    "Take a moment to review and compare the false positive rates and false negative rates above. Consider how these rates relate to the concepts of fairness you've encountered in the reading material and Lecture 1. You may write this in a text cell below but it is not required for the completion of your notebook."
   ]
  },
  {
   "cell_type": "markdown",
   "metadata": {
    "id": "06n4G0ShMTWY"
   },
   "source": [
    "# Submitting this Lab Notebook\n",
    "\n",
    "Once complete, please submit your lab notebook as an attachment under \"Assignments > Lab 1\" on Brightspace. You can download a copy of your notebook using ```File > Download .ipynb```. Please ensure you submit the `.ipynb` file (and not a `.py` file)."
   ]
  }
 ]
}
